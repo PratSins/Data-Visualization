{
 "cells": [
  {
   "cell_type": "markdown",
   "metadata": {},
   "source": [
    "# Plotly and Cufflinks"
   ]
  },
  {
   "cell_type": "markdown",
   "metadata": {},
   "source": [
    "Plotly is a library that allows you to create interactive plots that you can use in dashboards or websites (you can save them as html files or static images).\n",
    "\n",
    "## Installation\n",
    "\n",
    "In order for this all to work, you'll need to install plotly and cufflinks to call plots directly off of a pandas dataframe. These libraries are not currently available through **conda** but are available through **pip**. Install the libraries at your command line/terminal using:\n",
    "\n",
    "    pip install plotly\n",
    "    pip install cufflinks\n",
    "    pip install chart-studio\n",
    "\n",
    "** NOTE: Make sure you only have one installation of Python on your computer when you do this, otherwise the installation may not work. **\n",
    "\n",
    "## Imports and Set-up"
   ]
  },
  {
   "cell_type": "code",
   "execution_count": 1,
   "metadata": {},
   "outputs": [],
   "source": [
    "import pandas as pd\n",
    "import numpy as np\n",
    "%matplotlib inline"
   ]
  },
  {
   "cell_type": "code",
   "execution_count": 2,
   "metadata": {},
   "outputs": [
    {
     "name": "stdout",
     "output_type": "stream",
     "text": [
      "5.14.1\n"
     ]
    }
   ],
   "source": [
    "from plotly import __version__\n",
    "from plotly.offline import download_plotlyjs, init_notebook_mode, plot, iplot\n",
    "\n",
    "print(__version__) # requires version >= 1.9.0"
   ]
  },
  {
   "cell_type": "code",
   "execution_count": 3,
   "metadata": {},
   "outputs": [],
   "source": [
    "import cufflinks as cf\n",
    "# conda install -c conda-forge cufflinks-py"
   ]
  },
  {
   "cell_type": "code",
   "execution_count": 4,
   "metadata": {},
   "outputs": [
    {
     "data": {
      "text/html": [
       "        <script type=\"text/javascript\">\n",
       "        window.PlotlyConfig = {MathJaxConfig: 'local'};\n",
       "        if (window.MathJax && window.MathJax.Hub && window.MathJax.Hub.Config) {window.MathJax.Hub.Config({SVG: {font: \"STIX-Web\"}});}\n",
       "        if (typeof require !== 'undefined') {\n",
       "        require.undef(\"plotly\");\n",
       "        requirejs.config({\n",
       "            paths: {\n",
       "                'plotly': ['https://cdn.plot.ly/plotly-2.20.0.min']\n",
       "            }\n",
       "        });\n",
       "        require(['plotly'], function(Plotly) {\n",
       "            window._Plotly = Plotly;\n",
       "        });\n",
       "        }\n",
       "        </script>\n",
       "        "
      ]
     },
     "metadata": {},
     "output_type": "display_data"
    }
   ],
   "source": [
    "# For Notebooks\n",
    "init_notebook_mode(connected=True)"
   ]
  },
  {
   "cell_type": "code",
   "execution_count": 5,
   "metadata": {},
   "outputs": [
    {
     "data": {
      "text/html": [
       "        <script type=\"text/javascript\">\n",
       "        window.PlotlyConfig = {MathJaxConfig: 'local'};\n",
       "        if (window.MathJax && window.MathJax.Hub && window.MathJax.Hub.Config) {window.MathJax.Hub.Config({SVG: {font: \"STIX-Web\"}});}\n",
       "        if (typeof require !== 'undefined') {\n",
       "        require.undef(\"plotly\");\n",
       "        requirejs.config({\n",
       "            paths: {\n",
       "                'plotly': ['https://cdn.plot.ly/plotly-2.20.0.min']\n",
       "            }\n",
       "        });\n",
       "        require(['plotly'], function(Plotly) {\n",
       "            window._Plotly = Plotly;\n",
       "        });\n",
       "        }\n",
       "        </script>\n",
       "        "
      ]
     },
     "metadata": {},
     "output_type": "display_data"
    }
   ],
   "source": [
    "# For offline use\n",
    "cf.go_offline()"
   ]
  },
  {
   "cell_type": "markdown",
   "metadata": {},
   "source": [
    "### Fake Data"
   ]
  },
  {
   "cell_type": "code",
   "execution_count": 6,
   "metadata": {},
   "outputs": [],
   "source": [
    "df = pd.DataFrame(np.random.randn(100,4),columns='A B C D'.split())"
   ]
  },
  {
   "cell_type": "code",
   "execution_count": 7,
   "metadata": {},
   "outputs": [
    {
     "data": {
      "text/html": [
       "<div>\n",
       "<style scoped>\n",
       "    .dataframe tbody tr th:only-of-type {\n",
       "        vertical-align: middle;\n",
       "    }\n",
       "\n",
       "    .dataframe tbody tr th {\n",
       "        vertical-align: top;\n",
       "    }\n",
       "\n",
       "    .dataframe thead th {\n",
       "        text-align: right;\n",
       "    }\n",
       "</style>\n",
       "<table border=\"1\" class=\"dataframe\">\n",
       "  <thead>\n",
       "    <tr style=\"text-align: right;\">\n",
       "      <th></th>\n",
       "      <th>A</th>\n",
       "      <th>B</th>\n",
       "      <th>C</th>\n",
       "      <th>D</th>\n",
       "    </tr>\n",
       "  </thead>\n",
       "  <tbody>\n",
       "    <tr>\n",
       "      <th>0</th>\n",
       "      <td>0.967479</td>\n",
       "      <td>1.255967</td>\n",
       "      <td>0.203055</td>\n",
       "      <td>-0.844675</td>\n",
       "    </tr>\n",
       "    <tr>\n",
       "      <th>1</th>\n",
       "      <td>-0.869646</td>\n",
       "      <td>1.623223</td>\n",
       "      <td>-0.330391</td>\n",
       "      <td>1.107925</td>\n",
       "    </tr>\n",
       "    <tr>\n",
       "      <th>2</th>\n",
       "      <td>0.327696</td>\n",
       "      <td>-1.633783</td>\n",
       "      <td>0.408551</td>\n",
       "      <td>-1.054925</td>\n",
       "    </tr>\n",
       "    <tr>\n",
       "      <th>3</th>\n",
       "      <td>2.212326</td>\n",
       "      <td>0.944713</td>\n",
       "      <td>1.327434</td>\n",
       "      <td>0.624833</td>\n",
       "    </tr>\n",
       "    <tr>\n",
       "      <th>4</th>\n",
       "      <td>1.194564</td>\n",
       "      <td>1.179804</td>\n",
       "      <td>0.680311</td>\n",
       "      <td>0.393724</td>\n",
       "    </tr>\n",
       "  </tbody>\n",
       "</table>\n",
       "</div>"
      ],
      "text/plain": [
       "          A         B         C         D\n",
       "0  0.967479  1.255967  0.203055 -0.844675\n",
       "1 -0.869646  1.623223 -0.330391  1.107925\n",
       "2  0.327696 -1.633783  0.408551 -1.054925\n",
       "3  2.212326  0.944713  1.327434  0.624833\n",
       "4  1.194564  1.179804  0.680311  0.393724"
      ]
     },
     "execution_count": 7,
     "metadata": {},
     "output_type": "execute_result"
    }
   ],
   "source": [
    "df.head()"
   ]
  },
  {
   "cell_type": "code",
   "execution_count": 8,
   "metadata": {},
   "outputs": [],
   "source": [
    "df2 = pd.DataFrame({'Category':['A','B','C'],'Values':[32,43,50]})"
   ]
  },
  {
   "cell_type": "code",
   "execution_count": 9,
   "metadata": {},
   "outputs": [
    {
     "data": {
      "text/html": [
       "<div>\n",
       "<style scoped>\n",
       "    .dataframe tbody tr th:only-of-type {\n",
       "        vertical-align: middle;\n",
       "    }\n",
       "\n",
       "    .dataframe tbody tr th {\n",
       "        vertical-align: top;\n",
       "    }\n",
       "\n",
       "    .dataframe thead th {\n",
       "        text-align: right;\n",
       "    }\n",
       "</style>\n",
       "<table border=\"1\" class=\"dataframe\">\n",
       "  <thead>\n",
       "    <tr style=\"text-align: right;\">\n",
       "      <th></th>\n",
       "      <th>Category</th>\n",
       "      <th>Values</th>\n",
       "    </tr>\n",
       "  </thead>\n",
       "  <tbody>\n",
       "    <tr>\n",
       "      <th>0</th>\n",
       "      <td>A</td>\n",
       "      <td>32</td>\n",
       "    </tr>\n",
       "    <tr>\n",
       "      <th>1</th>\n",
       "      <td>B</td>\n",
       "      <td>43</td>\n",
       "    </tr>\n",
       "    <tr>\n",
       "      <th>2</th>\n",
       "      <td>C</td>\n",
       "      <td>50</td>\n",
       "    </tr>\n",
       "  </tbody>\n",
       "</table>\n",
       "</div>"
      ],
      "text/plain": [
       "  Category  Values\n",
       "0        A      32\n",
       "1        B      43\n",
       "2        C      50"
      ]
     },
     "execution_count": 9,
     "metadata": {},
     "output_type": "execute_result"
    }
   ],
   "source": [
    "df2.head()"
   ]
  },
  {
   "cell_type": "markdown",
   "metadata": {},
   "source": [
    "## Using Cufflinks and iplot()\n",
    "\n",
    "* scatter\n",
    "* bar\n",
    "* box\n",
    "* spread\n",
    "* ratio\n",
    "* heatmap\n",
    "* surface\n",
    "* histogram\n",
    "* bubble"
   ]
  },
  {
   "cell_type": "markdown",
   "metadata": {},
   "source": [
    "## Scatter"
   ]
  },
  {
   "cell_type": "code",
   "execution_count": 10,
   "metadata": {},
   "outputs": [
    {
     "data": {
      "application/vnd.plotly.v1+json": {
       "config": {
        "linkText": "Export to plot.ly",
        "plotlyServerURL": "https://plot.ly",
        "showLink": true
       },
       "data": [
        {
         "line": {
          "color": "rgba(255, 153, 51, 1.0)",
          "dash": "solid",
          "shape": "linear",
          "width": 1.3
         },
         "marker": {
          "size": 10,
          "symbol": "circle"
         },
         "mode": "markers",
         "name": "B",
         "text": "",
         "type": "scatter",
         "x": [
          0.9674792495653929,
          -0.869645948345109,
          0.3276963940454639,
          2.212326394176484,
          1.194564115626372,
          1.281333312680946,
          -0.4593625791084765,
          0.2534398304646211,
          -1.187047102320885,
          0.009120945638079877,
          0.46812971295397005,
          0.3173603163090243,
          -0.5949756643716486,
          0.36612201815595236,
          1.6823087709179516,
          0.1223867090465667,
          1.2858955968180077,
          -0.355874679445089,
          -1.5056555405566194,
          -0.9803269668748792,
          -0.9821783534228085,
          -0.052757830218477235,
          0.8033100178798156,
          -1.2398031374339302,
          -0.5813663197398291,
          0.19886821601177004,
          0.1294915534324573,
          -0.13306937600077753,
          1.3939949997907175,
          1.1973801278232796,
          0.584311181386549,
          0.9814067443843448,
          0.2061913231991555,
          1.671664827360644,
          0.789600735681814,
          1.2933123482628828,
          1.4246595860526337,
          -1.3217494580552764,
          -0.07724462464406437,
          0.18930105179933207,
          -0.8808766976813702,
          -0.01730765278196536,
          1.6745130595812752,
          -0.9444306581128674,
          -0.1221827946211637,
          -2.321901756440847,
          0.7477928499020462,
          -1.8263033277692504,
          -1.0618495646062116,
          -0.09040834612020593,
          -0.0010349389445514765,
          -2.735604509568205,
          -1.6080140908995408,
          0.46315775491532685,
          -0.5641038656392511,
          -0.09215769154545252,
          1.0002522597706367,
          0.17587208675758984,
          -0.5954239279504188,
          -2.911645903175407,
          0.060337624495499904,
          -0.42040253946929246,
          1.7762469320792973,
          0.8730115926111546,
          1.8439878835043193,
          -0.6085419218754314,
          -0.9079008941146096,
          0.2759242313421433,
          -0.3988133260904946,
          1.3186512094391587,
          -0.22711041145047717,
          -1.1216333739411006,
          0.8022488902000023,
          -0.28124431547160195,
          -0.5851126659274265,
          0.4306201479387562,
          -1.0882948662735636,
          0.027976391155035966,
          0.5566361343141041,
          -1.5807367243659294,
          -0.8082355354469991,
          0.5644686676080057,
          -0.5897432726211994,
          -1.090934333436364,
          -0.24825567958331607,
          0.24567974588087993,
          1.0745837768794317,
          -0.4793855569130954,
          1.2390952913307294,
          -0.1127955717482966,
          0.5115001071064847,
          -0.05946749612950342,
          -0.8113493777941423,
          -0.049751974798389886,
          -0.3517813343733759,
          -0.29145587516066457,
          0.5787628035960883,
          -0.1311683960980727,
          -0.10496940636822302,
          0.5356439478190795
         ],
         "y": [
          1.2559665150128738,
          1.623222658930747,
          -1.6337826450630495,
          0.9447131134135116,
          1.1798043405299838,
          -1.155688742948656,
          2.4548456650087664,
          0.1967602313034417,
          1.273259911357326,
          0.032098563769232605,
          -0.9406093982229913,
          -1.2964368050421562,
          -1.519902506155913,
          -0.3761787602834264,
          -0.010752827153059951,
          -0.10556004881246867,
          0.20076895648962265,
          -1.6850246316573827,
          -0.053499097961576036,
          0.026679427972856138,
          -0.9296474377801646,
          0.34792155075954995,
          0.6817847402778288,
          0.6709660186939352,
          -0.32023098099219494,
          0.3547897976235289,
          -0.13263784373644685,
          0.2935159364327797,
          -1.1935028348876886,
          -0.6154685546770732,
          0.2711354765320031,
          -1.2721284909920545,
          -1.66150782301575,
          -0.40869372542459653,
          0.6927214550234417,
          -0.571354166680342,
          -2.370721439218031,
          0.1493964954778568,
          0.6510556001226679,
          0.4292580766720687,
          0.7638851538915261,
          -0.6330279833466473,
          0.17323422869432137,
          0.5571215919463213,
          -1.7511962250925097,
          1.0350253485830763,
          -0.15762194299334684,
          0.4863083584740155,
          0.30436807080373923,
          0.4251551333724484,
          0.3550019805177964,
          0.44034349879940204,
          2.0969774956697025,
          1.0962646409270569,
          1.1830133303858525,
          -1.1344339583329939,
          -1.5290452405995383,
          1.8736128340095886,
          0.39478122772731267,
          -1.05179307868685,
          0.6310044541279328,
          0.42939924866247065,
          0.5323109177393281,
          -0.4729320313581209,
          1.5409072215037973,
          -1.262119363458304,
          -0.7039383666072286,
          -0.8990003348315486,
          -0.028011387798115833,
          0.47592024362120794,
          0.9002351500195176,
          -0.14605167795031107,
          -0.7679327720116481,
          1.5576359927434305,
          -0.7733583994874416,
          0.23109138835710186,
          -1.1494712996178111,
          0.4967199657809361,
          0.29515336234764084,
          0.8557133952349325,
          -0.309347918115768,
          -0.9199284431444746,
          -0.0815317236788813,
          0.09104793048301475,
          -0.4112088551283685,
          0.07420682096557561,
          0.8944805960648957,
          1.047378806846963,
          -0.043918820524732866,
          -1.0315338064149218,
          -0.7600061950087242,
          -0.9280574417632615,
          -0.7216526703364456,
          0.7305990509468757,
          -0.04815858666592761,
          -0.6922237460237607,
          -0.4498024098452496,
          -0.906975856818541,
          -1.5624154089293907,
          -0.6482211367486518
         ]
        }
       ],
       "layout": {
        "legend": {
         "bgcolor": "#F5F6F9",
         "font": {
          "color": "#4D5663"
         }
        },
        "paper_bgcolor": "#F5F6F9",
        "plot_bgcolor": "#F5F6F9",
        "template": {
         "data": {
          "bar": [
           {
            "error_x": {
             "color": "#2a3f5f"
            },
            "error_y": {
             "color": "#2a3f5f"
            },
            "marker": {
             "line": {
              "color": "#E5ECF6",
              "width": 0.5
             },
             "pattern": {
              "fillmode": "overlay",
              "size": 10,
              "solidity": 0.2
             }
            },
            "type": "bar"
           }
          ],
          "barpolar": [
           {
            "marker": {
             "line": {
              "color": "#E5ECF6",
              "width": 0.5
             },
             "pattern": {
              "fillmode": "overlay",
              "size": 10,
              "solidity": 0.2
             }
            },
            "type": "barpolar"
           }
          ],
          "carpet": [
           {
            "aaxis": {
             "endlinecolor": "#2a3f5f",
             "gridcolor": "white",
             "linecolor": "white",
             "minorgridcolor": "white",
             "startlinecolor": "#2a3f5f"
            },
            "baxis": {
             "endlinecolor": "#2a3f5f",
             "gridcolor": "white",
             "linecolor": "white",
             "minorgridcolor": "white",
             "startlinecolor": "#2a3f5f"
            },
            "type": "carpet"
           }
          ],
          "choropleth": [
           {
            "colorbar": {
             "outlinewidth": 0,
             "ticks": ""
            },
            "type": "choropleth"
           }
          ],
          "contour": [
           {
            "colorbar": {
             "outlinewidth": 0,
             "ticks": ""
            },
            "colorscale": [
             [
              0,
              "#0d0887"
             ],
             [
              0.1111111111111111,
              "#46039f"
             ],
             [
              0.2222222222222222,
              "#7201a8"
             ],
             [
              0.3333333333333333,
              "#9c179e"
             ],
             [
              0.4444444444444444,
              "#bd3786"
             ],
             [
              0.5555555555555556,
              "#d8576b"
             ],
             [
              0.6666666666666666,
              "#ed7953"
             ],
             [
              0.7777777777777778,
              "#fb9f3a"
             ],
             [
              0.8888888888888888,
              "#fdca26"
             ],
             [
              1,
              "#f0f921"
             ]
            ],
            "type": "contour"
           }
          ],
          "contourcarpet": [
           {
            "colorbar": {
             "outlinewidth": 0,
             "ticks": ""
            },
            "type": "contourcarpet"
           }
          ],
          "heatmap": [
           {
            "colorbar": {
             "outlinewidth": 0,
             "ticks": ""
            },
            "colorscale": [
             [
              0,
              "#0d0887"
             ],
             [
              0.1111111111111111,
              "#46039f"
             ],
             [
              0.2222222222222222,
              "#7201a8"
             ],
             [
              0.3333333333333333,
              "#9c179e"
             ],
             [
              0.4444444444444444,
              "#bd3786"
             ],
             [
              0.5555555555555556,
              "#d8576b"
             ],
             [
              0.6666666666666666,
              "#ed7953"
             ],
             [
              0.7777777777777778,
              "#fb9f3a"
             ],
             [
              0.8888888888888888,
              "#fdca26"
             ],
             [
              1,
              "#f0f921"
             ]
            ],
            "type": "heatmap"
           }
          ],
          "heatmapgl": [
           {
            "colorbar": {
             "outlinewidth": 0,
             "ticks": ""
            },
            "colorscale": [
             [
              0,
              "#0d0887"
             ],
             [
              0.1111111111111111,
              "#46039f"
             ],
             [
              0.2222222222222222,
              "#7201a8"
             ],
             [
              0.3333333333333333,
              "#9c179e"
             ],
             [
              0.4444444444444444,
              "#bd3786"
             ],
             [
              0.5555555555555556,
              "#d8576b"
             ],
             [
              0.6666666666666666,
              "#ed7953"
             ],
             [
              0.7777777777777778,
              "#fb9f3a"
             ],
             [
              0.8888888888888888,
              "#fdca26"
             ],
             [
              1,
              "#f0f921"
             ]
            ],
            "type": "heatmapgl"
           }
          ],
          "histogram": [
           {
            "marker": {
             "pattern": {
              "fillmode": "overlay",
              "size": 10,
              "solidity": 0.2
             }
            },
            "type": "histogram"
           }
          ],
          "histogram2d": [
           {
            "colorbar": {
             "outlinewidth": 0,
             "ticks": ""
            },
            "colorscale": [
             [
              0,
              "#0d0887"
             ],
             [
              0.1111111111111111,
              "#46039f"
             ],
             [
              0.2222222222222222,
              "#7201a8"
             ],
             [
              0.3333333333333333,
              "#9c179e"
             ],
             [
              0.4444444444444444,
              "#bd3786"
             ],
             [
              0.5555555555555556,
              "#d8576b"
             ],
             [
              0.6666666666666666,
              "#ed7953"
             ],
             [
              0.7777777777777778,
              "#fb9f3a"
             ],
             [
              0.8888888888888888,
              "#fdca26"
             ],
             [
              1,
              "#f0f921"
             ]
            ],
            "type": "histogram2d"
           }
          ],
          "histogram2dcontour": [
           {
            "colorbar": {
             "outlinewidth": 0,
             "ticks": ""
            },
            "colorscale": [
             [
              0,
              "#0d0887"
             ],
             [
              0.1111111111111111,
              "#46039f"
             ],
             [
              0.2222222222222222,
              "#7201a8"
             ],
             [
              0.3333333333333333,
              "#9c179e"
             ],
             [
              0.4444444444444444,
              "#bd3786"
             ],
             [
              0.5555555555555556,
              "#d8576b"
             ],
             [
              0.6666666666666666,
              "#ed7953"
             ],
             [
              0.7777777777777778,
              "#fb9f3a"
             ],
             [
              0.8888888888888888,
              "#fdca26"
             ],
             [
              1,
              "#f0f921"
             ]
            ],
            "type": "histogram2dcontour"
           }
          ],
          "mesh3d": [
           {
            "colorbar": {
             "outlinewidth": 0,
             "ticks": ""
            },
            "type": "mesh3d"
           }
          ],
          "parcoords": [
           {
            "line": {
             "colorbar": {
              "outlinewidth": 0,
              "ticks": ""
             }
            },
            "type": "parcoords"
           }
          ],
          "pie": [
           {
            "automargin": true,
            "type": "pie"
           }
          ],
          "scatter": [
           {
            "fillpattern": {
             "fillmode": "overlay",
             "size": 10,
             "solidity": 0.2
            },
            "type": "scatter"
           }
          ],
          "scatter3d": [
           {
            "line": {
             "colorbar": {
              "outlinewidth": 0,
              "ticks": ""
             }
            },
            "marker": {
             "colorbar": {
              "outlinewidth": 0,
              "ticks": ""
             }
            },
            "type": "scatter3d"
           }
          ],
          "scattercarpet": [
           {
            "marker": {
             "colorbar": {
              "outlinewidth": 0,
              "ticks": ""
             }
            },
            "type": "scattercarpet"
           }
          ],
          "scattergeo": [
           {
            "marker": {
             "colorbar": {
              "outlinewidth": 0,
              "ticks": ""
             }
            },
            "type": "scattergeo"
           }
          ],
          "scattergl": [
           {
            "marker": {
             "colorbar": {
              "outlinewidth": 0,
              "ticks": ""
             }
            },
            "type": "scattergl"
           }
          ],
          "scattermapbox": [
           {
            "marker": {
             "colorbar": {
              "outlinewidth": 0,
              "ticks": ""
             }
            },
            "type": "scattermapbox"
           }
          ],
          "scatterpolar": [
           {
            "marker": {
             "colorbar": {
              "outlinewidth": 0,
              "ticks": ""
             }
            },
            "type": "scatterpolar"
           }
          ],
          "scatterpolargl": [
           {
            "marker": {
             "colorbar": {
              "outlinewidth": 0,
              "ticks": ""
             }
            },
            "type": "scatterpolargl"
           }
          ],
          "scatterternary": [
           {
            "marker": {
             "colorbar": {
              "outlinewidth": 0,
              "ticks": ""
             }
            },
            "type": "scatterternary"
           }
          ],
          "surface": [
           {
            "colorbar": {
             "outlinewidth": 0,
             "ticks": ""
            },
            "colorscale": [
             [
              0,
              "#0d0887"
             ],
             [
              0.1111111111111111,
              "#46039f"
             ],
             [
              0.2222222222222222,
              "#7201a8"
             ],
             [
              0.3333333333333333,
              "#9c179e"
             ],
             [
              0.4444444444444444,
              "#bd3786"
             ],
             [
              0.5555555555555556,
              "#d8576b"
             ],
             [
              0.6666666666666666,
              "#ed7953"
             ],
             [
              0.7777777777777778,
              "#fb9f3a"
             ],
             [
              0.8888888888888888,
              "#fdca26"
             ],
             [
              1,
              "#f0f921"
             ]
            ],
            "type": "surface"
           }
          ],
          "table": [
           {
            "cells": {
             "fill": {
              "color": "#EBF0F8"
             },
             "line": {
              "color": "white"
             }
            },
            "header": {
             "fill": {
              "color": "#C8D4E3"
             },
             "line": {
              "color": "white"
             }
            },
            "type": "table"
           }
          ]
         },
         "layout": {
          "annotationdefaults": {
           "arrowcolor": "#2a3f5f",
           "arrowhead": 0,
           "arrowwidth": 1
          },
          "autotypenumbers": "strict",
          "coloraxis": {
           "colorbar": {
            "outlinewidth": 0,
            "ticks": ""
           }
          },
          "colorscale": {
           "diverging": [
            [
             0,
             "#8e0152"
            ],
            [
             0.1,
             "#c51b7d"
            ],
            [
             0.2,
             "#de77ae"
            ],
            [
             0.3,
             "#f1b6da"
            ],
            [
             0.4,
             "#fde0ef"
            ],
            [
             0.5,
             "#f7f7f7"
            ],
            [
             0.6,
             "#e6f5d0"
            ],
            [
             0.7,
             "#b8e186"
            ],
            [
             0.8,
             "#7fbc41"
            ],
            [
             0.9,
             "#4d9221"
            ],
            [
             1,
             "#276419"
            ]
           ],
           "sequential": [
            [
             0,
             "#0d0887"
            ],
            [
             0.1111111111111111,
             "#46039f"
            ],
            [
             0.2222222222222222,
             "#7201a8"
            ],
            [
             0.3333333333333333,
             "#9c179e"
            ],
            [
             0.4444444444444444,
             "#bd3786"
            ],
            [
             0.5555555555555556,
             "#d8576b"
            ],
            [
             0.6666666666666666,
             "#ed7953"
            ],
            [
             0.7777777777777778,
             "#fb9f3a"
            ],
            [
             0.8888888888888888,
             "#fdca26"
            ],
            [
             1,
             "#f0f921"
            ]
           ],
           "sequentialminus": [
            [
             0,
             "#0d0887"
            ],
            [
             0.1111111111111111,
             "#46039f"
            ],
            [
             0.2222222222222222,
             "#7201a8"
            ],
            [
             0.3333333333333333,
             "#9c179e"
            ],
            [
             0.4444444444444444,
             "#bd3786"
            ],
            [
             0.5555555555555556,
             "#d8576b"
            ],
            [
             0.6666666666666666,
             "#ed7953"
            ],
            [
             0.7777777777777778,
             "#fb9f3a"
            ],
            [
             0.8888888888888888,
             "#fdca26"
            ],
            [
             1,
             "#f0f921"
            ]
           ]
          },
          "colorway": [
           "#636efa",
           "#EF553B",
           "#00cc96",
           "#ab63fa",
           "#FFA15A",
           "#19d3f3",
           "#FF6692",
           "#B6E880",
           "#FF97FF",
           "#FECB52"
          ],
          "font": {
           "color": "#2a3f5f"
          },
          "geo": {
           "bgcolor": "white",
           "lakecolor": "white",
           "landcolor": "#E5ECF6",
           "showlakes": true,
           "showland": true,
           "subunitcolor": "white"
          },
          "hoverlabel": {
           "align": "left"
          },
          "hovermode": "closest",
          "mapbox": {
           "style": "light"
          },
          "paper_bgcolor": "white",
          "plot_bgcolor": "#E5ECF6",
          "polar": {
           "angularaxis": {
            "gridcolor": "white",
            "linecolor": "white",
            "ticks": ""
           },
           "bgcolor": "#E5ECF6",
           "radialaxis": {
            "gridcolor": "white",
            "linecolor": "white",
            "ticks": ""
           }
          },
          "scene": {
           "xaxis": {
            "backgroundcolor": "#E5ECF6",
            "gridcolor": "white",
            "gridwidth": 2,
            "linecolor": "white",
            "showbackground": true,
            "ticks": "",
            "zerolinecolor": "white"
           },
           "yaxis": {
            "backgroundcolor": "#E5ECF6",
            "gridcolor": "white",
            "gridwidth": 2,
            "linecolor": "white",
            "showbackground": true,
            "ticks": "",
            "zerolinecolor": "white"
           },
           "zaxis": {
            "backgroundcolor": "#E5ECF6",
            "gridcolor": "white",
            "gridwidth": 2,
            "linecolor": "white",
            "showbackground": true,
            "ticks": "",
            "zerolinecolor": "white"
           }
          },
          "shapedefaults": {
           "line": {
            "color": "#2a3f5f"
           }
          },
          "ternary": {
           "aaxis": {
            "gridcolor": "white",
            "linecolor": "white",
            "ticks": ""
           },
           "baxis": {
            "gridcolor": "white",
            "linecolor": "white",
            "ticks": ""
           },
           "bgcolor": "#E5ECF6",
           "caxis": {
            "gridcolor": "white",
            "linecolor": "white",
            "ticks": ""
           }
          },
          "title": {
           "x": 0.05
          },
          "xaxis": {
           "automargin": true,
           "gridcolor": "white",
           "linecolor": "white",
           "ticks": "",
           "title": {
            "standoff": 15
           },
           "zerolinecolor": "white",
           "zerolinewidth": 2
          },
          "yaxis": {
           "automargin": true,
           "gridcolor": "white",
           "linecolor": "white",
           "ticks": "",
           "title": {
            "standoff": 15
           },
           "zerolinecolor": "white",
           "zerolinewidth": 2
          }
         }
        },
        "title": {
         "font": {
          "color": "#4D5663"
         }
        },
        "xaxis": {
         "gridcolor": "#E1E5ED",
         "showgrid": true,
         "tickfont": {
          "color": "#4D5663"
         },
         "title": {
          "font": {
           "color": "#4D5663"
          },
          "text": ""
         },
         "zerolinecolor": "#E1E5ED"
        },
        "yaxis": {
         "gridcolor": "#E1E5ED",
         "showgrid": true,
         "tickfont": {
          "color": "#4D5663"
         },
         "title": {
          "font": {
           "color": "#4D5663"
          },
          "text": ""
         },
         "zerolinecolor": "#E1E5ED"
        }
       }
      },
      "text/html": [
       "<div>                            <div id=\"c09e9b89-f94f-4d21-9417-20ca2fb35e93\" class=\"plotly-graph-div\" style=\"height:525px; width:100%;\"></div>            <script type=\"text/javascript\">                require([\"plotly\"], function(Plotly) {                    window.PLOTLYENV=window.PLOTLYENV || {};\n",
       "                    window.PLOTLYENV.BASE_URL='https://plot.ly';                                    if (document.getElementById(\"c09e9b89-f94f-4d21-9417-20ca2fb35e93\")) {                    Plotly.newPlot(                        \"c09e9b89-f94f-4d21-9417-20ca2fb35e93\",                        [{\"line\":{\"color\":\"rgba(255, 153, 51, 1.0)\",\"dash\":\"solid\",\"shape\":\"linear\",\"width\":1.3},\"marker\":{\"size\":10,\"symbol\":\"circle\"},\"mode\":\"markers\",\"name\":\"B\",\"text\":\"\",\"x\":[0.9674792495653929,-0.869645948345109,0.3276963940454639,2.212326394176484,1.194564115626372,1.281333312680946,-0.4593625791084765,0.2534398304646211,-1.187047102320885,0.009120945638079877,0.46812971295397005,0.3173603163090243,-0.5949756643716486,0.36612201815595236,1.6823087709179516,0.1223867090465667,1.2858955968180077,-0.355874679445089,-1.5056555405566194,-0.9803269668748792,-0.9821783534228085,-0.052757830218477235,0.8033100178798156,-1.2398031374339302,-0.5813663197398291,0.19886821601177004,0.1294915534324573,-0.13306937600077753,1.3939949997907175,1.1973801278232796,0.584311181386549,0.9814067443843448,0.2061913231991555,1.671664827360644,0.789600735681814,1.2933123482628828,1.4246595860526337,-1.3217494580552764,-0.07724462464406437,0.18930105179933207,-0.8808766976813702,-0.01730765278196536,1.6745130595812752,-0.9444306581128674,-0.1221827946211637,-2.321901756440847,0.7477928499020462,-1.8263033277692504,-1.0618495646062116,-0.09040834612020593,-0.0010349389445514765,-2.735604509568205,-1.6080140908995408,0.46315775491532685,-0.5641038656392511,-0.09215769154545252,1.0002522597706367,0.17587208675758984,-0.5954239279504188,-2.911645903175407,0.060337624495499904,-0.42040253946929246,1.7762469320792973,0.8730115926111546,1.8439878835043193,-0.6085419218754314,-0.9079008941146096,0.2759242313421433,-0.3988133260904946,1.3186512094391587,-0.22711041145047717,-1.1216333739411006,0.8022488902000023,-0.28124431547160195,-0.5851126659274265,0.4306201479387562,-1.0882948662735636,0.027976391155035966,0.5566361343141041,-1.5807367243659294,-0.8082355354469991,0.5644686676080057,-0.5897432726211994,-1.090934333436364,-0.24825567958331607,0.24567974588087993,1.0745837768794317,-0.4793855569130954,1.2390952913307294,-0.1127955717482966,0.5115001071064847,-0.05946749612950342,-0.8113493777941423,-0.049751974798389886,-0.3517813343733759,-0.29145587516066457,0.5787628035960883,-0.1311683960980727,-0.10496940636822302,0.5356439478190795],\"y\":[1.2559665150128738,1.623222658930747,-1.6337826450630495,0.9447131134135116,1.1798043405299838,-1.155688742948656,2.4548456650087664,0.1967602313034417,1.273259911357326,0.032098563769232605,-0.9406093982229913,-1.2964368050421562,-1.519902506155913,-0.3761787602834264,-0.010752827153059951,-0.10556004881246867,0.20076895648962265,-1.6850246316573827,-0.053499097961576036,0.026679427972856138,-0.9296474377801646,0.34792155075954995,0.6817847402778288,0.6709660186939352,-0.32023098099219494,0.3547897976235289,-0.13263784373644685,0.2935159364327797,-1.1935028348876886,-0.6154685546770732,0.2711354765320031,-1.2721284909920545,-1.66150782301575,-0.40869372542459653,0.6927214550234417,-0.571354166680342,-2.370721439218031,0.1493964954778568,0.6510556001226679,0.4292580766720687,0.7638851538915261,-0.6330279833466473,0.17323422869432137,0.5571215919463213,-1.7511962250925097,1.0350253485830763,-0.15762194299334684,0.4863083584740155,0.30436807080373923,0.4251551333724484,0.3550019805177964,0.44034349879940204,2.0969774956697025,1.0962646409270569,1.1830133303858525,-1.1344339583329939,-1.5290452405995383,1.8736128340095886,0.39478122772731267,-1.05179307868685,0.6310044541279328,0.42939924866247065,0.5323109177393281,-0.4729320313581209,1.5409072215037973,-1.262119363458304,-0.7039383666072286,-0.8990003348315486,-0.028011387798115833,0.47592024362120794,0.9002351500195176,-0.14605167795031107,-0.7679327720116481,1.5576359927434305,-0.7733583994874416,0.23109138835710186,-1.1494712996178111,0.4967199657809361,0.29515336234764084,0.8557133952349325,-0.309347918115768,-0.9199284431444746,-0.0815317236788813,0.09104793048301475,-0.4112088551283685,0.07420682096557561,0.8944805960648957,1.047378806846963,-0.043918820524732866,-1.0315338064149218,-0.7600061950087242,-0.9280574417632615,-0.7216526703364456,0.7305990509468757,-0.04815858666592761,-0.6922237460237607,-0.4498024098452496,-0.906975856818541,-1.5624154089293907,-0.6482211367486518],\"type\":\"scatter\"}],                        {\"legend\":{\"bgcolor\":\"#F5F6F9\",\"font\":{\"color\":\"#4D5663\"}},\"paper_bgcolor\":\"#F5F6F9\",\"plot_bgcolor\":\"#F5F6F9\",\"template\":{\"data\":{\"barpolar\":[{\"marker\":{\"line\":{\"color\":\"#E5ECF6\",\"width\":0.5},\"pattern\":{\"fillmode\":\"overlay\",\"size\":10,\"solidity\":0.2}},\"type\":\"barpolar\"}],\"bar\":[{\"error_x\":{\"color\":\"#2a3f5f\"},\"error_y\":{\"color\":\"#2a3f5f\"},\"marker\":{\"line\":{\"color\":\"#E5ECF6\",\"width\":0.5},\"pattern\":{\"fillmode\":\"overlay\",\"size\":10,\"solidity\":0.2}},\"type\":\"bar\"}],\"carpet\":[{\"aaxis\":{\"endlinecolor\":\"#2a3f5f\",\"gridcolor\":\"white\",\"linecolor\":\"white\",\"minorgridcolor\":\"white\",\"startlinecolor\":\"#2a3f5f\"},\"baxis\":{\"endlinecolor\":\"#2a3f5f\",\"gridcolor\":\"white\",\"linecolor\":\"white\",\"minorgridcolor\":\"white\",\"startlinecolor\":\"#2a3f5f\"},\"type\":\"carpet\"}],\"choropleth\":[{\"colorbar\":{\"outlinewidth\":0,\"ticks\":\"\"},\"type\":\"choropleth\"}],\"contourcarpet\":[{\"colorbar\":{\"outlinewidth\":0,\"ticks\":\"\"},\"type\":\"contourcarpet\"}],\"contour\":[{\"colorbar\":{\"outlinewidth\":0,\"ticks\":\"\"},\"colorscale\":[[0.0,\"#0d0887\"],[0.1111111111111111,\"#46039f\"],[0.2222222222222222,\"#7201a8\"],[0.3333333333333333,\"#9c179e\"],[0.4444444444444444,\"#bd3786\"],[0.5555555555555556,\"#d8576b\"],[0.6666666666666666,\"#ed7953\"],[0.7777777777777778,\"#fb9f3a\"],[0.8888888888888888,\"#fdca26\"],[1.0,\"#f0f921\"]],\"type\":\"contour\"}],\"heatmapgl\":[{\"colorbar\":{\"outlinewidth\":0,\"ticks\":\"\"},\"colorscale\":[[0.0,\"#0d0887\"],[0.1111111111111111,\"#46039f\"],[0.2222222222222222,\"#7201a8\"],[0.3333333333333333,\"#9c179e\"],[0.4444444444444444,\"#bd3786\"],[0.5555555555555556,\"#d8576b\"],[0.6666666666666666,\"#ed7953\"],[0.7777777777777778,\"#fb9f3a\"],[0.8888888888888888,\"#fdca26\"],[1.0,\"#f0f921\"]],\"type\":\"heatmapgl\"}],\"heatmap\":[{\"colorbar\":{\"outlinewidth\":0,\"ticks\":\"\"},\"colorscale\":[[0.0,\"#0d0887\"],[0.1111111111111111,\"#46039f\"],[0.2222222222222222,\"#7201a8\"],[0.3333333333333333,\"#9c179e\"],[0.4444444444444444,\"#bd3786\"],[0.5555555555555556,\"#d8576b\"],[0.6666666666666666,\"#ed7953\"],[0.7777777777777778,\"#fb9f3a\"],[0.8888888888888888,\"#fdca26\"],[1.0,\"#f0f921\"]],\"type\":\"heatmap\"}],\"histogram2dcontour\":[{\"colorbar\":{\"outlinewidth\":0,\"ticks\":\"\"},\"colorscale\":[[0.0,\"#0d0887\"],[0.1111111111111111,\"#46039f\"],[0.2222222222222222,\"#7201a8\"],[0.3333333333333333,\"#9c179e\"],[0.4444444444444444,\"#bd3786\"],[0.5555555555555556,\"#d8576b\"],[0.6666666666666666,\"#ed7953\"],[0.7777777777777778,\"#fb9f3a\"],[0.8888888888888888,\"#fdca26\"],[1.0,\"#f0f921\"]],\"type\":\"histogram2dcontour\"}],\"histogram2d\":[{\"colorbar\":{\"outlinewidth\":0,\"ticks\":\"\"},\"colorscale\":[[0.0,\"#0d0887\"],[0.1111111111111111,\"#46039f\"],[0.2222222222222222,\"#7201a8\"],[0.3333333333333333,\"#9c179e\"],[0.4444444444444444,\"#bd3786\"],[0.5555555555555556,\"#d8576b\"],[0.6666666666666666,\"#ed7953\"],[0.7777777777777778,\"#fb9f3a\"],[0.8888888888888888,\"#fdca26\"],[1.0,\"#f0f921\"]],\"type\":\"histogram2d\"}],\"histogram\":[{\"marker\":{\"pattern\":{\"fillmode\":\"overlay\",\"size\":10,\"solidity\":0.2}},\"type\":\"histogram\"}],\"mesh3d\":[{\"colorbar\":{\"outlinewidth\":0,\"ticks\":\"\"},\"type\":\"mesh3d\"}],\"parcoords\":[{\"line\":{\"colorbar\":{\"outlinewidth\":0,\"ticks\":\"\"}},\"type\":\"parcoords\"}],\"pie\":[{\"automargin\":true,\"type\":\"pie\"}],\"scatter3d\":[{\"line\":{\"colorbar\":{\"outlinewidth\":0,\"ticks\":\"\"}},\"marker\":{\"colorbar\":{\"outlinewidth\":0,\"ticks\":\"\"}},\"type\":\"scatter3d\"}],\"scattercarpet\":[{\"marker\":{\"colorbar\":{\"outlinewidth\":0,\"ticks\":\"\"}},\"type\":\"scattercarpet\"}],\"scattergeo\":[{\"marker\":{\"colorbar\":{\"outlinewidth\":0,\"ticks\":\"\"}},\"type\":\"scattergeo\"}],\"scattergl\":[{\"marker\":{\"colorbar\":{\"outlinewidth\":0,\"ticks\":\"\"}},\"type\":\"scattergl\"}],\"scattermapbox\":[{\"marker\":{\"colorbar\":{\"outlinewidth\":0,\"ticks\":\"\"}},\"type\":\"scattermapbox\"}],\"scatterpolargl\":[{\"marker\":{\"colorbar\":{\"outlinewidth\":0,\"ticks\":\"\"}},\"type\":\"scatterpolargl\"}],\"scatterpolar\":[{\"marker\":{\"colorbar\":{\"outlinewidth\":0,\"ticks\":\"\"}},\"type\":\"scatterpolar\"}],\"scatter\":[{\"fillpattern\":{\"fillmode\":\"overlay\",\"size\":10,\"solidity\":0.2},\"type\":\"scatter\"}],\"scatterternary\":[{\"marker\":{\"colorbar\":{\"outlinewidth\":0,\"ticks\":\"\"}},\"type\":\"scatterternary\"}],\"surface\":[{\"colorbar\":{\"outlinewidth\":0,\"ticks\":\"\"},\"colorscale\":[[0.0,\"#0d0887\"],[0.1111111111111111,\"#46039f\"],[0.2222222222222222,\"#7201a8\"],[0.3333333333333333,\"#9c179e\"],[0.4444444444444444,\"#bd3786\"],[0.5555555555555556,\"#d8576b\"],[0.6666666666666666,\"#ed7953\"],[0.7777777777777778,\"#fb9f3a\"],[0.8888888888888888,\"#fdca26\"],[1.0,\"#f0f921\"]],\"type\":\"surface\"}],\"table\":[{\"cells\":{\"fill\":{\"color\":\"#EBF0F8\"},\"line\":{\"color\":\"white\"}},\"header\":{\"fill\":{\"color\":\"#C8D4E3\"},\"line\":{\"color\":\"white\"}},\"type\":\"table\"}]},\"layout\":{\"annotationdefaults\":{\"arrowcolor\":\"#2a3f5f\",\"arrowhead\":0,\"arrowwidth\":1},\"autotypenumbers\":\"strict\",\"coloraxis\":{\"colorbar\":{\"outlinewidth\":0,\"ticks\":\"\"}},\"colorscale\":{\"diverging\":[[0,\"#8e0152\"],[0.1,\"#c51b7d\"],[0.2,\"#de77ae\"],[0.3,\"#f1b6da\"],[0.4,\"#fde0ef\"],[0.5,\"#f7f7f7\"],[0.6,\"#e6f5d0\"],[0.7,\"#b8e186\"],[0.8,\"#7fbc41\"],[0.9,\"#4d9221\"],[1,\"#276419\"]],\"sequential\":[[0.0,\"#0d0887\"],[0.1111111111111111,\"#46039f\"],[0.2222222222222222,\"#7201a8\"],[0.3333333333333333,\"#9c179e\"],[0.4444444444444444,\"#bd3786\"],[0.5555555555555556,\"#d8576b\"],[0.6666666666666666,\"#ed7953\"],[0.7777777777777778,\"#fb9f3a\"],[0.8888888888888888,\"#fdca26\"],[1.0,\"#f0f921\"]],\"sequentialminus\":[[0.0,\"#0d0887\"],[0.1111111111111111,\"#46039f\"],[0.2222222222222222,\"#7201a8\"],[0.3333333333333333,\"#9c179e\"],[0.4444444444444444,\"#bd3786\"],[0.5555555555555556,\"#d8576b\"],[0.6666666666666666,\"#ed7953\"],[0.7777777777777778,\"#fb9f3a\"],[0.8888888888888888,\"#fdca26\"],[1.0,\"#f0f921\"]]},\"colorway\":[\"#636efa\",\"#EF553B\",\"#00cc96\",\"#ab63fa\",\"#FFA15A\",\"#19d3f3\",\"#FF6692\",\"#B6E880\",\"#FF97FF\",\"#FECB52\"],\"font\":{\"color\":\"#2a3f5f\"},\"geo\":{\"bgcolor\":\"white\",\"lakecolor\":\"white\",\"landcolor\":\"#E5ECF6\",\"showlakes\":true,\"showland\":true,\"subunitcolor\":\"white\"},\"hoverlabel\":{\"align\":\"left\"},\"hovermode\":\"closest\",\"mapbox\":{\"style\":\"light\"},\"paper_bgcolor\":\"white\",\"plot_bgcolor\":\"#E5ECF6\",\"polar\":{\"angularaxis\":{\"gridcolor\":\"white\",\"linecolor\":\"white\",\"ticks\":\"\"},\"bgcolor\":\"#E5ECF6\",\"radialaxis\":{\"gridcolor\":\"white\",\"linecolor\":\"white\",\"ticks\":\"\"}},\"scene\":{\"xaxis\":{\"backgroundcolor\":\"#E5ECF6\",\"gridcolor\":\"white\",\"gridwidth\":2,\"linecolor\":\"white\",\"showbackground\":true,\"ticks\":\"\",\"zerolinecolor\":\"white\"},\"yaxis\":{\"backgroundcolor\":\"#E5ECF6\",\"gridcolor\":\"white\",\"gridwidth\":2,\"linecolor\":\"white\",\"showbackground\":true,\"ticks\":\"\",\"zerolinecolor\":\"white\"},\"zaxis\":{\"backgroundcolor\":\"#E5ECF6\",\"gridcolor\":\"white\",\"gridwidth\":2,\"linecolor\":\"white\",\"showbackground\":true,\"ticks\":\"\",\"zerolinecolor\":\"white\"}},\"shapedefaults\":{\"line\":{\"color\":\"#2a3f5f\"}},\"ternary\":{\"aaxis\":{\"gridcolor\":\"white\",\"linecolor\":\"white\",\"ticks\":\"\"},\"baxis\":{\"gridcolor\":\"white\",\"linecolor\":\"white\",\"ticks\":\"\"},\"bgcolor\":\"#E5ECF6\",\"caxis\":{\"gridcolor\":\"white\",\"linecolor\":\"white\",\"ticks\":\"\"}},\"title\":{\"x\":0.05},\"xaxis\":{\"automargin\":true,\"gridcolor\":\"white\",\"linecolor\":\"white\",\"ticks\":\"\",\"title\":{\"standoff\":15},\"zerolinecolor\":\"white\",\"zerolinewidth\":2},\"yaxis\":{\"automargin\":true,\"gridcolor\":\"white\",\"linecolor\":\"white\",\"ticks\":\"\",\"title\":{\"standoff\":15},\"zerolinecolor\":\"white\",\"zerolinewidth\":2}}},\"title\":{\"font\":{\"color\":\"#4D5663\"}},\"xaxis\":{\"gridcolor\":\"#E1E5ED\",\"showgrid\":true,\"tickfont\":{\"color\":\"#4D5663\"},\"title\":{\"font\":{\"color\":\"#4D5663\"},\"text\":\"\"},\"zerolinecolor\":\"#E1E5ED\"},\"yaxis\":{\"gridcolor\":\"#E1E5ED\",\"showgrid\":true,\"tickfont\":{\"color\":\"#4D5663\"},\"title\":{\"font\":{\"color\":\"#4D5663\"},\"text\":\"\"},\"zerolinecolor\":\"#E1E5ED\"}},                        {\"showLink\": true, \"linkText\": \"Export to plot.ly\", \"plotlyServerURL\": \"https://plot.ly\", \"responsive\": true}                    ).then(function(){\n",
       "                            \n",
       "var gd = document.getElementById('c09e9b89-f94f-4d21-9417-20ca2fb35e93');\n",
       "var x = new MutationObserver(function (mutations, observer) {{\n",
       "        var display = window.getComputedStyle(gd).display;\n",
       "        if (!display || display === 'none') {{\n",
       "            console.log([gd, 'removed!']);\n",
       "            Plotly.purge(gd);\n",
       "            observer.disconnect();\n",
       "        }}\n",
       "}});\n",
       "\n",
       "// Listen for the removal of the full notebook cells\n",
       "var notebookContainer = gd.closest('#notebook-container');\n",
       "if (notebookContainer) {{\n",
       "    x.observe(notebookContainer, {childList: true});\n",
       "}}\n",
       "\n",
       "// Listen for the clearing of the current output cell\n",
       "var outputEl = gd.closest('.output');\n",
       "if (outputEl) {{\n",
       "    x.observe(outputEl, {childList: true});\n",
       "}}\n",
       "\n",
       "                        })                };                });            </script>        </div>"
      ]
     },
     "metadata": {},
     "output_type": "display_data"
    }
   ],
   "source": [
    "df.iplot(kind='scatter',x='A',y='B',mode='markers',size=10)"
   ]
  },
  {
   "cell_type": "markdown",
   "metadata": {},
   "source": [
    "## Bar Plots"
   ]
  },
  {
   "cell_type": "code",
   "execution_count": 11,
   "metadata": {},
   "outputs": [
    {
     "data": {
      "application/vnd.plotly.v1+json": {
       "config": {
        "linkText": "Export to plot.ly",
        "plotlyServerURL": "https://plot.ly",
        "showLink": true
       },
       "data": [
        {
         "marker": {
          "color": "rgba(255, 153, 51, 0.6)",
          "line": {
           "color": "rgba(255, 153, 51, 1.0)",
           "width": 1
          }
         },
         "name": "Values",
         "orientation": "v",
         "text": "",
         "type": "bar",
         "x": [
          "A",
          "B",
          "C"
         ],
         "y": [
          32,
          43,
          50
         ]
        }
       ],
       "layout": {
        "legend": {
         "bgcolor": "#F5F6F9",
         "font": {
          "color": "#4D5663"
         }
        },
        "paper_bgcolor": "#F5F6F9",
        "plot_bgcolor": "#F5F6F9",
        "template": {
         "data": {
          "bar": [
           {
            "error_x": {
             "color": "#2a3f5f"
            },
            "error_y": {
             "color": "#2a3f5f"
            },
            "marker": {
             "line": {
              "color": "#E5ECF6",
              "width": 0.5
             },
             "pattern": {
              "fillmode": "overlay",
              "size": 10,
              "solidity": 0.2
             }
            },
            "type": "bar"
           }
          ],
          "barpolar": [
           {
            "marker": {
             "line": {
              "color": "#E5ECF6",
              "width": 0.5
             },
             "pattern": {
              "fillmode": "overlay",
              "size": 10,
              "solidity": 0.2
             }
            },
            "type": "barpolar"
           }
          ],
          "carpet": [
           {
            "aaxis": {
             "endlinecolor": "#2a3f5f",
             "gridcolor": "white",
             "linecolor": "white",
             "minorgridcolor": "white",
             "startlinecolor": "#2a3f5f"
            },
            "baxis": {
             "endlinecolor": "#2a3f5f",
             "gridcolor": "white",
             "linecolor": "white",
             "minorgridcolor": "white",
             "startlinecolor": "#2a3f5f"
            },
            "type": "carpet"
           }
          ],
          "choropleth": [
           {
            "colorbar": {
             "outlinewidth": 0,
             "ticks": ""
            },
            "type": "choropleth"
           }
          ],
          "contour": [
           {
            "colorbar": {
             "outlinewidth": 0,
             "ticks": ""
            },
            "colorscale": [
             [
              0,
              "#0d0887"
             ],
             [
              0.1111111111111111,
              "#46039f"
             ],
             [
              0.2222222222222222,
              "#7201a8"
             ],
             [
              0.3333333333333333,
              "#9c179e"
             ],
             [
              0.4444444444444444,
              "#bd3786"
             ],
             [
              0.5555555555555556,
              "#d8576b"
             ],
             [
              0.6666666666666666,
              "#ed7953"
             ],
             [
              0.7777777777777778,
              "#fb9f3a"
             ],
             [
              0.8888888888888888,
              "#fdca26"
             ],
             [
              1,
              "#f0f921"
             ]
            ],
            "type": "contour"
           }
          ],
          "contourcarpet": [
           {
            "colorbar": {
             "outlinewidth": 0,
             "ticks": ""
            },
            "type": "contourcarpet"
           }
          ],
          "heatmap": [
           {
            "colorbar": {
             "outlinewidth": 0,
             "ticks": ""
            },
            "colorscale": [
             [
              0,
              "#0d0887"
             ],
             [
              0.1111111111111111,
              "#46039f"
             ],
             [
              0.2222222222222222,
              "#7201a8"
             ],
             [
              0.3333333333333333,
              "#9c179e"
             ],
             [
              0.4444444444444444,
              "#bd3786"
             ],
             [
              0.5555555555555556,
              "#d8576b"
             ],
             [
              0.6666666666666666,
              "#ed7953"
             ],
             [
              0.7777777777777778,
              "#fb9f3a"
             ],
             [
              0.8888888888888888,
              "#fdca26"
             ],
             [
              1,
              "#f0f921"
             ]
            ],
            "type": "heatmap"
           }
          ],
          "heatmapgl": [
           {
            "colorbar": {
             "outlinewidth": 0,
             "ticks": ""
            },
            "colorscale": [
             [
              0,
              "#0d0887"
             ],
             [
              0.1111111111111111,
              "#46039f"
             ],
             [
              0.2222222222222222,
              "#7201a8"
             ],
             [
              0.3333333333333333,
              "#9c179e"
             ],
             [
              0.4444444444444444,
              "#bd3786"
             ],
             [
              0.5555555555555556,
              "#d8576b"
             ],
             [
              0.6666666666666666,
              "#ed7953"
             ],
             [
              0.7777777777777778,
              "#fb9f3a"
             ],
             [
              0.8888888888888888,
              "#fdca26"
             ],
             [
              1,
              "#f0f921"
             ]
            ],
            "type": "heatmapgl"
           }
          ],
          "histogram": [
           {
            "marker": {
             "pattern": {
              "fillmode": "overlay",
              "size": 10,
              "solidity": 0.2
             }
            },
            "type": "histogram"
           }
          ],
          "histogram2d": [
           {
            "colorbar": {
             "outlinewidth": 0,
             "ticks": ""
            },
            "colorscale": [
             [
              0,
              "#0d0887"
             ],
             [
              0.1111111111111111,
              "#46039f"
             ],
             [
              0.2222222222222222,
              "#7201a8"
             ],
             [
              0.3333333333333333,
              "#9c179e"
             ],
             [
              0.4444444444444444,
              "#bd3786"
             ],
             [
              0.5555555555555556,
              "#d8576b"
             ],
             [
              0.6666666666666666,
              "#ed7953"
             ],
             [
              0.7777777777777778,
              "#fb9f3a"
             ],
             [
              0.8888888888888888,
              "#fdca26"
             ],
             [
              1,
              "#f0f921"
             ]
            ],
            "type": "histogram2d"
           }
          ],
          "histogram2dcontour": [
           {
            "colorbar": {
             "outlinewidth": 0,
             "ticks": ""
            },
            "colorscale": [
             [
              0,
              "#0d0887"
             ],
             [
              0.1111111111111111,
              "#46039f"
             ],
             [
              0.2222222222222222,
              "#7201a8"
             ],
             [
              0.3333333333333333,
              "#9c179e"
             ],
             [
              0.4444444444444444,
              "#bd3786"
             ],
             [
              0.5555555555555556,
              "#d8576b"
             ],
             [
              0.6666666666666666,
              "#ed7953"
             ],
             [
              0.7777777777777778,
              "#fb9f3a"
             ],
             [
              0.8888888888888888,
              "#fdca26"
             ],
             [
              1,
              "#f0f921"
             ]
            ],
            "type": "histogram2dcontour"
           }
          ],
          "mesh3d": [
           {
            "colorbar": {
             "outlinewidth": 0,
             "ticks": ""
            },
            "type": "mesh3d"
           }
          ],
          "parcoords": [
           {
            "line": {
             "colorbar": {
              "outlinewidth": 0,
              "ticks": ""
             }
            },
            "type": "parcoords"
           }
          ],
          "pie": [
           {
            "automargin": true,
            "type": "pie"
           }
          ],
          "scatter": [
           {
            "fillpattern": {
             "fillmode": "overlay",
             "size": 10,
             "solidity": 0.2
            },
            "type": "scatter"
           }
          ],
          "scatter3d": [
           {
            "line": {
             "colorbar": {
              "outlinewidth": 0,
              "ticks": ""
             }
            },
            "marker": {
             "colorbar": {
              "outlinewidth": 0,
              "ticks": ""
             }
            },
            "type": "scatter3d"
           }
          ],
          "scattercarpet": [
           {
            "marker": {
             "colorbar": {
              "outlinewidth": 0,
              "ticks": ""
             }
            },
            "type": "scattercarpet"
           }
          ],
          "scattergeo": [
           {
            "marker": {
             "colorbar": {
              "outlinewidth": 0,
              "ticks": ""
             }
            },
            "type": "scattergeo"
           }
          ],
          "scattergl": [
           {
            "marker": {
             "colorbar": {
              "outlinewidth": 0,
              "ticks": ""
             }
            },
            "type": "scattergl"
           }
          ],
          "scattermapbox": [
           {
            "marker": {
             "colorbar": {
              "outlinewidth": 0,
              "ticks": ""
             }
            },
            "type": "scattermapbox"
           }
          ],
          "scatterpolar": [
           {
            "marker": {
             "colorbar": {
              "outlinewidth": 0,
              "ticks": ""
             }
            },
            "type": "scatterpolar"
           }
          ],
          "scatterpolargl": [
           {
            "marker": {
             "colorbar": {
              "outlinewidth": 0,
              "ticks": ""
             }
            },
            "type": "scatterpolargl"
           }
          ],
          "scatterternary": [
           {
            "marker": {
             "colorbar": {
              "outlinewidth": 0,
              "ticks": ""
             }
            },
            "type": "scatterternary"
           }
          ],
          "surface": [
           {
            "colorbar": {
             "outlinewidth": 0,
             "ticks": ""
            },
            "colorscale": [
             [
              0,
              "#0d0887"
             ],
             [
              0.1111111111111111,
              "#46039f"
             ],
             [
              0.2222222222222222,
              "#7201a8"
             ],
             [
              0.3333333333333333,
              "#9c179e"
             ],
             [
              0.4444444444444444,
              "#bd3786"
             ],
             [
              0.5555555555555556,
              "#d8576b"
             ],
             [
              0.6666666666666666,
              "#ed7953"
             ],
             [
              0.7777777777777778,
              "#fb9f3a"
             ],
             [
              0.8888888888888888,
              "#fdca26"
             ],
             [
              1,
              "#f0f921"
             ]
            ],
            "type": "surface"
           }
          ],
          "table": [
           {
            "cells": {
             "fill": {
              "color": "#EBF0F8"
             },
             "line": {
              "color": "white"
             }
            },
            "header": {
             "fill": {
              "color": "#C8D4E3"
             },
             "line": {
              "color": "white"
             }
            },
            "type": "table"
           }
          ]
         },
         "layout": {
          "annotationdefaults": {
           "arrowcolor": "#2a3f5f",
           "arrowhead": 0,
           "arrowwidth": 1
          },
          "autotypenumbers": "strict",
          "coloraxis": {
           "colorbar": {
            "outlinewidth": 0,
            "ticks": ""
           }
          },
          "colorscale": {
           "diverging": [
            [
             0,
             "#8e0152"
            ],
            [
             0.1,
             "#c51b7d"
            ],
            [
             0.2,
             "#de77ae"
            ],
            [
             0.3,
             "#f1b6da"
            ],
            [
             0.4,
             "#fde0ef"
            ],
            [
             0.5,
             "#f7f7f7"
            ],
            [
             0.6,
             "#e6f5d0"
            ],
            [
             0.7,
             "#b8e186"
            ],
            [
             0.8,
             "#7fbc41"
            ],
            [
             0.9,
             "#4d9221"
            ],
            [
             1,
             "#276419"
            ]
           ],
           "sequential": [
            [
             0,
             "#0d0887"
            ],
            [
             0.1111111111111111,
             "#46039f"
            ],
            [
             0.2222222222222222,
             "#7201a8"
            ],
            [
             0.3333333333333333,
             "#9c179e"
            ],
            [
             0.4444444444444444,
             "#bd3786"
            ],
            [
             0.5555555555555556,
             "#d8576b"
            ],
            [
             0.6666666666666666,
             "#ed7953"
            ],
            [
             0.7777777777777778,
             "#fb9f3a"
            ],
            [
             0.8888888888888888,
             "#fdca26"
            ],
            [
             1,
             "#f0f921"
            ]
           ],
           "sequentialminus": [
            [
             0,
             "#0d0887"
            ],
            [
             0.1111111111111111,
             "#46039f"
            ],
            [
             0.2222222222222222,
             "#7201a8"
            ],
            [
             0.3333333333333333,
             "#9c179e"
            ],
            [
             0.4444444444444444,
             "#bd3786"
            ],
            [
             0.5555555555555556,
             "#d8576b"
            ],
            [
             0.6666666666666666,
             "#ed7953"
            ],
            [
             0.7777777777777778,
             "#fb9f3a"
            ],
            [
             0.8888888888888888,
             "#fdca26"
            ],
            [
             1,
             "#f0f921"
            ]
           ]
          },
          "colorway": [
           "#636efa",
           "#EF553B",
           "#00cc96",
           "#ab63fa",
           "#FFA15A",
           "#19d3f3",
           "#FF6692",
           "#B6E880",
           "#FF97FF",
           "#FECB52"
          ],
          "font": {
           "color": "#2a3f5f"
          },
          "geo": {
           "bgcolor": "white",
           "lakecolor": "white",
           "landcolor": "#E5ECF6",
           "showlakes": true,
           "showland": true,
           "subunitcolor": "white"
          },
          "hoverlabel": {
           "align": "left"
          },
          "hovermode": "closest",
          "mapbox": {
           "style": "light"
          },
          "paper_bgcolor": "white",
          "plot_bgcolor": "#E5ECF6",
          "polar": {
           "angularaxis": {
            "gridcolor": "white",
            "linecolor": "white",
            "ticks": ""
           },
           "bgcolor": "#E5ECF6",
           "radialaxis": {
            "gridcolor": "white",
            "linecolor": "white",
            "ticks": ""
           }
          },
          "scene": {
           "xaxis": {
            "backgroundcolor": "#E5ECF6",
            "gridcolor": "white",
            "gridwidth": 2,
            "linecolor": "white",
            "showbackground": true,
            "ticks": "",
            "zerolinecolor": "white"
           },
           "yaxis": {
            "backgroundcolor": "#E5ECF6",
            "gridcolor": "white",
            "gridwidth": 2,
            "linecolor": "white",
            "showbackground": true,
            "ticks": "",
            "zerolinecolor": "white"
           },
           "zaxis": {
            "backgroundcolor": "#E5ECF6",
            "gridcolor": "white",
            "gridwidth": 2,
            "linecolor": "white",
            "showbackground": true,
            "ticks": "",
            "zerolinecolor": "white"
           }
          },
          "shapedefaults": {
           "line": {
            "color": "#2a3f5f"
           }
          },
          "ternary": {
           "aaxis": {
            "gridcolor": "white",
            "linecolor": "white",
            "ticks": ""
           },
           "baxis": {
            "gridcolor": "white",
            "linecolor": "white",
            "ticks": ""
           },
           "bgcolor": "#E5ECF6",
           "caxis": {
            "gridcolor": "white",
            "linecolor": "white",
            "ticks": ""
           }
          },
          "title": {
           "x": 0.05
          },
          "xaxis": {
           "automargin": true,
           "gridcolor": "white",
           "linecolor": "white",
           "ticks": "",
           "title": {
            "standoff": 15
           },
           "zerolinecolor": "white",
           "zerolinewidth": 2
          },
          "yaxis": {
           "automargin": true,
           "gridcolor": "white",
           "linecolor": "white",
           "ticks": "",
           "title": {
            "standoff": 15
           },
           "zerolinecolor": "white",
           "zerolinewidth": 2
          }
         }
        },
        "title": {
         "font": {
          "color": "#4D5663"
         }
        },
        "xaxis": {
         "gridcolor": "#E1E5ED",
         "showgrid": true,
         "tickfont": {
          "color": "#4D5663"
         },
         "title": {
          "font": {
           "color": "#4D5663"
          },
          "text": ""
         },
         "zerolinecolor": "#E1E5ED"
        },
        "yaxis": {
         "gridcolor": "#E1E5ED",
         "showgrid": true,
         "tickfont": {
          "color": "#4D5663"
         },
         "title": {
          "font": {
           "color": "#4D5663"
          },
          "text": ""
         },
         "zerolinecolor": "#E1E5ED"
        }
       }
      },
      "text/html": [
       "<div>                            <div id=\"f3665473-721d-4322-8999-b5722042b495\" class=\"plotly-graph-div\" style=\"height:525px; width:100%;\"></div>            <script type=\"text/javascript\">                require([\"plotly\"], function(Plotly) {                    window.PLOTLYENV=window.PLOTLYENV || {};\n",
       "                    window.PLOTLYENV.BASE_URL='https://plot.ly';                                    if (document.getElementById(\"f3665473-721d-4322-8999-b5722042b495\")) {                    Plotly.newPlot(                        \"f3665473-721d-4322-8999-b5722042b495\",                        [{\"marker\":{\"color\":\"rgba(255, 153, 51, 0.6)\",\"line\":{\"color\":\"rgba(255, 153, 51, 1.0)\",\"width\":1}},\"name\":\"Values\",\"orientation\":\"v\",\"text\":\"\",\"x\":[\"A\",\"B\",\"C\"],\"y\":[32,43,50],\"type\":\"bar\"}],                        {\"legend\":{\"bgcolor\":\"#F5F6F9\",\"font\":{\"color\":\"#4D5663\"}},\"paper_bgcolor\":\"#F5F6F9\",\"plot_bgcolor\":\"#F5F6F9\",\"template\":{\"data\":{\"barpolar\":[{\"marker\":{\"line\":{\"color\":\"#E5ECF6\",\"width\":0.5},\"pattern\":{\"fillmode\":\"overlay\",\"size\":10,\"solidity\":0.2}},\"type\":\"barpolar\"}],\"bar\":[{\"error_x\":{\"color\":\"#2a3f5f\"},\"error_y\":{\"color\":\"#2a3f5f\"},\"marker\":{\"line\":{\"color\":\"#E5ECF6\",\"width\":0.5},\"pattern\":{\"fillmode\":\"overlay\",\"size\":10,\"solidity\":0.2}},\"type\":\"bar\"}],\"carpet\":[{\"aaxis\":{\"endlinecolor\":\"#2a3f5f\",\"gridcolor\":\"white\",\"linecolor\":\"white\",\"minorgridcolor\":\"white\",\"startlinecolor\":\"#2a3f5f\"},\"baxis\":{\"endlinecolor\":\"#2a3f5f\",\"gridcolor\":\"white\",\"linecolor\":\"white\",\"minorgridcolor\":\"white\",\"startlinecolor\":\"#2a3f5f\"},\"type\":\"carpet\"}],\"choropleth\":[{\"colorbar\":{\"outlinewidth\":0,\"ticks\":\"\"},\"type\":\"choropleth\"}],\"contourcarpet\":[{\"colorbar\":{\"outlinewidth\":0,\"ticks\":\"\"},\"type\":\"contourcarpet\"}],\"contour\":[{\"colorbar\":{\"outlinewidth\":0,\"ticks\":\"\"},\"colorscale\":[[0.0,\"#0d0887\"],[0.1111111111111111,\"#46039f\"],[0.2222222222222222,\"#7201a8\"],[0.3333333333333333,\"#9c179e\"],[0.4444444444444444,\"#bd3786\"],[0.5555555555555556,\"#d8576b\"],[0.6666666666666666,\"#ed7953\"],[0.7777777777777778,\"#fb9f3a\"],[0.8888888888888888,\"#fdca26\"],[1.0,\"#f0f921\"]],\"type\":\"contour\"}],\"heatmapgl\":[{\"colorbar\":{\"outlinewidth\":0,\"ticks\":\"\"},\"colorscale\":[[0.0,\"#0d0887\"],[0.1111111111111111,\"#46039f\"],[0.2222222222222222,\"#7201a8\"],[0.3333333333333333,\"#9c179e\"],[0.4444444444444444,\"#bd3786\"],[0.5555555555555556,\"#d8576b\"],[0.6666666666666666,\"#ed7953\"],[0.7777777777777778,\"#fb9f3a\"],[0.8888888888888888,\"#fdca26\"],[1.0,\"#f0f921\"]],\"type\":\"heatmapgl\"}],\"heatmap\":[{\"colorbar\":{\"outlinewidth\":0,\"ticks\":\"\"},\"colorscale\":[[0.0,\"#0d0887\"],[0.1111111111111111,\"#46039f\"],[0.2222222222222222,\"#7201a8\"],[0.3333333333333333,\"#9c179e\"],[0.4444444444444444,\"#bd3786\"],[0.5555555555555556,\"#d8576b\"],[0.6666666666666666,\"#ed7953\"],[0.7777777777777778,\"#fb9f3a\"],[0.8888888888888888,\"#fdca26\"],[1.0,\"#f0f921\"]],\"type\":\"heatmap\"}],\"histogram2dcontour\":[{\"colorbar\":{\"outlinewidth\":0,\"ticks\":\"\"},\"colorscale\":[[0.0,\"#0d0887\"],[0.1111111111111111,\"#46039f\"],[0.2222222222222222,\"#7201a8\"],[0.3333333333333333,\"#9c179e\"],[0.4444444444444444,\"#bd3786\"],[0.5555555555555556,\"#d8576b\"],[0.6666666666666666,\"#ed7953\"],[0.7777777777777778,\"#fb9f3a\"],[0.8888888888888888,\"#fdca26\"],[1.0,\"#f0f921\"]],\"type\":\"histogram2dcontour\"}],\"histogram2d\":[{\"colorbar\":{\"outlinewidth\":0,\"ticks\":\"\"},\"colorscale\":[[0.0,\"#0d0887\"],[0.1111111111111111,\"#46039f\"],[0.2222222222222222,\"#7201a8\"],[0.3333333333333333,\"#9c179e\"],[0.4444444444444444,\"#bd3786\"],[0.5555555555555556,\"#d8576b\"],[0.6666666666666666,\"#ed7953\"],[0.7777777777777778,\"#fb9f3a\"],[0.8888888888888888,\"#fdca26\"],[1.0,\"#f0f921\"]],\"type\":\"histogram2d\"}],\"histogram\":[{\"marker\":{\"pattern\":{\"fillmode\":\"overlay\",\"size\":10,\"solidity\":0.2}},\"type\":\"histogram\"}],\"mesh3d\":[{\"colorbar\":{\"outlinewidth\":0,\"ticks\":\"\"},\"type\":\"mesh3d\"}],\"parcoords\":[{\"line\":{\"colorbar\":{\"outlinewidth\":0,\"ticks\":\"\"}},\"type\":\"parcoords\"}],\"pie\":[{\"automargin\":true,\"type\":\"pie\"}],\"scatter3d\":[{\"line\":{\"colorbar\":{\"outlinewidth\":0,\"ticks\":\"\"}},\"marker\":{\"colorbar\":{\"outlinewidth\":0,\"ticks\":\"\"}},\"type\":\"scatter3d\"}],\"scattercarpet\":[{\"marker\":{\"colorbar\":{\"outlinewidth\":0,\"ticks\":\"\"}},\"type\":\"scattercarpet\"}],\"scattergeo\":[{\"marker\":{\"colorbar\":{\"outlinewidth\":0,\"ticks\":\"\"}},\"type\":\"scattergeo\"}],\"scattergl\":[{\"marker\":{\"colorbar\":{\"outlinewidth\":0,\"ticks\":\"\"}},\"type\":\"scattergl\"}],\"scattermapbox\":[{\"marker\":{\"colorbar\":{\"outlinewidth\":0,\"ticks\":\"\"}},\"type\":\"scattermapbox\"}],\"scatterpolargl\":[{\"marker\":{\"colorbar\":{\"outlinewidth\":0,\"ticks\":\"\"}},\"type\":\"scatterpolargl\"}],\"scatterpolar\":[{\"marker\":{\"colorbar\":{\"outlinewidth\":0,\"ticks\":\"\"}},\"type\":\"scatterpolar\"}],\"scatter\":[{\"fillpattern\":{\"fillmode\":\"overlay\",\"size\":10,\"solidity\":0.2},\"type\":\"scatter\"}],\"scatterternary\":[{\"marker\":{\"colorbar\":{\"outlinewidth\":0,\"ticks\":\"\"}},\"type\":\"scatterternary\"}],\"surface\":[{\"colorbar\":{\"outlinewidth\":0,\"ticks\":\"\"},\"colorscale\":[[0.0,\"#0d0887\"],[0.1111111111111111,\"#46039f\"],[0.2222222222222222,\"#7201a8\"],[0.3333333333333333,\"#9c179e\"],[0.4444444444444444,\"#bd3786\"],[0.5555555555555556,\"#d8576b\"],[0.6666666666666666,\"#ed7953\"],[0.7777777777777778,\"#fb9f3a\"],[0.8888888888888888,\"#fdca26\"],[1.0,\"#f0f921\"]],\"type\":\"surface\"}],\"table\":[{\"cells\":{\"fill\":{\"color\":\"#EBF0F8\"},\"line\":{\"color\":\"white\"}},\"header\":{\"fill\":{\"color\":\"#C8D4E3\"},\"line\":{\"color\":\"white\"}},\"type\":\"table\"}]},\"layout\":{\"annotationdefaults\":{\"arrowcolor\":\"#2a3f5f\",\"arrowhead\":0,\"arrowwidth\":1},\"autotypenumbers\":\"strict\",\"coloraxis\":{\"colorbar\":{\"outlinewidth\":0,\"ticks\":\"\"}},\"colorscale\":{\"diverging\":[[0,\"#8e0152\"],[0.1,\"#c51b7d\"],[0.2,\"#de77ae\"],[0.3,\"#f1b6da\"],[0.4,\"#fde0ef\"],[0.5,\"#f7f7f7\"],[0.6,\"#e6f5d0\"],[0.7,\"#b8e186\"],[0.8,\"#7fbc41\"],[0.9,\"#4d9221\"],[1,\"#276419\"]],\"sequential\":[[0.0,\"#0d0887\"],[0.1111111111111111,\"#46039f\"],[0.2222222222222222,\"#7201a8\"],[0.3333333333333333,\"#9c179e\"],[0.4444444444444444,\"#bd3786\"],[0.5555555555555556,\"#d8576b\"],[0.6666666666666666,\"#ed7953\"],[0.7777777777777778,\"#fb9f3a\"],[0.8888888888888888,\"#fdca26\"],[1.0,\"#f0f921\"]],\"sequentialminus\":[[0.0,\"#0d0887\"],[0.1111111111111111,\"#46039f\"],[0.2222222222222222,\"#7201a8\"],[0.3333333333333333,\"#9c179e\"],[0.4444444444444444,\"#bd3786\"],[0.5555555555555556,\"#d8576b\"],[0.6666666666666666,\"#ed7953\"],[0.7777777777777778,\"#fb9f3a\"],[0.8888888888888888,\"#fdca26\"],[1.0,\"#f0f921\"]]},\"colorway\":[\"#636efa\",\"#EF553B\",\"#00cc96\",\"#ab63fa\",\"#FFA15A\",\"#19d3f3\",\"#FF6692\",\"#B6E880\",\"#FF97FF\",\"#FECB52\"],\"font\":{\"color\":\"#2a3f5f\"},\"geo\":{\"bgcolor\":\"white\",\"lakecolor\":\"white\",\"landcolor\":\"#E5ECF6\",\"showlakes\":true,\"showland\":true,\"subunitcolor\":\"white\"},\"hoverlabel\":{\"align\":\"left\"},\"hovermode\":\"closest\",\"mapbox\":{\"style\":\"light\"},\"paper_bgcolor\":\"white\",\"plot_bgcolor\":\"#E5ECF6\",\"polar\":{\"angularaxis\":{\"gridcolor\":\"white\",\"linecolor\":\"white\",\"ticks\":\"\"},\"bgcolor\":\"#E5ECF6\",\"radialaxis\":{\"gridcolor\":\"white\",\"linecolor\":\"white\",\"ticks\":\"\"}},\"scene\":{\"xaxis\":{\"backgroundcolor\":\"#E5ECF6\",\"gridcolor\":\"white\",\"gridwidth\":2,\"linecolor\":\"white\",\"showbackground\":true,\"ticks\":\"\",\"zerolinecolor\":\"white\"},\"yaxis\":{\"backgroundcolor\":\"#E5ECF6\",\"gridcolor\":\"white\",\"gridwidth\":2,\"linecolor\":\"white\",\"showbackground\":true,\"ticks\":\"\",\"zerolinecolor\":\"white\"},\"zaxis\":{\"backgroundcolor\":\"#E5ECF6\",\"gridcolor\":\"white\",\"gridwidth\":2,\"linecolor\":\"white\",\"showbackground\":true,\"ticks\":\"\",\"zerolinecolor\":\"white\"}},\"shapedefaults\":{\"line\":{\"color\":\"#2a3f5f\"}},\"ternary\":{\"aaxis\":{\"gridcolor\":\"white\",\"linecolor\":\"white\",\"ticks\":\"\"},\"baxis\":{\"gridcolor\":\"white\",\"linecolor\":\"white\",\"ticks\":\"\"},\"bgcolor\":\"#E5ECF6\",\"caxis\":{\"gridcolor\":\"white\",\"linecolor\":\"white\",\"ticks\":\"\"}},\"title\":{\"x\":0.05},\"xaxis\":{\"automargin\":true,\"gridcolor\":\"white\",\"linecolor\":\"white\",\"ticks\":\"\",\"title\":{\"standoff\":15},\"zerolinecolor\":\"white\",\"zerolinewidth\":2},\"yaxis\":{\"automargin\":true,\"gridcolor\":\"white\",\"linecolor\":\"white\",\"ticks\":\"\",\"title\":{\"standoff\":15},\"zerolinecolor\":\"white\",\"zerolinewidth\":2}}},\"title\":{\"font\":{\"color\":\"#4D5663\"}},\"xaxis\":{\"gridcolor\":\"#E1E5ED\",\"showgrid\":true,\"tickfont\":{\"color\":\"#4D5663\"},\"title\":{\"font\":{\"color\":\"#4D5663\"},\"text\":\"\"},\"zerolinecolor\":\"#E1E5ED\"},\"yaxis\":{\"gridcolor\":\"#E1E5ED\",\"showgrid\":true,\"tickfont\":{\"color\":\"#4D5663\"},\"title\":{\"font\":{\"color\":\"#4D5663\"},\"text\":\"\"},\"zerolinecolor\":\"#E1E5ED\"}},                        {\"showLink\": true, \"linkText\": \"Export to plot.ly\", \"plotlyServerURL\": \"https://plot.ly\", \"responsive\": true}                    ).then(function(){\n",
       "                            \n",
       "var gd = document.getElementById('f3665473-721d-4322-8999-b5722042b495');\n",
       "var x = new MutationObserver(function (mutations, observer) {{\n",
       "        var display = window.getComputedStyle(gd).display;\n",
       "        if (!display || display === 'none') {{\n",
       "            console.log([gd, 'removed!']);\n",
       "            Plotly.purge(gd);\n",
       "            observer.disconnect();\n",
       "        }}\n",
       "}});\n",
       "\n",
       "// Listen for the removal of the full notebook cells\n",
       "var notebookContainer = gd.closest('#notebook-container');\n",
       "if (notebookContainer) {{\n",
       "    x.observe(notebookContainer, {childList: true});\n",
       "}}\n",
       "\n",
       "// Listen for the clearing of the current output cell\n",
       "var outputEl = gd.closest('.output');\n",
       "if (outputEl) {{\n",
       "    x.observe(outputEl, {childList: true});\n",
       "}}\n",
       "\n",
       "                        })                };                });            </script>        </div>"
      ]
     },
     "metadata": {},
     "output_type": "display_data"
    }
   ],
   "source": [
    "df2.iplot(kind='bar',x='Category',y='Values')"
   ]
  },
  {
   "cell_type": "code",
   "execution_count": 12,
   "metadata": {},
   "outputs": [
    {
     "data": {
      "application/vnd.plotly.v1+json": {
       "config": {
        "linkText": "Export to plot.ly",
        "plotlyServerURL": "https://plot.ly",
        "showLink": true
       },
       "data": [
        {
         "marker": {
          "color": "rgba(255, 153, 51, 0.6)",
          "line": {
           "color": "rgba(255, 153, 51, 1.0)",
           "width": 1
          }
         },
         "name": "None",
         "orientation": "v",
         "text": "",
         "type": "bar",
         "x": [
          "A",
          "B",
          "C",
          "D"
         ],
         "y": [
          100,
          100,
          100,
          100
         ]
        }
       ],
       "layout": {
        "legend": {
         "bgcolor": "#F5F6F9",
         "font": {
          "color": "#4D5663"
         }
        },
        "paper_bgcolor": "#F5F6F9",
        "plot_bgcolor": "#F5F6F9",
        "template": {
         "data": {
          "bar": [
           {
            "error_x": {
             "color": "#2a3f5f"
            },
            "error_y": {
             "color": "#2a3f5f"
            },
            "marker": {
             "line": {
              "color": "#E5ECF6",
              "width": 0.5
             },
             "pattern": {
              "fillmode": "overlay",
              "size": 10,
              "solidity": 0.2
             }
            },
            "type": "bar"
           }
          ],
          "barpolar": [
           {
            "marker": {
             "line": {
              "color": "#E5ECF6",
              "width": 0.5
             },
             "pattern": {
              "fillmode": "overlay",
              "size": 10,
              "solidity": 0.2
             }
            },
            "type": "barpolar"
           }
          ],
          "carpet": [
           {
            "aaxis": {
             "endlinecolor": "#2a3f5f",
             "gridcolor": "white",
             "linecolor": "white",
             "minorgridcolor": "white",
             "startlinecolor": "#2a3f5f"
            },
            "baxis": {
             "endlinecolor": "#2a3f5f",
             "gridcolor": "white",
             "linecolor": "white",
             "minorgridcolor": "white",
             "startlinecolor": "#2a3f5f"
            },
            "type": "carpet"
           }
          ],
          "choropleth": [
           {
            "colorbar": {
             "outlinewidth": 0,
             "ticks": ""
            },
            "type": "choropleth"
           }
          ],
          "contour": [
           {
            "colorbar": {
             "outlinewidth": 0,
             "ticks": ""
            },
            "colorscale": [
             [
              0,
              "#0d0887"
             ],
             [
              0.1111111111111111,
              "#46039f"
             ],
             [
              0.2222222222222222,
              "#7201a8"
             ],
             [
              0.3333333333333333,
              "#9c179e"
             ],
             [
              0.4444444444444444,
              "#bd3786"
             ],
             [
              0.5555555555555556,
              "#d8576b"
             ],
             [
              0.6666666666666666,
              "#ed7953"
             ],
             [
              0.7777777777777778,
              "#fb9f3a"
             ],
             [
              0.8888888888888888,
              "#fdca26"
             ],
             [
              1,
              "#f0f921"
             ]
            ],
            "type": "contour"
           }
          ],
          "contourcarpet": [
           {
            "colorbar": {
             "outlinewidth": 0,
             "ticks": ""
            },
            "type": "contourcarpet"
           }
          ],
          "heatmap": [
           {
            "colorbar": {
             "outlinewidth": 0,
             "ticks": ""
            },
            "colorscale": [
             [
              0,
              "#0d0887"
             ],
             [
              0.1111111111111111,
              "#46039f"
             ],
             [
              0.2222222222222222,
              "#7201a8"
             ],
             [
              0.3333333333333333,
              "#9c179e"
             ],
             [
              0.4444444444444444,
              "#bd3786"
             ],
             [
              0.5555555555555556,
              "#d8576b"
             ],
             [
              0.6666666666666666,
              "#ed7953"
             ],
             [
              0.7777777777777778,
              "#fb9f3a"
             ],
             [
              0.8888888888888888,
              "#fdca26"
             ],
             [
              1,
              "#f0f921"
             ]
            ],
            "type": "heatmap"
           }
          ],
          "heatmapgl": [
           {
            "colorbar": {
             "outlinewidth": 0,
             "ticks": ""
            },
            "colorscale": [
             [
              0,
              "#0d0887"
             ],
             [
              0.1111111111111111,
              "#46039f"
             ],
             [
              0.2222222222222222,
              "#7201a8"
             ],
             [
              0.3333333333333333,
              "#9c179e"
             ],
             [
              0.4444444444444444,
              "#bd3786"
             ],
             [
              0.5555555555555556,
              "#d8576b"
             ],
             [
              0.6666666666666666,
              "#ed7953"
             ],
             [
              0.7777777777777778,
              "#fb9f3a"
             ],
             [
              0.8888888888888888,
              "#fdca26"
             ],
             [
              1,
              "#f0f921"
             ]
            ],
            "type": "heatmapgl"
           }
          ],
          "histogram": [
           {
            "marker": {
             "pattern": {
              "fillmode": "overlay",
              "size": 10,
              "solidity": 0.2
             }
            },
            "type": "histogram"
           }
          ],
          "histogram2d": [
           {
            "colorbar": {
             "outlinewidth": 0,
             "ticks": ""
            },
            "colorscale": [
             [
              0,
              "#0d0887"
             ],
             [
              0.1111111111111111,
              "#46039f"
             ],
             [
              0.2222222222222222,
              "#7201a8"
             ],
             [
              0.3333333333333333,
              "#9c179e"
             ],
             [
              0.4444444444444444,
              "#bd3786"
             ],
             [
              0.5555555555555556,
              "#d8576b"
             ],
             [
              0.6666666666666666,
              "#ed7953"
             ],
             [
              0.7777777777777778,
              "#fb9f3a"
             ],
             [
              0.8888888888888888,
              "#fdca26"
             ],
             [
              1,
              "#f0f921"
             ]
            ],
            "type": "histogram2d"
           }
          ],
          "histogram2dcontour": [
           {
            "colorbar": {
             "outlinewidth": 0,
             "ticks": ""
            },
            "colorscale": [
             [
              0,
              "#0d0887"
             ],
             [
              0.1111111111111111,
              "#46039f"
             ],
             [
              0.2222222222222222,
              "#7201a8"
             ],
             [
              0.3333333333333333,
              "#9c179e"
             ],
             [
              0.4444444444444444,
              "#bd3786"
             ],
             [
              0.5555555555555556,
              "#d8576b"
             ],
             [
              0.6666666666666666,
              "#ed7953"
             ],
             [
              0.7777777777777778,
              "#fb9f3a"
             ],
             [
              0.8888888888888888,
              "#fdca26"
             ],
             [
              1,
              "#f0f921"
             ]
            ],
            "type": "histogram2dcontour"
           }
          ],
          "mesh3d": [
           {
            "colorbar": {
             "outlinewidth": 0,
             "ticks": ""
            },
            "type": "mesh3d"
           }
          ],
          "parcoords": [
           {
            "line": {
             "colorbar": {
              "outlinewidth": 0,
              "ticks": ""
             }
            },
            "type": "parcoords"
           }
          ],
          "pie": [
           {
            "automargin": true,
            "type": "pie"
           }
          ],
          "scatter": [
           {
            "fillpattern": {
             "fillmode": "overlay",
             "size": 10,
             "solidity": 0.2
            },
            "type": "scatter"
           }
          ],
          "scatter3d": [
           {
            "line": {
             "colorbar": {
              "outlinewidth": 0,
              "ticks": ""
             }
            },
            "marker": {
             "colorbar": {
              "outlinewidth": 0,
              "ticks": ""
             }
            },
            "type": "scatter3d"
           }
          ],
          "scattercarpet": [
           {
            "marker": {
             "colorbar": {
              "outlinewidth": 0,
              "ticks": ""
             }
            },
            "type": "scattercarpet"
           }
          ],
          "scattergeo": [
           {
            "marker": {
             "colorbar": {
              "outlinewidth": 0,
              "ticks": ""
             }
            },
            "type": "scattergeo"
           }
          ],
          "scattergl": [
           {
            "marker": {
             "colorbar": {
              "outlinewidth": 0,
              "ticks": ""
             }
            },
            "type": "scattergl"
           }
          ],
          "scattermapbox": [
           {
            "marker": {
             "colorbar": {
              "outlinewidth": 0,
              "ticks": ""
             }
            },
            "type": "scattermapbox"
           }
          ],
          "scatterpolar": [
           {
            "marker": {
             "colorbar": {
              "outlinewidth": 0,
              "ticks": ""
             }
            },
            "type": "scatterpolar"
           }
          ],
          "scatterpolargl": [
           {
            "marker": {
             "colorbar": {
              "outlinewidth": 0,
              "ticks": ""
             }
            },
            "type": "scatterpolargl"
           }
          ],
          "scatterternary": [
           {
            "marker": {
             "colorbar": {
              "outlinewidth": 0,
              "ticks": ""
             }
            },
            "type": "scatterternary"
           }
          ],
          "surface": [
           {
            "colorbar": {
             "outlinewidth": 0,
             "ticks": ""
            },
            "colorscale": [
             [
              0,
              "#0d0887"
             ],
             [
              0.1111111111111111,
              "#46039f"
             ],
             [
              0.2222222222222222,
              "#7201a8"
             ],
             [
              0.3333333333333333,
              "#9c179e"
             ],
             [
              0.4444444444444444,
              "#bd3786"
             ],
             [
              0.5555555555555556,
              "#d8576b"
             ],
             [
              0.6666666666666666,
              "#ed7953"
             ],
             [
              0.7777777777777778,
              "#fb9f3a"
             ],
             [
              0.8888888888888888,
              "#fdca26"
             ],
             [
              1,
              "#f0f921"
             ]
            ],
            "type": "surface"
           }
          ],
          "table": [
           {
            "cells": {
             "fill": {
              "color": "#EBF0F8"
             },
             "line": {
              "color": "white"
             }
            },
            "header": {
             "fill": {
              "color": "#C8D4E3"
             },
             "line": {
              "color": "white"
             }
            },
            "type": "table"
           }
          ]
         },
         "layout": {
          "annotationdefaults": {
           "arrowcolor": "#2a3f5f",
           "arrowhead": 0,
           "arrowwidth": 1
          },
          "autotypenumbers": "strict",
          "coloraxis": {
           "colorbar": {
            "outlinewidth": 0,
            "ticks": ""
           }
          },
          "colorscale": {
           "diverging": [
            [
             0,
             "#8e0152"
            ],
            [
             0.1,
             "#c51b7d"
            ],
            [
             0.2,
             "#de77ae"
            ],
            [
             0.3,
             "#f1b6da"
            ],
            [
             0.4,
             "#fde0ef"
            ],
            [
             0.5,
             "#f7f7f7"
            ],
            [
             0.6,
             "#e6f5d0"
            ],
            [
             0.7,
             "#b8e186"
            ],
            [
             0.8,
             "#7fbc41"
            ],
            [
             0.9,
             "#4d9221"
            ],
            [
             1,
             "#276419"
            ]
           ],
           "sequential": [
            [
             0,
             "#0d0887"
            ],
            [
             0.1111111111111111,
             "#46039f"
            ],
            [
             0.2222222222222222,
             "#7201a8"
            ],
            [
             0.3333333333333333,
             "#9c179e"
            ],
            [
             0.4444444444444444,
             "#bd3786"
            ],
            [
             0.5555555555555556,
             "#d8576b"
            ],
            [
             0.6666666666666666,
             "#ed7953"
            ],
            [
             0.7777777777777778,
             "#fb9f3a"
            ],
            [
             0.8888888888888888,
             "#fdca26"
            ],
            [
             1,
             "#f0f921"
            ]
           ],
           "sequentialminus": [
            [
             0,
             "#0d0887"
            ],
            [
             0.1111111111111111,
             "#46039f"
            ],
            [
             0.2222222222222222,
             "#7201a8"
            ],
            [
             0.3333333333333333,
             "#9c179e"
            ],
            [
             0.4444444444444444,
             "#bd3786"
            ],
            [
             0.5555555555555556,
             "#d8576b"
            ],
            [
             0.6666666666666666,
             "#ed7953"
            ],
            [
             0.7777777777777778,
             "#fb9f3a"
            ],
            [
             0.8888888888888888,
             "#fdca26"
            ],
            [
             1,
             "#f0f921"
            ]
           ]
          },
          "colorway": [
           "#636efa",
           "#EF553B",
           "#00cc96",
           "#ab63fa",
           "#FFA15A",
           "#19d3f3",
           "#FF6692",
           "#B6E880",
           "#FF97FF",
           "#FECB52"
          ],
          "font": {
           "color": "#2a3f5f"
          },
          "geo": {
           "bgcolor": "white",
           "lakecolor": "white",
           "landcolor": "#E5ECF6",
           "showlakes": true,
           "showland": true,
           "subunitcolor": "white"
          },
          "hoverlabel": {
           "align": "left"
          },
          "hovermode": "closest",
          "mapbox": {
           "style": "light"
          },
          "paper_bgcolor": "white",
          "plot_bgcolor": "#E5ECF6",
          "polar": {
           "angularaxis": {
            "gridcolor": "white",
            "linecolor": "white",
            "ticks": ""
           },
           "bgcolor": "#E5ECF6",
           "radialaxis": {
            "gridcolor": "white",
            "linecolor": "white",
            "ticks": ""
           }
          },
          "scene": {
           "xaxis": {
            "backgroundcolor": "#E5ECF6",
            "gridcolor": "white",
            "gridwidth": 2,
            "linecolor": "white",
            "showbackground": true,
            "ticks": "",
            "zerolinecolor": "white"
           },
           "yaxis": {
            "backgroundcolor": "#E5ECF6",
            "gridcolor": "white",
            "gridwidth": 2,
            "linecolor": "white",
            "showbackground": true,
            "ticks": "",
            "zerolinecolor": "white"
           },
           "zaxis": {
            "backgroundcolor": "#E5ECF6",
            "gridcolor": "white",
            "gridwidth": 2,
            "linecolor": "white",
            "showbackground": true,
            "ticks": "",
            "zerolinecolor": "white"
           }
          },
          "shapedefaults": {
           "line": {
            "color": "#2a3f5f"
           }
          },
          "ternary": {
           "aaxis": {
            "gridcolor": "white",
            "linecolor": "white",
            "ticks": ""
           },
           "baxis": {
            "gridcolor": "white",
            "linecolor": "white",
            "ticks": ""
           },
           "bgcolor": "#E5ECF6",
           "caxis": {
            "gridcolor": "white",
            "linecolor": "white",
            "ticks": ""
           }
          },
          "title": {
           "x": 0.05
          },
          "xaxis": {
           "automargin": true,
           "gridcolor": "white",
           "linecolor": "white",
           "ticks": "",
           "title": {
            "standoff": 15
           },
           "zerolinecolor": "white",
           "zerolinewidth": 2
          },
          "yaxis": {
           "automargin": true,
           "gridcolor": "white",
           "linecolor": "white",
           "ticks": "",
           "title": {
            "standoff": 15
           },
           "zerolinecolor": "white",
           "zerolinewidth": 2
          }
         }
        },
        "title": {
         "font": {
          "color": "#4D5663"
         }
        },
        "xaxis": {
         "gridcolor": "#E1E5ED",
         "showgrid": true,
         "tickfont": {
          "color": "#4D5663"
         },
         "title": {
          "font": {
           "color": "#4D5663"
          },
          "text": ""
         },
         "zerolinecolor": "#E1E5ED"
        },
        "yaxis": {
         "gridcolor": "#E1E5ED",
         "showgrid": true,
         "tickfont": {
          "color": "#4D5663"
         },
         "title": {
          "font": {
           "color": "#4D5663"
          },
          "text": ""
         },
         "zerolinecolor": "#E1E5ED"
        }
       }
      },
      "text/html": [
       "<div>                            <div id=\"498e64f3-a783-473d-a43b-25f691194716\" class=\"plotly-graph-div\" style=\"height:525px; width:100%;\"></div>            <script type=\"text/javascript\">                require([\"plotly\"], function(Plotly) {                    window.PLOTLYENV=window.PLOTLYENV || {};\n",
       "                    window.PLOTLYENV.BASE_URL='https://plot.ly';                                    if (document.getElementById(\"498e64f3-a783-473d-a43b-25f691194716\")) {                    Plotly.newPlot(                        \"498e64f3-a783-473d-a43b-25f691194716\",                        [{\"marker\":{\"color\":\"rgba(255, 153, 51, 0.6)\",\"line\":{\"color\":\"rgba(255, 153, 51, 1.0)\",\"width\":1}},\"name\":\"None\",\"orientation\":\"v\",\"text\":\"\",\"x\":[\"A\",\"B\",\"C\",\"D\"],\"y\":[100,100,100,100],\"type\":\"bar\"}],                        {\"legend\":{\"bgcolor\":\"#F5F6F9\",\"font\":{\"color\":\"#4D5663\"}},\"paper_bgcolor\":\"#F5F6F9\",\"plot_bgcolor\":\"#F5F6F9\",\"template\":{\"data\":{\"barpolar\":[{\"marker\":{\"line\":{\"color\":\"#E5ECF6\",\"width\":0.5},\"pattern\":{\"fillmode\":\"overlay\",\"size\":10,\"solidity\":0.2}},\"type\":\"barpolar\"}],\"bar\":[{\"error_x\":{\"color\":\"#2a3f5f\"},\"error_y\":{\"color\":\"#2a3f5f\"},\"marker\":{\"line\":{\"color\":\"#E5ECF6\",\"width\":0.5},\"pattern\":{\"fillmode\":\"overlay\",\"size\":10,\"solidity\":0.2}},\"type\":\"bar\"}],\"carpet\":[{\"aaxis\":{\"endlinecolor\":\"#2a3f5f\",\"gridcolor\":\"white\",\"linecolor\":\"white\",\"minorgridcolor\":\"white\",\"startlinecolor\":\"#2a3f5f\"},\"baxis\":{\"endlinecolor\":\"#2a3f5f\",\"gridcolor\":\"white\",\"linecolor\":\"white\",\"minorgridcolor\":\"white\",\"startlinecolor\":\"#2a3f5f\"},\"type\":\"carpet\"}],\"choropleth\":[{\"colorbar\":{\"outlinewidth\":0,\"ticks\":\"\"},\"type\":\"choropleth\"}],\"contourcarpet\":[{\"colorbar\":{\"outlinewidth\":0,\"ticks\":\"\"},\"type\":\"contourcarpet\"}],\"contour\":[{\"colorbar\":{\"outlinewidth\":0,\"ticks\":\"\"},\"colorscale\":[[0.0,\"#0d0887\"],[0.1111111111111111,\"#46039f\"],[0.2222222222222222,\"#7201a8\"],[0.3333333333333333,\"#9c179e\"],[0.4444444444444444,\"#bd3786\"],[0.5555555555555556,\"#d8576b\"],[0.6666666666666666,\"#ed7953\"],[0.7777777777777778,\"#fb9f3a\"],[0.8888888888888888,\"#fdca26\"],[1.0,\"#f0f921\"]],\"type\":\"contour\"}],\"heatmapgl\":[{\"colorbar\":{\"outlinewidth\":0,\"ticks\":\"\"},\"colorscale\":[[0.0,\"#0d0887\"],[0.1111111111111111,\"#46039f\"],[0.2222222222222222,\"#7201a8\"],[0.3333333333333333,\"#9c179e\"],[0.4444444444444444,\"#bd3786\"],[0.5555555555555556,\"#d8576b\"],[0.6666666666666666,\"#ed7953\"],[0.7777777777777778,\"#fb9f3a\"],[0.8888888888888888,\"#fdca26\"],[1.0,\"#f0f921\"]],\"type\":\"heatmapgl\"}],\"heatmap\":[{\"colorbar\":{\"outlinewidth\":0,\"ticks\":\"\"},\"colorscale\":[[0.0,\"#0d0887\"],[0.1111111111111111,\"#46039f\"],[0.2222222222222222,\"#7201a8\"],[0.3333333333333333,\"#9c179e\"],[0.4444444444444444,\"#bd3786\"],[0.5555555555555556,\"#d8576b\"],[0.6666666666666666,\"#ed7953\"],[0.7777777777777778,\"#fb9f3a\"],[0.8888888888888888,\"#fdca26\"],[1.0,\"#f0f921\"]],\"type\":\"heatmap\"}],\"histogram2dcontour\":[{\"colorbar\":{\"outlinewidth\":0,\"ticks\":\"\"},\"colorscale\":[[0.0,\"#0d0887\"],[0.1111111111111111,\"#46039f\"],[0.2222222222222222,\"#7201a8\"],[0.3333333333333333,\"#9c179e\"],[0.4444444444444444,\"#bd3786\"],[0.5555555555555556,\"#d8576b\"],[0.6666666666666666,\"#ed7953\"],[0.7777777777777778,\"#fb9f3a\"],[0.8888888888888888,\"#fdca26\"],[1.0,\"#f0f921\"]],\"type\":\"histogram2dcontour\"}],\"histogram2d\":[{\"colorbar\":{\"outlinewidth\":0,\"ticks\":\"\"},\"colorscale\":[[0.0,\"#0d0887\"],[0.1111111111111111,\"#46039f\"],[0.2222222222222222,\"#7201a8\"],[0.3333333333333333,\"#9c179e\"],[0.4444444444444444,\"#bd3786\"],[0.5555555555555556,\"#d8576b\"],[0.6666666666666666,\"#ed7953\"],[0.7777777777777778,\"#fb9f3a\"],[0.8888888888888888,\"#fdca26\"],[1.0,\"#f0f921\"]],\"type\":\"histogram2d\"}],\"histogram\":[{\"marker\":{\"pattern\":{\"fillmode\":\"overlay\",\"size\":10,\"solidity\":0.2}},\"type\":\"histogram\"}],\"mesh3d\":[{\"colorbar\":{\"outlinewidth\":0,\"ticks\":\"\"},\"type\":\"mesh3d\"}],\"parcoords\":[{\"line\":{\"colorbar\":{\"outlinewidth\":0,\"ticks\":\"\"}},\"type\":\"parcoords\"}],\"pie\":[{\"automargin\":true,\"type\":\"pie\"}],\"scatter3d\":[{\"line\":{\"colorbar\":{\"outlinewidth\":0,\"ticks\":\"\"}},\"marker\":{\"colorbar\":{\"outlinewidth\":0,\"ticks\":\"\"}},\"type\":\"scatter3d\"}],\"scattercarpet\":[{\"marker\":{\"colorbar\":{\"outlinewidth\":0,\"ticks\":\"\"}},\"type\":\"scattercarpet\"}],\"scattergeo\":[{\"marker\":{\"colorbar\":{\"outlinewidth\":0,\"ticks\":\"\"}},\"type\":\"scattergeo\"}],\"scattergl\":[{\"marker\":{\"colorbar\":{\"outlinewidth\":0,\"ticks\":\"\"}},\"type\":\"scattergl\"}],\"scattermapbox\":[{\"marker\":{\"colorbar\":{\"outlinewidth\":0,\"ticks\":\"\"}},\"type\":\"scattermapbox\"}],\"scatterpolargl\":[{\"marker\":{\"colorbar\":{\"outlinewidth\":0,\"ticks\":\"\"}},\"type\":\"scatterpolargl\"}],\"scatterpolar\":[{\"marker\":{\"colorbar\":{\"outlinewidth\":0,\"ticks\":\"\"}},\"type\":\"scatterpolar\"}],\"scatter\":[{\"fillpattern\":{\"fillmode\":\"overlay\",\"size\":10,\"solidity\":0.2},\"type\":\"scatter\"}],\"scatterternary\":[{\"marker\":{\"colorbar\":{\"outlinewidth\":0,\"ticks\":\"\"}},\"type\":\"scatterternary\"}],\"surface\":[{\"colorbar\":{\"outlinewidth\":0,\"ticks\":\"\"},\"colorscale\":[[0.0,\"#0d0887\"],[0.1111111111111111,\"#46039f\"],[0.2222222222222222,\"#7201a8\"],[0.3333333333333333,\"#9c179e\"],[0.4444444444444444,\"#bd3786\"],[0.5555555555555556,\"#d8576b\"],[0.6666666666666666,\"#ed7953\"],[0.7777777777777778,\"#fb9f3a\"],[0.8888888888888888,\"#fdca26\"],[1.0,\"#f0f921\"]],\"type\":\"surface\"}],\"table\":[{\"cells\":{\"fill\":{\"color\":\"#EBF0F8\"},\"line\":{\"color\":\"white\"}},\"header\":{\"fill\":{\"color\":\"#C8D4E3\"},\"line\":{\"color\":\"white\"}},\"type\":\"table\"}]},\"layout\":{\"annotationdefaults\":{\"arrowcolor\":\"#2a3f5f\",\"arrowhead\":0,\"arrowwidth\":1},\"autotypenumbers\":\"strict\",\"coloraxis\":{\"colorbar\":{\"outlinewidth\":0,\"ticks\":\"\"}},\"colorscale\":{\"diverging\":[[0,\"#8e0152\"],[0.1,\"#c51b7d\"],[0.2,\"#de77ae\"],[0.3,\"#f1b6da\"],[0.4,\"#fde0ef\"],[0.5,\"#f7f7f7\"],[0.6,\"#e6f5d0\"],[0.7,\"#b8e186\"],[0.8,\"#7fbc41\"],[0.9,\"#4d9221\"],[1,\"#276419\"]],\"sequential\":[[0.0,\"#0d0887\"],[0.1111111111111111,\"#46039f\"],[0.2222222222222222,\"#7201a8\"],[0.3333333333333333,\"#9c179e\"],[0.4444444444444444,\"#bd3786\"],[0.5555555555555556,\"#d8576b\"],[0.6666666666666666,\"#ed7953\"],[0.7777777777777778,\"#fb9f3a\"],[0.8888888888888888,\"#fdca26\"],[1.0,\"#f0f921\"]],\"sequentialminus\":[[0.0,\"#0d0887\"],[0.1111111111111111,\"#46039f\"],[0.2222222222222222,\"#7201a8\"],[0.3333333333333333,\"#9c179e\"],[0.4444444444444444,\"#bd3786\"],[0.5555555555555556,\"#d8576b\"],[0.6666666666666666,\"#ed7953\"],[0.7777777777777778,\"#fb9f3a\"],[0.8888888888888888,\"#fdca26\"],[1.0,\"#f0f921\"]]},\"colorway\":[\"#636efa\",\"#EF553B\",\"#00cc96\",\"#ab63fa\",\"#FFA15A\",\"#19d3f3\",\"#FF6692\",\"#B6E880\",\"#FF97FF\",\"#FECB52\"],\"font\":{\"color\":\"#2a3f5f\"},\"geo\":{\"bgcolor\":\"white\",\"lakecolor\":\"white\",\"landcolor\":\"#E5ECF6\",\"showlakes\":true,\"showland\":true,\"subunitcolor\":\"white\"},\"hoverlabel\":{\"align\":\"left\"},\"hovermode\":\"closest\",\"mapbox\":{\"style\":\"light\"},\"paper_bgcolor\":\"white\",\"plot_bgcolor\":\"#E5ECF6\",\"polar\":{\"angularaxis\":{\"gridcolor\":\"white\",\"linecolor\":\"white\",\"ticks\":\"\"},\"bgcolor\":\"#E5ECF6\",\"radialaxis\":{\"gridcolor\":\"white\",\"linecolor\":\"white\",\"ticks\":\"\"}},\"scene\":{\"xaxis\":{\"backgroundcolor\":\"#E5ECF6\",\"gridcolor\":\"white\",\"gridwidth\":2,\"linecolor\":\"white\",\"showbackground\":true,\"ticks\":\"\",\"zerolinecolor\":\"white\"},\"yaxis\":{\"backgroundcolor\":\"#E5ECF6\",\"gridcolor\":\"white\",\"gridwidth\":2,\"linecolor\":\"white\",\"showbackground\":true,\"ticks\":\"\",\"zerolinecolor\":\"white\"},\"zaxis\":{\"backgroundcolor\":\"#E5ECF6\",\"gridcolor\":\"white\",\"gridwidth\":2,\"linecolor\":\"white\",\"showbackground\":true,\"ticks\":\"\",\"zerolinecolor\":\"white\"}},\"shapedefaults\":{\"line\":{\"color\":\"#2a3f5f\"}},\"ternary\":{\"aaxis\":{\"gridcolor\":\"white\",\"linecolor\":\"white\",\"ticks\":\"\"},\"baxis\":{\"gridcolor\":\"white\",\"linecolor\":\"white\",\"ticks\":\"\"},\"bgcolor\":\"#E5ECF6\",\"caxis\":{\"gridcolor\":\"white\",\"linecolor\":\"white\",\"ticks\":\"\"}},\"title\":{\"x\":0.05},\"xaxis\":{\"automargin\":true,\"gridcolor\":\"white\",\"linecolor\":\"white\",\"ticks\":\"\",\"title\":{\"standoff\":15},\"zerolinecolor\":\"white\",\"zerolinewidth\":2},\"yaxis\":{\"automargin\":true,\"gridcolor\":\"white\",\"linecolor\":\"white\",\"ticks\":\"\",\"title\":{\"standoff\":15},\"zerolinecolor\":\"white\",\"zerolinewidth\":2}}},\"title\":{\"font\":{\"color\":\"#4D5663\"}},\"xaxis\":{\"gridcolor\":\"#E1E5ED\",\"showgrid\":true,\"tickfont\":{\"color\":\"#4D5663\"},\"title\":{\"font\":{\"color\":\"#4D5663\"},\"text\":\"\"},\"zerolinecolor\":\"#E1E5ED\"},\"yaxis\":{\"gridcolor\":\"#E1E5ED\",\"showgrid\":true,\"tickfont\":{\"color\":\"#4D5663\"},\"title\":{\"font\":{\"color\":\"#4D5663\"},\"text\":\"\"},\"zerolinecolor\":\"#E1E5ED\"}},                        {\"showLink\": true, \"linkText\": \"Export to plot.ly\", \"plotlyServerURL\": \"https://plot.ly\", \"responsive\": true}                    ).then(function(){\n",
       "                            \n",
       "var gd = document.getElementById('498e64f3-a783-473d-a43b-25f691194716');\n",
       "var x = new MutationObserver(function (mutations, observer) {{\n",
       "        var display = window.getComputedStyle(gd).display;\n",
       "        if (!display || display === 'none') {{\n",
       "            console.log([gd, 'removed!']);\n",
       "            Plotly.purge(gd);\n",
       "            observer.disconnect();\n",
       "        }}\n",
       "}});\n",
       "\n",
       "// Listen for the removal of the full notebook cells\n",
       "var notebookContainer = gd.closest('#notebook-container');\n",
       "if (notebookContainer) {{\n",
       "    x.observe(notebookContainer, {childList: true});\n",
       "}}\n",
       "\n",
       "// Listen for the clearing of the current output cell\n",
       "var outputEl = gd.closest('.output');\n",
       "if (outputEl) {{\n",
       "    x.observe(outputEl, {childList: true});\n",
       "}}\n",
       "\n",
       "                        })                };                });            </script>        </div>"
      ]
     },
     "metadata": {},
     "output_type": "display_data"
    }
   ],
   "source": [
    "df.count().iplot(kind='bar')"
   ]
  },
  {
   "cell_type": "markdown",
   "metadata": {},
   "source": [
    "## Boxplots"
   ]
  },
  {
   "cell_type": "code",
   "execution_count": 13,
   "metadata": {},
   "outputs": [
    {
     "data": {
      "application/vnd.plotly.v1+json": {
       "config": {
        "linkText": "Export to plot.ly",
        "plotlyServerURL": "https://plot.ly",
        "showLink": true
       },
       "data": [
        {
         "boxpoints": false,
         "line": {
          "width": 1.3
         },
         "marker": {
          "color": "rgba(255, 153, 51, 1.0)"
         },
         "name": "A",
         "orientation": "v",
         "type": "box",
         "y": [
          0.9674792495653929,
          -0.869645948345109,
          0.3276963940454639,
          2.212326394176484,
          1.194564115626372,
          1.281333312680946,
          -0.4593625791084765,
          0.2534398304646211,
          -1.187047102320885,
          0.009120945638079877,
          0.46812971295397005,
          0.3173603163090243,
          -0.5949756643716486,
          0.36612201815595236,
          1.6823087709179516,
          0.1223867090465667,
          1.2858955968180077,
          -0.355874679445089,
          -1.5056555405566194,
          -0.9803269668748792,
          -0.9821783534228085,
          -0.052757830218477235,
          0.8033100178798156,
          -1.2398031374339302,
          -0.5813663197398291,
          0.19886821601177004,
          0.1294915534324573,
          -0.13306937600077753,
          1.3939949997907175,
          1.1973801278232796,
          0.584311181386549,
          0.9814067443843448,
          0.2061913231991555,
          1.671664827360644,
          0.789600735681814,
          1.2933123482628828,
          1.4246595860526337,
          -1.3217494580552764,
          -0.07724462464406437,
          0.18930105179933207,
          -0.8808766976813702,
          -0.01730765278196536,
          1.6745130595812752,
          -0.9444306581128674,
          -0.1221827946211637,
          -2.321901756440847,
          0.7477928499020462,
          -1.8263033277692504,
          -1.0618495646062116,
          -0.09040834612020593,
          -0.0010349389445514765,
          -2.735604509568205,
          -1.6080140908995408,
          0.46315775491532685,
          -0.5641038656392511,
          -0.09215769154545252,
          1.0002522597706367,
          0.17587208675758984,
          -0.5954239279504188,
          -2.911645903175407,
          0.060337624495499904,
          -0.42040253946929246,
          1.7762469320792973,
          0.8730115926111546,
          1.8439878835043193,
          -0.6085419218754314,
          -0.9079008941146096,
          0.2759242313421433,
          -0.3988133260904946,
          1.3186512094391587,
          -0.22711041145047717,
          -1.1216333739411006,
          0.8022488902000023,
          -0.28124431547160195,
          -0.5851126659274265,
          0.4306201479387562,
          -1.0882948662735636,
          0.027976391155035966,
          0.5566361343141041,
          -1.5807367243659294,
          -0.8082355354469991,
          0.5644686676080057,
          -0.5897432726211994,
          -1.090934333436364,
          -0.24825567958331607,
          0.24567974588087993,
          1.0745837768794317,
          -0.4793855569130954,
          1.2390952913307294,
          -0.1127955717482966,
          0.5115001071064847,
          -0.05946749612950342,
          -0.8113493777941423,
          -0.049751974798389886,
          -0.3517813343733759,
          -0.29145587516066457,
          0.5787628035960883,
          -0.1311683960980727,
          -0.10496940636822302,
          0.5356439478190795
         ]
        },
        {
         "boxpoints": false,
         "line": {
          "width": 1.3
         },
         "marker": {
          "color": "rgba(55, 128, 191, 1.0)"
         },
         "name": "B",
         "orientation": "v",
         "type": "box",
         "y": [
          1.2559665150128738,
          1.623222658930747,
          -1.6337826450630495,
          0.9447131134135116,
          1.1798043405299838,
          -1.155688742948656,
          2.4548456650087664,
          0.1967602313034417,
          1.273259911357326,
          0.032098563769232605,
          -0.9406093982229913,
          -1.2964368050421562,
          -1.519902506155913,
          -0.3761787602834264,
          -0.010752827153059951,
          -0.10556004881246867,
          0.20076895648962265,
          -1.6850246316573827,
          -0.053499097961576036,
          0.026679427972856138,
          -0.9296474377801646,
          0.34792155075954995,
          0.6817847402778288,
          0.6709660186939352,
          -0.32023098099219494,
          0.3547897976235289,
          -0.13263784373644685,
          0.2935159364327797,
          -1.1935028348876886,
          -0.6154685546770732,
          0.2711354765320031,
          -1.2721284909920545,
          -1.66150782301575,
          -0.40869372542459653,
          0.6927214550234417,
          -0.571354166680342,
          -2.370721439218031,
          0.1493964954778568,
          0.6510556001226679,
          0.4292580766720687,
          0.7638851538915261,
          -0.6330279833466473,
          0.17323422869432137,
          0.5571215919463213,
          -1.7511962250925097,
          1.0350253485830763,
          -0.15762194299334684,
          0.4863083584740155,
          0.30436807080373923,
          0.4251551333724484,
          0.3550019805177964,
          0.44034349879940204,
          2.0969774956697025,
          1.0962646409270569,
          1.1830133303858525,
          -1.1344339583329939,
          -1.5290452405995383,
          1.8736128340095886,
          0.39478122772731267,
          -1.05179307868685,
          0.6310044541279328,
          0.42939924866247065,
          0.5323109177393281,
          -0.4729320313581209,
          1.5409072215037973,
          -1.262119363458304,
          -0.7039383666072286,
          -0.8990003348315486,
          -0.028011387798115833,
          0.47592024362120794,
          0.9002351500195176,
          -0.14605167795031107,
          -0.7679327720116481,
          1.5576359927434305,
          -0.7733583994874416,
          0.23109138835710186,
          -1.1494712996178111,
          0.4967199657809361,
          0.29515336234764084,
          0.8557133952349325,
          -0.309347918115768,
          -0.9199284431444746,
          -0.0815317236788813,
          0.09104793048301475,
          -0.4112088551283685,
          0.07420682096557561,
          0.8944805960648957,
          1.047378806846963,
          -0.043918820524732866,
          -1.0315338064149218,
          -0.7600061950087242,
          -0.9280574417632615,
          -0.7216526703364456,
          0.7305990509468757,
          -0.04815858666592761,
          -0.6922237460237607,
          -0.4498024098452496,
          -0.906975856818541,
          -1.5624154089293907,
          -0.6482211367486518
         ]
        },
        {
         "boxpoints": false,
         "line": {
          "width": 1.3
         },
         "marker": {
          "color": "rgba(50, 171, 96, 1.0)"
         },
         "name": "C",
         "orientation": "v",
         "type": "box",
         "y": [
          0.20305496644080695,
          -0.33039121526200343,
          0.40855082409175153,
          1.3274337532753089,
          0.6803105741718392,
          0.006881117099928233,
          0.03165130139628253,
          0.181838923603268,
          0.49015845140703557,
          -1.526960515256338,
          0.7246631081556754,
          -0.547753009652827,
          -2.1534501524454916,
          -1.5605142632760103,
          -0.9304612934504152,
          -0.9293505632842272,
          0.9401064012357843,
          -0.25152667299264647,
          -1.0810539083833393,
          -0.2569645314207663,
          -0.9562882768559505,
          0.3581432251875754,
          -0.058761279119920434,
          -0.005837422335257732,
          1.0973696580147438,
          0.5131968563218078,
          1.1893389729121706,
          0.4130546432360426,
          -0.9493384426904715,
          -0.9076095877297566,
          0.2930118306513728,
          -0.9419434561021102,
          0.047934019761024134,
          -1.1525333553450632,
          0.5579077902570123,
          -0.4771985528260809,
          0.6427791125417261,
          -0.12642375532549144,
          0.4582786624587594,
          0.8441490446943267,
          -0.08965862722638257,
          -0.6735546349036959,
          0.37390057446007036,
          0.020316886846450333,
          -0.4077579015482804,
          -1.9650400693913401,
          -2.2477196087378615,
          -0.08016444885580916,
          0.5689869353540534,
          -1.6029250151264145,
          1.0847552376575391,
          0.8531548350965638,
          -0.5849907786951324,
          -3.7174326786829317,
          -0.614978372572787,
          -1.2613986013486533,
          -0.6262121478759936,
          -0.6399900697017636,
          0.2893718511932817,
          0.6299388086845674,
          1.4028940813934354,
          1.3839847336594746,
          0.9319950604517704,
          1.7157971716334122,
          0.45498902184171786,
          -0.5355852741151403,
          1.593083632942254,
          -0.6005007743404577,
          0.63266313047327,
          -0.6812596561741786,
          0.32436359906335743,
          0.244617079161891,
          1.1261753132323709,
          0.4374761668552437,
          0.154484641594899,
          -0.3119547135474024,
          0.47924657258169007,
          1.307750909104364,
          0.6458414548905935,
          0.49227870937608564,
          0.49893512743953133,
          -1.0924075598242011,
          -1.4714671173639802,
          -0.0963085993679753,
          2.1275418519912845,
          -0.26131193407714154,
          -0.6090046936899325,
          -0.4417302353214457,
          -1.1473580546824254,
          -0.5436027939444492,
          -0.7737127397869321,
          -0.35479721904411277,
          -1.6133281126784869,
          -0.4236190388756427,
          0.009259765543734427,
          0.4741677156123742,
          -0.6874560632796509,
          -0.19686408370752284,
          -0.16260661326726622,
          -0.8220663003071326
         ]
        },
        {
         "boxpoints": false,
         "line": {
          "width": 1.3
         },
         "marker": {
          "color": "rgba(128, 0, 128, 1.0)"
         },
         "name": "D",
         "orientation": "v",
         "type": "box",
         "y": [
          -0.844675283057274,
          1.1079253141952627,
          -1.0549246574985103,
          0.6248328768284416,
          0.39372377644644213,
          0.9872964812692586,
          -0.6645790999130656,
          -0.27236586279190184,
          -1.5346605301244767,
          0.1692178233932603,
          1.4184857962790212,
          0.8808556056254373,
          -1.1003714271012022,
          -1.2367186974284194,
          -0.14564286798088713,
          1.837797109612688,
          -0.38971287492709455,
          0.8317892603171286,
          0.02665091971910814,
          -0.8220765905487935,
          0.48617665310014496,
          -1.3150490584333274,
          0.94132724243685,
          -1.967516472559997,
          0.06591239341638026,
          -0.03209809868312439,
          -0.3400126275281913,
          1.327535038170273,
          -0.3631595217521406,
          2.6889083016183326,
          0.09233393307287759,
          1.0828519527090887,
          0.2062528330930305,
          0.023644567194252276,
          -0.8314228107367397,
          1.1589175766566404,
          -0.45573983420101594,
          0.6145840653329442,
          -1.9016495697230185,
          0.004154186606662765,
          0.9385030690712318,
          -0.038479006347781,
          0.10155690654794293,
          0.49684899192493487,
          0.7840714029526085,
          0.4180320949104808,
          0.03023824988513494,
          0.5951791164420306,
          0.4759338280966322,
          0.360584462706018,
          0.015209593068782494,
          0.4438774150141562,
          -0.9253224912272154,
          0.10977979096170497,
          0.8953969638865029,
          0.562374954154987,
          0.023784976632493186,
          0.6934321252609429,
          -0.8755193028679381,
          -1.2972236604334393,
          0.6265386009399033,
          1.3201401348488935,
          -0.866164398556021,
          1.978236792582661,
          -1.6080126826901648,
          -0.16123823594315662,
          0.7028473801525825,
          -0.39184544271452043,
          -0.43074291245269763,
          -0.1960334246160809,
          1.3199654870906479,
          1.1148035255243096,
          -0.6689729598785097,
          -0.9288115559984517,
          0.3350332511429236,
          -1.1037989967505708,
          -0.3719360445443566,
          -1.0887917107787195,
          -0.746592820822549,
          -0.8170057028655553,
          0.0382537947024953,
          0.40514624527181287,
          -0.428506224009542,
          1.2688938671624623,
          0.10951858655427282,
          -1.1453464424572268,
          -0.18024758992087664,
          0.3962381935287525,
          1.2217750927028994,
          -0.3052640040963152,
          -0.26565063884929857,
          0.8795081656156161,
          0.6591573084102006,
          1.659280422430173,
          -0.20388072092017542,
          -1.3864641621800833,
          0.8810754847545192,
          -0.8610036442687828,
          1.2743028253807158,
          0.10993575430849935
         ]
        }
       ],
       "layout": {
        "legend": {
         "bgcolor": "#F5F6F9",
         "font": {
          "color": "#4D5663"
         }
        },
        "paper_bgcolor": "#F5F6F9",
        "plot_bgcolor": "#F5F6F9",
        "template": {
         "data": {
          "bar": [
           {
            "error_x": {
             "color": "#2a3f5f"
            },
            "error_y": {
             "color": "#2a3f5f"
            },
            "marker": {
             "line": {
              "color": "#E5ECF6",
              "width": 0.5
             },
             "pattern": {
              "fillmode": "overlay",
              "size": 10,
              "solidity": 0.2
             }
            },
            "type": "bar"
           }
          ],
          "barpolar": [
           {
            "marker": {
             "line": {
              "color": "#E5ECF6",
              "width": 0.5
             },
             "pattern": {
              "fillmode": "overlay",
              "size": 10,
              "solidity": 0.2
             }
            },
            "type": "barpolar"
           }
          ],
          "carpet": [
           {
            "aaxis": {
             "endlinecolor": "#2a3f5f",
             "gridcolor": "white",
             "linecolor": "white",
             "minorgridcolor": "white",
             "startlinecolor": "#2a3f5f"
            },
            "baxis": {
             "endlinecolor": "#2a3f5f",
             "gridcolor": "white",
             "linecolor": "white",
             "minorgridcolor": "white",
             "startlinecolor": "#2a3f5f"
            },
            "type": "carpet"
           }
          ],
          "choropleth": [
           {
            "colorbar": {
             "outlinewidth": 0,
             "ticks": ""
            },
            "type": "choropleth"
           }
          ],
          "contour": [
           {
            "colorbar": {
             "outlinewidth": 0,
             "ticks": ""
            },
            "colorscale": [
             [
              0,
              "#0d0887"
             ],
             [
              0.1111111111111111,
              "#46039f"
             ],
             [
              0.2222222222222222,
              "#7201a8"
             ],
             [
              0.3333333333333333,
              "#9c179e"
             ],
             [
              0.4444444444444444,
              "#bd3786"
             ],
             [
              0.5555555555555556,
              "#d8576b"
             ],
             [
              0.6666666666666666,
              "#ed7953"
             ],
             [
              0.7777777777777778,
              "#fb9f3a"
             ],
             [
              0.8888888888888888,
              "#fdca26"
             ],
             [
              1,
              "#f0f921"
             ]
            ],
            "type": "contour"
           }
          ],
          "contourcarpet": [
           {
            "colorbar": {
             "outlinewidth": 0,
             "ticks": ""
            },
            "type": "contourcarpet"
           }
          ],
          "heatmap": [
           {
            "colorbar": {
             "outlinewidth": 0,
             "ticks": ""
            },
            "colorscale": [
             [
              0,
              "#0d0887"
             ],
             [
              0.1111111111111111,
              "#46039f"
             ],
             [
              0.2222222222222222,
              "#7201a8"
             ],
             [
              0.3333333333333333,
              "#9c179e"
             ],
             [
              0.4444444444444444,
              "#bd3786"
             ],
             [
              0.5555555555555556,
              "#d8576b"
             ],
             [
              0.6666666666666666,
              "#ed7953"
             ],
             [
              0.7777777777777778,
              "#fb9f3a"
             ],
             [
              0.8888888888888888,
              "#fdca26"
             ],
             [
              1,
              "#f0f921"
             ]
            ],
            "type": "heatmap"
           }
          ],
          "heatmapgl": [
           {
            "colorbar": {
             "outlinewidth": 0,
             "ticks": ""
            },
            "colorscale": [
             [
              0,
              "#0d0887"
             ],
             [
              0.1111111111111111,
              "#46039f"
             ],
             [
              0.2222222222222222,
              "#7201a8"
             ],
             [
              0.3333333333333333,
              "#9c179e"
             ],
             [
              0.4444444444444444,
              "#bd3786"
             ],
             [
              0.5555555555555556,
              "#d8576b"
             ],
             [
              0.6666666666666666,
              "#ed7953"
             ],
             [
              0.7777777777777778,
              "#fb9f3a"
             ],
             [
              0.8888888888888888,
              "#fdca26"
             ],
             [
              1,
              "#f0f921"
             ]
            ],
            "type": "heatmapgl"
           }
          ],
          "histogram": [
           {
            "marker": {
             "pattern": {
              "fillmode": "overlay",
              "size": 10,
              "solidity": 0.2
             }
            },
            "type": "histogram"
           }
          ],
          "histogram2d": [
           {
            "colorbar": {
             "outlinewidth": 0,
             "ticks": ""
            },
            "colorscale": [
             [
              0,
              "#0d0887"
             ],
             [
              0.1111111111111111,
              "#46039f"
             ],
             [
              0.2222222222222222,
              "#7201a8"
             ],
             [
              0.3333333333333333,
              "#9c179e"
             ],
             [
              0.4444444444444444,
              "#bd3786"
             ],
             [
              0.5555555555555556,
              "#d8576b"
             ],
             [
              0.6666666666666666,
              "#ed7953"
             ],
             [
              0.7777777777777778,
              "#fb9f3a"
             ],
             [
              0.8888888888888888,
              "#fdca26"
             ],
             [
              1,
              "#f0f921"
             ]
            ],
            "type": "histogram2d"
           }
          ],
          "histogram2dcontour": [
           {
            "colorbar": {
             "outlinewidth": 0,
             "ticks": ""
            },
            "colorscale": [
             [
              0,
              "#0d0887"
             ],
             [
              0.1111111111111111,
              "#46039f"
             ],
             [
              0.2222222222222222,
              "#7201a8"
             ],
             [
              0.3333333333333333,
              "#9c179e"
             ],
             [
              0.4444444444444444,
              "#bd3786"
             ],
             [
              0.5555555555555556,
              "#d8576b"
             ],
             [
              0.6666666666666666,
              "#ed7953"
             ],
             [
              0.7777777777777778,
              "#fb9f3a"
             ],
             [
              0.8888888888888888,
              "#fdca26"
             ],
             [
              1,
              "#f0f921"
             ]
            ],
            "type": "histogram2dcontour"
           }
          ],
          "mesh3d": [
           {
            "colorbar": {
             "outlinewidth": 0,
             "ticks": ""
            },
            "type": "mesh3d"
           }
          ],
          "parcoords": [
           {
            "line": {
             "colorbar": {
              "outlinewidth": 0,
              "ticks": ""
             }
            },
            "type": "parcoords"
           }
          ],
          "pie": [
           {
            "automargin": true,
            "type": "pie"
           }
          ],
          "scatter": [
           {
            "fillpattern": {
             "fillmode": "overlay",
             "size": 10,
             "solidity": 0.2
            },
            "type": "scatter"
           }
          ],
          "scatter3d": [
           {
            "line": {
             "colorbar": {
              "outlinewidth": 0,
              "ticks": ""
             }
            },
            "marker": {
             "colorbar": {
              "outlinewidth": 0,
              "ticks": ""
             }
            },
            "type": "scatter3d"
           }
          ],
          "scattercarpet": [
           {
            "marker": {
             "colorbar": {
              "outlinewidth": 0,
              "ticks": ""
             }
            },
            "type": "scattercarpet"
           }
          ],
          "scattergeo": [
           {
            "marker": {
             "colorbar": {
              "outlinewidth": 0,
              "ticks": ""
             }
            },
            "type": "scattergeo"
           }
          ],
          "scattergl": [
           {
            "marker": {
             "colorbar": {
              "outlinewidth": 0,
              "ticks": ""
             }
            },
            "type": "scattergl"
           }
          ],
          "scattermapbox": [
           {
            "marker": {
             "colorbar": {
              "outlinewidth": 0,
              "ticks": ""
             }
            },
            "type": "scattermapbox"
           }
          ],
          "scatterpolar": [
           {
            "marker": {
             "colorbar": {
              "outlinewidth": 0,
              "ticks": ""
             }
            },
            "type": "scatterpolar"
           }
          ],
          "scatterpolargl": [
           {
            "marker": {
             "colorbar": {
              "outlinewidth": 0,
              "ticks": ""
             }
            },
            "type": "scatterpolargl"
           }
          ],
          "scatterternary": [
           {
            "marker": {
             "colorbar": {
              "outlinewidth": 0,
              "ticks": ""
             }
            },
            "type": "scatterternary"
           }
          ],
          "surface": [
           {
            "colorbar": {
             "outlinewidth": 0,
             "ticks": ""
            },
            "colorscale": [
             [
              0,
              "#0d0887"
             ],
             [
              0.1111111111111111,
              "#46039f"
             ],
             [
              0.2222222222222222,
              "#7201a8"
             ],
             [
              0.3333333333333333,
              "#9c179e"
             ],
             [
              0.4444444444444444,
              "#bd3786"
             ],
             [
              0.5555555555555556,
              "#d8576b"
             ],
             [
              0.6666666666666666,
              "#ed7953"
             ],
             [
              0.7777777777777778,
              "#fb9f3a"
             ],
             [
              0.8888888888888888,
              "#fdca26"
             ],
             [
              1,
              "#f0f921"
             ]
            ],
            "type": "surface"
           }
          ],
          "table": [
           {
            "cells": {
             "fill": {
              "color": "#EBF0F8"
             },
             "line": {
              "color": "white"
             }
            },
            "header": {
             "fill": {
              "color": "#C8D4E3"
             },
             "line": {
              "color": "white"
             }
            },
            "type": "table"
           }
          ]
         },
         "layout": {
          "annotationdefaults": {
           "arrowcolor": "#2a3f5f",
           "arrowhead": 0,
           "arrowwidth": 1
          },
          "autotypenumbers": "strict",
          "coloraxis": {
           "colorbar": {
            "outlinewidth": 0,
            "ticks": ""
           }
          },
          "colorscale": {
           "diverging": [
            [
             0,
             "#8e0152"
            ],
            [
             0.1,
             "#c51b7d"
            ],
            [
             0.2,
             "#de77ae"
            ],
            [
             0.3,
             "#f1b6da"
            ],
            [
             0.4,
             "#fde0ef"
            ],
            [
             0.5,
             "#f7f7f7"
            ],
            [
             0.6,
             "#e6f5d0"
            ],
            [
             0.7,
             "#b8e186"
            ],
            [
             0.8,
             "#7fbc41"
            ],
            [
             0.9,
             "#4d9221"
            ],
            [
             1,
             "#276419"
            ]
           ],
           "sequential": [
            [
             0,
             "#0d0887"
            ],
            [
             0.1111111111111111,
             "#46039f"
            ],
            [
             0.2222222222222222,
             "#7201a8"
            ],
            [
             0.3333333333333333,
             "#9c179e"
            ],
            [
             0.4444444444444444,
             "#bd3786"
            ],
            [
             0.5555555555555556,
             "#d8576b"
            ],
            [
             0.6666666666666666,
             "#ed7953"
            ],
            [
             0.7777777777777778,
             "#fb9f3a"
            ],
            [
             0.8888888888888888,
             "#fdca26"
            ],
            [
             1,
             "#f0f921"
            ]
           ],
           "sequentialminus": [
            [
             0,
             "#0d0887"
            ],
            [
             0.1111111111111111,
             "#46039f"
            ],
            [
             0.2222222222222222,
             "#7201a8"
            ],
            [
             0.3333333333333333,
             "#9c179e"
            ],
            [
             0.4444444444444444,
             "#bd3786"
            ],
            [
             0.5555555555555556,
             "#d8576b"
            ],
            [
             0.6666666666666666,
             "#ed7953"
            ],
            [
             0.7777777777777778,
             "#fb9f3a"
            ],
            [
             0.8888888888888888,
             "#fdca26"
            ],
            [
             1,
             "#f0f921"
            ]
           ]
          },
          "colorway": [
           "#636efa",
           "#EF553B",
           "#00cc96",
           "#ab63fa",
           "#FFA15A",
           "#19d3f3",
           "#FF6692",
           "#B6E880",
           "#FF97FF",
           "#FECB52"
          ],
          "font": {
           "color": "#2a3f5f"
          },
          "geo": {
           "bgcolor": "white",
           "lakecolor": "white",
           "landcolor": "#E5ECF6",
           "showlakes": true,
           "showland": true,
           "subunitcolor": "white"
          },
          "hoverlabel": {
           "align": "left"
          },
          "hovermode": "closest",
          "mapbox": {
           "style": "light"
          },
          "paper_bgcolor": "white",
          "plot_bgcolor": "#E5ECF6",
          "polar": {
           "angularaxis": {
            "gridcolor": "white",
            "linecolor": "white",
            "ticks": ""
           },
           "bgcolor": "#E5ECF6",
           "radialaxis": {
            "gridcolor": "white",
            "linecolor": "white",
            "ticks": ""
           }
          },
          "scene": {
           "xaxis": {
            "backgroundcolor": "#E5ECF6",
            "gridcolor": "white",
            "gridwidth": 2,
            "linecolor": "white",
            "showbackground": true,
            "ticks": "",
            "zerolinecolor": "white"
           },
           "yaxis": {
            "backgroundcolor": "#E5ECF6",
            "gridcolor": "white",
            "gridwidth": 2,
            "linecolor": "white",
            "showbackground": true,
            "ticks": "",
            "zerolinecolor": "white"
           },
           "zaxis": {
            "backgroundcolor": "#E5ECF6",
            "gridcolor": "white",
            "gridwidth": 2,
            "linecolor": "white",
            "showbackground": true,
            "ticks": "",
            "zerolinecolor": "white"
           }
          },
          "shapedefaults": {
           "line": {
            "color": "#2a3f5f"
           }
          },
          "ternary": {
           "aaxis": {
            "gridcolor": "white",
            "linecolor": "white",
            "ticks": ""
           },
           "baxis": {
            "gridcolor": "white",
            "linecolor": "white",
            "ticks": ""
           },
           "bgcolor": "#E5ECF6",
           "caxis": {
            "gridcolor": "white",
            "linecolor": "white",
            "ticks": ""
           }
          },
          "title": {
           "x": 0.05
          },
          "xaxis": {
           "automargin": true,
           "gridcolor": "white",
           "linecolor": "white",
           "ticks": "",
           "title": {
            "standoff": 15
           },
           "zerolinecolor": "white",
           "zerolinewidth": 2
          },
          "yaxis": {
           "automargin": true,
           "gridcolor": "white",
           "linecolor": "white",
           "ticks": "",
           "title": {
            "standoff": 15
           },
           "zerolinecolor": "white",
           "zerolinewidth": 2
          }
         }
        },
        "title": {
         "font": {
          "color": "#4D5663"
         }
        },
        "xaxis": {
         "gridcolor": "#E1E5ED",
         "showgrid": true,
         "tickfont": {
          "color": "#4D5663"
         },
         "title": {
          "font": {
           "color": "#4D5663"
          },
          "text": ""
         },
         "zerolinecolor": "#E1E5ED"
        },
        "yaxis": {
         "gridcolor": "#E1E5ED",
         "showgrid": true,
         "tickfont": {
          "color": "#4D5663"
         },
         "title": {
          "font": {
           "color": "#4D5663"
          },
          "text": ""
         },
         "zerolinecolor": "#E1E5ED"
        }
       }
      },
      "text/html": [
       "<div>                            <div id=\"2ac661ef-e85f-48df-bc58-11f2224a922e\" class=\"plotly-graph-div\" style=\"height:525px; width:100%;\"></div>            <script type=\"text/javascript\">                require([\"plotly\"], function(Plotly) {                    window.PLOTLYENV=window.PLOTLYENV || {};\n",
       "                    window.PLOTLYENV.BASE_URL='https://plot.ly';                                    if (document.getElementById(\"2ac661ef-e85f-48df-bc58-11f2224a922e\")) {                    Plotly.newPlot(                        \"2ac661ef-e85f-48df-bc58-11f2224a922e\",                        [{\"boxpoints\":false,\"line\":{\"width\":1.3},\"marker\":{\"color\":\"rgba(255, 153, 51, 1.0)\"},\"name\":\"A\",\"orientation\":\"v\",\"y\":[0.9674792495653929,-0.869645948345109,0.3276963940454639,2.212326394176484,1.194564115626372,1.281333312680946,-0.4593625791084765,0.2534398304646211,-1.187047102320885,0.009120945638079877,0.46812971295397005,0.3173603163090243,-0.5949756643716486,0.36612201815595236,1.6823087709179516,0.1223867090465667,1.2858955968180077,-0.355874679445089,-1.5056555405566194,-0.9803269668748792,-0.9821783534228085,-0.052757830218477235,0.8033100178798156,-1.2398031374339302,-0.5813663197398291,0.19886821601177004,0.1294915534324573,-0.13306937600077753,1.3939949997907175,1.1973801278232796,0.584311181386549,0.9814067443843448,0.2061913231991555,1.671664827360644,0.789600735681814,1.2933123482628828,1.4246595860526337,-1.3217494580552764,-0.07724462464406437,0.18930105179933207,-0.8808766976813702,-0.01730765278196536,1.6745130595812752,-0.9444306581128674,-0.1221827946211637,-2.321901756440847,0.7477928499020462,-1.8263033277692504,-1.0618495646062116,-0.09040834612020593,-0.0010349389445514765,-2.735604509568205,-1.6080140908995408,0.46315775491532685,-0.5641038656392511,-0.09215769154545252,1.0002522597706367,0.17587208675758984,-0.5954239279504188,-2.911645903175407,0.060337624495499904,-0.42040253946929246,1.7762469320792973,0.8730115926111546,1.8439878835043193,-0.6085419218754314,-0.9079008941146096,0.2759242313421433,-0.3988133260904946,1.3186512094391587,-0.22711041145047717,-1.1216333739411006,0.8022488902000023,-0.28124431547160195,-0.5851126659274265,0.4306201479387562,-1.0882948662735636,0.027976391155035966,0.5566361343141041,-1.5807367243659294,-0.8082355354469991,0.5644686676080057,-0.5897432726211994,-1.090934333436364,-0.24825567958331607,0.24567974588087993,1.0745837768794317,-0.4793855569130954,1.2390952913307294,-0.1127955717482966,0.5115001071064847,-0.05946749612950342,-0.8113493777941423,-0.049751974798389886,-0.3517813343733759,-0.29145587516066457,0.5787628035960883,-0.1311683960980727,-0.10496940636822302,0.5356439478190795],\"type\":\"box\"},{\"boxpoints\":false,\"line\":{\"width\":1.3},\"marker\":{\"color\":\"rgba(55, 128, 191, 1.0)\"},\"name\":\"B\",\"orientation\":\"v\",\"y\":[1.2559665150128738,1.623222658930747,-1.6337826450630495,0.9447131134135116,1.1798043405299838,-1.155688742948656,2.4548456650087664,0.1967602313034417,1.273259911357326,0.032098563769232605,-0.9406093982229913,-1.2964368050421562,-1.519902506155913,-0.3761787602834264,-0.010752827153059951,-0.10556004881246867,0.20076895648962265,-1.6850246316573827,-0.053499097961576036,0.026679427972856138,-0.9296474377801646,0.34792155075954995,0.6817847402778288,0.6709660186939352,-0.32023098099219494,0.3547897976235289,-0.13263784373644685,0.2935159364327797,-1.1935028348876886,-0.6154685546770732,0.2711354765320031,-1.2721284909920545,-1.66150782301575,-0.40869372542459653,0.6927214550234417,-0.571354166680342,-2.370721439218031,0.1493964954778568,0.6510556001226679,0.4292580766720687,0.7638851538915261,-0.6330279833466473,0.17323422869432137,0.5571215919463213,-1.7511962250925097,1.0350253485830763,-0.15762194299334684,0.4863083584740155,0.30436807080373923,0.4251551333724484,0.3550019805177964,0.44034349879940204,2.0969774956697025,1.0962646409270569,1.1830133303858525,-1.1344339583329939,-1.5290452405995383,1.8736128340095886,0.39478122772731267,-1.05179307868685,0.6310044541279328,0.42939924866247065,0.5323109177393281,-0.4729320313581209,1.5409072215037973,-1.262119363458304,-0.7039383666072286,-0.8990003348315486,-0.028011387798115833,0.47592024362120794,0.9002351500195176,-0.14605167795031107,-0.7679327720116481,1.5576359927434305,-0.7733583994874416,0.23109138835710186,-1.1494712996178111,0.4967199657809361,0.29515336234764084,0.8557133952349325,-0.309347918115768,-0.9199284431444746,-0.0815317236788813,0.09104793048301475,-0.4112088551283685,0.07420682096557561,0.8944805960648957,1.047378806846963,-0.043918820524732866,-1.0315338064149218,-0.7600061950087242,-0.9280574417632615,-0.7216526703364456,0.7305990509468757,-0.04815858666592761,-0.6922237460237607,-0.4498024098452496,-0.906975856818541,-1.5624154089293907,-0.6482211367486518],\"type\":\"box\"},{\"boxpoints\":false,\"line\":{\"width\":1.3},\"marker\":{\"color\":\"rgba(50, 171, 96, 1.0)\"},\"name\":\"C\",\"orientation\":\"v\",\"y\":[0.20305496644080695,-0.33039121526200343,0.40855082409175153,1.3274337532753089,0.6803105741718392,0.006881117099928233,0.03165130139628253,0.181838923603268,0.49015845140703557,-1.526960515256338,0.7246631081556754,-0.547753009652827,-2.1534501524454916,-1.5605142632760103,-0.9304612934504152,-0.9293505632842272,0.9401064012357843,-0.25152667299264647,-1.0810539083833393,-0.2569645314207663,-0.9562882768559505,0.3581432251875754,-0.058761279119920434,-0.005837422335257732,1.0973696580147438,0.5131968563218078,1.1893389729121706,0.4130546432360426,-0.9493384426904715,-0.9076095877297566,0.2930118306513728,-0.9419434561021102,0.047934019761024134,-1.1525333553450632,0.5579077902570123,-0.4771985528260809,0.6427791125417261,-0.12642375532549144,0.4582786624587594,0.8441490446943267,-0.08965862722638257,-0.6735546349036959,0.37390057446007036,0.020316886846450333,-0.4077579015482804,-1.9650400693913401,-2.2477196087378615,-0.08016444885580916,0.5689869353540534,-1.6029250151264145,1.0847552376575391,0.8531548350965638,-0.5849907786951324,-3.7174326786829317,-0.614978372572787,-1.2613986013486533,-0.6262121478759936,-0.6399900697017636,0.2893718511932817,0.6299388086845674,1.4028940813934354,1.3839847336594746,0.9319950604517704,1.7157971716334122,0.45498902184171786,-0.5355852741151403,1.593083632942254,-0.6005007743404577,0.63266313047327,-0.6812596561741786,0.32436359906335743,0.244617079161891,1.1261753132323709,0.4374761668552437,0.154484641594899,-0.3119547135474024,0.47924657258169007,1.307750909104364,0.6458414548905935,0.49227870937608564,0.49893512743953133,-1.0924075598242011,-1.4714671173639802,-0.0963085993679753,2.1275418519912845,-0.26131193407714154,-0.6090046936899325,-0.4417302353214457,-1.1473580546824254,-0.5436027939444492,-0.7737127397869321,-0.35479721904411277,-1.6133281126784869,-0.4236190388756427,0.009259765543734427,0.4741677156123742,-0.6874560632796509,-0.19686408370752284,-0.16260661326726622,-0.8220663003071326],\"type\":\"box\"},{\"boxpoints\":false,\"line\":{\"width\":1.3},\"marker\":{\"color\":\"rgba(128, 0, 128, 1.0)\"},\"name\":\"D\",\"orientation\":\"v\",\"y\":[-0.844675283057274,1.1079253141952627,-1.0549246574985103,0.6248328768284416,0.39372377644644213,0.9872964812692586,-0.6645790999130656,-0.27236586279190184,-1.5346605301244767,0.1692178233932603,1.4184857962790212,0.8808556056254373,-1.1003714271012022,-1.2367186974284194,-0.14564286798088713,1.837797109612688,-0.38971287492709455,0.8317892603171286,0.02665091971910814,-0.8220765905487935,0.48617665310014496,-1.3150490584333274,0.94132724243685,-1.967516472559997,0.06591239341638026,-0.03209809868312439,-0.3400126275281913,1.327535038170273,-0.3631595217521406,2.6889083016183326,0.09233393307287759,1.0828519527090887,0.2062528330930305,0.023644567194252276,-0.8314228107367397,1.1589175766566404,-0.45573983420101594,0.6145840653329442,-1.9016495697230185,0.004154186606662765,0.9385030690712318,-0.038479006347781,0.10155690654794293,0.49684899192493487,0.7840714029526085,0.4180320949104808,0.03023824988513494,0.5951791164420306,0.4759338280966322,0.360584462706018,0.015209593068782494,0.4438774150141562,-0.9253224912272154,0.10977979096170497,0.8953969638865029,0.562374954154987,0.023784976632493186,0.6934321252609429,-0.8755193028679381,-1.2972236604334393,0.6265386009399033,1.3201401348488935,-0.866164398556021,1.978236792582661,-1.6080126826901648,-0.16123823594315662,0.7028473801525825,-0.39184544271452043,-0.43074291245269763,-0.1960334246160809,1.3199654870906479,1.1148035255243096,-0.6689729598785097,-0.9288115559984517,0.3350332511429236,-1.1037989967505708,-0.3719360445443566,-1.0887917107787195,-0.746592820822549,-0.8170057028655553,0.0382537947024953,0.40514624527181287,-0.428506224009542,1.2688938671624623,0.10951858655427282,-1.1453464424572268,-0.18024758992087664,0.3962381935287525,1.2217750927028994,-0.3052640040963152,-0.26565063884929857,0.8795081656156161,0.6591573084102006,1.659280422430173,-0.20388072092017542,-1.3864641621800833,0.8810754847545192,-0.8610036442687828,1.2743028253807158,0.10993575430849935],\"type\":\"box\"}],                        {\"legend\":{\"bgcolor\":\"#F5F6F9\",\"font\":{\"color\":\"#4D5663\"}},\"paper_bgcolor\":\"#F5F6F9\",\"plot_bgcolor\":\"#F5F6F9\",\"template\":{\"data\":{\"barpolar\":[{\"marker\":{\"line\":{\"color\":\"#E5ECF6\",\"width\":0.5},\"pattern\":{\"fillmode\":\"overlay\",\"size\":10,\"solidity\":0.2}},\"type\":\"barpolar\"}],\"bar\":[{\"error_x\":{\"color\":\"#2a3f5f\"},\"error_y\":{\"color\":\"#2a3f5f\"},\"marker\":{\"line\":{\"color\":\"#E5ECF6\",\"width\":0.5},\"pattern\":{\"fillmode\":\"overlay\",\"size\":10,\"solidity\":0.2}},\"type\":\"bar\"}],\"carpet\":[{\"aaxis\":{\"endlinecolor\":\"#2a3f5f\",\"gridcolor\":\"white\",\"linecolor\":\"white\",\"minorgridcolor\":\"white\",\"startlinecolor\":\"#2a3f5f\"},\"baxis\":{\"endlinecolor\":\"#2a3f5f\",\"gridcolor\":\"white\",\"linecolor\":\"white\",\"minorgridcolor\":\"white\",\"startlinecolor\":\"#2a3f5f\"},\"type\":\"carpet\"}],\"choropleth\":[{\"colorbar\":{\"outlinewidth\":0,\"ticks\":\"\"},\"type\":\"choropleth\"}],\"contourcarpet\":[{\"colorbar\":{\"outlinewidth\":0,\"ticks\":\"\"},\"type\":\"contourcarpet\"}],\"contour\":[{\"colorbar\":{\"outlinewidth\":0,\"ticks\":\"\"},\"colorscale\":[[0.0,\"#0d0887\"],[0.1111111111111111,\"#46039f\"],[0.2222222222222222,\"#7201a8\"],[0.3333333333333333,\"#9c179e\"],[0.4444444444444444,\"#bd3786\"],[0.5555555555555556,\"#d8576b\"],[0.6666666666666666,\"#ed7953\"],[0.7777777777777778,\"#fb9f3a\"],[0.8888888888888888,\"#fdca26\"],[1.0,\"#f0f921\"]],\"type\":\"contour\"}],\"heatmapgl\":[{\"colorbar\":{\"outlinewidth\":0,\"ticks\":\"\"},\"colorscale\":[[0.0,\"#0d0887\"],[0.1111111111111111,\"#46039f\"],[0.2222222222222222,\"#7201a8\"],[0.3333333333333333,\"#9c179e\"],[0.4444444444444444,\"#bd3786\"],[0.5555555555555556,\"#d8576b\"],[0.6666666666666666,\"#ed7953\"],[0.7777777777777778,\"#fb9f3a\"],[0.8888888888888888,\"#fdca26\"],[1.0,\"#f0f921\"]],\"type\":\"heatmapgl\"}],\"heatmap\":[{\"colorbar\":{\"outlinewidth\":0,\"ticks\":\"\"},\"colorscale\":[[0.0,\"#0d0887\"],[0.1111111111111111,\"#46039f\"],[0.2222222222222222,\"#7201a8\"],[0.3333333333333333,\"#9c179e\"],[0.4444444444444444,\"#bd3786\"],[0.5555555555555556,\"#d8576b\"],[0.6666666666666666,\"#ed7953\"],[0.7777777777777778,\"#fb9f3a\"],[0.8888888888888888,\"#fdca26\"],[1.0,\"#f0f921\"]],\"type\":\"heatmap\"}],\"histogram2dcontour\":[{\"colorbar\":{\"outlinewidth\":0,\"ticks\":\"\"},\"colorscale\":[[0.0,\"#0d0887\"],[0.1111111111111111,\"#46039f\"],[0.2222222222222222,\"#7201a8\"],[0.3333333333333333,\"#9c179e\"],[0.4444444444444444,\"#bd3786\"],[0.5555555555555556,\"#d8576b\"],[0.6666666666666666,\"#ed7953\"],[0.7777777777777778,\"#fb9f3a\"],[0.8888888888888888,\"#fdca26\"],[1.0,\"#f0f921\"]],\"type\":\"histogram2dcontour\"}],\"histogram2d\":[{\"colorbar\":{\"outlinewidth\":0,\"ticks\":\"\"},\"colorscale\":[[0.0,\"#0d0887\"],[0.1111111111111111,\"#46039f\"],[0.2222222222222222,\"#7201a8\"],[0.3333333333333333,\"#9c179e\"],[0.4444444444444444,\"#bd3786\"],[0.5555555555555556,\"#d8576b\"],[0.6666666666666666,\"#ed7953\"],[0.7777777777777778,\"#fb9f3a\"],[0.8888888888888888,\"#fdca26\"],[1.0,\"#f0f921\"]],\"type\":\"histogram2d\"}],\"histogram\":[{\"marker\":{\"pattern\":{\"fillmode\":\"overlay\",\"size\":10,\"solidity\":0.2}},\"type\":\"histogram\"}],\"mesh3d\":[{\"colorbar\":{\"outlinewidth\":0,\"ticks\":\"\"},\"type\":\"mesh3d\"}],\"parcoords\":[{\"line\":{\"colorbar\":{\"outlinewidth\":0,\"ticks\":\"\"}},\"type\":\"parcoords\"}],\"pie\":[{\"automargin\":true,\"type\":\"pie\"}],\"scatter3d\":[{\"line\":{\"colorbar\":{\"outlinewidth\":0,\"ticks\":\"\"}},\"marker\":{\"colorbar\":{\"outlinewidth\":0,\"ticks\":\"\"}},\"type\":\"scatter3d\"}],\"scattercarpet\":[{\"marker\":{\"colorbar\":{\"outlinewidth\":0,\"ticks\":\"\"}},\"type\":\"scattercarpet\"}],\"scattergeo\":[{\"marker\":{\"colorbar\":{\"outlinewidth\":0,\"ticks\":\"\"}},\"type\":\"scattergeo\"}],\"scattergl\":[{\"marker\":{\"colorbar\":{\"outlinewidth\":0,\"ticks\":\"\"}},\"type\":\"scattergl\"}],\"scattermapbox\":[{\"marker\":{\"colorbar\":{\"outlinewidth\":0,\"ticks\":\"\"}},\"type\":\"scattermapbox\"}],\"scatterpolargl\":[{\"marker\":{\"colorbar\":{\"outlinewidth\":0,\"ticks\":\"\"}},\"type\":\"scatterpolargl\"}],\"scatterpolar\":[{\"marker\":{\"colorbar\":{\"outlinewidth\":0,\"ticks\":\"\"}},\"type\":\"scatterpolar\"}],\"scatter\":[{\"fillpattern\":{\"fillmode\":\"overlay\",\"size\":10,\"solidity\":0.2},\"type\":\"scatter\"}],\"scatterternary\":[{\"marker\":{\"colorbar\":{\"outlinewidth\":0,\"ticks\":\"\"}},\"type\":\"scatterternary\"}],\"surface\":[{\"colorbar\":{\"outlinewidth\":0,\"ticks\":\"\"},\"colorscale\":[[0.0,\"#0d0887\"],[0.1111111111111111,\"#46039f\"],[0.2222222222222222,\"#7201a8\"],[0.3333333333333333,\"#9c179e\"],[0.4444444444444444,\"#bd3786\"],[0.5555555555555556,\"#d8576b\"],[0.6666666666666666,\"#ed7953\"],[0.7777777777777778,\"#fb9f3a\"],[0.8888888888888888,\"#fdca26\"],[1.0,\"#f0f921\"]],\"type\":\"surface\"}],\"table\":[{\"cells\":{\"fill\":{\"color\":\"#EBF0F8\"},\"line\":{\"color\":\"white\"}},\"header\":{\"fill\":{\"color\":\"#C8D4E3\"},\"line\":{\"color\":\"white\"}},\"type\":\"table\"}]},\"layout\":{\"annotationdefaults\":{\"arrowcolor\":\"#2a3f5f\",\"arrowhead\":0,\"arrowwidth\":1},\"autotypenumbers\":\"strict\",\"coloraxis\":{\"colorbar\":{\"outlinewidth\":0,\"ticks\":\"\"}},\"colorscale\":{\"diverging\":[[0,\"#8e0152\"],[0.1,\"#c51b7d\"],[0.2,\"#de77ae\"],[0.3,\"#f1b6da\"],[0.4,\"#fde0ef\"],[0.5,\"#f7f7f7\"],[0.6,\"#e6f5d0\"],[0.7,\"#b8e186\"],[0.8,\"#7fbc41\"],[0.9,\"#4d9221\"],[1,\"#276419\"]],\"sequential\":[[0.0,\"#0d0887\"],[0.1111111111111111,\"#46039f\"],[0.2222222222222222,\"#7201a8\"],[0.3333333333333333,\"#9c179e\"],[0.4444444444444444,\"#bd3786\"],[0.5555555555555556,\"#d8576b\"],[0.6666666666666666,\"#ed7953\"],[0.7777777777777778,\"#fb9f3a\"],[0.8888888888888888,\"#fdca26\"],[1.0,\"#f0f921\"]],\"sequentialminus\":[[0.0,\"#0d0887\"],[0.1111111111111111,\"#46039f\"],[0.2222222222222222,\"#7201a8\"],[0.3333333333333333,\"#9c179e\"],[0.4444444444444444,\"#bd3786\"],[0.5555555555555556,\"#d8576b\"],[0.6666666666666666,\"#ed7953\"],[0.7777777777777778,\"#fb9f3a\"],[0.8888888888888888,\"#fdca26\"],[1.0,\"#f0f921\"]]},\"colorway\":[\"#636efa\",\"#EF553B\",\"#00cc96\",\"#ab63fa\",\"#FFA15A\",\"#19d3f3\",\"#FF6692\",\"#B6E880\",\"#FF97FF\",\"#FECB52\"],\"font\":{\"color\":\"#2a3f5f\"},\"geo\":{\"bgcolor\":\"white\",\"lakecolor\":\"white\",\"landcolor\":\"#E5ECF6\",\"showlakes\":true,\"showland\":true,\"subunitcolor\":\"white\"},\"hoverlabel\":{\"align\":\"left\"},\"hovermode\":\"closest\",\"mapbox\":{\"style\":\"light\"},\"paper_bgcolor\":\"white\",\"plot_bgcolor\":\"#E5ECF6\",\"polar\":{\"angularaxis\":{\"gridcolor\":\"white\",\"linecolor\":\"white\",\"ticks\":\"\"},\"bgcolor\":\"#E5ECF6\",\"radialaxis\":{\"gridcolor\":\"white\",\"linecolor\":\"white\",\"ticks\":\"\"}},\"scene\":{\"xaxis\":{\"backgroundcolor\":\"#E5ECF6\",\"gridcolor\":\"white\",\"gridwidth\":2,\"linecolor\":\"white\",\"showbackground\":true,\"ticks\":\"\",\"zerolinecolor\":\"white\"},\"yaxis\":{\"backgroundcolor\":\"#E5ECF6\",\"gridcolor\":\"white\",\"gridwidth\":2,\"linecolor\":\"white\",\"showbackground\":true,\"ticks\":\"\",\"zerolinecolor\":\"white\"},\"zaxis\":{\"backgroundcolor\":\"#E5ECF6\",\"gridcolor\":\"white\",\"gridwidth\":2,\"linecolor\":\"white\",\"showbackground\":true,\"ticks\":\"\",\"zerolinecolor\":\"white\"}},\"shapedefaults\":{\"line\":{\"color\":\"#2a3f5f\"}},\"ternary\":{\"aaxis\":{\"gridcolor\":\"white\",\"linecolor\":\"white\",\"ticks\":\"\"},\"baxis\":{\"gridcolor\":\"white\",\"linecolor\":\"white\",\"ticks\":\"\"},\"bgcolor\":\"#E5ECF6\",\"caxis\":{\"gridcolor\":\"white\",\"linecolor\":\"white\",\"ticks\":\"\"}},\"title\":{\"x\":0.05},\"xaxis\":{\"automargin\":true,\"gridcolor\":\"white\",\"linecolor\":\"white\",\"ticks\":\"\",\"title\":{\"standoff\":15},\"zerolinecolor\":\"white\",\"zerolinewidth\":2},\"yaxis\":{\"automargin\":true,\"gridcolor\":\"white\",\"linecolor\":\"white\",\"ticks\":\"\",\"title\":{\"standoff\":15},\"zerolinecolor\":\"white\",\"zerolinewidth\":2}}},\"title\":{\"font\":{\"color\":\"#4D5663\"}},\"xaxis\":{\"gridcolor\":\"#E1E5ED\",\"showgrid\":true,\"tickfont\":{\"color\":\"#4D5663\"},\"title\":{\"font\":{\"color\":\"#4D5663\"},\"text\":\"\"},\"zerolinecolor\":\"#E1E5ED\"},\"yaxis\":{\"gridcolor\":\"#E1E5ED\",\"showgrid\":true,\"tickfont\":{\"color\":\"#4D5663\"},\"title\":{\"font\":{\"color\":\"#4D5663\"},\"text\":\"\"},\"zerolinecolor\":\"#E1E5ED\"}},                        {\"showLink\": true, \"linkText\": \"Export to plot.ly\", \"plotlyServerURL\": \"https://plot.ly\", \"responsive\": true}                    ).then(function(){\n",
       "                            \n",
       "var gd = document.getElementById('2ac661ef-e85f-48df-bc58-11f2224a922e');\n",
       "var x = new MutationObserver(function (mutations, observer) {{\n",
       "        var display = window.getComputedStyle(gd).display;\n",
       "        if (!display || display === 'none') {{\n",
       "            console.log([gd, 'removed!']);\n",
       "            Plotly.purge(gd);\n",
       "            observer.disconnect();\n",
       "        }}\n",
       "}});\n",
       "\n",
       "// Listen for the removal of the full notebook cells\n",
       "var notebookContainer = gd.closest('#notebook-container');\n",
       "if (notebookContainer) {{\n",
       "    x.observe(notebookContainer, {childList: true});\n",
       "}}\n",
       "\n",
       "// Listen for the clearing of the current output cell\n",
       "var outputEl = gd.closest('.output');\n",
       "if (outputEl) {{\n",
       "    x.observe(outputEl, {childList: true});\n",
       "}}\n",
       "\n",
       "                        })                };                });            </script>        </div>"
      ]
     },
     "metadata": {},
     "output_type": "display_data"
    }
   ],
   "source": [
    "df.iplot(kind='box')"
   ]
  },
  {
   "cell_type": "markdown",
   "metadata": {},
   "source": [
    "## 3d Surface"
   ]
  },
  {
   "cell_type": "code",
   "execution_count": 14,
   "metadata": {},
   "outputs": [
    {
     "data": {
      "application/vnd.plotly.v1+json": {
       "config": {
        "linkText": "Export to plot.ly",
        "plotlyServerURL": "https://plot.ly",
        "showLink": true
       },
       "data": [
        {
         "colorscale": [
          [
           0,
           "rgb(165,0,38)"
          ],
          [
           0.1,
           "rgb(215,48,39)"
          ],
          [
           0.2,
           "rgb(244,109,67)"
          ],
          [
           0.3,
           "rgb(253,174,97)"
          ],
          [
           0.4,
           "rgb(254,224,144)"
          ],
          [
           0.5,
           "rgb(255,255,191)"
          ],
          [
           0.6,
           "rgb(224,243,248)"
          ],
          [
           0.7,
           "rgb(171,217,233)"
          ],
          [
           0.8,
           "rgb(116,173,209)"
          ],
          [
           0.9,
           "rgb(69,117,180)"
          ],
          [
           1,
           "rgb(49,54,149)"
          ]
         ],
         "type": "surface",
         "x": [
          0,
          1,
          2,
          3,
          4
         ],
         "y": [
          "x",
          "y",
          "z"
         ],
         "z": [
          [
           1,
           2,
           3,
           4,
           5
          ],
          [
           10,
           20,
           30,
           20,
           10
          ],
          [
           5,
           4,
           3,
           2,
           1
          ]
         ]
        }
       ],
       "layout": {
        "legend": {
         "bgcolor": "#F5F6F9",
         "font": {
          "color": "#4D5663"
         }
        },
        "paper_bgcolor": "#F5F6F9",
        "plot_bgcolor": "#F5F6F9",
        "template": {
         "data": {
          "bar": [
           {
            "error_x": {
             "color": "#2a3f5f"
            },
            "error_y": {
             "color": "#2a3f5f"
            },
            "marker": {
             "line": {
              "color": "#E5ECF6",
              "width": 0.5
             },
             "pattern": {
              "fillmode": "overlay",
              "size": 10,
              "solidity": 0.2
             }
            },
            "type": "bar"
           }
          ],
          "barpolar": [
           {
            "marker": {
             "line": {
              "color": "#E5ECF6",
              "width": 0.5
             },
             "pattern": {
              "fillmode": "overlay",
              "size": 10,
              "solidity": 0.2
             }
            },
            "type": "barpolar"
           }
          ],
          "carpet": [
           {
            "aaxis": {
             "endlinecolor": "#2a3f5f",
             "gridcolor": "white",
             "linecolor": "white",
             "minorgridcolor": "white",
             "startlinecolor": "#2a3f5f"
            },
            "baxis": {
             "endlinecolor": "#2a3f5f",
             "gridcolor": "white",
             "linecolor": "white",
             "minorgridcolor": "white",
             "startlinecolor": "#2a3f5f"
            },
            "type": "carpet"
           }
          ],
          "choropleth": [
           {
            "colorbar": {
             "outlinewidth": 0,
             "ticks": ""
            },
            "type": "choropleth"
           }
          ],
          "contour": [
           {
            "colorbar": {
             "outlinewidth": 0,
             "ticks": ""
            },
            "colorscale": [
             [
              0,
              "#0d0887"
             ],
             [
              0.1111111111111111,
              "#46039f"
             ],
             [
              0.2222222222222222,
              "#7201a8"
             ],
             [
              0.3333333333333333,
              "#9c179e"
             ],
             [
              0.4444444444444444,
              "#bd3786"
             ],
             [
              0.5555555555555556,
              "#d8576b"
             ],
             [
              0.6666666666666666,
              "#ed7953"
             ],
             [
              0.7777777777777778,
              "#fb9f3a"
             ],
             [
              0.8888888888888888,
              "#fdca26"
             ],
             [
              1,
              "#f0f921"
             ]
            ],
            "type": "contour"
           }
          ],
          "contourcarpet": [
           {
            "colorbar": {
             "outlinewidth": 0,
             "ticks": ""
            },
            "type": "contourcarpet"
           }
          ],
          "heatmap": [
           {
            "colorbar": {
             "outlinewidth": 0,
             "ticks": ""
            },
            "colorscale": [
             [
              0,
              "#0d0887"
             ],
             [
              0.1111111111111111,
              "#46039f"
             ],
             [
              0.2222222222222222,
              "#7201a8"
             ],
             [
              0.3333333333333333,
              "#9c179e"
             ],
             [
              0.4444444444444444,
              "#bd3786"
             ],
             [
              0.5555555555555556,
              "#d8576b"
             ],
             [
              0.6666666666666666,
              "#ed7953"
             ],
             [
              0.7777777777777778,
              "#fb9f3a"
             ],
             [
              0.8888888888888888,
              "#fdca26"
             ],
             [
              1,
              "#f0f921"
             ]
            ],
            "type": "heatmap"
           }
          ],
          "heatmapgl": [
           {
            "colorbar": {
             "outlinewidth": 0,
             "ticks": ""
            },
            "colorscale": [
             [
              0,
              "#0d0887"
             ],
             [
              0.1111111111111111,
              "#46039f"
             ],
             [
              0.2222222222222222,
              "#7201a8"
             ],
             [
              0.3333333333333333,
              "#9c179e"
             ],
             [
              0.4444444444444444,
              "#bd3786"
             ],
             [
              0.5555555555555556,
              "#d8576b"
             ],
             [
              0.6666666666666666,
              "#ed7953"
             ],
             [
              0.7777777777777778,
              "#fb9f3a"
             ],
             [
              0.8888888888888888,
              "#fdca26"
             ],
             [
              1,
              "#f0f921"
             ]
            ],
            "type": "heatmapgl"
           }
          ],
          "histogram": [
           {
            "marker": {
             "pattern": {
              "fillmode": "overlay",
              "size": 10,
              "solidity": 0.2
             }
            },
            "type": "histogram"
           }
          ],
          "histogram2d": [
           {
            "colorbar": {
             "outlinewidth": 0,
             "ticks": ""
            },
            "colorscale": [
             [
              0,
              "#0d0887"
             ],
             [
              0.1111111111111111,
              "#46039f"
             ],
             [
              0.2222222222222222,
              "#7201a8"
             ],
             [
              0.3333333333333333,
              "#9c179e"
             ],
             [
              0.4444444444444444,
              "#bd3786"
             ],
             [
              0.5555555555555556,
              "#d8576b"
             ],
             [
              0.6666666666666666,
              "#ed7953"
             ],
             [
              0.7777777777777778,
              "#fb9f3a"
             ],
             [
              0.8888888888888888,
              "#fdca26"
             ],
             [
              1,
              "#f0f921"
             ]
            ],
            "type": "histogram2d"
           }
          ],
          "histogram2dcontour": [
           {
            "colorbar": {
             "outlinewidth": 0,
             "ticks": ""
            },
            "colorscale": [
             [
              0,
              "#0d0887"
             ],
             [
              0.1111111111111111,
              "#46039f"
             ],
             [
              0.2222222222222222,
              "#7201a8"
             ],
             [
              0.3333333333333333,
              "#9c179e"
             ],
             [
              0.4444444444444444,
              "#bd3786"
             ],
             [
              0.5555555555555556,
              "#d8576b"
             ],
             [
              0.6666666666666666,
              "#ed7953"
             ],
             [
              0.7777777777777778,
              "#fb9f3a"
             ],
             [
              0.8888888888888888,
              "#fdca26"
             ],
             [
              1,
              "#f0f921"
             ]
            ],
            "type": "histogram2dcontour"
           }
          ],
          "mesh3d": [
           {
            "colorbar": {
             "outlinewidth": 0,
             "ticks": ""
            },
            "type": "mesh3d"
           }
          ],
          "parcoords": [
           {
            "line": {
             "colorbar": {
              "outlinewidth": 0,
              "ticks": ""
             }
            },
            "type": "parcoords"
           }
          ],
          "pie": [
           {
            "automargin": true,
            "type": "pie"
           }
          ],
          "scatter": [
           {
            "fillpattern": {
             "fillmode": "overlay",
             "size": 10,
             "solidity": 0.2
            },
            "type": "scatter"
           }
          ],
          "scatter3d": [
           {
            "line": {
             "colorbar": {
              "outlinewidth": 0,
              "ticks": ""
             }
            },
            "marker": {
             "colorbar": {
              "outlinewidth": 0,
              "ticks": ""
             }
            },
            "type": "scatter3d"
           }
          ],
          "scattercarpet": [
           {
            "marker": {
             "colorbar": {
              "outlinewidth": 0,
              "ticks": ""
             }
            },
            "type": "scattercarpet"
           }
          ],
          "scattergeo": [
           {
            "marker": {
             "colorbar": {
              "outlinewidth": 0,
              "ticks": ""
             }
            },
            "type": "scattergeo"
           }
          ],
          "scattergl": [
           {
            "marker": {
             "colorbar": {
              "outlinewidth": 0,
              "ticks": ""
             }
            },
            "type": "scattergl"
           }
          ],
          "scattermapbox": [
           {
            "marker": {
             "colorbar": {
              "outlinewidth": 0,
              "ticks": ""
             }
            },
            "type": "scattermapbox"
           }
          ],
          "scatterpolar": [
           {
            "marker": {
             "colorbar": {
              "outlinewidth": 0,
              "ticks": ""
             }
            },
            "type": "scatterpolar"
           }
          ],
          "scatterpolargl": [
           {
            "marker": {
             "colorbar": {
              "outlinewidth": 0,
              "ticks": ""
             }
            },
            "type": "scatterpolargl"
           }
          ],
          "scatterternary": [
           {
            "marker": {
             "colorbar": {
              "outlinewidth": 0,
              "ticks": ""
             }
            },
            "type": "scatterternary"
           }
          ],
          "surface": [
           {
            "colorbar": {
             "outlinewidth": 0,
             "ticks": ""
            },
            "colorscale": [
             [
              0,
              "#0d0887"
             ],
             [
              0.1111111111111111,
              "#46039f"
             ],
             [
              0.2222222222222222,
              "#7201a8"
             ],
             [
              0.3333333333333333,
              "#9c179e"
             ],
             [
              0.4444444444444444,
              "#bd3786"
             ],
             [
              0.5555555555555556,
              "#d8576b"
             ],
             [
              0.6666666666666666,
              "#ed7953"
             ],
             [
              0.7777777777777778,
              "#fb9f3a"
             ],
             [
              0.8888888888888888,
              "#fdca26"
             ],
             [
              1,
              "#f0f921"
             ]
            ],
            "type": "surface"
           }
          ],
          "table": [
           {
            "cells": {
             "fill": {
              "color": "#EBF0F8"
             },
             "line": {
              "color": "white"
             }
            },
            "header": {
             "fill": {
              "color": "#C8D4E3"
             },
             "line": {
              "color": "white"
             }
            },
            "type": "table"
           }
          ]
         },
         "layout": {
          "annotationdefaults": {
           "arrowcolor": "#2a3f5f",
           "arrowhead": 0,
           "arrowwidth": 1
          },
          "autotypenumbers": "strict",
          "coloraxis": {
           "colorbar": {
            "outlinewidth": 0,
            "ticks": ""
           }
          },
          "colorscale": {
           "diverging": [
            [
             0,
             "#8e0152"
            ],
            [
             0.1,
             "#c51b7d"
            ],
            [
             0.2,
             "#de77ae"
            ],
            [
             0.3,
             "#f1b6da"
            ],
            [
             0.4,
             "#fde0ef"
            ],
            [
             0.5,
             "#f7f7f7"
            ],
            [
             0.6,
             "#e6f5d0"
            ],
            [
             0.7,
             "#b8e186"
            ],
            [
             0.8,
             "#7fbc41"
            ],
            [
             0.9,
             "#4d9221"
            ],
            [
             1,
             "#276419"
            ]
           ],
           "sequential": [
            [
             0,
             "#0d0887"
            ],
            [
             0.1111111111111111,
             "#46039f"
            ],
            [
             0.2222222222222222,
             "#7201a8"
            ],
            [
             0.3333333333333333,
             "#9c179e"
            ],
            [
             0.4444444444444444,
             "#bd3786"
            ],
            [
             0.5555555555555556,
             "#d8576b"
            ],
            [
             0.6666666666666666,
             "#ed7953"
            ],
            [
             0.7777777777777778,
             "#fb9f3a"
            ],
            [
             0.8888888888888888,
             "#fdca26"
            ],
            [
             1,
             "#f0f921"
            ]
           ],
           "sequentialminus": [
            [
             0,
             "#0d0887"
            ],
            [
             0.1111111111111111,
             "#46039f"
            ],
            [
             0.2222222222222222,
             "#7201a8"
            ],
            [
             0.3333333333333333,
             "#9c179e"
            ],
            [
             0.4444444444444444,
             "#bd3786"
            ],
            [
             0.5555555555555556,
             "#d8576b"
            ],
            [
             0.6666666666666666,
             "#ed7953"
            ],
            [
             0.7777777777777778,
             "#fb9f3a"
            ],
            [
             0.8888888888888888,
             "#fdca26"
            ],
            [
             1,
             "#f0f921"
            ]
           ]
          },
          "colorway": [
           "#636efa",
           "#EF553B",
           "#00cc96",
           "#ab63fa",
           "#FFA15A",
           "#19d3f3",
           "#FF6692",
           "#B6E880",
           "#FF97FF",
           "#FECB52"
          ],
          "font": {
           "color": "#2a3f5f"
          },
          "geo": {
           "bgcolor": "white",
           "lakecolor": "white",
           "landcolor": "#E5ECF6",
           "showlakes": true,
           "showland": true,
           "subunitcolor": "white"
          },
          "hoverlabel": {
           "align": "left"
          },
          "hovermode": "closest",
          "mapbox": {
           "style": "light"
          },
          "paper_bgcolor": "white",
          "plot_bgcolor": "#E5ECF6",
          "polar": {
           "angularaxis": {
            "gridcolor": "white",
            "linecolor": "white",
            "ticks": ""
           },
           "bgcolor": "#E5ECF6",
           "radialaxis": {
            "gridcolor": "white",
            "linecolor": "white",
            "ticks": ""
           }
          },
          "scene": {
           "xaxis": {
            "backgroundcolor": "#E5ECF6",
            "gridcolor": "white",
            "gridwidth": 2,
            "linecolor": "white",
            "showbackground": true,
            "ticks": "",
            "zerolinecolor": "white"
           },
           "yaxis": {
            "backgroundcolor": "#E5ECF6",
            "gridcolor": "white",
            "gridwidth": 2,
            "linecolor": "white",
            "showbackground": true,
            "ticks": "",
            "zerolinecolor": "white"
           },
           "zaxis": {
            "backgroundcolor": "#E5ECF6",
            "gridcolor": "white",
            "gridwidth": 2,
            "linecolor": "white",
            "showbackground": true,
            "ticks": "",
            "zerolinecolor": "white"
           }
          },
          "shapedefaults": {
           "line": {
            "color": "#2a3f5f"
           }
          },
          "ternary": {
           "aaxis": {
            "gridcolor": "white",
            "linecolor": "white",
            "ticks": ""
           },
           "baxis": {
            "gridcolor": "white",
            "linecolor": "white",
            "ticks": ""
           },
           "bgcolor": "#E5ECF6",
           "caxis": {
            "gridcolor": "white",
            "linecolor": "white",
            "ticks": ""
           }
          },
          "title": {
           "x": 0.05
          },
          "xaxis": {
           "automargin": true,
           "gridcolor": "white",
           "linecolor": "white",
           "ticks": "",
           "title": {
            "standoff": 15
           },
           "zerolinecolor": "white",
           "zerolinewidth": 2
          },
          "yaxis": {
           "automargin": true,
           "gridcolor": "white",
           "linecolor": "white",
           "ticks": "",
           "title": {
            "standoff": 15
           },
           "zerolinecolor": "white",
           "zerolinewidth": 2
          }
         }
        },
        "title": {
         "font": {
          "color": "#4D5663"
         }
        },
        "xaxis": {
         "gridcolor": "#E1E5ED",
         "showgrid": true,
         "tickfont": {
          "color": "#4D5663"
         },
         "title": {
          "font": {
           "color": "#4D5663"
          },
          "text": ""
         },
         "zerolinecolor": "#E1E5ED"
        },
        "yaxis": {
         "gridcolor": "#E1E5ED",
         "showgrid": true,
         "tickfont": {
          "color": "#4D5663"
         },
         "title": {
          "font": {
           "color": "#4D5663"
          },
          "text": ""
         },
         "zerolinecolor": "#E1E5ED"
        }
       }
      },
      "text/html": [
       "<div>                            <div id=\"34a1a644-ac3f-43d9-b221-bf9d49674185\" class=\"plotly-graph-div\" style=\"height:525px; width:100%;\"></div>            <script type=\"text/javascript\">                require([\"plotly\"], function(Plotly) {                    window.PLOTLYENV=window.PLOTLYENV || {};\n",
       "                    window.PLOTLYENV.BASE_URL='https://plot.ly';                                    if (document.getElementById(\"34a1a644-ac3f-43d9-b221-bf9d49674185\")) {                    Plotly.newPlot(                        \"34a1a644-ac3f-43d9-b221-bf9d49674185\",                        [{\"colorscale\":[[0.0,\"rgb(165,0,38)\"],[0.1,\"rgb(215,48,39)\"],[0.2,\"rgb(244,109,67)\"],[0.3,\"rgb(253,174,97)\"],[0.4,\"rgb(254,224,144)\"],[0.5,\"rgb(255,255,191)\"],[0.6,\"rgb(224,243,248)\"],[0.7,\"rgb(171,217,233)\"],[0.8,\"rgb(116,173,209)\"],[0.9,\"rgb(69,117,180)\"],[1.0,\"rgb(49,54,149)\"]],\"x\":[0,1,2,3,4],\"y\":[\"x\",\"y\",\"z\"],\"z\":[[1,2,3,4,5],[10,20,30,20,10],[5,4,3,2,1]],\"type\":\"surface\"}],                        {\"legend\":{\"bgcolor\":\"#F5F6F9\",\"font\":{\"color\":\"#4D5663\"}},\"paper_bgcolor\":\"#F5F6F9\",\"plot_bgcolor\":\"#F5F6F9\",\"template\":{\"data\":{\"barpolar\":[{\"marker\":{\"line\":{\"color\":\"#E5ECF6\",\"width\":0.5},\"pattern\":{\"fillmode\":\"overlay\",\"size\":10,\"solidity\":0.2}},\"type\":\"barpolar\"}],\"bar\":[{\"error_x\":{\"color\":\"#2a3f5f\"},\"error_y\":{\"color\":\"#2a3f5f\"},\"marker\":{\"line\":{\"color\":\"#E5ECF6\",\"width\":0.5},\"pattern\":{\"fillmode\":\"overlay\",\"size\":10,\"solidity\":0.2}},\"type\":\"bar\"}],\"carpet\":[{\"aaxis\":{\"endlinecolor\":\"#2a3f5f\",\"gridcolor\":\"white\",\"linecolor\":\"white\",\"minorgridcolor\":\"white\",\"startlinecolor\":\"#2a3f5f\"},\"baxis\":{\"endlinecolor\":\"#2a3f5f\",\"gridcolor\":\"white\",\"linecolor\":\"white\",\"minorgridcolor\":\"white\",\"startlinecolor\":\"#2a3f5f\"},\"type\":\"carpet\"}],\"choropleth\":[{\"colorbar\":{\"outlinewidth\":0,\"ticks\":\"\"},\"type\":\"choropleth\"}],\"contourcarpet\":[{\"colorbar\":{\"outlinewidth\":0,\"ticks\":\"\"},\"type\":\"contourcarpet\"}],\"contour\":[{\"colorbar\":{\"outlinewidth\":0,\"ticks\":\"\"},\"colorscale\":[[0.0,\"#0d0887\"],[0.1111111111111111,\"#46039f\"],[0.2222222222222222,\"#7201a8\"],[0.3333333333333333,\"#9c179e\"],[0.4444444444444444,\"#bd3786\"],[0.5555555555555556,\"#d8576b\"],[0.6666666666666666,\"#ed7953\"],[0.7777777777777778,\"#fb9f3a\"],[0.8888888888888888,\"#fdca26\"],[1.0,\"#f0f921\"]],\"type\":\"contour\"}],\"heatmapgl\":[{\"colorbar\":{\"outlinewidth\":0,\"ticks\":\"\"},\"colorscale\":[[0.0,\"#0d0887\"],[0.1111111111111111,\"#46039f\"],[0.2222222222222222,\"#7201a8\"],[0.3333333333333333,\"#9c179e\"],[0.4444444444444444,\"#bd3786\"],[0.5555555555555556,\"#d8576b\"],[0.6666666666666666,\"#ed7953\"],[0.7777777777777778,\"#fb9f3a\"],[0.8888888888888888,\"#fdca26\"],[1.0,\"#f0f921\"]],\"type\":\"heatmapgl\"}],\"heatmap\":[{\"colorbar\":{\"outlinewidth\":0,\"ticks\":\"\"},\"colorscale\":[[0.0,\"#0d0887\"],[0.1111111111111111,\"#46039f\"],[0.2222222222222222,\"#7201a8\"],[0.3333333333333333,\"#9c179e\"],[0.4444444444444444,\"#bd3786\"],[0.5555555555555556,\"#d8576b\"],[0.6666666666666666,\"#ed7953\"],[0.7777777777777778,\"#fb9f3a\"],[0.8888888888888888,\"#fdca26\"],[1.0,\"#f0f921\"]],\"type\":\"heatmap\"}],\"histogram2dcontour\":[{\"colorbar\":{\"outlinewidth\":0,\"ticks\":\"\"},\"colorscale\":[[0.0,\"#0d0887\"],[0.1111111111111111,\"#46039f\"],[0.2222222222222222,\"#7201a8\"],[0.3333333333333333,\"#9c179e\"],[0.4444444444444444,\"#bd3786\"],[0.5555555555555556,\"#d8576b\"],[0.6666666666666666,\"#ed7953\"],[0.7777777777777778,\"#fb9f3a\"],[0.8888888888888888,\"#fdca26\"],[1.0,\"#f0f921\"]],\"type\":\"histogram2dcontour\"}],\"histogram2d\":[{\"colorbar\":{\"outlinewidth\":0,\"ticks\":\"\"},\"colorscale\":[[0.0,\"#0d0887\"],[0.1111111111111111,\"#46039f\"],[0.2222222222222222,\"#7201a8\"],[0.3333333333333333,\"#9c179e\"],[0.4444444444444444,\"#bd3786\"],[0.5555555555555556,\"#d8576b\"],[0.6666666666666666,\"#ed7953\"],[0.7777777777777778,\"#fb9f3a\"],[0.8888888888888888,\"#fdca26\"],[1.0,\"#f0f921\"]],\"type\":\"histogram2d\"}],\"histogram\":[{\"marker\":{\"pattern\":{\"fillmode\":\"overlay\",\"size\":10,\"solidity\":0.2}},\"type\":\"histogram\"}],\"mesh3d\":[{\"colorbar\":{\"outlinewidth\":0,\"ticks\":\"\"},\"type\":\"mesh3d\"}],\"parcoords\":[{\"line\":{\"colorbar\":{\"outlinewidth\":0,\"ticks\":\"\"}},\"type\":\"parcoords\"}],\"pie\":[{\"automargin\":true,\"type\":\"pie\"}],\"scatter3d\":[{\"line\":{\"colorbar\":{\"outlinewidth\":0,\"ticks\":\"\"}},\"marker\":{\"colorbar\":{\"outlinewidth\":0,\"ticks\":\"\"}},\"type\":\"scatter3d\"}],\"scattercarpet\":[{\"marker\":{\"colorbar\":{\"outlinewidth\":0,\"ticks\":\"\"}},\"type\":\"scattercarpet\"}],\"scattergeo\":[{\"marker\":{\"colorbar\":{\"outlinewidth\":0,\"ticks\":\"\"}},\"type\":\"scattergeo\"}],\"scattergl\":[{\"marker\":{\"colorbar\":{\"outlinewidth\":0,\"ticks\":\"\"}},\"type\":\"scattergl\"}],\"scattermapbox\":[{\"marker\":{\"colorbar\":{\"outlinewidth\":0,\"ticks\":\"\"}},\"type\":\"scattermapbox\"}],\"scatterpolargl\":[{\"marker\":{\"colorbar\":{\"outlinewidth\":0,\"ticks\":\"\"}},\"type\":\"scatterpolargl\"}],\"scatterpolar\":[{\"marker\":{\"colorbar\":{\"outlinewidth\":0,\"ticks\":\"\"}},\"type\":\"scatterpolar\"}],\"scatter\":[{\"fillpattern\":{\"fillmode\":\"overlay\",\"size\":10,\"solidity\":0.2},\"type\":\"scatter\"}],\"scatterternary\":[{\"marker\":{\"colorbar\":{\"outlinewidth\":0,\"ticks\":\"\"}},\"type\":\"scatterternary\"}],\"surface\":[{\"colorbar\":{\"outlinewidth\":0,\"ticks\":\"\"},\"colorscale\":[[0.0,\"#0d0887\"],[0.1111111111111111,\"#46039f\"],[0.2222222222222222,\"#7201a8\"],[0.3333333333333333,\"#9c179e\"],[0.4444444444444444,\"#bd3786\"],[0.5555555555555556,\"#d8576b\"],[0.6666666666666666,\"#ed7953\"],[0.7777777777777778,\"#fb9f3a\"],[0.8888888888888888,\"#fdca26\"],[1.0,\"#f0f921\"]],\"type\":\"surface\"}],\"table\":[{\"cells\":{\"fill\":{\"color\":\"#EBF0F8\"},\"line\":{\"color\":\"white\"}},\"header\":{\"fill\":{\"color\":\"#C8D4E3\"},\"line\":{\"color\":\"white\"}},\"type\":\"table\"}]},\"layout\":{\"annotationdefaults\":{\"arrowcolor\":\"#2a3f5f\",\"arrowhead\":0,\"arrowwidth\":1},\"autotypenumbers\":\"strict\",\"coloraxis\":{\"colorbar\":{\"outlinewidth\":0,\"ticks\":\"\"}},\"colorscale\":{\"diverging\":[[0,\"#8e0152\"],[0.1,\"#c51b7d\"],[0.2,\"#de77ae\"],[0.3,\"#f1b6da\"],[0.4,\"#fde0ef\"],[0.5,\"#f7f7f7\"],[0.6,\"#e6f5d0\"],[0.7,\"#b8e186\"],[0.8,\"#7fbc41\"],[0.9,\"#4d9221\"],[1,\"#276419\"]],\"sequential\":[[0.0,\"#0d0887\"],[0.1111111111111111,\"#46039f\"],[0.2222222222222222,\"#7201a8\"],[0.3333333333333333,\"#9c179e\"],[0.4444444444444444,\"#bd3786\"],[0.5555555555555556,\"#d8576b\"],[0.6666666666666666,\"#ed7953\"],[0.7777777777777778,\"#fb9f3a\"],[0.8888888888888888,\"#fdca26\"],[1.0,\"#f0f921\"]],\"sequentialminus\":[[0.0,\"#0d0887\"],[0.1111111111111111,\"#46039f\"],[0.2222222222222222,\"#7201a8\"],[0.3333333333333333,\"#9c179e\"],[0.4444444444444444,\"#bd3786\"],[0.5555555555555556,\"#d8576b\"],[0.6666666666666666,\"#ed7953\"],[0.7777777777777778,\"#fb9f3a\"],[0.8888888888888888,\"#fdca26\"],[1.0,\"#f0f921\"]]},\"colorway\":[\"#636efa\",\"#EF553B\",\"#00cc96\",\"#ab63fa\",\"#FFA15A\",\"#19d3f3\",\"#FF6692\",\"#B6E880\",\"#FF97FF\",\"#FECB52\"],\"font\":{\"color\":\"#2a3f5f\"},\"geo\":{\"bgcolor\":\"white\",\"lakecolor\":\"white\",\"landcolor\":\"#E5ECF6\",\"showlakes\":true,\"showland\":true,\"subunitcolor\":\"white\"},\"hoverlabel\":{\"align\":\"left\"},\"hovermode\":\"closest\",\"mapbox\":{\"style\":\"light\"},\"paper_bgcolor\":\"white\",\"plot_bgcolor\":\"#E5ECF6\",\"polar\":{\"angularaxis\":{\"gridcolor\":\"white\",\"linecolor\":\"white\",\"ticks\":\"\"},\"bgcolor\":\"#E5ECF6\",\"radialaxis\":{\"gridcolor\":\"white\",\"linecolor\":\"white\",\"ticks\":\"\"}},\"scene\":{\"xaxis\":{\"backgroundcolor\":\"#E5ECF6\",\"gridcolor\":\"white\",\"gridwidth\":2,\"linecolor\":\"white\",\"showbackground\":true,\"ticks\":\"\",\"zerolinecolor\":\"white\"},\"yaxis\":{\"backgroundcolor\":\"#E5ECF6\",\"gridcolor\":\"white\",\"gridwidth\":2,\"linecolor\":\"white\",\"showbackground\":true,\"ticks\":\"\",\"zerolinecolor\":\"white\"},\"zaxis\":{\"backgroundcolor\":\"#E5ECF6\",\"gridcolor\":\"white\",\"gridwidth\":2,\"linecolor\":\"white\",\"showbackground\":true,\"ticks\":\"\",\"zerolinecolor\":\"white\"}},\"shapedefaults\":{\"line\":{\"color\":\"#2a3f5f\"}},\"ternary\":{\"aaxis\":{\"gridcolor\":\"white\",\"linecolor\":\"white\",\"ticks\":\"\"},\"baxis\":{\"gridcolor\":\"white\",\"linecolor\":\"white\",\"ticks\":\"\"},\"bgcolor\":\"#E5ECF6\",\"caxis\":{\"gridcolor\":\"white\",\"linecolor\":\"white\",\"ticks\":\"\"}},\"title\":{\"x\":0.05},\"xaxis\":{\"automargin\":true,\"gridcolor\":\"white\",\"linecolor\":\"white\",\"ticks\":\"\",\"title\":{\"standoff\":15},\"zerolinecolor\":\"white\",\"zerolinewidth\":2},\"yaxis\":{\"automargin\":true,\"gridcolor\":\"white\",\"linecolor\":\"white\",\"ticks\":\"\",\"title\":{\"standoff\":15},\"zerolinecolor\":\"white\",\"zerolinewidth\":2}}},\"title\":{\"font\":{\"color\":\"#4D5663\"}},\"xaxis\":{\"gridcolor\":\"#E1E5ED\",\"showgrid\":true,\"tickfont\":{\"color\":\"#4D5663\"},\"title\":{\"font\":{\"color\":\"#4D5663\"},\"text\":\"\"},\"zerolinecolor\":\"#E1E5ED\"},\"yaxis\":{\"gridcolor\":\"#E1E5ED\",\"showgrid\":true,\"tickfont\":{\"color\":\"#4D5663\"},\"title\":{\"font\":{\"color\":\"#4D5663\"},\"text\":\"\"},\"zerolinecolor\":\"#E1E5ED\"}},                        {\"showLink\": true, \"linkText\": \"Export to plot.ly\", \"plotlyServerURL\": \"https://plot.ly\", \"responsive\": true}                    ).then(function(){\n",
       "                            \n",
       "var gd = document.getElementById('34a1a644-ac3f-43d9-b221-bf9d49674185');\n",
       "var x = new MutationObserver(function (mutations, observer) {{\n",
       "        var display = window.getComputedStyle(gd).display;\n",
       "        if (!display || display === 'none') {{\n",
       "            console.log([gd, 'removed!']);\n",
       "            Plotly.purge(gd);\n",
       "            observer.disconnect();\n",
       "        }}\n",
       "}});\n",
       "\n",
       "// Listen for the removal of the full notebook cells\n",
       "var notebookContainer = gd.closest('#notebook-container');\n",
       "if (notebookContainer) {{\n",
       "    x.observe(notebookContainer, {childList: true});\n",
       "}}\n",
       "\n",
       "// Listen for the clearing of the current output cell\n",
       "var outputEl = gd.closest('.output');\n",
       "if (outputEl) {{\n",
       "    x.observe(outputEl, {childList: true});\n",
       "}}\n",
       "\n",
       "                        })                };                });            </script>        </div>"
      ]
     },
     "metadata": {},
     "output_type": "display_data"
    }
   ],
   "source": [
    "df3 = pd.DataFrame({'x':[1,2,3,4,5],'y':[10,20,30,20,10],'z':[5,4,3,2,1]})\n",
    "df3.iplot(kind='surface',colorscale='rdylbu')"
   ]
  },
  {
   "cell_type": "markdown",
   "metadata": {},
   "source": [
    "## Spread"
   ]
  },
  {
   "cell_type": "code",
   "execution_count": 15,
   "metadata": {},
   "outputs": [
    {
     "name": "stderr",
     "output_type": "stream",
     "text": [
      "C:\\Users\\Pratyush\\AppData\\Roaming\\Python\\Python311\\site-packages\\cufflinks\\plotlytools.py:849: FutureWarning:\n",
      "\n",
      "The pandas.np module is deprecated and will be removed from pandas in a future version. Import numpy directly instead.\n",
      "\n",
      "C:\\Users\\Pratyush\\AppData\\Roaming\\Python\\Python311\\site-packages\\cufflinks\\plotlytools.py:850: FutureWarning:\n",
      "\n",
      "The pandas.np module is deprecated and will be removed from pandas in a future version. Import numpy directly instead.\n",
      "\n"
     ]
    },
    {
     "data": {
      "application/vnd.plotly.v1+json": {
       "config": {
        "linkText": "Export to plot.ly",
        "plotlyServerURL": "https://plot.ly",
        "showLink": true
       },
       "data": [
        {
         "line": {
          "color": "rgba(255, 153, 51, 1.0)",
          "dash": "solid",
          "shape": "linear",
          "width": 1.3
         },
         "mode": "lines",
         "name": "A",
         "text": "",
         "type": "scatter",
         "x": [
          0,
          1,
          2,
          3,
          4,
          5,
          6,
          7,
          8,
          9,
          10,
          11,
          12,
          13,
          14,
          15,
          16,
          17,
          18,
          19,
          20,
          21,
          22,
          23,
          24,
          25,
          26,
          27,
          28,
          29,
          30,
          31,
          32,
          33,
          34,
          35,
          36,
          37,
          38,
          39,
          40,
          41,
          42,
          43,
          44,
          45,
          46,
          47,
          48,
          49,
          50,
          51,
          52,
          53,
          54,
          55,
          56,
          57,
          58,
          59,
          60,
          61,
          62,
          63,
          64,
          65,
          66,
          67,
          68,
          69,
          70,
          71,
          72,
          73,
          74,
          75,
          76,
          77,
          78,
          79,
          80,
          81,
          82,
          83,
          84,
          85,
          86,
          87,
          88,
          89,
          90,
          91,
          92,
          93,
          94,
          95,
          96,
          97,
          98,
          99
         ],
         "y": [
          0.9674792495653929,
          -0.869645948345109,
          0.3276963940454639,
          2.212326394176484,
          1.194564115626372,
          1.281333312680946,
          -0.4593625791084765,
          0.2534398304646211,
          -1.187047102320885,
          0.009120945638079877,
          0.46812971295397005,
          0.3173603163090243,
          -0.5949756643716486,
          0.36612201815595236,
          1.6823087709179516,
          0.1223867090465667,
          1.2858955968180077,
          -0.355874679445089,
          -1.5056555405566194,
          -0.9803269668748792,
          -0.9821783534228085,
          -0.052757830218477235,
          0.8033100178798156,
          -1.2398031374339302,
          -0.5813663197398291,
          0.19886821601177004,
          0.1294915534324573,
          -0.13306937600077753,
          1.3939949997907175,
          1.1973801278232796,
          0.584311181386549,
          0.9814067443843448,
          0.2061913231991555,
          1.671664827360644,
          0.789600735681814,
          1.2933123482628828,
          1.4246595860526337,
          -1.3217494580552764,
          -0.07724462464406437,
          0.18930105179933207,
          -0.8808766976813702,
          -0.01730765278196536,
          1.6745130595812752,
          -0.9444306581128674,
          -0.1221827946211637,
          -2.321901756440847,
          0.7477928499020462,
          -1.8263033277692504,
          -1.0618495646062116,
          -0.09040834612020593,
          -0.0010349389445514765,
          -2.735604509568205,
          -1.6080140908995408,
          0.46315775491532685,
          -0.5641038656392511,
          -0.09215769154545252,
          1.0002522597706367,
          0.17587208675758984,
          -0.5954239279504188,
          -2.911645903175407,
          0.060337624495499904,
          -0.42040253946929246,
          1.7762469320792973,
          0.8730115926111546,
          1.8439878835043193,
          -0.6085419218754314,
          -0.9079008941146096,
          0.2759242313421433,
          -0.3988133260904946,
          1.3186512094391587,
          -0.22711041145047717,
          -1.1216333739411006,
          0.8022488902000023,
          -0.28124431547160195,
          -0.5851126659274265,
          0.4306201479387562,
          -1.0882948662735636,
          0.027976391155035966,
          0.5566361343141041,
          -1.5807367243659294,
          -0.8082355354469991,
          0.5644686676080057,
          -0.5897432726211994,
          -1.090934333436364,
          -0.24825567958331607,
          0.24567974588087993,
          1.0745837768794317,
          -0.4793855569130954,
          1.2390952913307294,
          -0.1127955717482966,
          0.5115001071064847,
          -0.05946749612950342,
          -0.8113493777941423,
          -0.049751974798389886,
          -0.3517813343733759,
          -0.29145587516066457,
          0.5787628035960883,
          -0.1311683960980727,
          -0.10496940636822302,
          0.5356439478190795
         ]
        },
        {
         "line": {
          "color": "rgba(55, 128, 191, 1.0)",
          "dash": "solid",
          "shape": "linear",
          "width": 1.3
         },
         "mode": "lines",
         "name": "B",
         "text": "",
         "type": "scatter",
         "x": [
          0,
          1,
          2,
          3,
          4,
          5,
          6,
          7,
          8,
          9,
          10,
          11,
          12,
          13,
          14,
          15,
          16,
          17,
          18,
          19,
          20,
          21,
          22,
          23,
          24,
          25,
          26,
          27,
          28,
          29,
          30,
          31,
          32,
          33,
          34,
          35,
          36,
          37,
          38,
          39,
          40,
          41,
          42,
          43,
          44,
          45,
          46,
          47,
          48,
          49,
          50,
          51,
          52,
          53,
          54,
          55,
          56,
          57,
          58,
          59,
          60,
          61,
          62,
          63,
          64,
          65,
          66,
          67,
          68,
          69,
          70,
          71,
          72,
          73,
          74,
          75,
          76,
          77,
          78,
          79,
          80,
          81,
          82,
          83,
          84,
          85,
          86,
          87,
          88,
          89,
          90,
          91,
          92,
          93,
          94,
          95,
          96,
          97,
          98,
          99
         ],
         "y": [
          1.2559665150128738,
          1.623222658930747,
          -1.6337826450630495,
          0.9447131134135116,
          1.1798043405299838,
          -1.155688742948656,
          2.4548456650087664,
          0.1967602313034417,
          1.273259911357326,
          0.032098563769232605,
          -0.9406093982229913,
          -1.2964368050421562,
          -1.519902506155913,
          -0.3761787602834264,
          -0.010752827153059951,
          -0.10556004881246867,
          0.20076895648962265,
          -1.6850246316573827,
          -0.053499097961576036,
          0.026679427972856138,
          -0.9296474377801646,
          0.34792155075954995,
          0.6817847402778288,
          0.6709660186939352,
          -0.32023098099219494,
          0.3547897976235289,
          -0.13263784373644685,
          0.2935159364327797,
          -1.1935028348876886,
          -0.6154685546770732,
          0.2711354765320031,
          -1.2721284909920545,
          -1.66150782301575,
          -0.40869372542459653,
          0.6927214550234417,
          -0.571354166680342,
          -2.370721439218031,
          0.1493964954778568,
          0.6510556001226679,
          0.4292580766720687,
          0.7638851538915261,
          -0.6330279833466473,
          0.17323422869432137,
          0.5571215919463213,
          -1.7511962250925097,
          1.0350253485830763,
          -0.15762194299334684,
          0.4863083584740155,
          0.30436807080373923,
          0.4251551333724484,
          0.3550019805177964,
          0.44034349879940204,
          2.0969774956697025,
          1.0962646409270569,
          1.1830133303858525,
          -1.1344339583329939,
          -1.5290452405995383,
          1.8736128340095886,
          0.39478122772731267,
          -1.05179307868685,
          0.6310044541279328,
          0.42939924866247065,
          0.5323109177393281,
          -0.4729320313581209,
          1.5409072215037973,
          -1.262119363458304,
          -0.7039383666072286,
          -0.8990003348315486,
          -0.028011387798115833,
          0.47592024362120794,
          0.9002351500195176,
          -0.14605167795031107,
          -0.7679327720116481,
          1.5576359927434305,
          -0.7733583994874416,
          0.23109138835710186,
          -1.1494712996178111,
          0.4967199657809361,
          0.29515336234764084,
          0.8557133952349325,
          -0.309347918115768,
          -0.9199284431444746,
          -0.0815317236788813,
          0.09104793048301475,
          -0.4112088551283685,
          0.07420682096557561,
          0.8944805960648957,
          1.047378806846963,
          -0.043918820524732866,
          -1.0315338064149218,
          -0.7600061950087242,
          -0.9280574417632615,
          -0.7216526703364456,
          0.7305990509468757,
          -0.04815858666592761,
          -0.6922237460237607,
          -0.4498024098452496,
          -0.906975856818541,
          -1.5624154089293907,
          -0.6482211367486518
         ]
        },
        {
         "connectgaps": false,
         "fill": "tozeroy",
         "line": {
          "color": "green",
          "dash": "solid",
          "shape": "linear",
          "width": 0.5
         },
         "mode": "lines",
         "name": "Spread",
         "showlegend": false,
         "type": "scatter",
         "x": [
          0,
          1,
          2,
          3,
          4,
          5,
          6,
          7,
          8,
          9,
          10,
          11,
          12,
          13,
          14,
          15,
          16,
          17,
          18,
          19,
          20,
          21,
          22,
          23,
          24,
          25,
          26,
          27,
          28,
          29,
          30,
          31,
          32,
          33,
          34,
          35,
          36,
          37,
          38,
          39,
          40,
          41,
          42,
          43,
          44,
          45,
          46,
          47,
          48,
          49,
          50,
          51,
          52,
          53,
          54,
          55,
          56,
          57,
          58,
          59,
          60,
          61,
          62,
          63,
          64,
          65,
          66,
          67,
          68,
          69,
          70,
          71,
          72,
          73,
          74,
          75,
          76,
          77,
          78,
          79,
          80,
          81,
          82,
          83,
          84,
          85,
          86,
          87,
          88,
          89,
          90,
          91,
          92,
          93,
          94,
          95,
          96,
          97,
          98,
          99
         ],
         "xaxis": "x2",
         "y": [
          "",
          "",
          1.9614790391085135,
          1.2676132807629723,
          0.01475977509638815,
          2.437022055629602,
          "",
          0.0566795991611794,
          "",
          "",
          1.4087391111769614,
          1.6137971213511806,
          0.9249268417842644,
          0.7423007784393787,
          1.6930615980710115,
          0.22794675785903537,
          1.085126640328385,
          1.3291499522122936,
          "",
          "",
          "",
          "",
          0.12152527760198684,
          "",
          "",
          "",
          0.26212939716890415,
          "",
          2.5874978346784063,
          1.812848682500353,
          0.31317570485454593,
          2.2535352353763995,
          1.8676991462149055,
          2.0803585527852406,
          0.09687928065837226,
          1.8646665149432247,
          3.7953810252706646,
          "",
          "",
          "",
          "",
          0.615720330564682,
          1.5012788308869538,
          "",
          1.629013430471346,
          "",
          0.9054147928953931,
          "",
          "",
          "",
          "",
          "",
          "",
          "",
          "",
          1.0422762667875414,
          2.529297500370175,
          "",
          "",
          "",
          "",
          "",
          1.2439360143399691,
          1.3459436239692755,
          0.30308066200052197,
          0.6535774415828727,
          "",
          1.1749245661736918,
          "",
          0.8427309658179507,
          "",
          "",
          1.5701816622116505,
          "",
          0.18824573356001506,
          0.19952875958165434,
          0.061176433344247494,
          "",
          0.26148277196646325,
          "",
          "",
          1.4843971107524805,
          "",
          "",
          0.16295317554505245,
          0.1714729249153043,
          0.18010318081453602,
          "",
          1.2830141118554623,
          0.9187382346666252,
          1.2715063021152089,
          0.8685899456337581,
          "",
          "",
          "",
          0.4007678708630961,
          1.0285652134413379,
          0.7758074607204682,
          1.4574460025611677,
          1.1838650845677314
         ],
         "yaxis": "y2"
        },
        {
         "connectgaps": false,
         "fill": "tozeroy",
         "line": {
          "color": "red",
          "dash": "solid",
          "shape": "linear",
          "width": 0.5
         },
         "mode": "lines",
         "name": "Spread",
         "showlegend": false,
         "type": "scatter",
         "x": [
          0,
          1,
          2,
          3,
          4,
          5,
          6,
          7,
          8,
          9,
          10,
          11,
          12,
          13,
          14,
          15,
          16,
          17,
          18,
          19,
          20,
          21,
          22,
          23,
          24,
          25,
          26,
          27,
          28,
          29,
          30,
          31,
          32,
          33,
          34,
          35,
          36,
          37,
          38,
          39,
          40,
          41,
          42,
          43,
          44,
          45,
          46,
          47,
          48,
          49,
          50,
          51,
          52,
          53,
          54,
          55,
          56,
          57,
          58,
          59,
          60,
          61,
          62,
          63,
          64,
          65,
          66,
          67,
          68,
          69,
          70,
          71,
          72,
          73,
          74,
          75,
          76,
          77,
          78,
          79,
          80,
          81,
          82,
          83,
          84,
          85,
          86,
          87,
          88,
          89,
          90,
          91,
          92,
          93,
          94,
          95,
          96,
          97,
          98,
          99
         ],
         "xaxis": "x2",
         "y": [
          -0.28848726544748093,
          -2.492868607275856,
          "",
          "",
          "",
          "",
          -2.9142082441172428,
          "",
          -2.460307013678211,
          -0.022977618131152726,
          "",
          "",
          "",
          "",
          "",
          "",
          "",
          "",
          -1.4521564425950433,
          -1.0070063948477352,
          -0.052530915642643894,
          -0.4006793809780272,
          "",
          -1.9107691561278655,
          -0.26113533874763417,
          -0.15592158161175887,
          "",
          -0.42658531243355724,
          "",
          "",
          "",
          "",
          "",
          "",
          "",
          "",
          "",
          -1.4711459535331333,
          -0.7283002247667323,
          -0.23995702487273665,
          -1.6447618515728963,
          "",
          "",
          -1.5015522500591887,
          "",
          -3.356927105023923,
          "",
          -2.3126116862432657,
          -1.366217635409951,
          -0.5155634794926544,
          -0.3560369194623479,
          -3.175948008367607,
          -3.7049915865692435,
          -0.63310688601173,
          -1.7471171960251035,
          "",
          "",
          -1.6977407472519987,
          -0.9902051556777314,
          -1.859852824488557,
          -0.5706668296324329,
          -0.8498017881317631,
          "",
          "",
          "",
          "",
          -0.20396252750738098,
          "",
          -0.37080193829237873,
          "",
          -1.1273455614699948,
          -0.9755816959907896,
          "",
          -1.8388803082150325,
          "",
          "",
          "",
          -0.4687435746259001,
          "",
          -2.436450119600862,
          -0.4988876173312311,
          "",
          -0.5082115489423181,
          -1.1819822639193787,
          "",
          "",
          "",
          -1.5267643637600583,
          "",
          "",
          "",
          "",
          -0.08969670745769664,
          -0.7803510257452656,
          -0.3036227477074483,
          "",
          "",
          "",
          "",
          ""
         ],
         "yaxis": "y2"
        }
       ],
       "layout": {
        "hovermode": "x",
        "legend": {
         "bgcolor": "#F5F6F9",
         "font": {
          "color": "#4D5663"
         }
        },
        "paper_bgcolor": "#F5F6F9",
        "plot_bgcolor": "#F5F6F9",
        "template": {
         "data": {
          "bar": [
           {
            "error_x": {
             "color": "#2a3f5f"
            },
            "error_y": {
             "color": "#2a3f5f"
            },
            "marker": {
             "line": {
              "color": "#E5ECF6",
              "width": 0.5
             },
             "pattern": {
              "fillmode": "overlay",
              "size": 10,
              "solidity": 0.2
             }
            },
            "type": "bar"
           }
          ],
          "barpolar": [
           {
            "marker": {
             "line": {
              "color": "#E5ECF6",
              "width": 0.5
             },
             "pattern": {
              "fillmode": "overlay",
              "size": 10,
              "solidity": 0.2
             }
            },
            "type": "barpolar"
           }
          ],
          "carpet": [
           {
            "aaxis": {
             "endlinecolor": "#2a3f5f",
             "gridcolor": "white",
             "linecolor": "white",
             "minorgridcolor": "white",
             "startlinecolor": "#2a3f5f"
            },
            "baxis": {
             "endlinecolor": "#2a3f5f",
             "gridcolor": "white",
             "linecolor": "white",
             "minorgridcolor": "white",
             "startlinecolor": "#2a3f5f"
            },
            "type": "carpet"
           }
          ],
          "choropleth": [
           {
            "colorbar": {
             "outlinewidth": 0,
             "ticks": ""
            },
            "type": "choropleth"
           }
          ],
          "contour": [
           {
            "colorbar": {
             "outlinewidth": 0,
             "ticks": ""
            },
            "colorscale": [
             [
              0,
              "#0d0887"
             ],
             [
              0.1111111111111111,
              "#46039f"
             ],
             [
              0.2222222222222222,
              "#7201a8"
             ],
             [
              0.3333333333333333,
              "#9c179e"
             ],
             [
              0.4444444444444444,
              "#bd3786"
             ],
             [
              0.5555555555555556,
              "#d8576b"
             ],
             [
              0.6666666666666666,
              "#ed7953"
             ],
             [
              0.7777777777777778,
              "#fb9f3a"
             ],
             [
              0.8888888888888888,
              "#fdca26"
             ],
             [
              1,
              "#f0f921"
             ]
            ],
            "type": "contour"
           }
          ],
          "contourcarpet": [
           {
            "colorbar": {
             "outlinewidth": 0,
             "ticks": ""
            },
            "type": "contourcarpet"
           }
          ],
          "heatmap": [
           {
            "colorbar": {
             "outlinewidth": 0,
             "ticks": ""
            },
            "colorscale": [
             [
              0,
              "#0d0887"
             ],
             [
              0.1111111111111111,
              "#46039f"
             ],
             [
              0.2222222222222222,
              "#7201a8"
             ],
             [
              0.3333333333333333,
              "#9c179e"
             ],
             [
              0.4444444444444444,
              "#bd3786"
             ],
             [
              0.5555555555555556,
              "#d8576b"
             ],
             [
              0.6666666666666666,
              "#ed7953"
             ],
             [
              0.7777777777777778,
              "#fb9f3a"
             ],
             [
              0.8888888888888888,
              "#fdca26"
             ],
             [
              1,
              "#f0f921"
             ]
            ],
            "type": "heatmap"
           }
          ],
          "heatmapgl": [
           {
            "colorbar": {
             "outlinewidth": 0,
             "ticks": ""
            },
            "colorscale": [
             [
              0,
              "#0d0887"
             ],
             [
              0.1111111111111111,
              "#46039f"
             ],
             [
              0.2222222222222222,
              "#7201a8"
             ],
             [
              0.3333333333333333,
              "#9c179e"
             ],
             [
              0.4444444444444444,
              "#bd3786"
             ],
             [
              0.5555555555555556,
              "#d8576b"
             ],
             [
              0.6666666666666666,
              "#ed7953"
             ],
             [
              0.7777777777777778,
              "#fb9f3a"
             ],
             [
              0.8888888888888888,
              "#fdca26"
             ],
             [
              1,
              "#f0f921"
             ]
            ],
            "type": "heatmapgl"
           }
          ],
          "histogram": [
           {
            "marker": {
             "pattern": {
              "fillmode": "overlay",
              "size": 10,
              "solidity": 0.2
             }
            },
            "type": "histogram"
           }
          ],
          "histogram2d": [
           {
            "colorbar": {
             "outlinewidth": 0,
             "ticks": ""
            },
            "colorscale": [
             [
              0,
              "#0d0887"
             ],
             [
              0.1111111111111111,
              "#46039f"
             ],
             [
              0.2222222222222222,
              "#7201a8"
             ],
             [
              0.3333333333333333,
              "#9c179e"
             ],
             [
              0.4444444444444444,
              "#bd3786"
             ],
             [
              0.5555555555555556,
              "#d8576b"
             ],
             [
              0.6666666666666666,
              "#ed7953"
             ],
             [
              0.7777777777777778,
              "#fb9f3a"
             ],
             [
              0.8888888888888888,
              "#fdca26"
             ],
             [
              1,
              "#f0f921"
             ]
            ],
            "type": "histogram2d"
           }
          ],
          "histogram2dcontour": [
           {
            "colorbar": {
             "outlinewidth": 0,
             "ticks": ""
            },
            "colorscale": [
             [
              0,
              "#0d0887"
             ],
             [
              0.1111111111111111,
              "#46039f"
             ],
             [
              0.2222222222222222,
              "#7201a8"
             ],
             [
              0.3333333333333333,
              "#9c179e"
             ],
             [
              0.4444444444444444,
              "#bd3786"
             ],
             [
              0.5555555555555556,
              "#d8576b"
             ],
             [
              0.6666666666666666,
              "#ed7953"
             ],
             [
              0.7777777777777778,
              "#fb9f3a"
             ],
             [
              0.8888888888888888,
              "#fdca26"
             ],
             [
              1,
              "#f0f921"
             ]
            ],
            "type": "histogram2dcontour"
           }
          ],
          "mesh3d": [
           {
            "colorbar": {
             "outlinewidth": 0,
             "ticks": ""
            },
            "type": "mesh3d"
           }
          ],
          "parcoords": [
           {
            "line": {
             "colorbar": {
              "outlinewidth": 0,
              "ticks": ""
             }
            },
            "type": "parcoords"
           }
          ],
          "pie": [
           {
            "automargin": true,
            "type": "pie"
           }
          ],
          "scatter": [
           {
            "fillpattern": {
             "fillmode": "overlay",
             "size": 10,
             "solidity": 0.2
            },
            "type": "scatter"
           }
          ],
          "scatter3d": [
           {
            "line": {
             "colorbar": {
              "outlinewidth": 0,
              "ticks": ""
             }
            },
            "marker": {
             "colorbar": {
              "outlinewidth": 0,
              "ticks": ""
             }
            },
            "type": "scatter3d"
           }
          ],
          "scattercarpet": [
           {
            "marker": {
             "colorbar": {
              "outlinewidth": 0,
              "ticks": ""
             }
            },
            "type": "scattercarpet"
           }
          ],
          "scattergeo": [
           {
            "marker": {
             "colorbar": {
              "outlinewidth": 0,
              "ticks": ""
             }
            },
            "type": "scattergeo"
           }
          ],
          "scattergl": [
           {
            "marker": {
             "colorbar": {
              "outlinewidth": 0,
              "ticks": ""
             }
            },
            "type": "scattergl"
           }
          ],
          "scattermapbox": [
           {
            "marker": {
             "colorbar": {
              "outlinewidth": 0,
              "ticks": ""
             }
            },
            "type": "scattermapbox"
           }
          ],
          "scatterpolar": [
           {
            "marker": {
             "colorbar": {
              "outlinewidth": 0,
              "ticks": ""
             }
            },
            "type": "scatterpolar"
           }
          ],
          "scatterpolargl": [
           {
            "marker": {
             "colorbar": {
              "outlinewidth": 0,
              "ticks": ""
             }
            },
            "type": "scatterpolargl"
           }
          ],
          "scatterternary": [
           {
            "marker": {
             "colorbar": {
              "outlinewidth": 0,
              "ticks": ""
             }
            },
            "type": "scatterternary"
           }
          ],
          "surface": [
           {
            "colorbar": {
             "outlinewidth": 0,
             "ticks": ""
            },
            "colorscale": [
             [
              0,
              "#0d0887"
             ],
             [
              0.1111111111111111,
              "#46039f"
             ],
             [
              0.2222222222222222,
              "#7201a8"
             ],
             [
              0.3333333333333333,
              "#9c179e"
             ],
             [
              0.4444444444444444,
              "#bd3786"
             ],
             [
              0.5555555555555556,
              "#d8576b"
             ],
             [
              0.6666666666666666,
              "#ed7953"
             ],
             [
              0.7777777777777778,
              "#fb9f3a"
             ],
             [
              0.8888888888888888,
              "#fdca26"
             ],
             [
              1,
              "#f0f921"
             ]
            ],
            "type": "surface"
           }
          ],
          "table": [
           {
            "cells": {
             "fill": {
              "color": "#EBF0F8"
             },
             "line": {
              "color": "white"
             }
            },
            "header": {
             "fill": {
              "color": "#C8D4E3"
             },
             "line": {
              "color": "white"
             }
            },
            "type": "table"
           }
          ]
         },
         "layout": {
          "annotationdefaults": {
           "arrowcolor": "#2a3f5f",
           "arrowhead": 0,
           "arrowwidth": 1
          },
          "autotypenumbers": "strict",
          "coloraxis": {
           "colorbar": {
            "outlinewidth": 0,
            "ticks": ""
           }
          },
          "colorscale": {
           "diverging": [
            [
             0,
             "#8e0152"
            ],
            [
             0.1,
             "#c51b7d"
            ],
            [
             0.2,
             "#de77ae"
            ],
            [
             0.3,
             "#f1b6da"
            ],
            [
             0.4,
             "#fde0ef"
            ],
            [
             0.5,
             "#f7f7f7"
            ],
            [
             0.6,
             "#e6f5d0"
            ],
            [
             0.7,
             "#b8e186"
            ],
            [
             0.8,
             "#7fbc41"
            ],
            [
             0.9,
             "#4d9221"
            ],
            [
             1,
             "#276419"
            ]
           ],
           "sequential": [
            [
             0,
             "#0d0887"
            ],
            [
             0.1111111111111111,
             "#46039f"
            ],
            [
             0.2222222222222222,
             "#7201a8"
            ],
            [
             0.3333333333333333,
             "#9c179e"
            ],
            [
             0.4444444444444444,
             "#bd3786"
            ],
            [
             0.5555555555555556,
             "#d8576b"
            ],
            [
             0.6666666666666666,
             "#ed7953"
            ],
            [
             0.7777777777777778,
             "#fb9f3a"
            ],
            [
             0.8888888888888888,
             "#fdca26"
            ],
            [
             1,
             "#f0f921"
            ]
           ],
           "sequentialminus": [
            [
             0,
             "#0d0887"
            ],
            [
             0.1111111111111111,
             "#46039f"
            ],
            [
             0.2222222222222222,
             "#7201a8"
            ],
            [
             0.3333333333333333,
             "#9c179e"
            ],
            [
             0.4444444444444444,
             "#bd3786"
            ],
            [
             0.5555555555555556,
             "#d8576b"
            ],
            [
             0.6666666666666666,
             "#ed7953"
            ],
            [
             0.7777777777777778,
             "#fb9f3a"
            ],
            [
             0.8888888888888888,
             "#fdca26"
            ],
            [
             1,
             "#f0f921"
            ]
           ]
          },
          "colorway": [
           "#636efa",
           "#EF553B",
           "#00cc96",
           "#ab63fa",
           "#FFA15A",
           "#19d3f3",
           "#FF6692",
           "#B6E880",
           "#FF97FF",
           "#FECB52"
          ],
          "font": {
           "color": "#2a3f5f"
          },
          "geo": {
           "bgcolor": "white",
           "lakecolor": "white",
           "landcolor": "#E5ECF6",
           "showlakes": true,
           "showland": true,
           "subunitcolor": "white"
          },
          "hoverlabel": {
           "align": "left"
          },
          "hovermode": "closest",
          "mapbox": {
           "style": "light"
          },
          "paper_bgcolor": "white",
          "plot_bgcolor": "#E5ECF6",
          "polar": {
           "angularaxis": {
            "gridcolor": "white",
            "linecolor": "white",
            "ticks": ""
           },
           "bgcolor": "#E5ECF6",
           "radialaxis": {
            "gridcolor": "white",
            "linecolor": "white",
            "ticks": ""
           }
          },
          "scene": {
           "xaxis": {
            "backgroundcolor": "#E5ECF6",
            "gridcolor": "white",
            "gridwidth": 2,
            "linecolor": "white",
            "showbackground": true,
            "ticks": "",
            "zerolinecolor": "white"
           },
           "yaxis": {
            "backgroundcolor": "#E5ECF6",
            "gridcolor": "white",
            "gridwidth": 2,
            "linecolor": "white",
            "showbackground": true,
            "ticks": "",
            "zerolinecolor": "white"
           },
           "zaxis": {
            "backgroundcolor": "#E5ECF6",
            "gridcolor": "white",
            "gridwidth": 2,
            "linecolor": "white",
            "showbackground": true,
            "ticks": "",
            "zerolinecolor": "white"
           }
          },
          "shapedefaults": {
           "line": {
            "color": "#2a3f5f"
           }
          },
          "ternary": {
           "aaxis": {
            "gridcolor": "white",
            "linecolor": "white",
            "ticks": ""
           },
           "baxis": {
            "gridcolor": "white",
            "linecolor": "white",
            "ticks": ""
           },
           "bgcolor": "#E5ECF6",
           "caxis": {
            "gridcolor": "white",
            "linecolor": "white",
            "ticks": ""
           }
          },
          "title": {
           "x": 0.05
          },
          "xaxis": {
           "automargin": true,
           "gridcolor": "white",
           "linecolor": "white",
           "ticks": "",
           "title": {
            "standoff": 15
           },
           "zerolinecolor": "white",
           "zerolinewidth": 2
          },
          "yaxis": {
           "automargin": true,
           "gridcolor": "white",
           "linecolor": "white",
           "ticks": "",
           "title": {
            "standoff": 15
           },
           "zerolinecolor": "white",
           "zerolinewidth": 2
          }
         }
        },
        "title": {
         "font": {
          "color": "#4D5663"
         }
        },
        "xaxis": {
         "gridcolor": "#E1E5ED",
         "showgrid": true,
         "tickfont": {
          "color": "#4D5663"
         },
         "title": {
          "font": {
           "color": "#4D5663"
          },
          "text": ""
         },
         "zerolinecolor": "#E1E5ED"
        },
        "xaxis2": {
         "anchor": "y2",
         "gridcolor": "#E1E5ED",
         "showgrid": true,
         "showticklabels": false,
         "tickfont": {
          "color": "#4D5663"
         },
         "title": {
          "font": {
           "color": "#4D5663"
          },
          "text": ""
         },
         "zerolinecolor": "#E1E5ED"
        },
        "yaxis": {
         "domain": [
          0.3,
          1
         ],
         "gridcolor": "#E1E5ED",
         "showgrid": true,
         "tickfont": {
          "color": "#4D5663"
         },
         "title": {
          "font": {
           "color": "#4D5663"
          },
          "text": ""
         },
         "zerolinecolor": "#E1E5ED"
        },
        "yaxis2": {
         "domain": [
          0,
          0.25
         ],
         "gridcolor": "#E1E5ED",
         "showgrid": true,
         "tickfont": {
          "color": "#4D5663"
         },
         "title": {
          "font": {
           "color": "#4D5663"
          },
          "text": "Spread"
         },
         "zerolinecolor": "#E1E5ED"
        }
       }
      },
      "text/html": [
       "<div>                            <div id=\"44787082-1ca4-4b2c-8c9a-afaeb1040853\" class=\"plotly-graph-div\" style=\"height:525px; width:100%;\"></div>            <script type=\"text/javascript\">                require([\"plotly\"], function(Plotly) {                    window.PLOTLYENV=window.PLOTLYENV || {};\n",
       "                    window.PLOTLYENV.BASE_URL='https://plot.ly';                                    if (document.getElementById(\"44787082-1ca4-4b2c-8c9a-afaeb1040853\")) {                    Plotly.newPlot(                        \"44787082-1ca4-4b2c-8c9a-afaeb1040853\",                        [{\"line\":{\"color\":\"rgba(255, 153, 51, 1.0)\",\"dash\":\"solid\",\"shape\":\"linear\",\"width\":1.3},\"mode\":\"lines\",\"name\":\"A\",\"text\":\"\",\"x\":[0,1,2,3,4,5,6,7,8,9,10,11,12,13,14,15,16,17,18,19,20,21,22,23,24,25,26,27,28,29,30,31,32,33,34,35,36,37,38,39,40,41,42,43,44,45,46,47,48,49,50,51,52,53,54,55,56,57,58,59,60,61,62,63,64,65,66,67,68,69,70,71,72,73,74,75,76,77,78,79,80,81,82,83,84,85,86,87,88,89,90,91,92,93,94,95,96,97,98,99],\"y\":[0.9674792495653929,-0.869645948345109,0.3276963940454639,2.212326394176484,1.194564115626372,1.281333312680946,-0.4593625791084765,0.2534398304646211,-1.187047102320885,0.009120945638079877,0.46812971295397005,0.3173603163090243,-0.5949756643716486,0.36612201815595236,1.6823087709179516,0.1223867090465667,1.2858955968180077,-0.355874679445089,-1.5056555405566194,-0.9803269668748792,-0.9821783534228085,-0.052757830218477235,0.8033100178798156,-1.2398031374339302,-0.5813663197398291,0.19886821601177004,0.1294915534324573,-0.13306937600077753,1.3939949997907175,1.1973801278232796,0.584311181386549,0.9814067443843448,0.2061913231991555,1.671664827360644,0.789600735681814,1.2933123482628828,1.4246595860526337,-1.3217494580552764,-0.07724462464406437,0.18930105179933207,-0.8808766976813702,-0.01730765278196536,1.6745130595812752,-0.9444306581128674,-0.1221827946211637,-2.321901756440847,0.7477928499020462,-1.8263033277692504,-1.0618495646062116,-0.09040834612020593,-0.0010349389445514765,-2.735604509568205,-1.6080140908995408,0.46315775491532685,-0.5641038656392511,-0.09215769154545252,1.0002522597706367,0.17587208675758984,-0.5954239279504188,-2.911645903175407,0.060337624495499904,-0.42040253946929246,1.7762469320792973,0.8730115926111546,1.8439878835043193,-0.6085419218754314,-0.9079008941146096,0.2759242313421433,-0.3988133260904946,1.3186512094391587,-0.22711041145047717,-1.1216333739411006,0.8022488902000023,-0.28124431547160195,-0.5851126659274265,0.4306201479387562,-1.0882948662735636,0.027976391155035966,0.5566361343141041,-1.5807367243659294,-0.8082355354469991,0.5644686676080057,-0.5897432726211994,-1.090934333436364,-0.24825567958331607,0.24567974588087993,1.0745837768794317,-0.4793855569130954,1.2390952913307294,-0.1127955717482966,0.5115001071064847,-0.05946749612950342,-0.8113493777941423,-0.049751974798389886,-0.3517813343733759,-0.29145587516066457,0.5787628035960883,-0.1311683960980727,-0.10496940636822302,0.5356439478190795],\"type\":\"scatter\"},{\"line\":{\"color\":\"rgba(55, 128, 191, 1.0)\",\"dash\":\"solid\",\"shape\":\"linear\",\"width\":1.3},\"mode\":\"lines\",\"name\":\"B\",\"text\":\"\",\"x\":[0,1,2,3,4,5,6,7,8,9,10,11,12,13,14,15,16,17,18,19,20,21,22,23,24,25,26,27,28,29,30,31,32,33,34,35,36,37,38,39,40,41,42,43,44,45,46,47,48,49,50,51,52,53,54,55,56,57,58,59,60,61,62,63,64,65,66,67,68,69,70,71,72,73,74,75,76,77,78,79,80,81,82,83,84,85,86,87,88,89,90,91,92,93,94,95,96,97,98,99],\"y\":[1.2559665150128738,1.623222658930747,-1.6337826450630495,0.9447131134135116,1.1798043405299838,-1.155688742948656,2.4548456650087664,0.1967602313034417,1.273259911357326,0.032098563769232605,-0.9406093982229913,-1.2964368050421562,-1.519902506155913,-0.3761787602834264,-0.010752827153059951,-0.10556004881246867,0.20076895648962265,-1.6850246316573827,-0.053499097961576036,0.026679427972856138,-0.9296474377801646,0.34792155075954995,0.6817847402778288,0.6709660186939352,-0.32023098099219494,0.3547897976235289,-0.13263784373644685,0.2935159364327797,-1.1935028348876886,-0.6154685546770732,0.2711354765320031,-1.2721284909920545,-1.66150782301575,-0.40869372542459653,0.6927214550234417,-0.571354166680342,-2.370721439218031,0.1493964954778568,0.6510556001226679,0.4292580766720687,0.7638851538915261,-0.6330279833466473,0.17323422869432137,0.5571215919463213,-1.7511962250925097,1.0350253485830763,-0.15762194299334684,0.4863083584740155,0.30436807080373923,0.4251551333724484,0.3550019805177964,0.44034349879940204,2.0969774956697025,1.0962646409270569,1.1830133303858525,-1.1344339583329939,-1.5290452405995383,1.8736128340095886,0.39478122772731267,-1.05179307868685,0.6310044541279328,0.42939924866247065,0.5323109177393281,-0.4729320313581209,1.5409072215037973,-1.262119363458304,-0.7039383666072286,-0.8990003348315486,-0.028011387798115833,0.47592024362120794,0.9002351500195176,-0.14605167795031107,-0.7679327720116481,1.5576359927434305,-0.7733583994874416,0.23109138835710186,-1.1494712996178111,0.4967199657809361,0.29515336234764084,0.8557133952349325,-0.309347918115768,-0.9199284431444746,-0.0815317236788813,0.09104793048301475,-0.4112088551283685,0.07420682096557561,0.8944805960648957,1.047378806846963,-0.043918820524732866,-1.0315338064149218,-0.7600061950087242,-0.9280574417632615,-0.7216526703364456,0.7305990509468757,-0.04815858666592761,-0.6922237460237607,-0.4498024098452496,-0.906975856818541,-1.5624154089293907,-0.6482211367486518],\"type\":\"scatter\"},{\"connectgaps\":false,\"fill\":\"tozeroy\",\"line\":{\"color\":\"green\",\"dash\":\"solid\",\"shape\":\"linear\",\"width\":0.5},\"mode\":\"lines\",\"name\":\"Spread\",\"showlegend\":false,\"x\":[0,1,2,3,4,5,6,7,8,9,10,11,12,13,14,15,16,17,18,19,20,21,22,23,24,25,26,27,28,29,30,31,32,33,34,35,36,37,38,39,40,41,42,43,44,45,46,47,48,49,50,51,52,53,54,55,56,57,58,59,60,61,62,63,64,65,66,67,68,69,70,71,72,73,74,75,76,77,78,79,80,81,82,83,84,85,86,87,88,89,90,91,92,93,94,95,96,97,98,99],\"xaxis\":\"x2\",\"y\":[\"\",\"\",1.9614790391085135,1.2676132807629723,0.01475977509638815,2.437022055629602,\"\",0.0566795991611794,\"\",\"\",1.4087391111769614,1.6137971213511806,0.9249268417842644,0.7423007784393787,1.6930615980710115,0.22794675785903537,1.085126640328385,1.3291499522122936,\"\",\"\",\"\",\"\",0.12152527760198684,\"\",\"\",\"\",0.26212939716890415,\"\",2.5874978346784063,1.812848682500353,0.31317570485454593,2.2535352353763995,1.8676991462149055,2.0803585527852406,0.09687928065837226,1.8646665149432247,3.7953810252706646,\"\",\"\",\"\",\"\",0.615720330564682,1.5012788308869538,\"\",1.629013430471346,\"\",0.9054147928953931,\"\",\"\",\"\",\"\",\"\",\"\",\"\",\"\",1.0422762667875414,2.529297500370175,\"\",\"\",\"\",\"\",\"\",1.2439360143399691,1.3459436239692755,0.30308066200052197,0.6535774415828727,\"\",1.1749245661736918,\"\",0.8427309658179507,\"\",\"\",1.5701816622116505,\"\",0.18824573356001506,0.19952875958165434,0.061176433344247494,\"\",0.26148277196646325,\"\",\"\",1.4843971107524805,\"\",\"\",0.16295317554505245,0.1714729249153043,0.18010318081453602,\"\",1.2830141118554623,0.9187382346666252,1.2715063021152089,0.8685899456337581,\"\",\"\",\"\",0.4007678708630961,1.0285652134413379,0.7758074607204682,1.4574460025611677,1.1838650845677314],\"yaxis\":\"y2\",\"type\":\"scatter\"},{\"connectgaps\":false,\"fill\":\"tozeroy\",\"line\":{\"color\":\"red\",\"dash\":\"solid\",\"shape\":\"linear\",\"width\":0.5},\"mode\":\"lines\",\"name\":\"Spread\",\"showlegend\":false,\"x\":[0,1,2,3,4,5,6,7,8,9,10,11,12,13,14,15,16,17,18,19,20,21,22,23,24,25,26,27,28,29,30,31,32,33,34,35,36,37,38,39,40,41,42,43,44,45,46,47,48,49,50,51,52,53,54,55,56,57,58,59,60,61,62,63,64,65,66,67,68,69,70,71,72,73,74,75,76,77,78,79,80,81,82,83,84,85,86,87,88,89,90,91,92,93,94,95,96,97,98,99],\"xaxis\":\"x2\",\"y\":[-0.28848726544748093,-2.492868607275856,\"\",\"\",\"\",\"\",-2.9142082441172428,\"\",-2.460307013678211,-0.022977618131152726,\"\",\"\",\"\",\"\",\"\",\"\",\"\",\"\",-1.4521564425950433,-1.0070063948477352,-0.052530915642643894,-0.4006793809780272,\"\",-1.9107691561278655,-0.26113533874763417,-0.15592158161175887,\"\",-0.42658531243355724,\"\",\"\",\"\",\"\",\"\",\"\",\"\",\"\",\"\",-1.4711459535331333,-0.7283002247667323,-0.23995702487273665,-1.6447618515728963,\"\",\"\",-1.5015522500591887,\"\",-3.356927105023923,\"\",-2.3126116862432657,-1.366217635409951,-0.5155634794926544,-0.3560369194623479,-3.175948008367607,-3.7049915865692435,-0.63310688601173,-1.7471171960251035,\"\",\"\",-1.6977407472519987,-0.9902051556777314,-1.859852824488557,-0.5706668296324329,-0.8498017881317631,\"\",\"\",\"\",\"\",-0.20396252750738098,\"\",-0.37080193829237873,\"\",-1.1273455614699948,-0.9755816959907896,\"\",-1.8388803082150325,\"\",\"\",\"\",-0.4687435746259001,\"\",-2.436450119600862,-0.4988876173312311,\"\",-0.5082115489423181,-1.1819822639193787,\"\",\"\",\"\",-1.5267643637600583,\"\",\"\",\"\",\"\",-0.08969670745769664,-0.7803510257452656,-0.3036227477074483,\"\",\"\",\"\",\"\",\"\"],\"yaxis\":\"y2\",\"type\":\"scatter\"}],                        {\"hovermode\":\"x\",\"legend\":{\"bgcolor\":\"#F5F6F9\",\"font\":{\"color\":\"#4D5663\"}},\"paper_bgcolor\":\"#F5F6F9\",\"plot_bgcolor\":\"#F5F6F9\",\"template\":{\"data\":{\"barpolar\":[{\"marker\":{\"line\":{\"color\":\"#E5ECF6\",\"width\":0.5},\"pattern\":{\"fillmode\":\"overlay\",\"size\":10,\"solidity\":0.2}},\"type\":\"barpolar\"}],\"bar\":[{\"error_x\":{\"color\":\"#2a3f5f\"},\"error_y\":{\"color\":\"#2a3f5f\"},\"marker\":{\"line\":{\"color\":\"#E5ECF6\",\"width\":0.5},\"pattern\":{\"fillmode\":\"overlay\",\"size\":10,\"solidity\":0.2}},\"type\":\"bar\"}],\"carpet\":[{\"aaxis\":{\"endlinecolor\":\"#2a3f5f\",\"gridcolor\":\"white\",\"linecolor\":\"white\",\"minorgridcolor\":\"white\",\"startlinecolor\":\"#2a3f5f\"},\"baxis\":{\"endlinecolor\":\"#2a3f5f\",\"gridcolor\":\"white\",\"linecolor\":\"white\",\"minorgridcolor\":\"white\",\"startlinecolor\":\"#2a3f5f\"},\"type\":\"carpet\"}],\"choropleth\":[{\"colorbar\":{\"outlinewidth\":0,\"ticks\":\"\"},\"type\":\"choropleth\"}],\"contourcarpet\":[{\"colorbar\":{\"outlinewidth\":0,\"ticks\":\"\"},\"type\":\"contourcarpet\"}],\"contour\":[{\"colorbar\":{\"outlinewidth\":0,\"ticks\":\"\"},\"colorscale\":[[0.0,\"#0d0887\"],[0.1111111111111111,\"#46039f\"],[0.2222222222222222,\"#7201a8\"],[0.3333333333333333,\"#9c179e\"],[0.4444444444444444,\"#bd3786\"],[0.5555555555555556,\"#d8576b\"],[0.6666666666666666,\"#ed7953\"],[0.7777777777777778,\"#fb9f3a\"],[0.8888888888888888,\"#fdca26\"],[1.0,\"#f0f921\"]],\"type\":\"contour\"}],\"heatmapgl\":[{\"colorbar\":{\"outlinewidth\":0,\"ticks\":\"\"},\"colorscale\":[[0.0,\"#0d0887\"],[0.1111111111111111,\"#46039f\"],[0.2222222222222222,\"#7201a8\"],[0.3333333333333333,\"#9c179e\"],[0.4444444444444444,\"#bd3786\"],[0.5555555555555556,\"#d8576b\"],[0.6666666666666666,\"#ed7953\"],[0.7777777777777778,\"#fb9f3a\"],[0.8888888888888888,\"#fdca26\"],[1.0,\"#f0f921\"]],\"type\":\"heatmapgl\"}],\"heatmap\":[{\"colorbar\":{\"outlinewidth\":0,\"ticks\":\"\"},\"colorscale\":[[0.0,\"#0d0887\"],[0.1111111111111111,\"#46039f\"],[0.2222222222222222,\"#7201a8\"],[0.3333333333333333,\"#9c179e\"],[0.4444444444444444,\"#bd3786\"],[0.5555555555555556,\"#d8576b\"],[0.6666666666666666,\"#ed7953\"],[0.7777777777777778,\"#fb9f3a\"],[0.8888888888888888,\"#fdca26\"],[1.0,\"#f0f921\"]],\"type\":\"heatmap\"}],\"histogram2dcontour\":[{\"colorbar\":{\"outlinewidth\":0,\"ticks\":\"\"},\"colorscale\":[[0.0,\"#0d0887\"],[0.1111111111111111,\"#46039f\"],[0.2222222222222222,\"#7201a8\"],[0.3333333333333333,\"#9c179e\"],[0.4444444444444444,\"#bd3786\"],[0.5555555555555556,\"#d8576b\"],[0.6666666666666666,\"#ed7953\"],[0.7777777777777778,\"#fb9f3a\"],[0.8888888888888888,\"#fdca26\"],[1.0,\"#f0f921\"]],\"type\":\"histogram2dcontour\"}],\"histogram2d\":[{\"colorbar\":{\"outlinewidth\":0,\"ticks\":\"\"},\"colorscale\":[[0.0,\"#0d0887\"],[0.1111111111111111,\"#46039f\"],[0.2222222222222222,\"#7201a8\"],[0.3333333333333333,\"#9c179e\"],[0.4444444444444444,\"#bd3786\"],[0.5555555555555556,\"#d8576b\"],[0.6666666666666666,\"#ed7953\"],[0.7777777777777778,\"#fb9f3a\"],[0.8888888888888888,\"#fdca26\"],[1.0,\"#f0f921\"]],\"type\":\"histogram2d\"}],\"histogram\":[{\"marker\":{\"pattern\":{\"fillmode\":\"overlay\",\"size\":10,\"solidity\":0.2}},\"type\":\"histogram\"}],\"mesh3d\":[{\"colorbar\":{\"outlinewidth\":0,\"ticks\":\"\"},\"type\":\"mesh3d\"}],\"parcoords\":[{\"line\":{\"colorbar\":{\"outlinewidth\":0,\"ticks\":\"\"}},\"type\":\"parcoords\"}],\"pie\":[{\"automargin\":true,\"type\":\"pie\"}],\"scatter3d\":[{\"line\":{\"colorbar\":{\"outlinewidth\":0,\"ticks\":\"\"}},\"marker\":{\"colorbar\":{\"outlinewidth\":0,\"ticks\":\"\"}},\"type\":\"scatter3d\"}],\"scattercarpet\":[{\"marker\":{\"colorbar\":{\"outlinewidth\":0,\"ticks\":\"\"}},\"type\":\"scattercarpet\"}],\"scattergeo\":[{\"marker\":{\"colorbar\":{\"outlinewidth\":0,\"ticks\":\"\"}},\"type\":\"scattergeo\"}],\"scattergl\":[{\"marker\":{\"colorbar\":{\"outlinewidth\":0,\"ticks\":\"\"}},\"type\":\"scattergl\"}],\"scattermapbox\":[{\"marker\":{\"colorbar\":{\"outlinewidth\":0,\"ticks\":\"\"}},\"type\":\"scattermapbox\"}],\"scatterpolargl\":[{\"marker\":{\"colorbar\":{\"outlinewidth\":0,\"ticks\":\"\"}},\"type\":\"scatterpolargl\"}],\"scatterpolar\":[{\"marker\":{\"colorbar\":{\"outlinewidth\":0,\"ticks\":\"\"}},\"type\":\"scatterpolar\"}],\"scatter\":[{\"fillpattern\":{\"fillmode\":\"overlay\",\"size\":10,\"solidity\":0.2},\"type\":\"scatter\"}],\"scatterternary\":[{\"marker\":{\"colorbar\":{\"outlinewidth\":0,\"ticks\":\"\"}},\"type\":\"scatterternary\"}],\"surface\":[{\"colorbar\":{\"outlinewidth\":0,\"ticks\":\"\"},\"colorscale\":[[0.0,\"#0d0887\"],[0.1111111111111111,\"#46039f\"],[0.2222222222222222,\"#7201a8\"],[0.3333333333333333,\"#9c179e\"],[0.4444444444444444,\"#bd3786\"],[0.5555555555555556,\"#d8576b\"],[0.6666666666666666,\"#ed7953\"],[0.7777777777777778,\"#fb9f3a\"],[0.8888888888888888,\"#fdca26\"],[1.0,\"#f0f921\"]],\"type\":\"surface\"}],\"table\":[{\"cells\":{\"fill\":{\"color\":\"#EBF0F8\"},\"line\":{\"color\":\"white\"}},\"header\":{\"fill\":{\"color\":\"#C8D4E3\"},\"line\":{\"color\":\"white\"}},\"type\":\"table\"}]},\"layout\":{\"annotationdefaults\":{\"arrowcolor\":\"#2a3f5f\",\"arrowhead\":0,\"arrowwidth\":1},\"autotypenumbers\":\"strict\",\"coloraxis\":{\"colorbar\":{\"outlinewidth\":0,\"ticks\":\"\"}},\"colorscale\":{\"diverging\":[[0,\"#8e0152\"],[0.1,\"#c51b7d\"],[0.2,\"#de77ae\"],[0.3,\"#f1b6da\"],[0.4,\"#fde0ef\"],[0.5,\"#f7f7f7\"],[0.6,\"#e6f5d0\"],[0.7,\"#b8e186\"],[0.8,\"#7fbc41\"],[0.9,\"#4d9221\"],[1,\"#276419\"]],\"sequential\":[[0.0,\"#0d0887\"],[0.1111111111111111,\"#46039f\"],[0.2222222222222222,\"#7201a8\"],[0.3333333333333333,\"#9c179e\"],[0.4444444444444444,\"#bd3786\"],[0.5555555555555556,\"#d8576b\"],[0.6666666666666666,\"#ed7953\"],[0.7777777777777778,\"#fb9f3a\"],[0.8888888888888888,\"#fdca26\"],[1.0,\"#f0f921\"]],\"sequentialminus\":[[0.0,\"#0d0887\"],[0.1111111111111111,\"#46039f\"],[0.2222222222222222,\"#7201a8\"],[0.3333333333333333,\"#9c179e\"],[0.4444444444444444,\"#bd3786\"],[0.5555555555555556,\"#d8576b\"],[0.6666666666666666,\"#ed7953\"],[0.7777777777777778,\"#fb9f3a\"],[0.8888888888888888,\"#fdca26\"],[1.0,\"#f0f921\"]]},\"colorway\":[\"#636efa\",\"#EF553B\",\"#00cc96\",\"#ab63fa\",\"#FFA15A\",\"#19d3f3\",\"#FF6692\",\"#B6E880\",\"#FF97FF\",\"#FECB52\"],\"font\":{\"color\":\"#2a3f5f\"},\"geo\":{\"bgcolor\":\"white\",\"lakecolor\":\"white\",\"landcolor\":\"#E5ECF6\",\"showlakes\":true,\"showland\":true,\"subunitcolor\":\"white\"},\"hoverlabel\":{\"align\":\"left\"},\"hovermode\":\"closest\",\"mapbox\":{\"style\":\"light\"},\"paper_bgcolor\":\"white\",\"plot_bgcolor\":\"#E5ECF6\",\"polar\":{\"angularaxis\":{\"gridcolor\":\"white\",\"linecolor\":\"white\",\"ticks\":\"\"},\"bgcolor\":\"#E5ECF6\",\"radialaxis\":{\"gridcolor\":\"white\",\"linecolor\":\"white\",\"ticks\":\"\"}},\"scene\":{\"xaxis\":{\"backgroundcolor\":\"#E5ECF6\",\"gridcolor\":\"white\",\"gridwidth\":2,\"linecolor\":\"white\",\"showbackground\":true,\"ticks\":\"\",\"zerolinecolor\":\"white\"},\"yaxis\":{\"backgroundcolor\":\"#E5ECF6\",\"gridcolor\":\"white\",\"gridwidth\":2,\"linecolor\":\"white\",\"showbackground\":true,\"ticks\":\"\",\"zerolinecolor\":\"white\"},\"zaxis\":{\"backgroundcolor\":\"#E5ECF6\",\"gridcolor\":\"white\",\"gridwidth\":2,\"linecolor\":\"white\",\"showbackground\":true,\"ticks\":\"\",\"zerolinecolor\":\"white\"}},\"shapedefaults\":{\"line\":{\"color\":\"#2a3f5f\"}},\"ternary\":{\"aaxis\":{\"gridcolor\":\"white\",\"linecolor\":\"white\",\"ticks\":\"\"},\"baxis\":{\"gridcolor\":\"white\",\"linecolor\":\"white\",\"ticks\":\"\"},\"bgcolor\":\"#E5ECF6\",\"caxis\":{\"gridcolor\":\"white\",\"linecolor\":\"white\",\"ticks\":\"\"}},\"title\":{\"x\":0.05},\"xaxis\":{\"automargin\":true,\"gridcolor\":\"white\",\"linecolor\":\"white\",\"ticks\":\"\",\"title\":{\"standoff\":15},\"zerolinecolor\":\"white\",\"zerolinewidth\":2},\"yaxis\":{\"automargin\":true,\"gridcolor\":\"white\",\"linecolor\":\"white\",\"ticks\":\"\",\"title\":{\"standoff\":15},\"zerolinecolor\":\"white\",\"zerolinewidth\":2}}},\"title\":{\"font\":{\"color\":\"#4D5663\"}},\"xaxis\":{\"gridcolor\":\"#E1E5ED\",\"showgrid\":true,\"tickfont\":{\"color\":\"#4D5663\"},\"title\":{\"font\":{\"color\":\"#4D5663\"},\"text\":\"\"},\"zerolinecolor\":\"#E1E5ED\"},\"yaxis\":{\"domain\":[0.3,1],\"gridcolor\":\"#E1E5ED\",\"showgrid\":true,\"tickfont\":{\"color\":\"#4D5663\"},\"title\":{\"font\":{\"color\":\"#4D5663\"},\"text\":\"\"},\"zerolinecolor\":\"#E1E5ED\"},\"yaxis2\":{\"domain\":[0,0.25],\"gridcolor\":\"#E1E5ED\",\"showgrid\":true,\"tickfont\":{\"color\":\"#4D5663\"},\"title\":{\"font\":{\"color\":\"#4D5663\"},\"text\":\"Spread\"},\"zerolinecolor\":\"#E1E5ED\"},\"xaxis2\":{\"anchor\":\"y2\",\"gridcolor\":\"#E1E5ED\",\"showgrid\":true,\"showticklabels\":false,\"tickfont\":{\"color\":\"#4D5663\"},\"title\":{\"font\":{\"color\":\"#4D5663\"},\"text\":\"\"},\"zerolinecolor\":\"#E1E5ED\"}},                        {\"showLink\": true, \"linkText\": \"Export to plot.ly\", \"plotlyServerURL\": \"https://plot.ly\", \"responsive\": true}                    ).then(function(){\n",
       "                            \n",
       "var gd = document.getElementById('44787082-1ca4-4b2c-8c9a-afaeb1040853');\n",
       "var x = new MutationObserver(function (mutations, observer) {{\n",
       "        var display = window.getComputedStyle(gd).display;\n",
       "        if (!display || display === 'none') {{\n",
       "            console.log([gd, 'removed!']);\n",
       "            Plotly.purge(gd);\n",
       "            observer.disconnect();\n",
       "        }}\n",
       "}});\n",
       "\n",
       "// Listen for the removal of the full notebook cells\n",
       "var notebookContainer = gd.closest('#notebook-container');\n",
       "if (notebookContainer) {{\n",
       "    x.observe(notebookContainer, {childList: true});\n",
       "}}\n",
       "\n",
       "// Listen for the clearing of the current output cell\n",
       "var outputEl = gd.closest('.output');\n",
       "if (outputEl) {{\n",
       "    x.observe(outputEl, {childList: true});\n",
       "}}\n",
       "\n",
       "                        })                };                });            </script>        </div>"
      ]
     },
     "metadata": {},
     "output_type": "display_data"
    }
   ],
   "source": [
    "df[['A','B']].iplot(kind='spread')"
   ]
  },
  {
   "cell_type": "markdown",
   "metadata": {},
   "source": [
    "## histogram"
   ]
  },
  {
   "cell_type": "code",
   "execution_count": 16,
   "metadata": {},
   "outputs": [
    {
     "data": {
      "application/vnd.plotly.v1+json": {
       "config": {
        "linkText": "Export to plot.ly",
        "plotlyServerURL": "https://plot.ly",
        "showLink": true
       },
       "data": [
        {
         "histfunc": "count",
         "histnorm": "",
         "marker": {
          "color": "rgba(255, 153, 51, 1.0)",
          "line": {
           "color": "#4D5663",
           "width": 1.3
          }
         },
         "name": "A",
         "nbinsx": 25,
         "opacity": 0.8,
         "orientation": "v",
         "type": "histogram",
         "x": [
          0.9674792495653929,
          -0.869645948345109,
          0.3276963940454639,
          2.212326394176484,
          1.194564115626372,
          1.281333312680946,
          -0.4593625791084765,
          0.2534398304646211,
          -1.187047102320885,
          0.009120945638079877,
          0.46812971295397005,
          0.3173603163090243,
          -0.5949756643716486,
          0.36612201815595236,
          1.6823087709179516,
          0.1223867090465667,
          1.2858955968180077,
          -0.355874679445089,
          -1.5056555405566194,
          -0.9803269668748792,
          -0.9821783534228085,
          -0.052757830218477235,
          0.8033100178798156,
          -1.2398031374339302,
          -0.5813663197398291,
          0.19886821601177004,
          0.1294915534324573,
          -0.13306937600077753,
          1.3939949997907175,
          1.1973801278232796,
          0.584311181386549,
          0.9814067443843448,
          0.2061913231991555,
          1.671664827360644,
          0.789600735681814,
          1.2933123482628828,
          1.4246595860526337,
          -1.3217494580552764,
          -0.07724462464406437,
          0.18930105179933207,
          -0.8808766976813702,
          -0.01730765278196536,
          1.6745130595812752,
          -0.9444306581128674,
          -0.1221827946211637,
          -2.321901756440847,
          0.7477928499020462,
          -1.8263033277692504,
          -1.0618495646062116,
          -0.09040834612020593,
          -0.0010349389445514765,
          -2.735604509568205,
          -1.6080140908995408,
          0.46315775491532685,
          -0.5641038656392511,
          -0.09215769154545252,
          1.0002522597706367,
          0.17587208675758984,
          -0.5954239279504188,
          -2.911645903175407,
          0.060337624495499904,
          -0.42040253946929246,
          1.7762469320792973,
          0.8730115926111546,
          1.8439878835043193,
          -0.6085419218754314,
          -0.9079008941146096,
          0.2759242313421433,
          -0.3988133260904946,
          1.3186512094391587,
          -0.22711041145047717,
          -1.1216333739411006,
          0.8022488902000023,
          -0.28124431547160195,
          -0.5851126659274265,
          0.4306201479387562,
          -1.0882948662735636,
          0.027976391155035966,
          0.5566361343141041,
          -1.5807367243659294,
          -0.8082355354469991,
          0.5644686676080057,
          -0.5897432726211994,
          -1.090934333436364,
          -0.24825567958331607,
          0.24567974588087993,
          1.0745837768794317,
          -0.4793855569130954,
          1.2390952913307294,
          -0.1127955717482966,
          0.5115001071064847,
          -0.05946749612950342,
          -0.8113493777941423,
          -0.049751974798389886,
          -0.3517813343733759,
          -0.29145587516066457,
          0.5787628035960883,
          -0.1311683960980727,
          -0.10496940636822302,
          0.5356439478190795
         ]
        }
       ],
       "layout": {
        "barmode": "overlay",
        "legend": {
         "bgcolor": "#F5F6F9",
         "font": {
          "color": "#4D5663"
         }
        },
        "paper_bgcolor": "#F5F6F9",
        "plot_bgcolor": "#F5F6F9",
        "template": {
         "data": {
          "bar": [
           {
            "error_x": {
             "color": "#2a3f5f"
            },
            "error_y": {
             "color": "#2a3f5f"
            },
            "marker": {
             "line": {
              "color": "#E5ECF6",
              "width": 0.5
             },
             "pattern": {
              "fillmode": "overlay",
              "size": 10,
              "solidity": 0.2
             }
            },
            "type": "bar"
           }
          ],
          "barpolar": [
           {
            "marker": {
             "line": {
              "color": "#E5ECF6",
              "width": 0.5
             },
             "pattern": {
              "fillmode": "overlay",
              "size": 10,
              "solidity": 0.2
             }
            },
            "type": "barpolar"
           }
          ],
          "carpet": [
           {
            "aaxis": {
             "endlinecolor": "#2a3f5f",
             "gridcolor": "white",
             "linecolor": "white",
             "minorgridcolor": "white",
             "startlinecolor": "#2a3f5f"
            },
            "baxis": {
             "endlinecolor": "#2a3f5f",
             "gridcolor": "white",
             "linecolor": "white",
             "minorgridcolor": "white",
             "startlinecolor": "#2a3f5f"
            },
            "type": "carpet"
           }
          ],
          "choropleth": [
           {
            "colorbar": {
             "outlinewidth": 0,
             "ticks": ""
            },
            "type": "choropleth"
           }
          ],
          "contour": [
           {
            "colorbar": {
             "outlinewidth": 0,
             "ticks": ""
            },
            "colorscale": [
             [
              0,
              "#0d0887"
             ],
             [
              0.1111111111111111,
              "#46039f"
             ],
             [
              0.2222222222222222,
              "#7201a8"
             ],
             [
              0.3333333333333333,
              "#9c179e"
             ],
             [
              0.4444444444444444,
              "#bd3786"
             ],
             [
              0.5555555555555556,
              "#d8576b"
             ],
             [
              0.6666666666666666,
              "#ed7953"
             ],
             [
              0.7777777777777778,
              "#fb9f3a"
             ],
             [
              0.8888888888888888,
              "#fdca26"
             ],
             [
              1,
              "#f0f921"
             ]
            ],
            "type": "contour"
           }
          ],
          "contourcarpet": [
           {
            "colorbar": {
             "outlinewidth": 0,
             "ticks": ""
            },
            "type": "contourcarpet"
           }
          ],
          "heatmap": [
           {
            "colorbar": {
             "outlinewidth": 0,
             "ticks": ""
            },
            "colorscale": [
             [
              0,
              "#0d0887"
             ],
             [
              0.1111111111111111,
              "#46039f"
             ],
             [
              0.2222222222222222,
              "#7201a8"
             ],
             [
              0.3333333333333333,
              "#9c179e"
             ],
             [
              0.4444444444444444,
              "#bd3786"
             ],
             [
              0.5555555555555556,
              "#d8576b"
             ],
             [
              0.6666666666666666,
              "#ed7953"
             ],
             [
              0.7777777777777778,
              "#fb9f3a"
             ],
             [
              0.8888888888888888,
              "#fdca26"
             ],
             [
              1,
              "#f0f921"
             ]
            ],
            "type": "heatmap"
           }
          ],
          "heatmapgl": [
           {
            "colorbar": {
             "outlinewidth": 0,
             "ticks": ""
            },
            "colorscale": [
             [
              0,
              "#0d0887"
             ],
             [
              0.1111111111111111,
              "#46039f"
             ],
             [
              0.2222222222222222,
              "#7201a8"
             ],
             [
              0.3333333333333333,
              "#9c179e"
             ],
             [
              0.4444444444444444,
              "#bd3786"
             ],
             [
              0.5555555555555556,
              "#d8576b"
             ],
             [
              0.6666666666666666,
              "#ed7953"
             ],
             [
              0.7777777777777778,
              "#fb9f3a"
             ],
             [
              0.8888888888888888,
              "#fdca26"
             ],
             [
              1,
              "#f0f921"
             ]
            ],
            "type": "heatmapgl"
           }
          ],
          "histogram": [
           {
            "marker": {
             "pattern": {
              "fillmode": "overlay",
              "size": 10,
              "solidity": 0.2
             }
            },
            "type": "histogram"
           }
          ],
          "histogram2d": [
           {
            "colorbar": {
             "outlinewidth": 0,
             "ticks": ""
            },
            "colorscale": [
             [
              0,
              "#0d0887"
             ],
             [
              0.1111111111111111,
              "#46039f"
             ],
             [
              0.2222222222222222,
              "#7201a8"
             ],
             [
              0.3333333333333333,
              "#9c179e"
             ],
             [
              0.4444444444444444,
              "#bd3786"
             ],
             [
              0.5555555555555556,
              "#d8576b"
             ],
             [
              0.6666666666666666,
              "#ed7953"
             ],
             [
              0.7777777777777778,
              "#fb9f3a"
             ],
             [
              0.8888888888888888,
              "#fdca26"
             ],
             [
              1,
              "#f0f921"
             ]
            ],
            "type": "histogram2d"
           }
          ],
          "histogram2dcontour": [
           {
            "colorbar": {
             "outlinewidth": 0,
             "ticks": ""
            },
            "colorscale": [
             [
              0,
              "#0d0887"
             ],
             [
              0.1111111111111111,
              "#46039f"
             ],
             [
              0.2222222222222222,
              "#7201a8"
             ],
             [
              0.3333333333333333,
              "#9c179e"
             ],
             [
              0.4444444444444444,
              "#bd3786"
             ],
             [
              0.5555555555555556,
              "#d8576b"
             ],
             [
              0.6666666666666666,
              "#ed7953"
             ],
             [
              0.7777777777777778,
              "#fb9f3a"
             ],
             [
              0.8888888888888888,
              "#fdca26"
             ],
             [
              1,
              "#f0f921"
             ]
            ],
            "type": "histogram2dcontour"
           }
          ],
          "mesh3d": [
           {
            "colorbar": {
             "outlinewidth": 0,
             "ticks": ""
            },
            "type": "mesh3d"
           }
          ],
          "parcoords": [
           {
            "line": {
             "colorbar": {
              "outlinewidth": 0,
              "ticks": ""
             }
            },
            "type": "parcoords"
           }
          ],
          "pie": [
           {
            "automargin": true,
            "type": "pie"
           }
          ],
          "scatter": [
           {
            "fillpattern": {
             "fillmode": "overlay",
             "size": 10,
             "solidity": 0.2
            },
            "type": "scatter"
           }
          ],
          "scatter3d": [
           {
            "line": {
             "colorbar": {
              "outlinewidth": 0,
              "ticks": ""
             }
            },
            "marker": {
             "colorbar": {
              "outlinewidth": 0,
              "ticks": ""
             }
            },
            "type": "scatter3d"
           }
          ],
          "scattercarpet": [
           {
            "marker": {
             "colorbar": {
              "outlinewidth": 0,
              "ticks": ""
             }
            },
            "type": "scattercarpet"
           }
          ],
          "scattergeo": [
           {
            "marker": {
             "colorbar": {
              "outlinewidth": 0,
              "ticks": ""
             }
            },
            "type": "scattergeo"
           }
          ],
          "scattergl": [
           {
            "marker": {
             "colorbar": {
              "outlinewidth": 0,
              "ticks": ""
             }
            },
            "type": "scattergl"
           }
          ],
          "scattermapbox": [
           {
            "marker": {
             "colorbar": {
              "outlinewidth": 0,
              "ticks": ""
             }
            },
            "type": "scattermapbox"
           }
          ],
          "scatterpolar": [
           {
            "marker": {
             "colorbar": {
              "outlinewidth": 0,
              "ticks": ""
             }
            },
            "type": "scatterpolar"
           }
          ],
          "scatterpolargl": [
           {
            "marker": {
             "colorbar": {
              "outlinewidth": 0,
              "ticks": ""
             }
            },
            "type": "scatterpolargl"
           }
          ],
          "scatterternary": [
           {
            "marker": {
             "colorbar": {
              "outlinewidth": 0,
              "ticks": ""
             }
            },
            "type": "scatterternary"
           }
          ],
          "surface": [
           {
            "colorbar": {
             "outlinewidth": 0,
             "ticks": ""
            },
            "colorscale": [
             [
              0,
              "#0d0887"
             ],
             [
              0.1111111111111111,
              "#46039f"
             ],
             [
              0.2222222222222222,
              "#7201a8"
             ],
             [
              0.3333333333333333,
              "#9c179e"
             ],
             [
              0.4444444444444444,
              "#bd3786"
             ],
             [
              0.5555555555555556,
              "#d8576b"
             ],
             [
              0.6666666666666666,
              "#ed7953"
             ],
             [
              0.7777777777777778,
              "#fb9f3a"
             ],
             [
              0.8888888888888888,
              "#fdca26"
             ],
             [
              1,
              "#f0f921"
             ]
            ],
            "type": "surface"
           }
          ],
          "table": [
           {
            "cells": {
             "fill": {
              "color": "#EBF0F8"
             },
             "line": {
              "color": "white"
             }
            },
            "header": {
             "fill": {
              "color": "#C8D4E3"
             },
             "line": {
              "color": "white"
             }
            },
            "type": "table"
           }
          ]
         },
         "layout": {
          "annotationdefaults": {
           "arrowcolor": "#2a3f5f",
           "arrowhead": 0,
           "arrowwidth": 1
          },
          "autotypenumbers": "strict",
          "coloraxis": {
           "colorbar": {
            "outlinewidth": 0,
            "ticks": ""
           }
          },
          "colorscale": {
           "diverging": [
            [
             0,
             "#8e0152"
            ],
            [
             0.1,
             "#c51b7d"
            ],
            [
             0.2,
             "#de77ae"
            ],
            [
             0.3,
             "#f1b6da"
            ],
            [
             0.4,
             "#fde0ef"
            ],
            [
             0.5,
             "#f7f7f7"
            ],
            [
             0.6,
             "#e6f5d0"
            ],
            [
             0.7,
             "#b8e186"
            ],
            [
             0.8,
             "#7fbc41"
            ],
            [
             0.9,
             "#4d9221"
            ],
            [
             1,
             "#276419"
            ]
           ],
           "sequential": [
            [
             0,
             "#0d0887"
            ],
            [
             0.1111111111111111,
             "#46039f"
            ],
            [
             0.2222222222222222,
             "#7201a8"
            ],
            [
             0.3333333333333333,
             "#9c179e"
            ],
            [
             0.4444444444444444,
             "#bd3786"
            ],
            [
             0.5555555555555556,
             "#d8576b"
            ],
            [
             0.6666666666666666,
             "#ed7953"
            ],
            [
             0.7777777777777778,
             "#fb9f3a"
            ],
            [
             0.8888888888888888,
             "#fdca26"
            ],
            [
             1,
             "#f0f921"
            ]
           ],
           "sequentialminus": [
            [
             0,
             "#0d0887"
            ],
            [
             0.1111111111111111,
             "#46039f"
            ],
            [
             0.2222222222222222,
             "#7201a8"
            ],
            [
             0.3333333333333333,
             "#9c179e"
            ],
            [
             0.4444444444444444,
             "#bd3786"
            ],
            [
             0.5555555555555556,
             "#d8576b"
            ],
            [
             0.6666666666666666,
             "#ed7953"
            ],
            [
             0.7777777777777778,
             "#fb9f3a"
            ],
            [
             0.8888888888888888,
             "#fdca26"
            ],
            [
             1,
             "#f0f921"
            ]
           ]
          },
          "colorway": [
           "#636efa",
           "#EF553B",
           "#00cc96",
           "#ab63fa",
           "#FFA15A",
           "#19d3f3",
           "#FF6692",
           "#B6E880",
           "#FF97FF",
           "#FECB52"
          ],
          "font": {
           "color": "#2a3f5f"
          },
          "geo": {
           "bgcolor": "white",
           "lakecolor": "white",
           "landcolor": "#E5ECF6",
           "showlakes": true,
           "showland": true,
           "subunitcolor": "white"
          },
          "hoverlabel": {
           "align": "left"
          },
          "hovermode": "closest",
          "mapbox": {
           "style": "light"
          },
          "paper_bgcolor": "white",
          "plot_bgcolor": "#E5ECF6",
          "polar": {
           "angularaxis": {
            "gridcolor": "white",
            "linecolor": "white",
            "ticks": ""
           },
           "bgcolor": "#E5ECF6",
           "radialaxis": {
            "gridcolor": "white",
            "linecolor": "white",
            "ticks": ""
           }
          },
          "scene": {
           "xaxis": {
            "backgroundcolor": "#E5ECF6",
            "gridcolor": "white",
            "gridwidth": 2,
            "linecolor": "white",
            "showbackground": true,
            "ticks": "",
            "zerolinecolor": "white"
           },
           "yaxis": {
            "backgroundcolor": "#E5ECF6",
            "gridcolor": "white",
            "gridwidth": 2,
            "linecolor": "white",
            "showbackground": true,
            "ticks": "",
            "zerolinecolor": "white"
           },
           "zaxis": {
            "backgroundcolor": "#E5ECF6",
            "gridcolor": "white",
            "gridwidth": 2,
            "linecolor": "white",
            "showbackground": true,
            "ticks": "",
            "zerolinecolor": "white"
           }
          },
          "shapedefaults": {
           "line": {
            "color": "#2a3f5f"
           }
          },
          "ternary": {
           "aaxis": {
            "gridcolor": "white",
            "linecolor": "white",
            "ticks": ""
           },
           "baxis": {
            "gridcolor": "white",
            "linecolor": "white",
            "ticks": ""
           },
           "bgcolor": "#E5ECF6",
           "caxis": {
            "gridcolor": "white",
            "linecolor": "white",
            "ticks": ""
           }
          },
          "title": {
           "x": 0.05
          },
          "xaxis": {
           "automargin": true,
           "gridcolor": "white",
           "linecolor": "white",
           "ticks": "",
           "title": {
            "standoff": 15
           },
           "zerolinecolor": "white",
           "zerolinewidth": 2
          },
          "yaxis": {
           "automargin": true,
           "gridcolor": "white",
           "linecolor": "white",
           "ticks": "",
           "title": {
            "standoff": 15
           },
           "zerolinecolor": "white",
           "zerolinewidth": 2
          }
         }
        },
        "title": {
         "font": {
          "color": "#4D5663"
         }
        },
        "xaxis": {
         "gridcolor": "#E1E5ED",
         "showgrid": true,
         "tickfont": {
          "color": "#4D5663"
         },
         "title": {
          "font": {
           "color": "#4D5663"
          },
          "text": ""
         },
         "zerolinecolor": "#E1E5ED"
        },
        "yaxis": {
         "gridcolor": "#E1E5ED",
         "showgrid": true,
         "tickfont": {
          "color": "#4D5663"
         },
         "title": {
          "font": {
           "color": "#4D5663"
          },
          "text": ""
         },
         "zerolinecolor": "#E1E5ED"
        }
       }
      },
      "text/html": [
       "<div>                            <div id=\"e1b0f38d-8f7b-4184-b596-49bb6e911def\" class=\"plotly-graph-div\" style=\"height:525px; width:100%;\"></div>            <script type=\"text/javascript\">                require([\"plotly\"], function(Plotly) {                    window.PLOTLYENV=window.PLOTLYENV || {};\n",
       "                    window.PLOTLYENV.BASE_URL='https://plot.ly';                                    if (document.getElementById(\"e1b0f38d-8f7b-4184-b596-49bb6e911def\")) {                    Plotly.newPlot(                        \"e1b0f38d-8f7b-4184-b596-49bb6e911def\",                        [{\"histfunc\":\"count\",\"histnorm\":\"\",\"marker\":{\"color\":\"rgba(255, 153, 51, 1.0)\",\"line\":{\"color\":\"#4D5663\",\"width\":1.3}},\"name\":\"A\",\"nbinsx\":25,\"opacity\":0.8,\"orientation\":\"v\",\"x\":[0.9674792495653929,-0.869645948345109,0.3276963940454639,2.212326394176484,1.194564115626372,1.281333312680946,-0.4593625791084765,0.2534398304646211,-1.187047102320885,0.009120945638079877,0.46812971295397005,0.3173603163090243,-0.5949756643716486,0.36612201815595236,1.6823087709179516,0.1223867090465667,1.2858955968180077,-0.355874679445089,-1.5056555405566194,-0.9803269668748792,-0.9821783534228085,-0.052757830218477235,0.8033100178798156,-1.2398031374339302,-0.5813663197398291,0.19886821601177004,0.1294915534324573,-0.13306937600077753,1.3939949997907175,1.1973801278232796,0.584311181386549,0.9814067443843448,0.2061913231991555,1.671664827360644,0.789600735681814,1.2933123482628828,1.4246595860526337,-1.3217494580552764,-0.07724462464406437,0.18930105179933207,-0.8808766976813702,-0.01730765278196536,1.6745130595812752,-0.9444306581128674,-0.1221827946211637,-2.321901756440847,0.7477928499020462,-1.8263033277692504,-1.0618495646062116,-0.09040834612020593,-0.0010349389445514765,-2.735604509568205,-1.6080140908995408,0.46315775491532685,-0.5641038656392511,-0.09215769154545252,1.0002522597706367,0.17587208675758984,-0.5954239279504188,-2.911645903175407,0.060337624495499904,-0.42040253946929246,1.7762469320792973,0.8730115926111546,1.8439878835043193,-0.6085419218754314,-0.9079008941146096,0.2759242313421433,-0.3988133260904946,1.3186512094391587,-0.22711041145047717,-1.1216333739411006,0.8022488902000023,-0.28124431547160195,-0.5851126659274265,0.4306201479387562,-1.0882948662735636,0.027976391155035966,0.5566361343141041,-1.5807367243659294,-0.8082355354469991,0.5644686676080057,-0.5897432726211994,-1.090934333436364,-0.24825567958331607,0.24567974588087993,1.0745837768794317,-0.4793855569130954,1.2390952913307294,-0.1127955717482966,0.5115001071064847,-0.05946749612950342,-0.8113493777941423,-0.049751974798389886,-0.3517813343733759,-0.29145587516066457,0.5787628035960883,-0.1311683960980727,-0.10496940636822302,0.5356439478190795],\"type\":\"histogram\"}],                        {\"barmode\":\"overlay\",\"legend\":{\"bgcolor\":\"#F5F6F9\",\"font\":{\"color\":\"#4D5663\"}},\"paper_bgcolor\":\"#F5F6F9\",\"plot_bgcolor\":\"#F5F6F9\",\"template\":{\"data\":{\"barpolar\":[{\"marker\":{\"line\":{\"color\":\"#E5ECF6\",\"width\":0.5},\"pattern\":{\"fillmode\":\"overlay\",\"size\":10,\"solidity\":0.2}},\"type\":\"barpolar\"}],\"bar\":[{\"error_x\":{\"color\":\"#2a3f5f\"},\"error_y\":{\"color\":\"#2a3f5f\"},\"marker\":{\"line\":{\"color\":\"#E5ECF6\",\"width\":0.5},\"pattern\":{\"fillmode\":\"overlay\",\"size\":10,\"solidity\":0.2}},\"type\":\"bar\"}],\"carpet\":[{\"aaxis\":{\"endlinecolor\":\"#2a3f5f\",\"gridcolor\":\"white\",\"linecolor\":\"white\",\"minorgridcolor\":\"white\",\"startlinecolor\":\"#2a3f5f\"},\"baxis\":{\"endlinecolor\":\"#2a3f5f\",\"gridcolor\":\"white\",\"linecolor\":\"white\",\"minorgridcolor\":\"white\",\"startlinecolor\":\"#2a3f5f\"},\"type\":\"carpet\"}],\"choropleth\":[{\"colorbar\":{\"outlinewidth\":0,\"ticks\":\"\"},\"type\":\"choropleth\"}],\"contourcarpet\":[{\"colorbar\":{\"outlinewidth\":0,\"ticks\":\"\"},\"type\":\"contourcarpet\"}],\"contour\":[{\"colorbar\":{\"outlinewidth\":0,\"ticks\":\"\"},\"colorscale\":[[0.0,\"#0d0887\"],[0.1111111111111111,\"#46039f\"],[0.2222222222222222,\"#7201a8\"],[0.3333333333333333,\"#9c179e\"],[0.4444444444444444,\"#bd3786\"],[0.5555555555555556,\"#d8576b\"],[0.6666666666666666,\"#ed7953\"],[0.7777777777777778,\"#fb9f3a\"],[0.8888888888888888,\"#fdca26\"],[1.0,\"#f0f921\"]],\"type\":\"contour\"}],\"heatmapgl\":[{\"colorbar\":{\"outlinewidth\":0,\"ticks\":\"\"},\"colorscale\":[[0.0,\"#0d0887\"],[0.1111111111111111,\"#46039f\"],[0.2222222222222222,\"#7201a8\"],[0.3333333333333333,\"#9c179e\"],[0.4444444444444444,\"#bd3786\"],[0.5555555555555556,\"#d8576b\"],[0.6666666666666666,\"#ed7953\"],[0.7777777777777778,\"#fb9f3a\"],[0.8888888888888888,\"#fdca26\"],[1.0,\"#f0f921\"]],\"type\":\"heatmapgl\"}],\"heatmap\":[{\"colorbar\":{\"outlinewidth\":0,\"ticks\":\"\"},\"colorscale\":[[0.0,\"#0d0887\"],[0.1111111111111111,\"#46039f\"],[0.2222222222222222,\"#7201a8\"],[0.3333333333333333,\"#9c179e\"],[0.4444444444444444,\"#bd3786\"],[0.5555555555555556,\"#d8576b\"],[0.6666666666666666,\"#ed7953\"],[0.7777777777777778,\"#fb9f3a\"],[0.8888888888888888,\"#fdca26\"],[1.0,\"#f0f921\"]],\"type\":\"heatmap\"}],\"histogram2dcontour\":[{\"colorbar\":{\"outlinewidth\":0,\"ticks\":\"\"},\"colorscale\":[[0.0,\"#0d0887\"],[0.1111111111111111,\"#46039f\"],[0.2222222222222222,\"#7201a8\"],[0.3333333333333333,\"#9c179e\"],[0.4444444444444444,\"#bd3786\"],[0.5555555555555556,\"#d8576b\"],[0.6666666666666666,\"#ed7953\"],[0.7777777777777778,\"#fb9f3a\"],[0.8888888888888888,\"#fdca26\"],[1.0,\"#f0f921\"]],\"type\":\"histogram2dcontour\"}],\"histogram2d\":[{\"colorbar\":{\"outlinewidth\":0,\"ticks\":\"\"},\"colorscale\":[[0.0,\"#0d0887\"],[0.1111111111111111,\"#46039f\"],[0.2222222222222222,\"#7201a8\"],[0.3333333333333333,\"#9c179e\"],[0.4444444444444444,\"#bd3786\"],[0.5555555555555556,\"#d8576b\"],[0.6666666666666666,\"#ed7953\"],[0.7777777777777778,\"#fb9f3a\"],[0.8888888888888888,\"#fdca26\"],[1.0,\"#f0f921\"]],\"type\":\"histogram2d\"}],\"histogram\":[{\"marker\":{\"pattern\":{\"fillmode\":\"overlay\",\"size\":10,\"solidity\":0.2}},\"type\":\"histogram\"}],\"mesh3d\":[{\"colorbar\":{\"outlinewidth\":0,\"ticks\":\"\"},\"type\":\"mesh3d\"}],\"parcoords\":[{\"line\":{\"colorbar\":{\"outlinewidth\":0,\"ticks\":\"\"}},\"type\":\"parcoords\"}],\"pie\":[{\"automargin\":true,\"type\":\"pie\"}],\"scatter3d\":[{\"line\":{\"colorbar\":{\"outlinewidth\":0,\"ticks\":\"\"}},\"marker\":{\"colorbar\":{\"outlinewidth\":0,\"ticks\":\"\"}},\"type\":\"scatter3d\"}],\"scattercarpet\":[{\"marker\":{\"colorbar\":{\"outlinewidth\":0,\"ticks\":\"\"}},\"type\":\"scattercarpet\"}],\"scattergeo\":[{\"marker\":{\"colorbar\":{\"outlinewidth\":0,\"ticks\":\"\"}},\"type\":\"scattergeo\"}],\"scattergl\":[{\"marker\":{\"colorbar\":{\"outlinewidth\":0,\"ticks\":\"\"}},\"type\":\"scattergl\"}],\"scattermapbox\":[{\"marker\":{\"colorbar\":{\"outlinewidth\":0,\"ticks\":\"\"}},\"type\":\"scattermapbox\"}],\"scatterpolargl\":[{\"marker\":{\"colorbar\":{\"outlinewidth\":0,\"ticks\":\"\"}},\"type\":\"scatterpolargl\"}],\"scatterpolar\":[{\"marker\":{\"colorbar\":{\"outlinewidth\":0,\"ticks\":\"\"}},\"type\":\"scatterpolar\"}],\"scatter\":[{\"fillpattern\":{\"fillmode\":\"overlay\",\"size\":10,\"solidity\":0.2},\"type\":\"scatter\"}],\"scatterternary\":[{\"marker\":{\"colorbar\":{\"outlinewidth\":0,\"ticks\":\"\"}},\"type\":\"scatterternary\"}],\"surface\":[{\"colorbar\":{\"outlinewidth\":0,\"ticks\":\"\"},\"colorscale\":[[0.0,\"#0d0887\"],[0.1111111111111111,\"#46039f\"],[0.2222222222222222,\"#7201a8\"],[0.3333333333333333,\"#9c179e\"],[0.4444444444444444,\"#bd3786\"],[0.5555555555555556,\"#d8576b\"],[0.6666666666666666,\"#ed7953\"],[0.7777777777777778,\"#fb9f3a\"],[0.8888888888888888,\"#fdca26\"],[1.0,\"#f0f921\"]],\"type\":\"surface\"}],\"table\":[{\"cells\":{\"fill\":{\"color\":\"#EBF0F8\"},\"line\":{\"color\":\"white\"}},\"header\":{\"fill\":{\"color\":\"#C8D4E3\"},\"line\":{\"color\":\"white\"}},\"type\":\"table\"}]},\"layout\":{\"annotationdefaults\":{\"arrowcolor\":\"#2a3f5f\",\"arrowhead\":0,\"arrowwidth\":1},\"autotypenumbers\":\"strict\",\"coloraxis\":{\"colorbar\":{\"outlinewidth\":0,\"ticks\":\"\"}},\"colorscale\":{\"diverging\":[[0,\"#8e0152\"],[0.1,\"#c51b7d\"],[0.2,\"#de77ae\"],[0.3,\"#f1b6da\"],[0.4,\"#fde0ef\"],[0.5,\"#f7f7f7\"],[0.6,\"#e6f5d0\"],[0.7,\"#b8e186\"],[0.8,\"#7fbc41\"],[0.9,\"#4d9221\"],[1,\"#276419\"]],\"sequential\":[[0.0,\"#0d0887\"],[0.1111111111111111,\"#46039f\"],[0.2222222222222222,\"#7201a8\"],[0.3333333333333333,\"#9c179e\"],[0.4444444444444444,\"#bd3786\"],[0.5555555555555556,\"#d8576b\"],[0.6666666666666666,\"#ed7953\"],[0.7777777777777778,\"#fb9f3a\"],[0.8888888888888888,\"#fdca26\"],[1.0,\"#f0f921\"]],\"sequentialminus\":[[0.0,\"#0d0887\"],[0.1111111111111111,\"#46039f\"],[0.2222222222222222,\"#7201a8\"],[0.3333333333333333,\"#9c179e\"],[0.4444444444444444,\"#bd3786\"],[0.5555555555555556,\"#d8576b\"],[0.6666666666666666,\"#ed7953\"],[0.7777777777777778,\"#fb9f3a\"],[0.8888888888888888,\"#fdca26\"],[1.0,\"#f0f921\"]]},\"colorway\":[\"#636efa\",\"#EF553B\",\"#00cc96\",\"#ab63fa\",\"#FFA15A\",\"#19d3f3\",\"#FF6692\",\"#B6E880\",\"#FF97FF\",\"#FECB52\"],\"font\":{\"color\":\"#2a3f5f\"},\"geo\":{\"bgcolor\":\"white\",\"lakecolor\":\"white\",\"landcolor\":\"#E5ECF6\",\"showlakes\":true,\"showland\":true,\"subunitcolor\":\"white\"},\"hoverlabel\":{\"align\":\"left\"},\"hovermode\":\"closest\",\"mapbox\":{\"style\":\"light\"},\"paper_bgcolor\":\"white\",\"plot_bgcolor\":\"#E5ECF6\",\"polar\":{\"angularaxis\":{\"gridcolor\":\"white\",\"linecolor\":\"white\",\"ticks\":\"\"},\"bgcolor\":\"#E5ECF6\",\"radialaxis\":{\"gridcolor\":\"white\",\"linecolor\":\"white\",\"ticks\":\"\"}},\"scene\":{\"xaxis\":{\"backgroundcolor\":\"#E5ECF6\",\"gridcolor\":\"white\",\"gridwidth\":2,\"linecolor\":\"white\",\"showbackground\":true,\"ticks\":\"\",\"zerolinecolor\":\"white\"},\"yaxis\":{\"backgroundcolor\":\"#E5ECF6\",\"gridcolor\":\"white\",\"gridwidth\":2,\"linecolor\":\"white\",\"showbackground\":true,\"ticks\":\"\",\"zerolinecolor\":\"white\"},\"zaxis\":{\"backgroundcolor\":\"#E5ECF6\",\"gridcolor\":\"white\",\"gridwidth\":2,\"linecolor\":\"white\",\"showbackground\":true,\"ticks\":\"\",\"zerolinecolor\":\"white\"}},\"shapedefaults\":{\"line\":{\"color\":\"#2a3f5f\"}},\"ternary\":{\"aaxis\":{\"gridcolor\":\"white\",\"linecolor\":\"white\",\"ticks\":\"\"},\"baxis\":{\"gridcolor\":\"white\",\"linecolor\":\"white\",\"ticks\":\"\"},\"bgcolor\":\"#E5ECF6\",\"caxis\":{\"gridcolor\":\"white\",\"linecolor\":\"white\",\"ticks\":\"\"}},\"title\":{\"x\":0.05},\"xaxis\":{\"automargin\":true,\"gridcolor\":\"white\",\"linecolor\":\"white\",\"ticks\":\"\",\"title\":{\"standoff\":15},\"zerolinecolor\":\"white\",\"zerolinewidth\":2},\"yaxis\":{\"automargin\":true,\"gridcolor\":\"white\",\"linecolor\":\"white\",\"ticks\":\"\",\"title\":{\"standoff\":15},\"zerolinecolor\":\"white\",\"zerolinewidth\":2}}},\"title\":{\"font\":{\"color\":\"#4D5663\"}},\"xaxis\":{\"gridcolor\":\"#E1E5ED\",\"showgrid\":true,\"tickfont\":{\"color\":\"#4D5663\"},\"title\":{\"font\":{\"color\":\"#4D5663\"},\"text\":\"\"},\"zerolinecolor\":\"#E1E5ED\"},\"yaxis\":{\"gridcolor\":\"#E1E5ED\",\"showgrid\":true,\"tickfont\":{\"color\":\"#4D5663\"},\"title\":{\"font\":{\"color\":\"#4D5663\"},\"text\":\"\"},\"zerolinecolor\":\"#E1E5ED\"}},                        {\"showLink\": true, \"linkText\": \"Export to plot.ly\", \"plotlyServerURL\": \"https://plot.ly\", \"responsive\": true}                    ).then(function(){\n",
       "                            \n",
       "var gd = document.getElementById('e1b0f38d-8f7b-4184-b596-49bb6e911def');\n",
       "var x = new MutationObserver(function (mutations, observer) {{\n",
       "        var display = window.getComputedStyle(gd).display;\n",
       "        if (!display || display === 'none') {{\n",
       "            console.log([gd, 'removed!']);\n",
       "            Plotly.purge(gd);\n",
       "            observer.disconnect();\n",
       "        }}\n",
       "}});\n",
       "\n",
       "// Listen for the removal of the full notebook cells\n",
       "var notebookContainer = gd.closest('#notebook-container');\n",
       "if (notebookContainer) {{\n",
       "    x.observe(notebookContainer, {childList: true});\n",
       "}}\n",
       "\n",
       "// Listen for the clearing of the current output cell\n",
       "var outputEl = gd.closest('.output');\n",
       "if (outputEl) {{\n",
       "    x.observe(outputEl, {childList: true});\n",
       "}}\n",
       "\n",
       "                        })                };                });            </script>        </div>"
      ]
     },
     "metadata": {},
     "output_type": "display_data"
    }
   ],
   "source": [
    "df['A'].iplot(kind='hist',bins=25)"
   ]
  },
  {
   "cell_type": "code",
   "execution_count": 17,
   "metadata": {},
   "outputs": [
    {
     "data": {
      "application/vnd.plotly.v1+json": {
       "config": {
        "linkText": "Export to plot.ly",
        "plotlyServerURL": "https://plot.ly",
        "showLink": true
       },
       "data": [
        {
         "marker": {
          "color": [
           "rgb(255, 153, 51)",
           "rgb(55, 128, 191)",
           "rgb(50, 171, 96)",
           "rgb(128, 0, 128)",
           "rgb(219, 64, 82)",
           "rgb(0, 128, 128)",
           "rgb(255, 255, 51)",
           "rgb(128, 128, 0)",
           "rgb(251, 128, 114)",
           "rgb(128, 177, 211)"
          ],
          "line": {
           "width": 1.3
          },
          "size": [
           79,
           69,
           82,
           98,
           87,
           75,
           76,
           78,
           83,
           49,
           87,
           66,
           38,
           48,
           59,
           59,
           91,
           71,
           57,
           71,
           59,
           81,
           74,
           75,
           94,
           84,
           95,
           82,
           59,
           60,
           80,
           59,
           76,
           55,
           85,
           67,
           86,
           73,
           83,
           90,
           74,
           64,
           81,
           75,
           68,
           41,
           37,
           74,
           85,
           48,
           94,
           90,
           65,
           12,
           65,
           54,
           64,
           64,
           80,
           86,
           99,
           99,
           91,
           104,
           83,
           66,
           102,
           65,
           86,
           63,
           81,
           79,
           94,
           83,
           78,
           70,
           83,
           97,
           86,
           84,
           84,
           56,
           50,
           73,
           112,
           71,
           65,
           68,
           55,
           66,
           62,
           69,
           47,
           68,
           75,
           83,
           63,
           72,
           72,
           61
          ],
          "symbol": "circle"
         },
         "mode": "markers",
         "text": "",
         "type": "scatter",
         "x": [
          0.9674792495653929,
          -0.869645948345109,
          0.3276963940454639,
          2.212326394176484,
          1.194564115626372,
          1.281333312680946,
          -0.4593625791084765,
          0.2534398304646211,
          -1.187047102320885,
          0.009120945638079877,
          0.46812971295397005,
          0.3173603163090243,
          -0.5949756643716486,
          0.36612201815595236,
          1.6823087709179516,
          0.1223867090465667,
          1.2858955968180077,
          -0.355874679445089,
          -1.5056555405566194,
          -0.9803269668748792,
          -0.9821783534228085,
          -0.052757830218477235,
          0.8033100178798156,
          -1.2398031374339302,
          -0.5813663197398291,
          0.19886821601177004,
          0.1294915534324573,
          -0.13306937600077753,
          1.3939949997907175,
          1.1973801278232796,
          0.584311181386549,
          0.9814067443843448,
          0.2061913231991555,
          1.671664827360644,
          0.789600735681814,
          1.2933123482628828,
          1.4246595860526337,
          -1.3217494580552764,
          -0.07724462464406437,
          0.18930105179933207,
          -0.8808766976813702,
          -0.01730765278196536,
          1.6745130595812752,
          -0.9444306581128674,
          -0.1221827946211637,
          -2.321901756440847,
          0.7477928499020462,
          -1.8263033277692504,
          -1.0618495646062116,
          -0.09040834612020593,
          -0.0010349389445514765,
          -2.735604509568205,
          -1.6080140908995408,
          0.46315775491532685,
          -0.5641038656392511,
          -0.09215769154545252,
          1.0002522597706367,
          0.17587208675758984,
          -0.5954239279504188,
          -2.911645903175407,
          0.060337624495499904,
          -0.42040253946929246,
          1.7762469320792973,
          0.8730115926111546,
          1.8439878835043193,
          -0.6085419218754314,
          -0.9079008941146096,
          0.2759242313421433,
          -0.3988133260904946,
          1.3186512094391587,
          -0.22711041145047717,
          -1.1216333739411006,
          0.8022488902000023,
          -0.28124431547160195,
          -0.5851126659274265,
          0.4306201479387562,
          -1.0882948662735636,
          0.027976391155035966,
          0.5566361343141041,
          -1.5807367243659294,
          -0.8082355354469991,
          0.5644686676080057,
          -0.5897432726211994,
          -1.090934333436364,
          -0.24825567958331607,
          0.24567974588087993,
          1.0745837768794317,
          -0.4793855569130954,
          1.2390952913307294,
          -0.1127955717482966,
          0.5115001071064847,
          -0.05946749612950342,
          -0.8113493777941423,
          -0.049751974798389886,
          -0.3517813343733759,
          -0.29145587516066457,
          0.5787628035960883,
          -0.1311683960980727,
          -0.10496940636822302,
          0.5356439478190795
         ],
         "y": [
          1.2559665150128738,
          1.623222658930747,
          -1.6337826450630495,
          0.9447131134135116,
          1.1798043405299838,
          -1.155688742948656,
          2.4548456650087664,
          0.1967602313034417,
          1.273259911357326,
          0.032098563769232605,
          -0.9406093982229913,
          -1.2964368050421562,
          -1.519902506155913,
          -0.3761787602834264,
          -0.010752827153059951,
          -0.10556004881246867,
          0.20076895648962265,
          -1.6850246316573827,
          -0.053499097961576036,
          0.026679427972856138,
          -0.9296474377801646,
          0.34792155075954995,
          0.6817847402778288,
          0.6709660186939352,
          -0.32023098099219494,
          0.3547897976235289,
          -0.13263784373644685,
          0.2935159364327797,
          -1.1935028348876886,
          -0.6154685546770732,
          0.2711354765320031,
          -1.2721284909920545,
          -1.66150782301575,
          -0.40869372542459653,
          0.6927214550234417,
          -0.571354166680342,
          -2.370721439218031,
          0.1493964954778568,
          0.6510556001226679,
          0.4292580766720687,
          0.7638851538915261,
          -0.6330279833466473,
          0.17323422869432137,
          0.5571215919463213,
          -1.7511962250925097,
          1.0350253485830763,
          -0.15762194299334684,
          0.4863083584740155,
          0.30436807080373923,
          0.4251551333724484,
          0.3550019805177964,
          0.44034349879940204,
          2.0969774956697025,
          1.0962646409270569,
          1.1830133303858525,
          -1.1344339583329939,
          -1.5290452405995383,
          1.8736128340095886,
          0.39478122772731267,
          -1.05179307868685,
          0.6310044541279328,
          0.42939924866247065,
          0.5323109177393281,
          -0.4729320313581209,
          1.5409072215037973,
          -1.262119363458304,
          -0.7039383666072286,
          -0.8990003348315486,
          -0.028011387798115833,
          0.47592024362120794,
          0.9002351500195176,
          -0.14605167795031107,
          -0.7679327720116481,
          1.5576359927434305,
          -0.7733583994874416,
          0.23109138835710186,
          -1.1494712996178111,
          0.4967199657809361,
          0.29515336234764084,
          0.8557133952349325,
          -0.309347918115768,
          -0.9199284431444746,
          -0.0815317236788813,
          0.09104793048301475,
          -0.4112088551283685,
          0.07420682096557561,
          0.8944805960648957,
          1.047378806846963,
          -0.043918820524732866,
          -1.0315338064149218,
          -0.7600061950087242,
          -0.9280574417632615,
          -0.7216526703364456,
          0.7305990509468757,
          -0.04815858666592761,
          -0.6922237460237607,
          -0.4498024098452496,
          -0.906975856818541,
          -1.5624154089293907,
          -0.6482211367486518
         ]
        }
       ],
       "layout": {
        "legend": {
         "bgcolor": "#F5F6F9",
         "font": {
          "color": "#4D5663"
         }
        },
        "paper_bgcolor": "#F5F6F9",
        "plot_bgcolor": "#F5F6F9",
        "template": {
         "data": {
          "bar": [
           {
            "error_x": {
             "color": "#2a3f5f"
            },
            "error_y": {
             "color": "#2a3f5f"
            },
            "marker": {
             "line": {
              "color": "#E5ECF6",
              "width": 0.5
             },
             "pattern": {
              "fillmode": "overlay",
              "size": 10,
              "solidity": 0.2
             }
            },
            "type": "bar"
           }
          ],
          "barpolar": [
           {
            "marker": {
             "line": {
              "color": "#E5ECF6",
              "width": 0.5
             },
             "pattern": {
              "fillmode": "overlay",
              "size": 10,
              "solidity": 0.2
             }
            },
            "type": "barpolar"
           }
          ],
          "carpet": [
           {
            "aaxis": {
             "endlinecolor": "#2a3f5f",
             "gridcolor": "white",
             "linecolor": "white",
             "minorgridcolor": "white",
             "startlinecolor": "#2a3f5f"
            },
            "baxis": {
             "endlinecolor": "#2a3f5f",
             "gridcolor": "white",
             "linecolor": "white",
             "minorgridcolor": "white",
             "startlinecolor": "#2a3f5f"
            },
            "type": "carpet"
           }
          ],
          "choropleth": [
           {
            "colorbar": {
             "outlinewidth": 0,
             "ticks": ""
            },
            "type": "choropleth"
           }
          ],
          "contour": [
           {
            "colorbar": {
             "outlinewidth": 0,
             "ticks": ""
            },
            "colorscale": [
             [
              0,
              "#0d0887"
             ],
             [
              0.1111111111111111,
              "#46039f"
             ],
             [
              0.2222222222222222,
              "#7201a8"
             ],
             [
              0.3333333333333333,
              "#9c179e"
             ],
             [
              0.4444444444444444,
              "#bd3786"
             ],
             [
              0.5555555555555556,
              "#d8576b"
             ],
             [
              0.6666666666666666,
              "#ed7953"
             ],
             [
              0.7777777777777778,
              "#fb9f3a"
             ],
             [
              0.8888888888888888,
              "#fdca26"
             ],
             [
              1,
              "#f0f921"
             ]
            ],
            "type": "contour"
           }
          ],
          "contourcarpet": [
           {
            "colorbar": {
             "outlinewidth": 0,
             "ticks": ""
            },
            "type": "contourcarpet"
           }
          ],
          "heatmap": [
           {
            "colorbar": {
             "outlinewidth": 0,
             "ticks": ""
            },
            "colorscale": [
             [
              0,
              "#0d0887"
             ],
             [
              0.1111111111111111,
              "#46039f"
             ],
             [
              0.2222222222222222,
              "#7201a8"
             ],
             [
              0.3333333333333333,
              "#9c179e"
             ],
             [
              0.4444444444444444,
              "#bd3786"
             ],
             [
              0.5555555555555556,
              "#d8576b"
             ],
             [
              0.6666666666666666,
              "#ed7953"
             ],
             [
              0.7777777777777778,
              "#fb9f3a"
             ],
             [
              0.8888888888888888,
              "#fdca26"
             ],
             [
              1,
              "#f0f921"
             ]
            ],
            "type": "heatmap"
           }
          ],
          "heatmapgl": [
           {
            "colorbar": {
             "outlinewidth": 0,
             "ticks": ""
            },
            "colorscale": [
             [
              0,
              "#0d0887"
             ],
             [
              0.1111111111111111,
              "#46039f"
             ],
             [
              0.2222222222222222,
              "#7201a8"
             ],
             [
              0.3333333333333333,
              "#9c179e"
             ],
             [
              0.4444444444444444,
              "#bd3786"
             ],
             [
              0.5555555555555556,
              "#d8576b"
             ],
             [
              0.6666666666666666,
              "#ed7953"
             ],
             [
              0.7777777777777778,
              "#fb9f3a"
             ],
             [
              0.8888888888888888,
              "#fdca26"
             ],
             [
              1,
              "#f0f921"
             ]
            ],
            "type": "heatmapgl"
           }
          ],
          "histogram": [
           {
            "marker": {
             "pattern": {
              "fillmode": "overlay",
              "size": 10,
              "solidity": 0.2
             }
            },
            "type": "histogram"
           }
          ],
          "histogram2d": [
           {
            "colorbar": {
             "outlinewidth": 0,
             "ticks": ""
            },
            "colorscale": [
             [
              0,
              "#0d0887"
             ],
             [
              0.1111111111111111,
              "#46039f"
             ],
             [
              0.2222222222222222,
              "#7201a8"
             ],
             [
              0.3333333333333333,
              "#9c179e"
             ],
             [
              0.4444444444444444,
              "#bd3786"
             ],
             [
              0.5555555555555556,
              "#d8576b"
             ],
             [
              0.6666666666666666,
              "#ed7953"
             ],
             [
              0.7777777777777778,
              "#fb9f3a"
             ],
             [
              0.8888888888888888,
              "#fdca26"
             ],
             [
              1,
              "#f0f921"
             ]
            ],
            "type": "histogram2d"
           }
          ],
          "histogram2dcontour": [
           {
            "colorbar": {
             "outlinewidth": 0,
             "ticks": ""
            },
            "colorscale": [
             [
              0,
              "#0d0887"
             ],
             [
              0.1111111111111111,
              "#46039f"
             ],
             [
              0.2222222222222222,
              "#7201a8"
             ],
             [
              0.3333333333333333,
              "#9c179e"
             ],
             [
              0.4444444444444444,
              "#bd3786"
             ],
             [
              0.5555555555555556,
              "#d8576b"
             ],
             [
              0.6666666666666666,
              "#ed7953"
             ],
             [
              0.7777777777777778,
              "#fb9f3a"
             ],
             [
              0.8888888888888888,
              "#fdca26"
             ],
             [
              1,
              "#f0f921"
             ]
            ],
            "type": "histogram2dcontour"
           }
          ],
          "mesh3d": [
           {
            "colorbar": {
             "outlinewidth": 0,
             "ticks": ""
            },
            "type": "mesh3d"
           }
          ],
          "parcoords": [
           {
            "line": {
             "colorbar": {
              "outlinewidth": 0,
              "ticks": ""
             }
            },
            "type": "parcoords"
           }
          ],
          "pie": [
           {
            "automargin": true,
            "type": "pie"
           }
          ],
          "scatter": [
           {
            "fillpattern": {
             "fillmode": "overlay",
             "size": 10,
             "solidity": 0.2
            },
            "type": "scatter"
           }
          ],
          "scatter3d": [
           {
            "line": {
             "colorbar": {
              "outlinewidth": 0,
              "ticks": ""
             }
            },
            "marker": {
             "colorbar": {
              "outlinewidth": 0,
              "ticks": ""
             }
            },
            "type": "scatter3d"
           }
          ],
          "scattercarpet": [
           {
            "marker": {
             "colorbar": {
              "outlinewidth": 0,
              "ticks": ""
             }
            },
            "type": "scattercarpet"
           }
          ],
          "scattergeo": [
           {
            "marker": {
             "colorbar": {
              "outlinewidth": 0,
              "ticks": ""
             }
            },
            "type": "scattergeo"
           }
          ],
          "scattergl": [
           {
            "marker": {
             "colorbar": {
              "outlinewidth": 0,
              "ticks": ""
             }
            },
            "type": "scattergl"
           }
          ],
          "scattermapbox": [
           {
            "marker": {
             "colorbar": {
              "outlinewidth": 0,
              "ticks": ""
             }
            },
            "type": "scattermapbox"
           }
          ],
          "scatterpolar": [
           {
            "marker": {
             "colorbar": {
              "outlinewidth": 0,
              "ticks": ""
             }
            },
            "type": "scatterpolar"
           }
          ],
          "scatterpolargl": [
           {
            "marker": {
             "colorbar": {
              "outlinewidth": 0,
              "ticks": ""
             }
            },
            "type": "scatterpolargl"
           }
          ],
          "scatterternary": [
           {
            "marker": {
             "colorbar": {
              "outlinewidth": 0,
              "ticks": ""
             }
            },
            "type": "scatterternary"
           }
          ],
          "surface": [
           {
            "colorbar": {
             "outlinewidth": 0,
             "ticks": ""
            },
            "colorscale": [
             [
              0,
              "#0d0887"
             ],
             [
              0.1111111111111111,
              "#46039f"
             ],
             [
              0.2222222222222222,
              "#7201a8"
             ],
             [
              0.3333333333333333,
              "#9c179e"
             ],
             [
              0.4444444444444444,
              "#bd3786"
             ],
             [
              0.5555555555555556,
              "#d8576b"
             ],
             [
              0.6666666666666666,
              "#ed7953"
             ],
             [
              0.7777777777777778,
              "#fb9f3a"
             ],
             [
              0.8888888888888888,
              "#fdca26"
             ],
             [
              1,
              "#f0f921"
             ]
            ],
            "type": "surface"
           }
          ],
          "table": [
           {
            "cells": {
             "fill": {
              "color": "#EBF0F8"
             },
             "line": {
              "color": "white"
             }
            },
            "header": {
             "fill": {
              "color": "#C8D4E3"
             },
             "line": {
              "color": "white"
             }
            },
            "type": "table"
           }
          ]
         },
         "layout": {
          "annotationdefaults": {
           "arrowcolor": "#2a3f5f",
           "arrowhead": 0,
           "arrowwidth": 1
          },
          "autotypenumbers": "strict",
          "coloraxis": {
           "colorbar": {
            "outlinewidth": 0,
            "ticks": ""
           }
          },
          "colorscale": {
           "diverging": [
            [
             0,
             "#8e0152"
            ],
            [
             0.1,
             "#c51b7d"
            ],
            [
             0.2,
             "#de77ae"
            ],
            [
             0.3,
             "#f1b6da"
            ],
            [
             0.4,
             "#fde0ef"
            ],
            [
             0.5,
             "#f7f7f7"
            ],
            [
             0.6,
             "#e6f5d0"
            ],
            [
             0.7,
             "#b8e186"
            ],
            [
             0.8,
             "#7fbc41"
            ],
            [
             0.9,
             "#4d9221"
            ],
            [
             1,
             "#276419"
            ]
           ],
           "sequential": [
            [
             0,
             "#0d0887"
            ],
            [
             0.1111111111111111,
             "#46039f"
            ],
            [
             0.2222222222222222,
             "#7201a8"
            ],
            [
             0.3333333333333333,
             "#9c179e"
            ],
            [
             0.4444444444444444,
             "#bd3786"
            ],
            [
             0.5555555555555556,
             "#d8576b"
            ],
            [
             0.6666666666666666,
             "#ed7953"
            ],
            [
             0.7777777777777778,
             "#fb9f3a"
            ],
            [
             0.8888888888888888,
             "#fdca26"
            ],
            [
             1,
             "#f0f921"
            ]
           ],
           "sequentialminus": [
            [
             0,
             "#0d0887"
            ],
            [
             0.1111111111111111,
             "#46039f"
            ],
            [
             0.2222222222222222,
             "#7201a8"
            ],
            [
             0.3333333333333333,
             "#9c179e"
            ],
            [
             0.4444444444444444,
             "#bd3786"
            ],
            [
             0.5555555555555556,
             "#d8576b"
            ],
            [
             0.6666666666666666,
             "#ed7953"
            ],
            [
             0.7777777777777778,
             "#fb9f3a"
            ],
            [
             0.8888888888888888,
             "#fdca26"
            ],
            [
             1,
             "#f0f921"
            ]
           ]
          },
          "colorway": [
           "#636efa",
           "#EF553B",
           "#00cc96",
           "#ab63fa",
           "#FFA15A",
           "#19d3f3",
           "#FF6692",
           "#B6E880",
           "#FF97FF",
           "#FECB52"
          ],
          "font": {
           "color": "#2a3f5f"
          },
          "geo": {
           "bgcolor": "white",
           "lakecolor": "white",
           "landcolor": "#E5ECF6",
           "showlakes": true,
           "showland": true,
           "subunitcolor": "white"
          },
          "hoverlabel": {
           "align": "left"
          },
          "hovermode": "closest",
          "mapbox": {
           "style": "light"
          },
          "paper_bgcolor": "white",
          "plot_bgcolor": "#E5ECF6",
          "polar": {
           "angularaxis": {
            "gridcolor": "white",
            "linecolor": "white",
            "ticks": ""
           },
           "bgcolor": "#E5ECF6",
           "radialaxis": {
            "gridcolor": "white",
            "linecolor": "white",
            "ticks": ""
           }
          },
          "scene": {
           "xaxis": {
            "backgroundcolor": "#E5ECF6",
            "gridcolor": "white",
            "gridwidth": 2,
            "linecolor": "white",
            "showbackground": true,
            "ticks": "",
            "zerolinecolor": "white"
           },
           "yaxis": {
            "backgroundcolor": "#E5ECF6",
            "gridcolor": "white",
            "gridwidth": 2,
            "linecolor": "white",
            "showbackground": true,
            "ticks": "",
            "zerolinecolor": "white"
           },
           "zaxis": {
            "backgroundcolor": "#E5ECF6",
            "gridcolor": "white",
            "gridwidth": 2,
            "linecolor": "white",
            "showbackground": true,
            "ticks": "",
            "zerolinecolor": "white"
           }
          },
          "shapedefaults": {
           "line": {
            "color": "#2a3f5f"
           }
          },
          "ternary": {
           "aaxis": {
            "gridcolor": "white",
            "linecolor": "white",
            "ticks": ""
           },
           "baxis": {
            "gridcolor": "white",
            "linecolor": "white",
            "ticks": ""
           },
           "bgcolor": "#E5ECF6",
           "caxis": {
            "gridcolor": "white",
            "linecolor": "white",
            "ticks": ""
           }
          },
          "title": {
           "x": 0.05
          },
          "xaxis": {
           "automargin": true,
           "gridcolor": "white",
           "linecolor": "white",
           "ticks": "",
           "title": {
            "standoff": 15
           },
           "zerolinecolor": "white",
           "zerolinewidth": 2
          },
          "yaxis": {
           "automargin": true,
           "gridcolor": "white",
           "linecolor": "white",
           "ticks": "",
           "title": {
            "standoff": 15
           },
           "zerolinecolor": "white",
           "zerolinewidth": 2
          }
         }
        },
        "title": {
         "font": {
          "color": "#4D5663"
         }
        },
        "xaxis": {
         "gridcolor": "#E1E5ED",
         "showgrid": true,
         "tickfont": {
          "color": "#4D5663"
         },
         "title": {
          "font": {
           "color": "#4D5663"
          },
          "text": ""
         },
         "zerolinecolor": "#E1E5ED"
        },
        "yaxis": {
         "gridcolor": "#E1E5ED",
         "showgrid": true,
         "tickfont": {
          "color": "#4D5663"
         },
         "title": {
          "font": {
           "color": "#4D5663"
          },
          "text": ""
         },
         "zerolinecolor": "#E1E5ED"
        }
       }
      },
      "text/html": [
       "<div>                            <div id=\"e2767e6b-f521-459e-864b-2414347dc996\" class=\"plotly-graph-div\" style=\"height:525px; width:100%;\"></div>            <script type=\"text/javascript\">                require([\"plotly\"], function(Plotly) {                    window.PLOTLYENV=window.PLOTLYENV || {};\n",
       "                    window.PLOTLYENV.BASE_URL='https://plot.ly';                                    if (document.getElementById(\"e2767e6b-f521-459e-864b-2414347dc996\")) {                    Plotly.newPlot(                        \"e2767e6b-f521-459e-864b-2414347dc996\",                        [{\"marker\":{\"color\":[\"rgb(255, 153, 51)\",\"rgb(55, 128, 191)\",\"rgb(50, 171, 96)\",\"rgb(128, 0, 128)\",\"rgb(219, 64, 82)\",\"rgb(0, 128, 128)\",\"rgb(255, 255, 51)\",\"rgb(128, 128, 0)\",\"rgb(251, 128, 114)\",\"rgb(128, 177, 211)\"],\"line\":{\"width\":1.3},\"size\":[79,69,82,98,87,75,76,78,83,49,87,66,38,48,59,59,91,71,57,71,59,81,74,75,94,84,95,82,59,60,80,59,76,55,85,67,86,73,83,90,74,64,81,75,68,41,37,74,85,48,94,90,65,12,65,54,64,64,80,86,99,99,91,104,83,66,102,65,86,63,81,79,94,83,78,70,83,97,86,84,84,56,50,73,112,71,65,68,55,66,62,69,47,68,75,83,63,72,72,61],\"symbol\":\"circle\"},\"mode\":\"markers\",\"text\":\"\",\"x\":[0.9674792495653929,-0.869645948345109,0.3276963940454639,2.212326394176484,1.194564115626372,1.281333312680946,-0.4593625791084765,0.2534398304646211,-1.187047102320885,0.009120945638079877,0.46812971295397005,0.3173603163090243,-0.5949756643716486,0.36612201815595236,1.6823087709179516,0.1223867090465667,1.2858955968180077,-0.355874679445089,-1.5056555405566194,-0.9803269668748792,-0.9821783534228085,-0.052757830218477235,0.8033100178798156,-1.2398031374339302,-0.5813663197398291,0.19886821601177004,0.1294915534324573,-0.13306937600077753,1.3939949997907175,1.1973801278232796,0.584311181386549,0.9814067443843448,0.2061913231991555,1.671664827360644,0.789600735681814,1.2933123482628828,1.4246595860526337,-1.3217494580552764,-0.07724462464406437,0.18930105179933207,-0.8808766976813702,-0.01730765278196536,1.6745130595812752,-0.9444306581128674,-0.1221827946211637,-2.321901756440847,0.7477928499020462,-1.8263033277692504,-1.0618495646062116,-0.09040834612020593,-0.0010349389445514765,-2.735604509568205,-1.6080140908995408,0.46315775491532685,-0.5641038656392511,-0.09215769154545252,1.0002522597706367,0.17587208675758984,-0.5954239279504188,-2.911645903175407,0.060337624495499904,-0.42040253946929246,1.7762469320792973,0.8730115926111546,1.8439878835043193,-0.6085419218754314,-0.9079008941146096,0.2759242313421433,-0.3988133260904946,1.3186512094391587,-0.22711041145047717,-1.1216333739411006,0.8022488902000023,-0.28124431547160195,-0.5851126659274265,0.4306201479387562,-1.0882948662735636,0.027976391155035966,0.5566361343141041,-1.5807367243659294,-0.8082355354469991,0.5644686676080057,-0.5897432726211994,-1.090934333436364,-0.24825567958331607,0.24567974588087993,1.0745837768794317,-0.4793855569130954,1.2390952913307294,-0.1127955717482966,0.5115001071064847,-0.05946749612950342,-0.8113493777941423,-0.049751974798389886,-0.3517813343733759,-0.29145587516066457,0.5787628035960883,-0.1311683960980727,-0.10496940636822302,0.5356439478190795],\"y\":[1.2559665150128738,1.623222658930747,-1.6337826450630495,0.9447131134135116,1.1798043405299838,-1.155688742948656,2.4548456650087664,0.1967602313034417,1.273259911357326,0.032098563769232605,-0.9406093982229913,-1.2964368050421562,-1.519902506155913,-0.3761787602834264,-0.010752827153059951,-0.10556004881246867,0.20076895648962265,-1.6850246316573827,-0.053499097961576036,0.026679427972856138,-0.9296474377801646,0.34792155075954995,0.6817847402778288,0.6709660186939352,-0.32023098099219494,0.3547897976235289,-0.13263784373644685,0.2935159364327797,-1.1935028348876886,-0.6154685546770732,0.2711354765320031,-1.2721284909920545,-1.66150782301575,-0.40869372542459653,0.6927214550234417,-0.571354166680342,-2.370721439218031,0.1493964954778568,0.6510556001226679,0.4292580766720687,0.7638851538915261,-0.6330279833466473,0.17323422869432137,0.5571215919463213,-1.7511962250925097,1.0350253485830763,-0.15762194299334684,0.4863083584740155,0.30436807080373923,0.4251551333724484,0.3550019805177964,0.44034349879940204,2.0969774956697025,1.0962646409270569,1.1830133303858525,-1.1344339583329939,-1.5290452405995383,1.8736128340095886,0.39478122772731267,-1.05179307868685,0.6310044541279328,0.42939924866247065,0.5323109177393281,-0.4729320313581209,1.5409072215037973,-1.262119363458304,-0.7039383666072286,-0.8990003348315486,-0.028011387798115833,0.47592024362120794,0.9002351500195176,-0.14605167795031107,-0.7679327720116481,1.5576359927434305,-0.7733583994874416,0.23109138835710186,-1.1494712996178111,0.4967199657809361,0.29515336234764084,0.8557133952349325,-0.309347918115768,-0.9199284431444746,-0.0815317236788813,0.09104793048301475,-0.4112088551283685,0.07420682096557561,0.8944805960648957,1.047378806846963,-0.043918820524732866,-1.0315338064149218,-0.7600061950087242,-0.9280574417632615,-0.7216526703364456,0.7305990509468757,-0.04815858666592761,-0.6922237460237607,-0.4498024098452496,-0.906975856818541,-1.5624154089293907,-0.6482211367486518],\"type\":\"scatter\"}],                        {\"legend\":{\"bgcolor\":\"#F5F6F9\",\"font\":{\"color\":\"#4D5663\"}},\"paper_bgcolor\":\"#F5F6F9\",\"plot_bgcolor\":\"#F5F6F9\",\"template\":{\"data\":{\"barpolar\":[{\"marker\":{\"line\":{\"color\":\"#E5ECF6\",\"width\":0.5},\"pattern\":{\"fillmode\":\"overlay\",\"size\":10,\"solidity\":0.2}},\"type\":\"barpolar\"}],\"bar\":[{\"error_x\":{\"color\":\"#2a3f5f\"},\"error_y\":{\"color\":\"#2a3f5f\"},\"marker\":{\"line\":{\"color\":\"#E5ECF6\",\"width\":0.5},\"pattern\":{\"fillmode\":\"overlay\",\"size\":10,\"solidity\":0.2}},\"type\":\"bar\"}],\"carpet\":[{\"aaxis\":{\"endlinecolor\":\"#2a3f5f\",\"gridcolor\":\"white\",\"linecolor\":\"white\",\"minorgridcolor\":\"white\",\"startlinecolor\":\"#2a3f5f\"},\"baxis\":{\"endlinecolor\":\"#2a3f5f\",\"gridcolor\":\"white\",\"linecolor\":\"white\",\"minorgridcolor\":\"white\",\"startlinecolor\":\"#2a3f5f\"},\"type\":\"carpet\"}],\"choropleth\":[{\"colorbar\":{\"outlinewidth\":0,\"ticks\":\"\"},\"type\":\"choropleth\"}],\"contourcarpet\":[{\"colorbar\":{\"outlinewidth\":0,\"ticks\":\"\"},\"type\":\"contourcarpet\"}],\"contour\":[{\"colorbar\":{\"outlinewidth\":0,\"ticks\":\"\"},\"colorscale\":[[0.0,\"#0d0887\"],[0.1111111111111111,\"#46039f\"],[0.2222222222222222,\"#7201a8\"],[0.3333333333333333,\"#9c179e\"],[0.4444444444444444,\"#bd3786\"],[0.5555555555555556,\"#d8576b\"],[0.6666666666666666,\"#ed7953\"],[0.7777777777777778,\"#fb9f3a\"],[0.8888888888888888,\"#fdca26\"],[1.0,\"#f0f921\"]],\"type\":\"contour\"}],\"heatmapgl\":[{\"colorbar\":{\"outlinewidth\":0,\"ticks\":\"\"},\"colorscale\":[[0.0,\"#0d0887\"],[0.1111111111111111,\"#46039f\"],[0.2222222222222222,\"#7201a8\"],[0.3333333333333333,\"#9c179e\"],[0.4444444444444444,\"#bd3786\"],[0.5555555555555556,\"#d8576b\"],[0.6666666666666666,\"#ed7953\"],[0.7777777777777778,\"#fb9f3a\"],[0.8888888888888888,\"#fdca26\"],[1.0,\"#f0f921\"]],\"type\":\"heatmapgl\"}],\"heatmap\":[{\"colorbar\":{\"outlinewidth\":0,\"ticks\":\"\"},\"colorscale\":[[0.0,\"#0d0887\"],[0.1111111111111111,\"#46039f\"],[0.2222222222222222,\"#7201a8\"],[0.3333333333333333,\"#9c179e\"],[0.4444444444444444,\"#bd3786\"],[0.5555555555555556,\"#d8576b\"],[0.6666666666666666,\"#ed7953\"],[0.7777777777777778,\"#fb9f3a\"],[0.8888888888888888,\"#fdca26\"],[1.0,\"#f0f921\"]],\"type\":\"heatmap\"}],\"histogram2dcontour\":[{\"colorbar\":{\"outlinewidth\":0,\"ticks\":\"\"},\"colorscale\":[[0.0,\"#0d0887\"],[0.1111111111111111,\"#46039f\"],[0.2222222222222222,\"#7201a8\"],[0.3333333333333333,\"#9c179e\"],[0.4444444444444444,\"#bd3786\"],[0.5555555555555556,\"#d8576b\"],[0.6666666666666666,\"#ed7953\"],[0.7777777777777778,\"#fb9f3a\"],[0.8888888888888888,\"#fdca26\"],[1.0,\"#f0f921\"]],\"type\":\"histogram2dcontour\"}],\"histogram2d\":[{\"colorbar\":{\"outlinewidth\":0,\"ticks\":\"\"},\"colorscale\":[[0.0,\"#0d0887\"],[0.1111111111111111,\"#46039f\"],[0.2222222222222222,\"#7201a8\"],[0.3333333333333333,\"#9c179e\"],[0.4444444444444444,\"#bd3786\"],[0.5555555555555556,\"#d8576b\"],[0.6666666666666666,\"#ed7953\"],[0.7777777777777778,\"#fb9f3a\"],[0.8888888888888888,\"#fdca26\"],[1.0,\"#f0f921\"]],\"type\":\"histogram2d\"}],\"histogram\":[{\"marker\":{\"pattern\":{\"fillmode\":\"overlay\",\"size\":10,\"solidity\":0.2}},\"type\":\"histogram\"}],\"mesh3d\":[{\"colorbar\":{\"outlinewidth\":0,\"ticks\":\"\"},\"type\":\"mesh3d\"}],\"parcoords\":[{\"line\":{\"colorbar\":{\"outlinewidth\":0,\"ticks\":\"\"}},\"type\":\"parcoords\"}],\"pie\":[{\"automargin\":true,\"type\":\"pie\"}],\"scatter3d\":[{\"line\":{\"colorbar\":{\"outlinewidth\":0,\"ticks\":\"\"}},\"marker\":{\"colorbar\":{\"outlinewidth\":0,\"ticks\":\"\"}},\"type\":\"scatter3d\"}],\"scattercarpet\":[{\"marker\":{\"colorbar\":{\"outlinewidth\":0,\"ticks\":\"\"}},\"type\":\"scattercarpet\"}],\"scattergeo\":[{\"marker\":{\"colorbar\":{\"outlinewidth\":0,\"ticks\":\"\"}},\"type\":\"scattergeo\"}],\"scattergl\":[{\"marker\":{\"colorbar\":{\"outlinewidth\":0,\"ticks\":\"\"}},\"type\":\"scattergl\"}],\"scattermapbox\":[{\"marker\":{\"colorbar\":{\"outlinewidth\":0,\"ticks\":\"\"}},\"type\":\"scattermapbox\"}],\"scatterpolargl\":[{\"marker\":{\"colorbar\":{\"outlinewidth\":0,\"ticks\":\"\"}},\"type\":\"scatterpolargl\"}],\"scatterpolar\":[{\"marker\":{\"colorbar\":{\"outlinewidth\":0,\"ticks\":\"\"}},\"type\":\"scatterpolar\"}],\"scatter\":[{\"fillpattern\":{\"fillmode\":\"overlay\",\"size\":10,\"solidity\":0.2},\"type\":\"scatter\"}],\"scatterternary\":[{\"marker\":{\"colorbar\":{\"outlinewidth\":0,\"ticks\":\"\"}},\"type\":\"scatterternary\"}],\"surface\":[{\"colorbar\":{\"outlinewidth\":0,\"ticks\":\"\"},\"colorscale\":[[0.0,\"#0d0887\"],[0.1111111111111111,\"#46039f\"],[0.2222222222222222,\"#7201a8\"],[0.3333333333333333,\"#9c179e\"],[0.4444444444444444,\"#bd3786\"],[0.5555555555555556,\"#d8576b\"],[0.6666666666666666,\"#ed7953\"],[0.7777777777777778,\"#fb9f3a\"],[0.8888888888888888,\"#fdca26\"],[1.0,\"#f0f921\"]],\"type\":\"surface\"}],\"table\":[{\"cells\":{\"fill\":{\"color\":\"#EBF0F8\"},\"line\":{\"color\":\"white\"}},\"header\":{\"fill\":{\"color\":\"#C8D4E3\"},\"line\":{\"color\":\"white\"}},\"type\":\"table\"}]},\"layout\":{\"annotationdefaults\":{\"arrowcolor\":\"#2a3f5f\",\"arrowhead\":0,\"arrowwidth\":1},\"autotypenumbers\":\"strict\",\"coloraxis\":{\"colorbar\":{\"outlinewidth\":0,\"ticks\":\"\"}},\"colorscale\":{\"diverging\":[[0,\"#8e0152\"],[0.1,\"#c51b7d\"],[0.2,\"#de77ae\"],[0.3,\"#f1b6da\"],[0.4,\"#fde0ef\"],[0.5,\"#f7f7f7\"],[0.6,\"#e6f5d0\"],[0.7,\"#b8e186\"],[0.8,\"#7fbc41\"],[0.9,\"#4d9221\"],[1,\"#276419\"]],\"sequential\":[[0.0,\"#0d0887\"],[0.1111111111111111,\"#46039f\"],[0.2222222222222222,\"#7201a8\"],[0.3333333333333333,\"#9c179e\"],[0.4444444444444444,\"#bd3786\"],[0.5555555555555556,\"#d8576b\"],[0.6666666666666666,\"#ed7953\"],[0.7777777777777778,\"#fb9f3a\"],[0.8888888888888888,\"#fdca26\"],[1.0,\"#f0f921\"]],\"sequentialminus\":[[0.0,\"#0d0887\"],[0.1111111111111111,\"#46039f\"],[0.2222222222222222,\"#7201a8\"],[0.3333333333333333,\"#9c179e\"],[0.4444444444444444,\"#bd3786\"],[0.5555555555555556,\"#d8576b\"],[0.6666666666666666,\"#ed7953\"],[0.7777777777777778,\"#fb9f3a\"],[0.8888888888888888,\"#fdca26\"],[1.0,\"#f0f921\"]]},\"colorway\":[\"#636efa\",\"#EF553B\",\"#00cc96\",\"#ab63fa\",\"#FFA15A\",\"#19d3f3\",\"#FF6692\",\"#B6E880\",\"#FF97FF\",\"#FECB52\"],\"font\":{\"color\":\"#2a3f5f\"},\"geo\":{\"bgcolor\":\"white\",\"lakecolor\":\"white\",\"landcolor\":\"#E5ECF6\",\"showlakes\":true,\"showland\":true,\"subunitcolor\":\"white\"},\"hoverlabel\":{\"align\":\"left\"},\"hovermode\":\"closest\",\"mapbox\":{\"style\":\"light\"},\"paper_bgcolor\":\"white\",\"plot_bgcolor\":\"#E5ECF6\",\"polar\":{\"angularaxis\":{\"gridcolor\":\"white\",\"linecolor\":\"white\",\"ticks\":\"\"},\"bgcolor\":\"#E5ECF6\",\"radialaxis\":{\"gridcolor\":\"white\",\"linecolor\":\"white\",\"ticks\":\"\"}},\"scene\":{\"xaxis\":{\"backgroundcolor\":\"#E5ECF6\",\"gridcolor\":\"white\",\"gridwidth\":2,\"linecolor\":\"white\",\"showbackground\":true,\"ticks\":\"\",\"zerolinecolor\":\"white\"},\"yaxis\":{\"backgroundcolor\":\"#E5ECF6\",\"gridcolor\":\"white\",\"gridwidth\":2,\"linecolor\":\"white\",\"showbackground\":true,\"ticks\":\"\",\"zerolinecolor\":\"white\"},\"zaxis\":{\"backgroundcolor\":\"#E5ECF6\",\"gridcolor\":\"white\",\"gridwidth\":2,\"linecolor\":\"white\",\"showbackground\":true,\"ticks\":\"\",\"zerolinecolor\":\"white\"}},\"shapedefaults\":{\"line\":{\"color\":\"#2a3f5f\"}},\"ternary\":{\"aaxis\":{\"gridcolor\":\"white\",\"linecolor\":\"white\",\"ticks\":\"\"},\"baxis\":{\"gridcolor\":\"white\",\"linecolor\":\"white\",\"ticks\":\"\"},\"bgcolor\":\"#E5ECF6\",\"caxis\":{\"gridcolor\":\"white\",\"linecolor\":\"white\",\"ticks\":\"\"}},\"title\":{\"x\":0.05},\"xaxis\":{\"automargin\":true,\"gridcolor\":\"white\",\"linecolor\":\"white\",\"ticks\":\"\",\"title\":{\"standoff\":15},\"zerolinecolor\":\"white\",\"zerolinewidth\":2},\"yaxis\":{\"automargin\":true,\"gridcolor\":\"white\",\"linecolor\":\"white\",\"ticks\":\"\",\"title\":{\"standoff\":15},\"zerolinecolor\":\"white\",\"zerolinewidth\":2}}},\"title\":{\"font\":{\"color\":\"#4D5663\"}},\"xaxis\":{\"gridcolor\":\"#E1E5ED\",\"showgrid\":true,\"tickfont\":{\"color\":\"#4D5663\"},\"title\":{\"font\":{\"color\":\"#4D5663\"},\"text\":\"\"},\"zerolinecolor\":\"#E1E5ED\"},\"yaxis\":{\"gridcolor\":\"#E1E5ED\",\"showgrid\":true,\"tickfont\":{\"color\":\"#4D5663\"},\"title\":{\"font\":{\"color\":\"#4D5663\"},\"text\":\"\"},\"zerolinecolor\":\"#E1E5ED\"}},                        {\"showLink\": true, \"linkText\": \"Export to plot.ly\", \"plotlyServerURL\": \"https://plot.ly\", \"responsive\": true}                    ).then(function(){\n",
       "                            \n",
       "var gd = document.getElementById('e2767e6b-f521-459e-864b-2414347dc996');\n",
       "var x = new MutationObserver(function (mutations, observer) {{\n",
       "        var display = window.getComputedStyle(gd).display;\n",
       "        if (!display || display === 'none') {{\n",
       "            console.log([gd, 'removed!']);\n",
       "            Plotly.purge(gd);\n",
       "            observer.disconnect();\n",
       "        }}\n",
       "}});\n",
       "\n",
       "// Listen for the removal of the full notebook cells\n",
       "var notebookContainer = gd.closest('#notebook-container');\n",
       "if (notebookContainer) {{\n",
       "    x.observe(notebookContainer, {childList: true});\n",
       "}}\n",
       "\n",
       "// Listen for the clearing of the current output cell\n",
       "var outputEl = gd.closest('.output');\n",
       "if (outputEl) {{\n",
       "    x.observe(outputEl, {childList: true});\n",
       "}}\n",
       "\n",
       "                        })                };                });            </script>        </div>"
      ]
     },
     "metadata": {},
     "output_type": "display_data"
    }
   ],
   "source": [
    "df.iplot(kind='bubble',x='A',y='B',size='C')"
   ]
  },
  {
   "cell_type": "markdown",
   "metadata": {},
   "source": [
    "## scatter_matrix()\n",
    "\n",
    "Similar to sns.pairplot()"
   ]
  },
  {
   "cell_type": "code",
   "execution_count": 18,
   "metadata": {},
   "outputs": [
    {
     "data": {
      "application/vnd.plotly.v1+json": {
       "config": {
        "linkText": "Export to plot.ly",
        "plotlyServerURL": "https://plot.ly",
        "showLink": true
       },
       "data": [
        {
         "histfunc": "count",
         "histnorm": "",
         "marker": {
          "color": "rgba(255, 153, 51, 1.0)",
          "line": {
           "color": "#4D5663",
           "width": 1.3
          }
         },
         "name": "A",
         "nbinsx": 10,
         "opacity": 0.8,
         "orientation": "v",
         "type": "histogram",
         "x": [
          0.9674792495653929,
          -0.869645948345109,
          0.3276963940454639,
          2.212326394176484,
          1.194564115626372,
          1.281333312680946,
          -0.4593625791084765,
          0.2534398304646211,
          -1.187047102320885,
          0.009120945638079877,
          0.46812971295397005,
          0.3173603163090243,
          -0.5949756643716486,
          0.36612201815595236,
          1.6823087709179516,
          0.1223867090465667,
          1.2858955968180077,
          -0.355874679445089,
          -1.5056555405566194,
          -0.9803269668748792,
          -0.9821783534228085,
          -0.052757830218477235,
          0.8033100178798156,
          -1.2398031374339302,
          -0.5813663197398291,
          0.19886821601177004,
          0.1294915534324573,
          -0.13306937600077753,
          1.3939949997907175,
          1.1973801278232796,
          0.584311181386549,
          0.9814067443843448,
          0.2061913231991555,
          1.671664827360644,
          0.789600735681814,
          1.2933123482628828,
          1.4246595860526337,
          -1.3217494580552764,
          -0.07724462464406437,
          0.18930105179933207,
          -0.8808766976813702,
          -0.01730765278196536,
          1.6745130595812752,
          -0.9444306581128674,
          -0.1221827946211637,
          -2.321901756440847,
          0.7477928499020462,
          -1.8263033277692504,
          -1.0618495646062116,
          -0.09040834612020593,
          -0.0010349389445514765,
          -2.735604509568205,
          -1.6080140908995408,
          0.46315775491532685,
          -0.5641038656392511,
          -0.09215769154545252,
          1.0002522597706367,
          0.17587208675758984,
          -0.5954239279504188,
          -2.911645903175407,
          0.060337624495499904,
          -0.42040253946929246,
          1.7762469320792973,
          0.8730115926111546,
          1.8439878835043193,
          -0.6085419218754314,
          -0.9079008941146096,
          0.2759242313421433,
          -0.3988133260904946,
          1.3186512094391587,
          -0.22711041145047717,
          -1.1216333739411006,
          0.8022488902000023,
          -0.28124431547160195,
          -0.5851126659274265,
          0.4306201479387562,
          -1.0882948662735636,
          0.027976391155035966,
          0.5566361343141041,
          -1.5807367243659294,
          -0.8082355354469991,
          0.5644686676080057,
          -0.5897432726211994,
          -1.090934333436364,
          -0.24825567958331607,
          0.24567974588087993,
          1.0745837768794317,
          -0.4793855569130954,
          1.2390952913307294,
          -0.1127955717482966,
          0.5115001071064847,
          -0.05946749612950342,
          -0.8113493777941423,
          -0.049751974798389886,
          -0.3517813343733759,
          -0.29145587516066457,
          0.5787628035960883,
          -0.1311683960980727,
          -0.10496940636822302,
          0.5356439478190795
         ],
         "xaxis": "x",
         "yaxis": "y"
        },
        {
         "line": {
          "color": "rgba(128, 128, 128, 1.0)",
          "dash": "solid",
          "shape": "linear",
          "width": 1.3
         },
         "marker": {
          "size": 2,
          "symbol": "circle"
         },
         "mode": "markers",
         "name": "A",
         "text": "",
         "type": "scatter",
         "x": [
          1.2559665150128738,
          1.623222658930747,
          -1.6337826450630495,
          0.9447131134135116,
          1.1798043405299838,
          -1.155688742948656,
          2.4548456650087664,
          0.1967602313034417,
          1.273259911357326,
          0.032098563769232605,
          -0.9406093982229913,
          -1.2964368050421562,
          -1.519902506155913,
          -0.3761787602834264,
          -0.010752827153059951,
          -0.10556004881246867,
          0.20076895648962265,
          -1.6850246316573827,
          -0.053499097961576036,
          0.026679427972856138,
          -0.9296474377801646,
          0.34792155075954995,
          0.6817847402778288,
          0.6709660186939352,
          -0.32023098099219494,
          0.3547897976235289,
          -0.13263784373644685,
          0.2935159364327797,
          -1.1935028348876886,
          -0.6154685546770732,
          0.2711354765320031,
          -1.2721284909920545,
          -1.66150782301575,
          -0.40869372542459653,
          0.6927214550234417,
          -0.571354166680342,
          -2.370721439218031,
          0.1493964954778568,
          0.6510556001226679,
          0.4292580766720687,
          0.7638851538915261,
          -0.6330279833466473,
          0.17323422869432137,
          0.5571215919463213,
          -1.7511962250925097,
          1.0350253485830763,
          -0.15762194299334684,
          0.4863083584740155,
          0.30436807080373923,
          0.4251551333724484,
          0.3550019805177964,
          0.44034349879940204,
          2.0969774956697025,
          1.0962646409270569,
          1.1830133303858525,
          -1.1344339583329939,
          -1.5290452405995383,
          1.8736128340095886,
          0.39478122772731267,
          -1.05179307868685,
          0.6310044541279328,
          0.42939924866247065,
          0.5323109177393281,
          -0.4729320313581209,
          1.5409072215037973,
          -1.262119363458304,
          -0.7039383666072286,
          -0.8990003348315486,
          -0.028011387798115833,
          0.47592024362120794,
          0.9002351500195176,
          -0.14605167795031107,
          -0.7679327720116481,
          1.5576359927434305,
          -0.7733583994874416,
          0.23109138835710186,
          -1.1494712996178111,
          0.4967199657809361,
          0.29515336234764084,
          0.8557133952349325,
          -0.309347918115768,
          -0.9199284431444746,
          -0.0815317236788813,
          0.09104793048301475,
          -0.4112088551283685,
          0.07420682096557561,
          0.8944805960648957,
          1.047378806846963,
          -0.043918820524732866,
          -1.0315338064149218,
          -0.7600061950087242,
          -0.9280574417632615,
          -0.7216526703364456,
          0.7305990509468757,
          -0.04815858666592761,
          -0.6922237460237607,
          -0.4498024098452496,
          -0.906975856818541,
          -1.5624154089293907,
          -0.6482211367486518
         ],
         "xaxis": "x2",
         "y": [
          0.9674792495653929,
          -0.869645948345109,
          0.3276963940454639,
          2.212326394176484,
          1.194564115626372,
          1.281333312680946,
          -0.4593625791084765,
          0.2534398304646211,
          -1.187047102320885,
          0.009120945638079877,
          0.46812971295397005,
          0.3173603163090243,
          -0.5949756643716486,
          0.36612201815595236,
          1.6823087709179516,
          0.1223867090465667,
          1.2858955968180077,
          -0.355874679445089,
          -1.5056555405566194,
          -0.9803269668748792,
          -0.9821783534228085,
          -0.052757830218477235,
          0.8033100178798156,
          -1.2398031374339302,
          -0.5813663197398291,
          0.19886821601177004,
          0.1294915534324573,
          -0.13306937600077753,
          1.3939949997907175,
          1.1973801278232796,
          0.584311181386549,
          0.9814067443843448,
          0.2061913231991555,
          1.671664827360644,
          0.789600735681814,
          1.2933123482628828,
          1.4246595860526337,
          -1.3217494580552764,
          -0.07724462464406437,
          0.18930105179933207,
          -0.8808766976813702,
          -0.01730765278196536,
          1.6745130595812752,
          -0.9444306581128674,
          -0.1221827946211637,
          -2.321901756440847,
          0.7477928499020462,
          -1.8263033277692504,
          -1.0618495646062116,
          -0.09040834612020593,
          -0.0010349389445514765,
          -2.735604509568205,
          -1.6080140908995408,
          0.46315775491532685,
          -0.5641038656392511,
          -0.09215769154545252,
          1.0002522597706367,
          0.17587208675758984,
          -0.5954239279504188,
          -2.911645903175407,
          0.060337624495499904,
          -0.42040253946929246,
          1.7762469320792973,
          0.8730115926111546,
          1.8439878835043193,
          -0.6085419218754314,
          -0.9079008941146096,
          0.2759242313421433,
          -0.3988133260904946,
          1.3186512094391587,
          -0.22711041145047717,
          -1.1216333739411006,
          0.8022488902000023,
          -0.28124431547160195,
          -0.5851126659274265,
          0.4306201479387562,
          -1.0882948662735636,
          0.027976391155035966,
          0.5566361343141041,
          -1.5807367243659294,
          -0.8082355354469991,
          0.5644686676080057,
          -0.5897432726211994,
          -1.090934333436364,
          -0.24825567958331607,
          0.24567974588087993,
          1.0745837768794317,
          -0.4793855569130954,
          1.2390952913307294,
          -0.1127955717482966,
          0.5115001071064847,
          -0.05946749612950342,
          -0.8113493777941423,
          -0.049751974798389886,
          -0.3517813343733759,
          -0.29145587516066457,
          0.5787628035960883,
          -0.1311683960980727,
          -0.10496940636822302,
          0.5356439478190795
         ],
         "yaxis": "y2"
        },
        {
         "line": {
          "color": "rgba(128, 128, 128, 1.0)",
          "dash": "solid",
          "shape": "linear",
          "width": 1.3
         },
         "marker": {
          "size": 2,
          "symbol": "circle"
         },
         "mode": "markers",
         "name": "A",
         "text": "",
         "type": "scatter",
         "x": [
          0.20305496644080695,
          -0.33039121526200343,
          0.40855082409175153,
          1.3274337532753089,
          0.6803105741718392,
          0.006881117099928233,
          0.03165130139628253,
          0.181838923603268,
          0.49015845140703557,
          -1.526960515256338,
          0.7246631081556754,
          -0.547753009652827,
          -2.1534501524454916,
          -1.5605142632760103,
          -0.9304612934504152,
          -0.9293505632842272,
          0.9401064012357843,
          -0.25152667299264647,
          -1.0810539083833393,
          -0.2569645314207663,
          -0.9562882768559505,
          0.3581432251875754,
          -0.058761279119920434,
          -0.005837422335257732,
          1.0973696580147438,
          0.5131968563218078,
          1.1893389729121706,
          0.4130546432360426,
          -0.9493384426904715,
          -0.9076095877297566,
          0.2930118306513728,
          -0.9419434561021102,
          0.047934019761024134,
          -1.1525333553450632,
          0.5579077902570123,
          -0.4771985528260809,
          0.6427791125417261,
          -0.12642375532549144,
          0.4582786624587594,
          0.8441490446943267,
          -0.08965862722638257,
          -0.6735546349036959,
          0.37390057446007036,
          0.020316886846450333,
          -0.4077579015482804,
          -1.9650400693913401,
          -2.2477196087378615,
          -0.08016444885580916,
          0.5689869353540534,
          -1.6029250151264145,
          1.0847552376575391,
          0.8531548350965638,
          -0.5849907786951324,
          -3.7174326786829317,
          -0.614978372572787,
          -1.2613986013486533,
          -0.6262121478759936,
          -0.6399900697017636,
          0.2893718511932817,
          0.6299388086845674,
          1.4028940813934354,
          1.3839847336594746,
          0.9319950604517704,
          1.7157971716334122,
          0.45498902184171786,
          -0.5355852741151403,
          1.593083632942254,
          -0.6005007743404577,
          0.63266313047327,
          -0.6812596561741786,
          0.32436359906335743,
          0.244617079161891,
          1.1261753132323709,
          0.4374761668552437,
          0.154484641594899,
          -0.3119547135474024,
          0.47924657258169007,
          1.307750909104364,
          0.6458414548905935,
          0.49227870937608564,
          0.49893512743953133,
          -1.0924075598242011,
          -1.4714671173639802,
          -0.0963085993679753,
          2.1275418519912845,
          -0.26131193407714154,
          -0.6090046936899325,
          -0.4417302353214457,
          -1.1473580546824254,
          -0.5436027939444492,
          -0.7737127397869321,
          -0.35479721904411277,
          -1.6133281126784869,
          -0.4236190388756427,
          0.009259765543734427,
          0.4741677156123742,
          -0.6874560632796509,
          -0.19686408370752284,
          -0.16260661326726622,
          -0.8220663003071326
         ],
         "xaxis": "x3",
         "y": [
          0.9674792495653929,
          -0.869645948345109,
          0.3276963940454639,
          2.212326394176484,
          1.194564115626372,
          1.281333312680946,
          -0.4593625791084765,
          0.2534398304646211,
          -1.187047102320885,
          0.009120945638079877,
          0.46812971295397005,
          0.3173603163090243,
          -0.5949756643716486,
          0.36612201815595236,
          1.6823087709179516,
          0.1223867090465667,
          1.2858955968180077,
          -0.355874679445089,
          -1.5056555405566194,
          -0.9803269668748792,
          -0.9821783534228085,
          -0.052757830218477235,
          0.8033100178798156,
          -1.2398031374339302,
          -0.5813663197398291,
          0.19886821601177004,
          0.1294915534324573,
          -0.13306937600077753,
          1.3939949997907175,
          1.1973801278232796,
          0.584311181386549,
          0.9814067443843448,
          0.2061913231991555,
          1.671664827360644,
          0.789600735681814,
          1.2933123482628828,
          1.4246595860526337,
          -1.3217494580552764,
          -0.07724462464406437,
          0.18930105179933207,
          -0.8808766976813702,
          -0.01730765278196536,
          1.6745130595812752,
          -0.9444306581128674,
          -0.1221827946211637,
          -2.321901756440847,
          0.7477928499020462,
          -1.8263033277692504,
          -1.0618495646062116,
          -0.09040834612020593,
          -0.0010349389445514765,
          -2.735604509568205,
          -1.6080140908995408,
          0.46315775491532685,
          -0.5641038656392511,
          -0.09215769154545252,
          1.0002522597706367,
          0.17587208675758984,
          -0.5954239279504188,
          -2.911645903175407,
          0.060337624495499904,
          -0.42040253946929246,
          1.7762469320792973,
          0.8730115926111546,
          1.8439878835043193,
          -0.6085419218754314,
          -0.9079008941146096,
          0.2759242313421433,
          -0.3988133260904946,
          1.3186512094391587,
          -0.22711041145047717,
          -1.1216333739411006,
          0.8022488902000023,
          -0.28124431547160195,
          -0.5851126659274265,
          0.4306201479387562,
          -1.0882948662735636,
          0.027976391155035966,
          0.5566361343141041,
          -1.5807367243659294,
          -0.8082355354469991,
          0.5644686676080057,
          -0.5897432726211994,
          -1.090934333436364,
          -0.24825567958331607,
          0.24567974588087993,
          1.0745837768794317,
          -0.4793855569130954,
          1.2390952913307294,
          -0.1127955717482966,
          0.5115001071064847,
          -0.05946749612950342,
          -0.8113493777941423,
          -0.049751974798389886,
          -0.3517813343733759,
          -0.29145587516066457,
          0.5787628035960883,
          -0.1311683960980727,
          -0.10496940636822302,
          0.5356439478190795
         ],
         "yaxis": "y3"
        },
        {
         "line": {
          "color": "rgba(128, 128, 128, 1.0)",
          "dash": "solid",
          "shape": "linear",
          "width": 1.3
         },
         "marker": {
          "size": 2,
          "symbol": "circle"
         },
         "mode": "markers",
         "name": "A",
         "text": "",
         "type": "scatter",
         "x": [
          -0.844675283057274,
          1.1079253141952627,
          -1.0549246574985103,
          0.6248328768284416,
          0.39372377644644213,
          0.9872964812692586,
          -0.6645790999130656,
          -0.27236586279190184,
          -1.5346605301244767,
          0.1692178233932603,
          1.4184857962790212,
          0.8808556056254373,
          -1.1003714271012022,
          -1.2367186974284194,
          -0.14564286798088713,
          1.837797109612688,
          -0.38971287492709455,
          0.8317892603171286,
          0.02665091971910814,
          -0.8220765905487935,
          0.48617665310014496,
          -1.3150490584333274,
          0.94132724243685,
          -1.967516472559997,
          0.06591239341638026,
          -0.03209809868312439,
          -0.3400126275281913,
          1.327535038170273,
          -0.3631595217521406,
          2.6889083016183326,
          0.09233393307287759,
          1.0828519527090887,
          0.2062528330930305,
          0.023644567194252276,
          -0.8314228107367397,
          1.1589175766566404,
          -0.45573983420101594,
          0.6145840653329442,
          -1.9016495697230185,
          0.004154186606662765,
          0.9385030690712318,
          -0.038479006347781,
          0.10155690654794293,
          0.49684899192493487,
          0.7840714029526085,
          0.4180320949104808,
          0.03023824988513494,
          0.5951791164420306,
          0.4759338280966322,
          0.360584462706018,
          0.015209593068782494,
          0.4438774150141562,
          -0.9253224912272154,
          0.10977979096170497,
          0.8953969638865029,
          0.562374954154987,
          0.023784976632493186,
          0.6934321252609429,
          -0.8755193028679381,
          -1.2972236604334393,
          0.6265386009399033,
          1.3201401348488935,
          -0.866164398556021,
          1.978236792582661,
          -1.6080126826901648,
          -0.16123823594315662,
          0.7028473801525825,
          -0.39184544271452043,
          -0.43074291245269763,
          -0.1960334246160809,
          1.3199654870906479,
          1.1148035255243096,
          -0.6689729598785097,
          -0.9288115559984517,
          0.3350332511429236,
          -1.1037989967505708,
          -0.3719360445443566,
          -1.0887917107787195,
          -0.746592820822549,
          -0.8170057028655553,
          0.0382537947024953,
          0.40514624527181287,
          -0.428506224009542,
          1.2688938671624623,
          0.10951858655427282,
          -1.1453464424572268,
          -0.18024758992087664,
          0.3962381935287525,
          1.2217750927028994,
          -0.3052640040963152,
          -0.26565063884929857,
          0.8795081656156161,
          0.6591573084102006,
          1.659280422430173,
          -0.20388072092017542,
          -1.3864641621800833,
          0.8810754847545192,
          -0.8610036442687828,
          1.2743028253807158,
          0.10993575430849935
         ],
         "xaxis": "x4",
         "y": [
          0.9674792495653929,
          -0.869645948345109,
          0.3276963940454639,
          2.212326394176484,
          1.194564115626372,
          1.281333312680946,
          -0.4593625791084765,
          0.2534398304646211,
          -1.187047102320885,
          0.009120945638079877,
          0.46812971295397005,
          0.3173603163090243,
          -0.5949756643716486,
          0.36612201815595236,
          1.6823087709179516,
          0.1223867090465667,
          1.2858955968180077,
          -0.355874679445089,
          -1.5056555405566194,
          -0.9803269668748792,
          -0.9821783534228085,
          -0.052757830218477235,
          0.8033100178798156,
          -1.2398031374339302,
          -0.5813663197398291,
          0.19886821601177004,
          0.1294915534324573,
          -0.13306937600077753,
          1.3939949997907175,
          1.1973801278232796,
          0.584311181386549,
          0.9814067443843448,
          0.2061913231991555,
          1.671664827360644,
          0.789600735681814,
          1.2933123482628828,
          1.4246595860526337,
          -1.3217494580552764,
          -0.07724462464406437,
          0.18930105179933207,
          -0.8808766976813702,
          -0.01730765278196536,
          1.6745130595812752,
          -0.9444306581128674,
          -0.1221827946211637,
          -2.321901756440847,
          0.7477928499020462,
          -1.8263033277692504,
          -1.0618495646062116,
          -0.09040834612020593,
          -0.0010349389445514765,
          -2.735604509568205,
          -1.6080140908995408,
          0.46315775491532685,
          -0.5641038656392511,
          -0.09215769154545252,
          1.0002522597706367,
          0.17587208675758984,
          -0.5954239279504188,
          -2.911645903175407,
          0.060337624495499904,
          -0.42040253946929246,
          1.7762469320792973,
          0.8730115926111546,
          1.8439878835043193,
          -0.6085419218754314,
          -0.9079008941146096,
          0.2759242313421433,
          -0.3988133260904946,
          1.3186512094391587,
          -0.22711041145047717,
          -1.1216333739411006,
          0.8022488902000023,
          -0.28124431547160195,
          -0.5851126659274265,
          0.4306201479387562,
          -1.0882948662735636,
          0.027976391155035966,
          0.5566361343141041,
          -1.5807367243659294,
          -0.8082355354469991,
          0.5644686676080057,
          -0.5897432726211994,
          -1.090934333436364,
          -0.24825567958331607,
          0.24567974588087993,
          1.0745837768794317,
          -0.4793855569130954,
          1.2390952913307294,
          -0.1127955717482966,
          0.5115001071064847,
          -0.05946749612950342,
          -0.8113493777941423,
          -0.049751974798389886,
          -0.3517813343733759,
          -0.29145587516066457,
          0.5787628035960883,
          -0.1311683960980727,
          -0.10496940636822302,
          0.5356439478190795
         ],
         "yaxis": "y4"
        },
        {
         "line": {
          "color": "rgba(128, 128, 128, 1.0)",
          "dash": "solid",
          "shape": "linear",
          "width": 1.3
         },
         "marker": {
          "size": 2,
          "symbol": "circle"
         },
         "mode": "markers",
         "name": "B",
         "text": "",
         "type": "scatter",
         "x": [
          0.9674792495653929,
          -0.869645948345109,
          0.3276963940454639,
          2.212326394176484,
          1.194564115626372,
          1.281333312680946,
          -0.4593625791084765,
          0.2534398304646211,
          -1.187047102320885,
          0.009120945638079877,
          0.46812971295397005,
          0.3173603163090243,
          -0.5949756643716486,
          0.36612201815595236,
          1.6823087709179516,
          0.1223867090465667,
          1.2858955968180077,
          -0.355874679445089,
          -1.5056555405566194,
          -0.9803269668748792,
          -0.9821783534228085,
          -0.052757830218477235,
          0.8033100178798156,
          -1.2398031374339302,
          -0.5813663197398291,
          0.19886821601177004,
          0.1294915534324573,
          -0.13306937600077753,
          1.3939949997907175,
          1.1973801278232796,
          0.584311181386549,
          0.9814067443843448,
          0.2061913231991555,
          1.671664827360644,
          0.789600735681814,
          1.2933123482628828,
          1.4246595860526337,
          -1.3217494580552764,
          -0.07724462464406437,
          0.18930105179933207,
          -0.8808766976813702,
          -0.01730765278196536,
          1.6745130595812752,
          -0.9444306581128674,
          -0.1221827946211637,
          -2.321901756440847,
          0.7477928499020462,
          -1.8263033277692504,
          -1.0618495646062116,
          -0.09040834612020593,
          -0.0010349389445514765,
          -2.735604509568205,
          -1.6080140908995408,
          0.46315775491532685,
          -0.5641038656392511,
          -0.09215769154545252,
          1.0002522597706367,
          0.17587208675758984,
          -0.5954239279504188,
          -2.911645903175407,
          0.060337624495499904,
          -0.42040253946929246,
          1.7762469320792973,
          0.8730115926111546,
          1.8439878835043193,
          -0.6085419218754314,
          -0.9079008941146096,
          0.2759242313421433,
          -0.3988133260904946,
          1.3186512094391587,
          -0.22711041145047717,
          -1.1216333739411006,
          0.8022488902000023,
          -0.28124431547160195,
          -0.5851126659274265,
          0.4306201479387562,
          -1.0882948662735636,
          0.027976391155035966,
          0.5566361343141041,
          -1.5807367243659294,
          -0.8082355354469991,
          0.5644686676080057,
          -0.5897432726211994,
          -1.090934333436364,
          -0.24825567958331607,
          0.24567974588087993,
          1.0745837768794317,
          -0.4793855569130954,
          1.2390952913307294,
          -0.1127955717482966,
          0.5115001071064847,
          -0.05946749612950342,
          -0.8113493777941423,
          -0.049751974798389886,
          -0.3517813343733759,
          -0.29145587516066457,
          0.5787628035960883,
          -0.1311683960980727,
          -0.10496940636822302,
          0.5356439478190795
         ],
         "xaxis": "x5",
         "y": [
          1.2559665150128738,
          1.623222658930747,
          -1.6337826450630495,
          0.9447131134135116,
          1.1798043405299838,
          -1.155688742948656,
          2.4548456650087664,
          0.1967602313034417,
          1.273259911357326,
          0.032098563769232605,
          -0.9406093982229913,
          -1.2964368050421562,
          -1.519902506155913,
          -0.3761787602834264,
          -0.010752827153059951,
          -0.10556004881246867,
          0.20076895648962265,
          -1.6850246316573827,
          -0.053499097961576036,
          0.026679427972856138,
          -0.9296474377801646,
          0.34792155075954995,
          0.6817847402778288,
          0.6709660186939352,
          -0.32023098099219494,
          0.3547897976235289,
          -0.13263784373644685,
          0.2935159364327797,
          -1.1935028348876886,
          -0.6154685546770732,
          0.2711354765320031,
          -1.2721284909920545,
          -1.66150782301575,
          -0.40869372542459653,
          0.6927214550234417,
          -0.571354166680342,
          -2.370721439218031,
          0.1493964954778568,
          0.6510556001226679,
          0.4292580766720687,
          0.7638851538915261,
          -0.6330279833466473,
          0.17323422869432137,
          0.5571215919463213,
          -1.7511962250925097,
          1.0350253485830763,
          -0.15762194299334684,
          0.4863083584740155,
          0.30436807080373923,
          0.4251551333724484,
          0.3550019805177964,
          0.44034349879940204,
          2.0969774956697025,
          1.0962646409270569,
          1.1830133303858525,
          -1.1344339583329939,
          -1.5290452405995383,
          1.8736128340095886,
          0.39478122772731267,
          -1.05179307868685,
          0.6310044541279328,
          0.42939924866247065,
          0.5323109177393281,
          -0.4729320313581209,
          1.5409072215037973,
          -1.262119363458304,
          -0.7039383666072286,
          -0.8990003348315486,
          -0.028011387798115833,
          0.47592024362120794,
          0.9002351500195176,
          -0.14605167795031107,
          -0.7679327720116481,
          1.5576359927434305,
          -0.7733583994874416,
          0.23109138835710186,
          -1.1494712996178111,
          0.4967199657809361,
          0.29515336234764084,
          0.8557133952349325,
          -0.309347918115768,
          -0.9199284431444746,
          -0.0815317236788813,
          0.09104793048301475,
          -0.4112088551283685,
          0.07420682096557561,
          0.8944805960648957,
          1.047378806846963,
          -0.043918820524732866,
          -1.0315338064149218,
          -0.7600061950087242,
          -0.9280574417632615,
          -0.7216526703364456,
          0.7305990509468757,
          -0.04815858666592761,
          -0.6922237460237607,
          -0.4498024098452496,
          -0.906975856818541,
          -1.5624154089293907,
          -0.6482211367486518
         ],
         "yaxis": "y5"
        },
        {
         "histfunc": "count",
         "histnorm": "",
         "marker": {
          "color": "rgba(55, 128, 191, 1.0)",
          "line": {
           "color": "#4D5663",
           "width": 1.3
          }
         },
         "name": "B",
         "nbinsx": 10,
         "opacity": 0.8,
         "orientation": "v",
         "type": "histogram",
         "x": [
          1.2559665150128738,
          1.623222658930747,
          -1.6337826450630495,
          0.9447131134135116,
          1.1798043405299838,
          -1.155688742948656,
          2.4548456650087664,
          0.1967602313034417,
          1.273259911357326,
          0.032098563769232605,
          -0.9406093982229913,
          -1.2964368050421562,
          -1.519902506155913,
          -0.3761787602834264,
          -0.010752827153059951,
          -0.10556004881246867,
          0.20076895648962265,
          -1.6850246316573827,
          -0.053499097961576036,
          0.026679427972856138,
          -0.9296474377801646,
          0.34792155075954995,
          0.6817847402778288,
          0.6709660186939352,
          -0.32023098099219494,
          0.3547897976235289,
          -0.13263784373644685,
          0.2935159364327797,
          -1.1935028348876886,
          -0.6154685546770732,
          0.2711354765320031,
          -1.2721284909920545,
          -1.66150782301575,
          -0.40869372542459653,
          0.6927214550234417,
          -0.571354166680342,
          -2.370721439218031,
          0.1493964954778568,
          0.6510556001226679,
          0.4292580766720687,
          0.7638851538915261,
          -0.6330279833466473,
          0.17323422869432137,
          0.5571215919463213,
          -1.7511962250925097,
          1.0350253485830763,
          -0.15762194299334684,
          0.4863083584740155,
          0.30436807080373923,
          0.4251551333724484,
          0.3550019805177964,
          0.44034349879940204,
          2.0969774956697025,
          1.0962646409270569,
          1.1830133303858525,
          -1.1344339583329939,
          -1.5290452405995383,
          1.8736128340095886,
          0.39478122772731267,
          -1.05179307868685,
          0.6310044541279328,
          0.42939924866247065,
          0.5323109177393281,
          -0.4729320313581209,
          1.5409072215037973,
          -1.262119363458304,
          -0.7039383666072286,
          -0.8990003348315486,
          -0.028011387798115833,
          0.47592024362120794,
          0.9002351500195176,
          -0.14605167795031107,
          -0.7679327720116481,
          1.5576359927434305,
          -0.7733583994874416,
          0.23109138835710186,
          -1.1494712996178111,
          0.4967199657809361,
          0.29515336234764084,
          0.8557133952349325,
          -0.309347918115768,
          -0.9199284431444746,
          -0.0815317236788813,
          0.09104793048301475,
          -0.4112088551283685,
          0.07420682096557561,
          0.8944805960648957,
          1.047378806846963,
          -0.043918820524732866,
          -1.0315338064149218,
          -0.7600061950087242,
          -0.9280574417632615,
          -0.7216526703364456,
          0.7305990509468757,
          -0.04815858666592761,
          -0.6922237460237607,
          -0.4498024098452496,
          -0.906975856818541,
          -1.5624154089293907,
          -0.6482211367486518
         ],
         "xaxis": "x6",
         "yaxis": "y6"
        },
        {
         "line": {
          "color": "rgba(128, 128, 128, 1.0)",
          "dash": "solid",
          "shape": "linear",
          "width": 1.3
         },
         "marker": {
          "size": 2,
          "symbol": "circle"
         },
         "mode": "markers",
         "name": "B",
         "text": "",
         "type": "scatter",
         "x": [
          0.20305496644080695,
          -0.33039121526200343,
          0.40855082409175153,
          1.3274337532753089,
          0.6803105741718392,
          0.006881117099928233,
          0.03165130139628253,
          0.181838923603268,
          0.49015845140703557,
          -1.526960515256338,
          0.7246631081556754,
          -0.547753009652827,
          -2.1534501524454916,
          -1.5605142632760103,
          -0.9304612934504152,
          -0.9293505632842272,
          0.9401064012357843,
          -0.25152667299264647,
          -1.0810539083833393,
          -0.2569645314207663,
          -0.9562882768559505,
          0.3581432251875754,
          -0.058761279119920434,
          -0.005837422335257732,
          1.0973696580147438,
          0.5131968563218078,
          1.1893389729121706,
          0.4130546432360426,
          -0.9493384426904715,
          -0.9076095877297566,
          0.2930118306513728,
          -0.9419434561021102,
          0.047934019761024134,
          -1.1525333553450632,
          0.5579077902570123,
          -0.4771985528260809,
          0.6427791125417261,
          -0.12642375532549144,
          0.4582786624587594,
          0.8441490446943267,
          -0.08965862722638257,
          -0.6735546349036959,
          0.37390057446007036,
          0.020316886846450333,
          -0.4077579015482804,
          -1.9650400693913401,
          -2.2477196087378615,
          -0.08016444885580916,
          0.5689869353540534,
          -1.6029250151264145,
          1.0847552376575391,
          0.8531548350965638,
          -0.5849907786951324,
          -3.7174326786829317,
          -0.614978372572787,
          -1.2613986013486533,
          -0.6262121478759936,
          -0.6399900697017636,
          0.2893718511932817,
          0.6299388086845674,
          1.4028940813934354,
          1.3839847336594746,
          0.9319950604517704,
          1.7157971716334122,
          0.45498902184171786,
          -0.5355852741151403,
          1.593083632942254,
          -0.6005007743404577,
          0.63266313047327,
          -0.6812596561741786,
          0.32436359906335743,
          0.244617079161891,
          1.1261753132323709,
          0.4374761668552437,
          0.154484641594899,
          -0.3119547135474024,
          0.47924657258169007,
          1.307750909104364,
          0.6458414548905935,
          0.49227870937608564,
          0.49893512743953133,
          -1.0924075598242011,
          -1.4714671173639802,
          -0.0963085993679753,
          2.1275418519912845,
          -0.26131193407714154,
          -0.6090046936899325,
          -0.4417302353214457,
          -1.1473580546824254,
          -0.5436027939444492,
          -0.7737127397869321,
          -0.35479721904411277,
          -1.6133281126784869,
          -0.4236190388756427,
          0.009259765543734427,
          0.4741677156123742,
          -0.6874560632796509,
          -0.19686408370752284,
          -0.16260661326726622,
          -0.8220663003071326
         ],
         "xaxis": "x7",
         "y": [
          1.2559665150128738,
          1.623222658930747,
          -1.6337826450630495,
          0.9447131134135116,
          1.1798043405299838,
          -1.155688742948656,
          2.4548456650087664,
          0.1967602313034417,
          1.273259911357326,
          0.032098563769232605,
          -0.9406093982229913,
          -1.2964368050421562,
          -1.519902506155913,
          -0.3761787602834264,
          -0.010752827153059951,
          -0.10556004881246867,
          0.20076895648962265,
          -1.6850246316573827,
          -0.053499097961576036,
          0.026679427972856138,
          -0.9296474377801646,
          0.34792155075954995,
          0.6817847402778288,
          0.6709660186939352,
          -0.32023098099219494,
          0.3547897976235289,
          -0.13263784373644685,
          0.2935159364327797,
          -1.1935028348876886,
          -0.6154685546770732,
          0.2711354765320031,
          -1.2721284909920545,
          -1.66150782301575,
          -0.40869372542459653,
          0.6927214550234417,
          -0.571354166680342,
          -2.370721439218031,
          0.1493964954778568,
          0.6510556001226679,
          0.4292580766720687,
          0.7638851538915261,
          -0.6330279833466473,
          0.17323422869432137,
          0.5571215919463213,
          -1.7511962250925097,
          1.0350253485830763,
          -0.15762194299334684,
          0.4863083584740155,
          0.30436807080373923,
          0.4251551333724484,
          0.3550019805177964,
          0.44034349879940204,
          2.0969774956697025,
          1.0962646409270569,
          1.1830133303858525,
          -1.1344339583329939,
          -1.5290452405995383,
          1.8736128340095886,
          0.39478122772731267,
          -1.05179307868685,
          0.6310044541279328,
          0.42939924866247065,
          0.5323109177393281,
          -0.4729320313581209,
          1.5409072215037973,
          -1.262119363458304,
          -0.7039383666072286,
          -0.8990003348315486,
          -0.028011387798115833,
          0.47592024362120794,
          0.9002351500195176,
          -0.14605167795031107,
          -0.7679327720116481,
          1.5576359927434305,
          -0.7733583994874416,
          0.23109138835710186,
          -1.1494712996178111,
          0.4967199657809361,
          0.29515336234764084,
          0.8557133952349325,
          -0.309347918115768,
          -0.9199284431444746,
          -0.0815317236788813,
          0.09104793048301475,
          -0.4112088551283685,
          0.07420682096557561,
          0.8944805960648957,
          1.047378806846963,
          -0.043918820524732866,
          -1.0315338064149218,
          -0.7600061950087242,
          -0.9280574417632615,
          -0.7216526703364456,
          0.7305990509468757,
          -0.04815858666592761,
          -0.6922237460237607,
          -0.4498024098452496,
          -0.906975856818541,
          -1.5624154089293907,
          -0.6482211367486518
         ],
         "yaxis": "y7"
        },
        {
         "line": {
          "color": "rgba(128, 128, 128, 1.0)",
          "dash": "solid",
          "shape": "linear",
          "width": 1.3
         },
         "marker": {
          "size": 2,
          "symbol": "circle"
         },
         "mode": "markers",
         "name": "B",
         "text": "",
         "type": "scatter",
         "x": [
          -0.844675283057274,
          1.1079253141952627,
          -1.0549246574985103,
          0.6248328768284416,
          0.39372377644644213,
          0.9872964812692586,
          -0.6645790999130656,
          -0.27236586279190184,
          -1.5346605301244767,
          0.1692178233932603,
          1.4184857962790212,
          0.8808556056254373,
          -1.1003714271012022,
          -1.2367186974284194,
          -0.14564286798088713,
          1.837797109612688,
          -0.38971287492709455,
          0.8317892603171286,
          0.02665091971910814,
          -0.8220765905487935,
          0.48617665310014496,
          -1.3150490584333274,
          0.94132724243685,
          -1.967516472559997,
          0.06591239341638026,
          -0.03209809868312439,
          -0.3400126275281913,
          1.327535038170273,
          -0.3631595217521406,
          2.6889083016183326,
          0.09233393307287759,
          1.0828519527090887,
          0.2062528330930305,
          0.023644567194252276,
          -0.8314228107367397,
          1.1589175766566404,
          -0.45573983420101594,
          0.6145840653329442,
          -1.9016495697230185,
          0.004154186606662765,
          0.9385030690712318,
          -0.038479006347781,
          0.10155690654794293,
          0.49684899192493487,
          0.7840714029526085,
          0.4180320949104808,
          0.03023824988513494,
          0.5951791164420306,
          0.4759338280966322,
          0.360584462706018,
          0.015209593068782494,
          0.4438774150141562,
          -0.9253224912272154,
          0.10977979096170497,
          0.8953969638865029,
          0.562374954154987,
          0.023784976632493186,
          0.6934321252609429,
          -0.8755193028679381,
          -1.2972236604334393,
          0.6265386009399033,
          1.3201401348488935,
          -0.866164398556021,
          1.978236792582661,
          -1.6080126826901648,
          -0.16123823594315662,
          0.7028473801525825,
          -0.39184544271452043,
          -0.43074291245269763,
          -0.1960334246160809,
          1.3199654870906479,
          1.1148035255243096,
          -0.6689729598785097,
          -0.9288115559984517,
          0.3350332511429236,
          -1.1037989967505708,
          -0.3719360445443566,
          -1.0887917107787195,
          -0.746592820822549,
          -0.8170057028655553,
          0.0382537947024953,
          0.40514624527181287,
          -0.428506224009542,
          1.2688938671624623,
          0.10951858655427282,
          -1.1453464424572268,
          -0.18024758992087664,
          0.3962381935287525,
          1.2217750927028994,
          -0.3052640040963152,
          -0.26565063884929857,
          0.8795081656156161,
          0.6591573084102006,
          1.659280422430173,
          -0.20388072092017542,
          -1.3864641621800833,
          0.8810754847545192,
          -0.8610036442687828,
          1.2743028253807158,
          0.10993575430849935
         ],
         "xaxis": "x8",
         "y": [
          1.2559665150128738,
          1.623222658930747,
          -1.6337826450630495,
          0.9447131134135116,
          1.1798043405299838,
          -1.155688742948656,
          2.4548456650087664,
          0.1967602313034417,
          1.273259911357326,
          0.032098563769232605,
          -0.9406093982229913,
          -1.2964368050421562,
          -1.519902506155913,
          -0.3761787602834264,
          -0.010752827153059951,
          -0.10556004881246867,
          0.20076895648962265,
          -1.6850246316573827,
          -0.053499097961576036,
          0.026679427972856138,
          -0.9296474377801646,
          0.34792155075954995,
          0.6817847402778288,
          0.6709660186939352,
          -0.32023098099219494,
          0.3547897976235289,
          -0.13263784373644685,
          0.2935159364327797,
          -1.1935028348876886,
          -0.6154685546770732,
          0.2711354765320031,
          -1.2721284909920545,
          -1.66150782301575,
          -0.40869372542459653,
          0.6927214550234417,
          -0.571354166680342,
          -2.370721439218031,
          0.1493964954778568,
          0.6510556001226679,
          0.4292580766720687,
          0.7638851538915261,
          -0.6330279833466473,
          0.17323422869432137,
          0.5571215919463213,
          -1.7511962250925097,
          1.0350253485830763,
          -0.15762194299334684,
          0.4863083584740155,
          0.30436807080373923,
          0.4251551333724484,
          0.3550019805177964,
          0.44034349879940204,
          2.0969774956697025,
          1.0962646409270569,
          1.1830133303858525,
          -1.1344339583329939,
          -1.5290452405995383,
          1.8736128340095886,
          0.39478122772731267,
          -1.05179307868685,
          0.6310044541279328,
          0.42939924866247065,
          0.5323109177393281,
          -0.4729320313581209,
          1.5409072215037973,
          -1.262119363458304,
          -0.7039383666072286,
          -0.8990003348315486,
          -0.028011387798115833,
          0.47592024362120794,
          0.9002351500195176,
          -0.14605167795031107,
          -0.7679327720116481,
          1.5576359927434305,
          -0.7733583994874416,
          0.23109138835710186,
          -1.1494712996178111,
          0.4967199657809361,
          0.29515336234764084,
          0.8557133952349325,
          -0.309347918115768,
          -0.9199284431444746,
          -0.0815317236788813,
          0.09104793048301475,
          -0.4112088551283685,
          0.07420682096557561,
          0.8944805960648957,
          1.047378806846963,
          -0.043918820524732866,
          -1.0315338064149218,
          -0.7600061950087242,
          -0.9280574417632615,
          -0.7216526703364456,
          0.7305990509468757,
          -0.04815858666592761,
          -0.6922237460237607,
          -0.4498024098452496,
          -0.906975856818541,
          -1.5624154089293907,
          -0.6482211367486518
         ],
         "yaxis": "y8"
        },
        {
         "line": {
          "color": "rgba(128, 128, 128, 1.0)",
          "dash": "solid",
          "shape": "linear",
          "width": 1.3
         },
         "marker": {
          "size": 2,
          "symbol": "circle"
         },
         "mode": "markers",
         "name": "C",
         "text": "",
         "type": "scatter",
         "x": [
          0.9674792495653929,
          -0.869645948345109,
          0.3276963940454639,
          2.212326394176484,
          1.194564115626372,
          1.281333312680946,
          -0.4593625791084765,
          0.2534398304646211,
          -1.187047102320885,
          0.009120945638079877,
          0.46812971295397005,
          0.3173603163090243,
          -0.5949756643716486,
          0.36612201815595236,
          1.6823087709179516,
          0.1223867090465667,
          1.2858955968180077,
          -0.355874679445089,
          -1.5056555405566194,
          -0.9803269668748792,
          -0.9821783534228085,
          -0.052757830218477235,
          0.8033100178798156,
          -1.2398031374339302,
          -0.5813663197398291,
          0.19886821601177004,
          0.1294915534324573,
          -0.13306937600077753,
          1.3939949997907175,
          1.1973801278232796,
          0.584311181386549,
          0.9814067443843448,
          0.2061913231991555,
          1.671664827360644,
          0.789600735681814,
          1.2933123482628828,
          1.4246595860526337,
          -1.3217494580552764,
          -0.07724462464406437,
          0.18930105179933207,
          -0.8808766976813702,
          -0.01730765278196536,
          1.6745130595812752,
          -0.9444306581128674,
          -0.1221827946211637,
          -2.321901756440847,
          0.7477928499020462,
          -1.8263033277692504,
          -1.0618495646062116,
          -0.09040834612020593,
          -0.0010349389445514765,
          -2.735604509568205,
          -1.6080140908995408,
          0.46315775491532685,
          -0.5641038656392511,
          -0.09215769154545252,
          1.0002522597706367,
          0.17587208675758984,
          -0.5954239279504188,
          -2.911645903175407,
          0.060337624495499904,
          -0.42040253946929246,
          1.7762469320792973,
          0.8730115926111546,
          1.8439878835043193,
          -0.6085419218754314,
          -0.9079008941146096,
          0.2759242313421433,
          -0.3988133260904946,
          1.3186512094391587,
          -0.22711041145047717,
          -1.1216333739411006,
          0.8022488902000023,
          -0.28124431547160195,
          -0.5851126659274265,
          0.4306201479387562,
          -1.0882948662735636,
          0.027976391155035966,
          0.5566361343141041,
          -1.5807367243659294,
          -0.8082355354469991,
          0.5644686676080057,
          -0.5897432726211994,
          -1.090934333436364,
          -0.24825567958331607,
          0.24567974588087993,
          1.0745837768794317,
          -0.4793855569130954,
          1.2390952913307294,
          -0.1127955717482966,
          0.5115001071064847,
          -0.05946749612950342,
          -0.8113493777941423,
          -0.049751974798389886,
          -0.3517813343733759,
          -0.29145587516066457,
          0.5787628035960883,
          -0.1311683960980727,
          -0.10496940636822302,
          0.5356439478190795
         ],
         "xaxis": "x9",
         "y": [
          0.20305496644080695,
          -0.33039121526200343,
          0.40855082409175153,
          1.3274337532753089,
          0.6803105741718392,
          0.006881117099928233,
          0.03165130139628253,
          0.181838923603268,
          0.49015845140703557,
          -1.526960515256338,
          0.7246631081556754,
          -0.547753009652827,
          -2.1534501524454916,
          -1.5605142632760103,
          -0.9304612934504152,
          -0.9293505632842272,
          0.9401064012357843,
          -0.25152667299264647,
          -1.0810539083833393,
          -0.2569645314207663,
          -0.9562882768559505,
          0.3581432251875754,
          -0.058761279119920434,
          -0.005837422335257732,
          1.0973696580147438,
          0.5131968563218078,
          1.1893389729121706,
          0.4130546432360426,
          -0.9493384426904715,
          -0.9076095877297566,
          0.2930118306513728,
          -0.9419434561021102,
          0.047934019761024134,
          -1.1525333553450632,
          0.5579077902570123,
          -0.4771985528260809,
          0.6427791125417261,
          -0.12642375532549144,
          0.4582786624587594,
          0.8441490446943267,
          -0.08965862722638257,
          -0.6735546349036959,
          0.37390057446007036,
          0.020316886846450333,
          -0.4077579015482804,
          -1.9650400693913401,
          -2.2477196087378615,
          -0.08016444885580916,
          0.5689869353540534,
          -1.6029250151264145,
          1.0847552376575391,
          0.8531548350965638,
          -0.5849907786951324,
          -3.7174326786829317,
          -0.614978372572787,
          -1.2613986013486533,
          -0.6262121478759936,
          -0.6399900697017636,
          0.2893718511932817,
          0.6299388086845674,
          1.4028940813934354,
          1.3839847336594746,
          0.9319950604517704,
          1.7157971716334122,
          0.45498902184171786,
          -0.5355852741151403,
          1.593083632942254,
          -0.6005007743404577,
          0.63266313047327,
          -0.6812596561741786,
          0.32436359906335743,
          0.244617079161891,
          1.1261753132323709,
          0.4374761668552437,
          0.154484641594899,
          -0.3119547135474024,
          0.47924657258169007,
          1.307750909104364,
          0.6458414548905935,
          0.49227870937608564,
          0.49893512743953133,
          -1.0924075598242011,
          -1.4714671173639802,
          -0.0963085993679753,
          2.1275418519912845,
          -0.26131193407714154,
          -0.6090046936899325,
          -0.4417302353214457,
          -1.1473580546824254,
          -0.5436027939444492,
          -0.7737127397869321,
          -0.35479721904411277,
          -1.6133281126784869,
          -0.4236190388756427,
          0.009259765543734427,
          0.4741677156123742,
          -0.6874560632796509,
          -0.19686408370752284,
          -0.16260661326726622,
          -0.8220663003071326
         ],
         "yaxis": "y9"
        },
        {
         "line": {
          "color": "rgba(128, 128, 128, 1.0)",
          "dash": "solid",
          "shape": "linear",
          "width": 1.3
         },
         "marker": {
          "size": 2,
          "symbol": "circle"
         },
         "mode": "markers",
         "name": "C",
         "text": "",
         "type": "scatter",
         "x": [
          1.2559665150128738,
          1.623222658930747,
          -1.6337826450630495,
          0.9447131134135116,
          1.1798043405299838,
          -1.155688742948656,
          2.4548456650087664,
          0.1967602313034417,
          1.273259911357326,
          0.032098563769232605,
          -0.9406093982229913,
          -1.2964368050421562,
          -1.519902506155913,
          -0.3761787602834264,
          -0.010752827153059951,
          -0.10556004881246867,
          0.20076895648962265,
          -1.6850246316573827,
          -0.053499097961576036,
          0.026679427972856138,
          -0.9296474377801646,
          0.34792155075954995,
          0.6817847402778288,
          0.6709660186939352,
          -0.32023098099219494,
          0.3547897976235289,
          -0.13263784373644685,
          0.2935159364327797,
          -1.1935028348876886,
          -0.6154685546770732,
          0.2711354765320031,
          -1.2721284909920545,
          -1.66150782301575,
          -0.40869372542459653,
          0.6927214550234417,
          -0.571354166680342,
          -2.370721439218031,
          0.1493964954778568,
          0.6510556001226679,
          0.4292580766720687,
          0.7638851538915261,
          -0.6330279833466473,
          0.17323422869432137,
          0.5571215919463213,
          -1.7511962250925097,
          1.0350253485830763,
          -0.15762194299334684,
          0.4863083584740155,
          0.30436807080373923,
          0.4251551333724484,
          0.3550019805177964,
          0.44034349879940204,
          2.0969774956697025,
          1.0962646409270569,
          1.1830133303858525,
          -1.1344339583329939,
          -1.5290452405995383,
          1.8736128340095886,
          0.39478122772731267,
          -1.05179307868685,
          0.6310044541279328,
          0.42939924866247065,
          0.5323109177393281,
          -0.4729320313581209,
          1.5409072215037973,
          -1.262119363458304,
          -0.7039383666072286,
          -0.8990003348315486,
          -0.028011387798115833,
          0.47592024362120794,
          0.9002351500195176,
          -0.14605167795031107,
          -0.7679327720116481,
          1.5576359927434305,
          -0.7733583994874416,
          0.23109138835710186,
          -1.1494712996178111,
          0.4967199657809361,
          0.29515336234764084,
          0.8557133952349325,
          -0.309347918115768,
          -0.9199284431444746,
          -0.0815317236788813,
          0.09104793048301475,
          -0.4112088551283685,
          0.07420682096557561,
          0.8944805960648957,
          1.047378806846963,
          -0.043918820524732866,
          -1.0315338064149218,
          -0.7600061950087242,
          -0.9280574417632615,
          -0.7216526703364456,
          0.7305990509468757,
          -0.04815858666592761,
          -0.6922237460237607,
          -0.4498024098452496,
          -0.906975856818541,
          -1.5624154089293907,
          -0.6482211367486518
         ],
         "xaxis": "x10",
         "y": [
          0.20305496644080695,
          -0.33039121526200343,
          0.40855082409175153,
          1.3274337532753089,
          0.6803105741718392,
          0.006881117099928233,
          0.03165130139628253,
          0.181838923603268,
          0.49015845140703557,
          -1.526960515256338,
          0.7246631081556754,
          -0.547753009652827,
          -2.1534501524454916,
          -1.5605142632760103,
          -0.9304612934504152,
          -0.9293505632842272,
          0.9401064012357843,
          -0.25152667299264647,
          -1.0810539083833393,
          -0.2569645314207663,
          -0.9562882768559505,
          0.3581432251875754,
          -0.058761279119920434,
          -0.005837422335257732,
          1.0973696580147438,
          0.5131968563218078,
          1.1893389729121706,
          0.4130546432360426,
          -0.9493384426904715,
          -0.9076095877297566,
          0.2930118306513728,
          -0.9419434561021102,
          0.047934019761024134,
          -1.1525333553450632,
          0.5579077902570123,
          -0.4771985528260809,
          0.6427791125417261,
          -0.12642375532549144,
          0.4582786624587594,
          0.8441490446943267,
          -0.08965862722638257,
          -0.6735546349036959,
          0.37390057446007036,
          0.020316886846450333,
          -0.4077579015482804,
          -1.9650400693913401,
          -2.2477196087378615,
          -0.08016444885580916,
          0.5689869353540534,
          -1.6029250151264145,
          1.0847552376575391,
          0.8531548350965638,
          -0.5849907786951324,
          -3.7174326786829317,
          -0.614978372572787,
          -1.2613986013486533,
          -0.6262121478759936,
          -0.6399900697017636,
          0.2893718511932817,
          0.6299388086845674,
          1.4028940813934354,
          1.3839847336594746,
          0.9319950604517704,
          1.7157971716334122,
          0.45498902184171786,
          -0.5355852741151403,
          1.593083632942254,
          -0.6005007743404577,
          0.63266313047327,
          -0.6812596561741786,
          0.32436359906335743,
          0.244617079161891,
          1.1261753132323709,
          0.4374761668552437,
          0.154484641594899,
          -0.3119547135474024,
          0.47924657258169007,
          1.307750909104364,
          0.6458414548905935,
          0.49227870937608564,
          0.49893512743953133,
          -1.0924075598242011,
          -1.4714671173639802,
          -0.0963085993679753,
          2.1275418519912845,
          -0.26131193407714154,
          -0.6090046936899325,
          -0.4417302353214457,
          -1.1473580546824254,
          -0.5436027939444492,
          -0.7737127397869321,
          -0.35479721904411277,
          -1.6133281126784869,
          -0.4236190388756427,
          0.009259765543734427,
          0.4741677156123742,
          -0.6874560632796509,
          -0.19686408370752284,
          -0.16260661326726622,
          -0.8220663003071326
         ],
         "yaxis": "y10"
        },
        {
         "histfunc": "count",
         "histnorm": "",
         "marker": {
          "color": "rgba(50, 171, 96, 1.0)",
          "line": {
           "color": "#4D5663",
           "width": 1.3
          }
         },
         "name": "C",
         "nbinsx": 10,
         "opacity": 0.8,
         "orientation": "v",
         "type": "histogram",
         "x": [
          0.20305496644080695,
          -0.33039121526200343,
          0.40855082409175153,
          1.3274337532753089,
          0.6803105741718392,
          0.006881117099928233,
          0.03165130139628253,
          0.181838923603268,
          0.49015845140703557,
          -1.526960515256338,
          0.7246631081556754,
          -0.547753009652827,
          -2.1534501524454916,
          -1.5605142632760103,
          -0.9304612934504152,
          -0.9293505632842272,
          0.9401064012357843,
          -0.25152667299264647,
          -1.0810539083833393,
          -0.2569645314207663,
          -0.9562882768559505,
          0.3581432251875754,
          -0.058761279119920434,
          -0.005837422335257732,
          1.0973696580147438,
          0.5131968563218078,
          1.1893389729121706,
          0.4130546432360426,
          -0.9493384426904715,
          -0.9076095877297566,
          0.2930118306513728,
          -0.9419434561021102,
          0.047934019761024134,
          -1.1525333553450632,
          0.5579077902570123,
          -0.4771985528260809,
          0.6427791125417261,
          -0.12642375532549144,
          0.4582786624587594,
          0.8441490446943267,
          -0.08965862722638257,
          -0.6735546349036959,
          0.37390057446007036,
          0.020316886846450333,
          -0.4077579015482804,
          -1.9650400693913401,
          -2.2477196087378615,
          -0.08016444885580916,
          0.5689869353540534,
          -1.6029250151264145,
          1.0847552376575391,
          0.8531548350965638,
          -0.5849907786951324,
          -3.7174326786829317,
          -0.614978372572787,
          -1.2613986013486533,
          -0.6262121478759936,
          -0.6399900697017636,
          0.2893718511932817,
          0.6299388086845674,
          1.4028940813934354,
          1.3839847336594746,
          0.9319950604517704,
          1.7157971716334122,
          0.45498902184171786,
          -0.5355852741151403,
          1.593083632942254,
          -0.6005007743404577,
          0.63266313047327,
          -0.6812596561741786,
          0.32436359906335743,
          0.244617079161891,
          1.1261753132323709,
          0.4374761668552437,
          0.154484641594899,
          -0.3119547135474024,
          0.47924657258169007,
          1.307750909104364,
          0.6458414548905935,
          0.49227870937608564,
          0.49893512743953133,
          -1.0924075598242011,
          -1.4714671173639802,
          -0.0963085993679753,
          2.1275418519912845,
          -0.26131193407714154,
          -0.6090046936899325,
          -0.4417302353214457,
          -1.1473580546824254,
          -0.5436027939444492,
          -0.7737127397869321,
          -0.35479721904411277,
          -1.6133281126784869,
          -0.4236190388756427,
          0.009259765543734427,
          0.4741677156123742,
          -0.6874560632796509,
          -0.19686408370752284,
          -0.16260661326726622,
          -0.8220663003071326
         ],
         "xaxis": "x11",
         "yaxis": "y11"
        },
        {
         "line": {
          "color": "rgba(128, 128, 128, 1.0)",
          "dash": "solid",
          "shape": "linear",
          "width": 1.3
         },
         "marker": {
          "size": 2,
          "symbol": "circle"
         },
         "mode": "markers",
         "name": "C",
         "text": "",
         "type": "scatter",
         "x": [
          -0.844675283057274,
          1.1079253141952627,
          -1.0549246574985103,
          0.6248328768284416,
          0.39372377644644213,
          0.9872964812692586,
          -0.6645790999130656,
          -0.27236586279190184,
          -1.5346605301244767,
          0.1692178233932603,
          1.4184857962790212,
          0.8808556056254373,
          -1.1003714271012022,
          -1.2367186974284194,
          -0.14564286798088713,
          1.837797109612688,
          -0.38971287492709455,
          0.8317892603171286,
          0.02665091971910814,
          -0.8220765905487935,
          0.48617665310014496,
          -1.3150490584333274,
          0.94132724243685,
          -1.967516472559997,
          0.06591239341638026,
          -0.03209809868312439,
          -0.3400126275281913,
          1.327535038170273,
          -0.3631595217521406,
          2.6889083016183326,
          0.09233393307287759,
          1.0828519527090887,
          0.2062528330930305,
          0.023644567194252276,
          -0.8314228107367397,
          1.1589175766566404,
          -0.45573983420101594,
          0.6145840653329442,
          -1.9016495697230185,
          0.004154186606662765,
          0.9385030690712318,
          -0.038479006347781,
          0.10155690654794293,
          0.49684899192493487,
          0.7840714029526085,
          0.4180320949104808,
          0.03023824988513494,
          0.5951791164420306,
          0.4759338280966322,
          0.360584462706018,
          0.015209593068782494,
          0.4438774150141562,
          -0.9253224912272154,
          0.10977979096170497,
          0.8953969638865029,
          0.562374954154987,
          0.023784976632493186,
          0.6934321252609429,
          -0.8755193028679381,
          -1.2972236604334393,
          0.6265386009399033,
          1.3201401348488935,
          -0.866164398556021,
          1.978236792582661,
          -1.6080126826901648,
          -0.16123823594315662,
          0.7028473801525825,
          -0.39184544271452043,
          -0.43074291245269763,
          -0.1960334246160809,
          1.3199654870906479,
          1.1148035255243096,
          -0.6689729598785097,
          -0.9288115559984517,
          0.3350332511429236,
          -1.1037989967505708,
          -0.3719360445443566,
          -1.0887917107787195,
          -0.746592820822549,
          -0.8170057028655553,
          0.0382537947024953,
          0.40514624527181287,
          -0.428506224009542,
          1.2688938671624623,
          0.10951858655427282,
          -1.1453464424572268,
          -0.18024758992087664,
          0.3962381935287525,
          1.2217750927028994,
          -0.3052640040963152,
          -0.26565063884929857,
          0.8795081656156161,
          0.6591573084102006,
          1.659280422430173,
          -0.20388072092017542,
          -1.3864641621800833,
          0.8810754847545192,
          -0.8610036442687828,
          1.2743028253807158,
          0.10993575430849935
         ],
         "xaxis": "x12",
         "y": [
          0.20305496644080695,
          -0.33039121526200343,
          0.40855082409175153,
          1.3274337532753089,
          0.6803105741718392,
          0.006881117099928233,
          0.03165130139628253,
          0.181838923603268,
          0.49015845140703557,
          -1.526960515256338,
          0.7246631081556754,
          -0.547753009652827,
          -2.1534501524454916,
          -1.5605142632760103,
          -0.9304612934504152,
          -0.9293505632842272,
          0.9401064012357843,
          -0.25152667299264647,
          -1.0810539083833393,
          -0.2569645314207663,
          -0.9562882768559505,
          0.3581432251875754,
          -0.058761279119920434,
          -0.005837422335257732,
          1.0973696580147438,
          0.5131968563218078,
          1.1893389729121706,
          0.4130546432360426,
          -0.9493384426904715,
          -0.9076095877297566,
          0.2930118306513728,
          -0.9419434561021102,
          0.047934019761024134,
          -1.1525333553450632,
          0.5579077902570123,
          -0.4771985528260809,
          0.6427791125417261,
          -0.12642375532549144,
          0.4582786624587594,
          0.8441490446943267,
          -0.08965862722638257,
          -0.6735546349036959,
          0.37390057446007036,
          0.020316886846450333,
          -0.4077579015482804,
          -1.9650400693913401,
          -2.2477196087378615,
          -0.08016444885580916,
          0.5689869353540534,
          -1.6029250151264145,
          1.0847552376575391,
          0.8531548350965638,
          -0.5849907786951324,
          -3.7174326786829317,
          -0.614978372572787,
          -1.2613986013486533,
          -0.6262121478759936,
          -0.6399900697017636,
          0.2893718511932817,
          0.6299388086845674,
          1.4028940813934354,
          1.3839847336594746,
          0.9319950604517704,
          1.7157971716334122,
          0.45498902184171786,
          -0.5355852741151403,
          1.593083632942254,
          -0.6005007743404577,
          0.63266313047327,
          -0.6812596561741786,
          0.32436359906335743,
          0.244617079161891,
          1.1261753132323709,
          0.4374761668552437,
          0.154484641594899,
          -0.3119547135474024,
          0.47924657258169007,
          1.307750909104364,
          0.6458414548905935,
          0.49227870937608564,
          0.49893512743953133,
          -1.0924075598242011,
          -1.4714671173639802,
          -0.0963085993679753,
          2.1275418519912845,
          -0.26131193407714154,
          -0.6090046936899325,
          -0.4417302353214457,
          -1.1473580546824254,
          -0.5436027939444492,
          -0.7737127397869321,
          -0.35479721904411277,
          -1.6133281126784869,
          -0.4236190388756427,
          0.009259765543734427,
          0.4741677156123742,
          -0.6874560632796509,
          -0.19686408370752284,
          -0.16260661326726622,
          -0.8220663003071326
         ],
         "yaxis": "y12"
        },
        {
         "line": {
          "color": "rgba(128, 128, 128, 1.0)",
          "dash": "solid",
          "shape": "linear",
          "width": 1.3
         },
         "marker": {
          "size": 2,
          "symbol": "circle"
         },
         "mode": "markers",
         "name": "D",
         "text": "",
         "type": "scatter",
         "x": [
          0.9674792495653929,
          -0.869645948345109,
          0.3276963940454639,
          2.212326394176484,
          1.194564115626372,
          1.281333312680946,
          -0.4593625791084765,
          0.2534398304646211,
          -1.187047102320885,
          0.009120945638079877,
          0.46812971295397005,
          0.3173603163090243,
          -0.5949756643716486,
          0.36612201815595236,
          1.6823087709179516,
          0.1223867090465667,
          1.2858955968180077,
          -0.355874679445089,
          -1.5056555405566194,
          -0.9803269668748792,
          -0.9821783534228085,
          -0.052757830218477235,
          0.8033100178798156,
          -1.2398031374339302,
          -0.5813663197398291,
          0.19886821601177004,
          0.1294915534324573,
          -0.13306937600077753,
          1.3939949997907175,
          1.1973801278232796,
          0.584311181386549,
          0.9814067443843448,
          0.2061913231991555,
          1.671664827360644,
          0.789600735681814,
          1.2933123482628828,
          1.4246595860526337,
          -1.3217494580552764,
          -0.07724462464406437,
          0.18930105179933207,
          -0.8808766976813702,
          -0.01730765278196536,
          1.6745130595812752,
          -0.9444306581128674,
          -0.1221827946211637,
          -2.321901756440847,
          0.7477928499020462,
          -1.8263033277692504,
          -1.0618495646062116,
          -0.09040834612020593,
          -0.0010349389445514765,
          -2.735604509568205,
          -1.6080140908995408,
          0.46315775491532685,
          -0.5641038656392511,
          -0.09215769154545252,
          1.0002522597706367,
          0.17587208675758984,
          -0.5954239279504188,
          -2.911645903175407,
          0.060337624495499904,
          -0.42040253946929246,
          1.7762469320792973,
          0.8730115926111546,
          1.8439878835043193,
          -0.6085419218754314,
          -0.9079008941146096,
          0.2759242313421433,
          -0.3988133260904946,
          1.3186512094391587,
          -0.22711041145047717,
          -1.1216333739411006,
          0.8022488902000023,
          -0.28124431547160195,
          -0.5851126659274265,
          0.4306201479387562,
          -1.0882948662735636,
          0.027976391155035966,
          0.5566361343141041,
          -1.5807367243659294,
          -0.8082355354469991,
          0.5644686676080057,
          -0.5897432726211994,
          -1.090934333436364,
          -0.24825567958331607,
          0.24567974588087993,
          1.0745837768794317,
          -0.4793855569130954,
          1.2390952913307294,
          -0.1127955717482966,
          0.5115001071064847,
          -0.05946749612950342,
          -0.8113493777941423,
          -0.049751974798389886,
          -0.3517813343733759,
          -0.29145587516066457,
          0.5787628035960883,
          -0.1311683960980727,
          -0.10496940636822302,
          0.5356439478190795
         ],
         "xaxis": "x13",
         "y": [
          -0.844675283057274,
          1.1079253141952627,
          -1.0549246574985103,
          0.6248328768284416,
          0.39372377644644213,
          0.9872964812692586,
          -0.6645790999130656,
          -0.27236586279190184,
          -1.5346605301244767,
          0.1692178233932603,
          1.4184857962790212,
          0.8808556056254373,
          -1.1003714271012022,
          -1.2367186974284194,
          -0.14564286798088713,
          1.837797109612688,
          -0.38971287492709455,
          0.8317892603171286,
          0.02665091971910814,
          -0.8220765905487935,
          0.48617665310014496,
          -1.3150490584333274,
          0.94132724243685,
          -1.967516472559997,
          0.06591239341638026,
          -0.03209809868312439,
          -0.3400126275281913,
          1.327535038170273,
          -0.3631595217521406,
          2.6889083016183326,
          0.09233393307287759,
          1.0828519527090887,
          0.2062528330930305,
          0.023644567194252276,
          -0.8314228107367397,
          1.1589175766566404,
          -0.45573983420101594,
          0.6145840653329442,
          -1.9016495697230185,
          0.004154186606662765,
          0.9385030690712318,
          -0.038479006347781,
          0.10155690654794293,
          0.49684899192493487,
          0.7840714029526085,
          0.4180320949104808,
          0.03023824988513494,
          0.5951791164420306,
          0.4759338280966322,
          0.360584462706018,
          0.015209593068782494,
          0.4438774150141562,
          -0.9253224912272154,
          0.10977979096170497,
          0.8953969638865029,
          0.562374954154987,
          0.023784976632493186,
          0.6934321252609429,
          -0.8755193028679381,
          -1.2972236604334393,
          0.6265386009399033,
          1.3201401348488935,
          -0.866164398556021,
          1.978236792582661,
          -1.6080126826901648,
          -0.16123823594315662,
          0.7028473801525825,
          -0.39184544271452043,
          -0.43074291245269763,
          -0.1960334246160809,
          1.3199654870906479,
          1.1148035255243096,
          -0.6689729598785097,
          -0.9288115559984517,
          0.3350332511429236,
          -1.1037989967505708,
          -0.3719360445443566,
          -1.0887917107787195,
          -0.746592820822549,
          -0.8170057028655553,
          0.0382537947024953,
          0.40514624527181287,
          -0.428506224009542,
          1.2688938671624623,
          0.10951858655427282,
          -1.1453464424572268,
          -0.18024758992087664,
          0.3962381935287525,
          1.2217750927028994,
          -0.3052640040963152,
          -0.26565063884929857,
          0.8795081656156161,
          0.6591573084102006,
          1.659280422430173,
          -0.20388072092017542,
          -1.3864641621800833,
          0.8810754847545192,
          -0.8610036442687828,
          1.2743028253807158,
          0.10993575430849935
         ],
         "yaxis": "y13"
        },
        {
         "line": {
          "color": "rgba(128, 128, 128, 1.0)",
          "dash": "solid",
          "shape": "linear",
          "width": 1.3
         },
         "marker": {
          "size": 2,
          "symbol": "circle"
         },
         "mode": "markers",
         "name": "D",
         "text": "",
         "type": "scatter",
         "x": [
          1.2559665150128738,
          1.623222658930747,
          -1.6337826450630495,
          0.9447131134135116,
          1.1798043405299838,
          -1.155688742948656,
          2.4548456650087664,
          0.1967602313034417,
          1.273259911357326,
          0.032098563769232605,
          -0.9406093982229913,
          -1.2964368050421562,
          -1.519902506155913,
          -0.3761787602834264,
          -0.010752827153059951,
          -0.10556004881246867,
          0.20076895648962265,
          -1.6850246316573827,
          -0.053499097961576036,
          0.026679427972856138,
          -0.9296474377801646,
          0.34792155075954995,
          0.6817847402778288,
          0.6709660186939352,
          -0.32023098099219494,
          0.3547897976235289,
          -0.13263784373644685,
          0.2935159364327797,
          -1.1935028348876886,
          -0.6154685546770732,
          0.2711354765320031,
          -1.2721284909920545,
          -1.66150782301575,
          -0.40869372542459653,
          0.6927214550234417,
          -0.571354166680342,
          -2.370721439218031,
          0.1493964954778568,
          0.6510556001226679,
          0.4292580766720687,
          0.7638851538915261,
          -0.6330279833466473,
          0.17323422869432137,
          0.5571215919463213,
          -1.7511962250925097,
          1.0350253485830763,
          -0.15762194299334684,
          0.4863083584740155,
          0.30436807080373923,
          0.4251551333724484,
          0.3550019805177964,
          0.44034349879940204,
          2.0969774956697025,
          1.0962646409270569,
          1.1830133303858525,
          -1.1344339583329939,
          -1.5290452405995383,
          1.8736128340095886,
          0.39478122772731267,
          -1.05179307868685,
          0.6310044541279328,
          0.42939924866247065,
          0.5323109177393281,
          -0.4729320313581209,
          1.5409072215037973,
          -1.262119363458304,
          -0.7039383666072286,
          -0.8990003348315486,
          -0.028011387798115833,
          0.47592024362120794,
          0.9002351500195176,
          -0.14605167795031107,
          -0.7679327720116481,
          1.5576359927434305,
          -0.7733583994874416,
          0.23109138835710186,
          -1.1494712996178111,
          0.4967199657809361,
          0.29515336234764084,
          0.8557133952349325,
          -0.309347918115768,
          -0.9199284431444746,
          -0.0815317236788813,
          0.09104793048301475,
          -0.4112088551283685,
          0.07420682096557561,
          0.8944805960648957,
          1.047378806846963,
          -0.043918820524732866,
          -1.0315338064149218,
          -0.7600061950087242,
          -0.9280574417632615,
          -0.7216526703364456,
          0.7305990509468757,
          -0.04815858666592761,
          -0.6922237460237607,
          -0.4498024098452496,
          -0.906975856818541,
          -1.5624154089293907,
          -0.6482211367486518
         ],
         "xaxis": "x14",
         "y": [
          -0.844675283057274,
          1.1079253141952627,
          -1.0549246574985103,
          0.6248328768284416,
          0.39372377644644213,
          0.9872964812692586,
          -0.6645790999130656,
          -0.27236586279190184,
          -1.5346605301244767,
          0.1692178233932603,
          1.4184857962790212,
          0.8808556056254373,
          -1.1003714271012022,
          -1.2367186974284194,
          -0.14564286798088713,
          1.837797109612688,
          -0.38971287492709455,
          0.8317892603171286,
          0.02665091971910814,
          -0.8220765905487935,
          0.48617665310014496,
          -1.3150490584333274,
          0.94132724243685,
          -1.967516472559997,
          0.06591239341638026,
          -0.03209809868312439,
          -0.3400126275281913,
          1.327535038170273,
          -0.3631595217521406,
          2.6889083016183326,
          0.09233393307287759,
          1.0828519527090887,
          0.2062528330930305,
          0.023644567194252276,
          -0.8314228107367397,
          1.1589175766566404,
          -0.45573983420101594,
          0.6145840653329442,
          -1.9016495697230185,
          0.004154186606662765,
          0.9385030690712318,
          -0.038479006347781,
          0.10155690654794293,
          0.49684899192493487,
          0.7840714029526085,
          0.4180320949104808,
          0.03023824988513494,
          0.5951791164420306,
          0.4759338280966322,
          0.360584462706018,
          0.015209593068782494,
          0.4438774150141562,
          -0.9253224912272154,
          0.10977979096170497,
          0.8953969638865029,
          0.562374954154987,
          0.023784976632493186,
          0.6934321252609429,
          -0.8755193028679381,
          -1.2972236604334393,
          0.6265386009399033,
          1.3201401348488935,
          -0.866164398556021,
          1.978236792582661,
          -1.6080126826901648,
          -0.16123823594315662,
          0.7028473801525825,
          -0.39184544271452043,
          -0.43074291245269763,
          -0.1960334246160809,
          1.3199654870906479,
          1.1148035255243096,
          -0.6689729598785097,
          -0.9288115559984517,
          0.3350332511429236,
          -1.1037989967505708,
          -0.3719360445443566,
          -1.0887917107787195,
          -0.746592820822549,
          -0.8170057028655553,
          0.0382537947024953,
          0.40514624527181287,
          -0.428506224009542,
          1.2688938671624623,
          0.10951858655427282,
          -1.1453464424572268,
          -0.18024758992087664,
          0.3962381935287525,
          1.2217750927028994,
          -0.3052640040963152,
          -0.26565063884929857,
          0.8795081656156161,
          0.6591573084102006,
          1.659280422430173,
          -0.20388072092017542,
          -1.3864641621800833,
          0.8810754847545192,
          -0.8610036442687828,
          1.2743028253807158,
          0.10993575430849935
         ],
         "yaxis": "y14"
        },
        {
         "line": {
          "color": "rgba(128, 128, 128, 1.0)",
          "dash": "solid",
          "shape": "linear",
          "width": 1.3
         },
         "marker": {
          "size": 2,
          "symbol": "circle"
         },
         "mode": "markers",
         "name": "D",
         "text": "",
         "type": "scatter",
         "x": [
          0.20305496644080695,
          -0.33039121526200343,
          0.40855082409175153,
          1.3274337532753089,
          0.6803105741718392,
          0.006881117099928233,
          0.03165130139628253,
          0.181838923603268,
          0.49015845140703557,
          -1.526960515256338,
          0.7246631081556754,
          -0.547753009652827,
          -2.1534501524454916,
          -1.5605142632760103,
          -0.9304612934504152,
          -0.9293505632842272,
          0.9401064012357843,
          -0.25152667299264647,
          -1.0810539083833393,
          -0.2569645314207663,
          -0.9562882768559505,
          0.3581432251875754,
          -0.058761279119920434,
          -0.005837422335257732,
          1.0973696580147438,
          0.5131968563218078,
          1.1893389729121706,
          0.4130546432360426,
          -0.9493384426904715,
          -0.9076095877297566,
          0.2930118306513728,
          -0.9419434561021102,
          0.047934019761024134,
          -1.1525333553450632,
          0.5579077902570123,
          -0.4771985528260809,
          0.6427791125417261,
          -0.12642375532549144,
          0.4582786624587594,
          0.8441490446943267,
          -0.08965862722638257,
          -0.6735546349036959,
          0.37390057446007036,
          0.020316886846450333,
          -0.4077579015482804,
          -1.9650400693913401,
          -2.2477196087378615,
          -0.08016444885580916,
          0.5689869353540534,
          -1.6029250151264145,
          1.0847552376575391,
          0.8531548350965638,
          -0.5849907786951324,
          -3.7174326786829317,
          -0.614978372572787,
          -1.2613986013486533,
          -0.6262121478759936,
          -0.6399900697017636,
          0.2893718511932817,
          0.6299388086845674,
          1.4028940813934354,
          1.3839847336594746,
          0.9319950604517704,
          1.7157971716334122,
          0.45498902184171786,
          -0.5355852741151403,
          1.593083632942254,
          -0.6005007743404577,
          0.63266313047327,
          -0.6812596561741786,
          0.32436359906335743,
          0.244617079161891,
          1.1261753132323709,
          0.4374761668552437,
          0.154484641594899,
          -0.3119547135474024,
          0.47924657258169007,
          1.307750909104364,
          0.6458414548905935,
          0.49227870937608564,
          0.49893512743953133,
          -1.0924075598242011,
          -1.4714671173639802,
          -0.0963085993679753,
          2.1275418519912845,
          -0.26131193407714154,
          -0.6090046936899325,
          -0.4417302353214457,
          -1.1473580546824254,
          -0.5436027939444492,
          -0.7737127397869321,
          -0.35479721904411277,
          -1.6133281126784869,
          -0.4236190388756427,
          0.009259765543734427,
          0.4741677156123742,
          -0.6874560632796509,
          -0.19686408370752284,
          -0.16260661326726622,
          -0.8220663003071326
         ],
         "xaxis": "x15",
         "y": [
          -0.844675283057274,
          1.1079253141952627,
          -1.0549246574985103,
          0.6248328768284416,
          0.39372377644644213,
          0.9872964812692586,
          -0.6645790999130656,
          -0.27236586279190184,
          -1.5346605301244767,
          0.1692178233932603,
          1.4184857962790212,
          0.8808556056254373,
          -1.1003714271012022,
          -1.2367186974284194,
          -0.14564286798088713,
          1.837797109612688,
          -0.38971287492709455,
          0.8317892603171286,
          0.02665091971910814,
          -0.8220765905487935,
          0.48617665310014496,
          -1.3150490584333274,
          0.94132724243685,
          -1.967516472559997,
          0.06591239341638026,
          -0.03209809868312439,
          -0.3400126275281913,
          1.327535038170273,
          -0.3631595217521406,
          2.6889083016183326,
          0.09233393307287759,
          1.0828519527090887,
          0.2062528330930305,
          0.023644567194252276,
          -0.8314228107367397,
          1.1589175766566404,
          -0.45573983420101594,
          0.6145840653329442,
          -1.9016495697230185,
          0.004154186606662765,
          0.9385030690712318,
          -0.038479006347781,
          0.10155690654794293,
          0.49684899192493487,
          0.7840714029526085,
          0.4180320949104808,
          0.03023824988513494,
          0.5951791164420306,
          0.4759338280966322,
          0.360584462706018,
          0.015209593068782494,
          0.4438774150141562,
          -0.9253224912272154,
          0.10977979096170497,
          0.8953969638865029,
          0.562374954154987,
          0.023784976632493186,
          0.6934321252609429,
          -0.8755193028679381,
          -1.2972236604334393,
          0.6265386009399033,
          1.3201401348488935,
          -0.866164398556021,
          1.978236792582661,
          -1.6080126826901648,
          -0.16123823594315662,
          0.7028473801525825,
          -0.39184544271452043,
          -0.43074291245269763,
          -0.1960334246160809,
          1.3199654870906479,
          1.1148035255243096,
          -0.6689729598785097,
          -0.9288115559984517,
          0.3350332511429236,
          -1.1037989967505708,
          -0.3719360445443566,
          -1.0887917107787195,
          -0.746592820822549,
          -0.8170057028655553,
          0.0382537947024953,
          0.40514624527181287,
          -0.428506224009542,
          1.2688938671624623,
          0.10951858655427282,
          -1.1453464424572268,
          -0.18024758992087664,
          0.3962381935287525,
          1.2217750927028994,
          -0.3052640040963152,
          -0.26565063884929857,
          0.8795081656156161,
          0.6591573084102006,
          1.659280422430173,
          -0.20388072092017542,
          -1.3864641621800833,
          0.8810754847545192,
          -0.8610036442687828,
          1.2743028253807158,
          0.10993575430849935
         ],
         "yaxis": "y15"
        },
        {
         "histfunc": "count",
         "histnorm": "",
         "marker": {
          "color": "rgba(128, 0, 128, 1.0)",
          "line": {
           "color": "#4D5663",
           "width": 1.3
          }
         },
         "name": "D",
         "nbinsx": 10,
         "opacity": 0.8,
         "orientation": "v",
         "type": "histogram",
         "x": [
          -0.844675283057274,
          1.1079253141952627,
          -1.0549246574985103,
          0.6248328768284416,
          0.39372377644644213,
          0.9872964812692586,
          -0.6645790999130656,
          -0.27236586279190184,
          -1.5346605301244767,
          0.1692178233932603,
          1.4184857962790212,
          0.8808556056254373,
          -1.1003714271012022,
          -1.2367186974284194,
          -0.14564286798088713,
          1.837797109612688,
          -0.38971287492709455,
          0.8317892603171286,
          0.02665091971910814,
          -0.8220765905487935,
          0.48617665310014496,
          -1.3150490584333274,
          0.94132724243685,
          -1.967516472559997,
          0.06591239341638026,
          -0.03209809868312439,
          -0.3400126275281913,
          1.327535038170273,
          -0.3631595217521406,
          2.6889083016183326,
          0.09233393307287759,
          1.0828519527090887,
          0.2062528330930305,
          0.023644567194252276,
          -0.8314228107367397,
          1.1589175766566404,
          -0.45573983420101594,
          0.6145840653329442,
          -1.9016495697230185,
          0.004154186606662765,
          0.9385030690712318,
          -0.038479006347781,
          0.10155690654794293,
          0.49684899192493487,
          0.7840714029526085,
          0.4180320949104808,
          0.03023824988513494,
          0.5951791164420306,
          0.4759338280966322,
          0.360584462706018,
          0.015209593068782494,
          0.4438774150141562,
          -0.9253224912272154,
          0.10977979096170497,
          0.8953969638865029,
          0.562374954154987,
          0.023784976632493186,
          0.6934321252609429,
          -0.8755193028679381,
          -1.2972236604334393,
          0.6265386009399033,
          1.3201401348488935,
          -0.866164398556021,
          1.978236792582661,
          -1.6080126826901648,
          -0.16123823594315662,
          0.7028473801525825,
          -0.39184544271452043,
          -0.43074291245269763,
          -0.1960334246160809,
          1.3199654870906479,
          1.1148035255243096,
          -0.6689729598785097,
          -0.9288115559984517,
          0.3350332511429236,
          -1.1037989967505708,
          -0.3719360445443566,
          -1.0887917107787195,
          -0.746592820822549,
          -0.8170057028655553,
          0.0382537947024953,
          0.40514624527181287,
          -0.428506224009542,
          1.2688938671624623,
          0.10951858655427282,
          -1.1453464424572268,
          -0.18024758992087664,
          0.3962381935287525,
          1.2217750927028994,
          -0.3052640040963152,
          -0.26565063884929857,
          0.8795081656156161,
          0.6591573084102006,
          1.659280422430173,
          -0.20388072092017542,
          -1.3864641621800833,
          0.8810754847545192,
          -0.8610036442687828,
          1.2743028253807158,
          0.10993575430849935
         ],
         "xaxis": "x16",
         "yaxis": "y16"
        }
       ],
       "layout": {
        "bargap": 0.02,
        "legend": {
         "bgcolor": "#F5F6F9",
         "font": {
          "color": "#4D5663"
         }
        },
        "paper_bgcolor": "#F5F6F9",
        "plot_bgcolor": "#F5F6F9",
        "showlegend": false,
        "template": {
         "data": {
          "bar": [
           {
            "error_x": {
             "color": "#2a3f5f"
            },
            "error_y": {
             "color": "#2a3f5f"
            },
            "marker": {
             "line": {
              "color": "#E5ECF6",
              "width": 0.5
             },
             "pattern": {
              "fillmode": "overlay",
              "size": 10,
              "solidity": 0.2
             }
            },
            "type": "bar"
           }
          ],
          "barpolar": [
           {
            "marker": {
             "line": {
              "color": "#E5ECF6",
              "width": 0.5
             },
             "pattern": {
              "fillmode": "overlay",
              "size": 10,
              "solidity": 0.2
             }
            },
            "type": "barpolar"
           }
          ],
          "carpet": [
           {
            "aaxis": {
             "endlinecolor": "#2a3f5f",
             "gridcolor": "white",
             "linecolor": "white",
             "minorgridcolor": "white",
             "startlinecolor": "#2a3f5f"
            },
            "baxis": {
             "endlinecolor": "#2a3f5f",
             "gridcolor": "white",
             "linecolor": "white",
             "minorgridcolor": "white",
             "startlinecolor": "#2a3f5f"
            },
            "type": "carpet"
           }
          ],
          "choropleth": [
           {
            "colorbar": {
             "outlinewidth": 0,
             "ticks": ""
            },
            "type": "choropleth"
           }
          ],
          "contour": [
           {
            "colorbar": {
             "outlinewidth": 0,
             "ticks": ""
            },
            "colorscale": [
             [
              0,
              "#0d0887"
             ],
             [
              0.1111111111111111,
              "#46039f"
             ],
             [
              0.2222222222222222,
              "#7201a8"
             ],
             [
              0.3333333333333333,
              "#9c179e"
             ],
             [
              0.4444444444444444,
              "#bd3786"
             ],
             [
              0.5555555555555556,
              "#d8576b"
             ],
             [
              0.6666666666666666,
              "#ed7953"
             ],
             [
              0.7777777777777778,
              "#fb9f3a"
             ],
             [
              0.8888888888888888,
              "#fdca26"
             ],
             [
              1,
              "#f0f921"
             ]
            ],
            "type": "contour"
           }
          ],
          "contourcarpet": [
           {
            "colorbar": {
             "outlinewidth": 0,
             "ticks": ""
            },
            "type": "contourcarpet"
           }
          ],
          "heatmap": [
           {
            "colorbar": {
             "outlinewidth": 0,
             "ticks": ""
            },
            "colorscale": [
             [
              0,
              "#0d0887"
             ],
             [
              0.1111111111111111,
              "#46039f"
             ],
             [
              0.2222222222222222,
              "#7201a8"
             ],
             [
              0.3333333333333333,
              "#9c179e"
             ],
             [
              0.4444444444444444,
              "#bd3786"
             ],
             [
              0.5555555555555556,
              "#d8576b"
             ],
             [
              0.6666666666666666,
              "#ed7953"
             ],
             [
              0.7777777777777778,
              "#fb9f3a"
             ],
             [
              0.8888888888888888,
              "#fdca26"
             ],
             [
              1,
              "#f0f921"
             ]
            ],
            "type": "heatmap"
           }
          ],
          "heatmapgl": [
           {
            "colorbar": {
             "outlinewidth": 0,
             "ticks": ""
            },
            "colorscale": [
             [
              0,
              "#0d0887"
             ],
             [
              0.1111111111111111,
              "#46039f"
             ],
             [
              0.2222222222222222,
              "#7201a8"
             ],
             [
              0.3333333333333333,
              "#9c179e"
             ],
             [
              0.4444444444444444,
              "#bd3786"
             ],
             [
              0.5555555555555556,
              "#d8576b"
             ],
             [
              0.6666666666666666,
              "#ed7953"
             ],
             [
              0.7777777777777778,
              "#fb9f3a"
             ],
             [
              0.8888888888888888,
              "#fdca26"
             ],
             [
              1,
              "#f0f921"
             ]
            ],
            "type": "heatmapgl"
           }
          ],
          "histogram": [
           {
            "marker": {
             "pattern": {
              "fillmode": "overlay",
              "size": 10,
              "solidity": 0.2
             }
            },
            "type": "histogram"
           }
          ],
          "histogram2d": [
           {
            "colorbar": {
             "outlinewidth": 0,
             "ticks": ""
            },
            "colorscale": [
             [
              0,
              "#0d0887"
             ],
             [
              0.1111111111111111,
              "#46039f"
             ],
             [
              0.2222222222222222,
              "#7201a8"
             ],
             [
              0.3333333333333333,
              "#9c179e"
             ],
             [
              0.4444444444444444,
              "#bd3786"
             ],
             [
              0.5555555555555556,
              "#d8576b"
             ],
             [
              0.6666666666666666,
              "#ed7953"
             ],
             [
              0.7777777777777778,
              "#fb9f3a"
             ],
             [
              0.8888888888888888,
              "#fdca26"
             ],
             [
              1,
              "#f0f921"
             ]
            ],
            "type": "histogram2d"
           }
          ],
          "histogram2dcontour": [
           {
            "colorbar": {
             "outlinewidth": 0,
             "ticks": ""
            },
            "colorscale": [
             [
              0,
              "#0d0887"
             ],
             [
              0.1111111111111111,
              "#46039f"
             ],
             [
              0.2222222222222222,
              "#7201a8"
             ],
             [
              0.3333333333333333,
              "#9c179e"
             ],
             [
              0.4444444444444444,
              "#bd3786"
             ],
             [
              0.5555555555555556,
              "#d8576b"
             ],
             [
              0.6666666666666666,
              "#ed7953"
             ],
             [
              0.7777777777777778,
              "#fb9f3a"
             ],
             [
              0.8888888888888888,
              "#fdca26"
             ],
             [
              1,
              "#f0f921"
             ]
            ],
            "type": "histogram2dcontour"
           }
          ],
          "mesh3d": [
           {
            "colorbar": {
             "outlinewidth": 0,
             "ticks": ""
            },
            "type": "mesh3d"
           }
          ],
          "parcoords": [
           {
            "line": {
             "colorbar": {
              "outlinewidth": 0,
              "ticks": ""
             }
            },
            "type": "parcoords"
           }
          ],
          "pie": [
           {
            "automargin": true,
            "type": "pie"
           }
          ],
          "scatter": [
           {
            "fillpattern": {
             "fillmode": "overlay",
             "size": 10,
             "solidity": 0.2
            },
            "type": "scatter"
           }
          ],
          "scatter3d": [
           {
            "line": {
             "colorbar": {
              "outlinewidth": 0,
              "ticks": ""
             }
            },
            "marker": {
             "colorbar": {
              "outlinewidth": 0,
              "ticks": ""
             }
            },
            "type": "scatter3d"
           }
          ],
          "scattercarpet": [
           {
            "marker": {
             "colorbar": {
              "outlinewidth": 0,
              "ticks": ""
             }
            },
            "type": "scattercarpet"
           }
          ],
          "scattergeo": [
           {
            "marker": {
             "colorbar": {
              "outlinewidth": 0,
              "ticks": ""
             }
            },
            "type": "scattergeo"
           }
          ],
          "scattergl": [
           {
            "marker": {
             "colorbar": {
              "outlinewidth": 0,
              "ticks": ""
             }
            },
            "type": "scattergl"
           }
          ],
          "scattermapbox": [
           {
            "marker": {
             "colorbar": {
              "outlinewidth": 0,
              "ticks": ""
             }
            },
            "type": "scattermapbox"
           }
          ],
          "scatterpolar": [
           {
            "marker": {
             "colorbar": {
              "outlinewidth": 0,
              "ticks": ""
             }
            },
            "type": "scatterpolar"
           }
          ],
          "scatterpolargl": [
           {
            "marker": {
             "colorbar": {
              "outlinewidth": 0,
              "ticks": ""
             }
            },
            "type": "scatterpolargl"
           }
          ],
          "scatterternary": [
           {
            "marker": {
             "colorbar": {
              "outlinewidth": 0,
              "ticks": ""
             }
            },
            "type": "scatterternary"
           }
          ],
          "surface": [
           {
            "colorbar": {
             "outlinewidth": 0,
             "ticks": ""
            },
            "colorscale": [
             [
              0,
              "#0d0887"
             ],
             [
              0.1111111111111111,
              "#46039f"
             ],
             [
              0.2222222222222222,
              "#7201a8"
             ],
             [
              0.3333333333333333,
              "#9c179e"
             ],
             [
              0.4444444444444444,
              "#bd3786"
             ],
             [
              0.5555555555555556,
              "#d8576b"
             ],
             [
              0.6666666666666666,
              "#ed7953"
             ],
             [
              0.7777777777777778,
              "#fb9f3a"
             ],
             [
              0.8888888888888888,
              "#fdca26"
             ],
             [
              1,
              "#f0f921"
             ]
            ],
            "type": "surface"
           }
          ],
          "table": [
           {
            "cells": {
             "fill": {
              "color": "#EBF0F8"
             },
             "line": {
              "color": "white"
             }
            },
            "header": {
             "fill": {
              "color": "#C8D4E3"
             },
             "line": {
              "color": "white"
             }
            },
            "type": "table"
           }
          ]
         },
         "layout": {
          "annotationdefaults": {
           "arrowcolor": "#2a3f5f",
           "arrowhead": 0,
           "arrowwidth": 1
          },
          "autotypenumbers": "strict",
          "coloraxis": {
           "colorbar": {
            "outlinewidth": 0,
            "ticks": ""
           }
          },
          "colorscale": {
           "diverging": [
            [
             0,
             "#8e0152"
            ],
            [
             0.1,
             "#c51b7d"
            ],
            [
             0.2,
             "#de77ae"
            ],
            [
             0.3,
             "#f1b6da"
            ],
            [
             0.4,
             "#fde0ef"
            ],
            [
             0.5,
             "#f7f7f7"
            ],
            [
             0.6,
             "#e6f5d0"
            ],
            [
             0.7,
             "#b8e186"
            ],
            [
             0.8,
             "#7fbc41"
            ],
            [
             0.9,
             "#4d9221"
            ],
            [
             1,
             "#276419"
            ]
           ],
           "sequential": [
            [
             0,
             "#0d0887"
            ],
            [
             0.1111111111111111,
             "#46039f"
            ],
            [
             0.2222222222222222,
             "#7201a8"
            ],
            [
             0.3333333333333333,
             "#9c179e"
            ],
            [
             0.4444444444444444,
             "#bd3786"
            ],
            [
             0.5555555555555556,
             "#d8576b"
            ],
            [
             0.6666666666666666,
             "#ed7953"
            ],
            [
             0.7777777777777778,
             "#fb9f3a"
            ],
            [
             0.8888888888888888,
             "#fdca26"
            ],
            [
             1,
             "#f0f921"
            ]
           ],
           "sequentialminus": [
            [
             0,
             "#0d0887"
            ],
            [
             0.1111111111111111,
             "#46039f"
            ],
            [
             0.2222222222222222,
             "#7201a8"
            ],
            [
             0.3333333333333333,
             "#9c179e"
            ],
            [
             0.4444444444444444,
             "#bd3786"
            ],
            [
             0.5555555555555556,
             "#d8576b"
            ],
            [
             0.6666666666666666,
             "#ed7953"
            ],
            [
             0.7777777777777778,
             "#fb9f3a"
            ],
            [
             0.8888888888888888,
             "#fdca26"
            ],
            [
             1,
             "#f0f921"
            ]
           ]
          },
          "colorway": [
           "#636efa",
           "#EF553B",
           "#00cc96",
           "#ab63fa",
           "#FFA15A",
           "#19d3f3",
           "#FF6692",
           "#B6E880",
           "#FF97FF",
           "#FECB52"
          ],
          "font": {
           "color": "#2a3f5f"
          },
          "geo": {
           "bgcolor": "white",
           "lakecolor": "white",
           "landcolor": "#E5ECF6",
           "showlakes": true,
           "showland": true,
           "subunitcolor": "white"
          },
          "hoverlabel": {
           "align": "left"
          },
          "hovermode": "closest",
          "mapbox": {
           "style": "light"
          },
          "paper_bgcolor": "white",
          "plot_bgcolor": "#E5ECF6",
          "polar": {
           "angularaxis": {
            "gridcolor": "white",
            "linecolor": "white",
            "ticks": ""
           },
           "bgcolor": "#E5ECF6",
           "radialaxis": {
            "gridcolor": "white",
            "linecolor": "white",
            "ticks": ""
           }
          },
          "scene": {
           "xaxis": {
            "backgroundcolor": "#E5ECF6",
            "gridcolor": "white",
            "gridwidth": 2,
            "linecolor": "white",
            "showbackground": true,
            "ticks": "",
            "zerolinecolor": "white"
           },
           "yaxis": {
            "backgroundcolor": "#E5ECF6",
            "gridcolor": "white",
            "gridwidth": 2,
            "linecolor": "white",
            "showbackground": true,
            "ticks": "",
            "zerolinecolor": "white"
           },
           "zaxis": {
            "backgroundcolor": "#E5ECF6",
            "gridcolor": "white",
            "gridwidth": 2,
            "linecolor": "white",
            "showbackground": true,
            "ticks": "",
            "zerolinecolor": "white"
           }
          },
          "shapedefaults": {
           "line": {
            "color": "#2a3f5f"
           }
          },
          "ternary": {
           "aaxis": {
            "gridcolor": "white",
            "linecolor": "white",
            "ticks": ""
           },
           "baxis": {
            "gridcolor": "white",
            "linecolor": "white",
            "ticks": ""
           },
           "bgcolor": "#E5ECF6",
           "caxis": {
            "gridcolor": "white",
            "linecolor": "white",
            "ticks": ""
           }
          },
          "title": {
           "x": 0.05
          },
          "xaxis": {
           "automargin": true,
           "gridcolor": "white",
           "linecolor": "white",
           "ticks": "",
           "title": {
            "standoff": 15
           },
           "zerolinecolor": "white",
           "zerolinewidth": 2
          },
          "yaxis": {
           "automargin": true,
           "gridcolor": "white",
           "linecolor": "white",
           "ticks": "",
           "title": {
            "standoff": 15
           },
           "zerolinecolor": "white",
           "zerolinewidth": 2
          }
         }
        },
        "title": {
         "font": {
          "color": "#4D5663"
         }
        },
        "xaxis": {
         "anchor": "y",
         "domain": [
          0,
          0.2125
         ],
         "gridcolor": "#E1E5ED",
         "showgrid": false,
         "tickfont": {
          "color": "#4D5663"
         },
         "title": {
          "font": {
           "color": "#4D5663"
          },
          "text": ""
         },
         "zerolinecolor": "#E1E5ED"
        },
        "xaxis10": {
         "anchor": "y10",
         "domain": [
          0.2625,
          0.475
         ],
         "gridcolor": "#E1E5ED",
         "showgrid": false,
         "tickfont": {
          "color": "#4D5663"
         },
         "title": {
          "font": {
           "color": "#4D5663"
          },
          "text": ""
         },
         "zerolinecolor": "#E1E5ED"
        },
        "xaxis11": {
         "anchor": "y11",
         "domain": [
          0.525,
          0.7375
         ],
         "gridcolor": "#E1E5ED",
         "showgrid": false,
         "tickfont": {
          "color": "#4D5663"
         },
         "title": {
          "font": {
           "color": "#4D5663"
          },
          "text": ""
         },
         "zerolinecolor": "#E1E5ED"
        },
        "xaxis12": {
         "anchor": "y12",
         "domain": [
          0.7875,
          1
         ],
         "gridcolor": "#E1E5ED",
         "showgrid": false,
         "tickfont": {
          "color": "#4D5663"
         },
         "title": {
          "font": {
           "color": "#4D5663"
          },
          "text": ""
         },
         "zerolinecolor": "#E1E5ED"
        },
        "xaxis13": {
         "anchor": "y13",
         "domain": [
          0,
          0.2125
         ],
         "gridcolor": "#E1E5ED",
         "showgrid": false,
         "tickfont": {
          "color": "#4D5663"
         },
         "title": {
          "font": {
           "color": "#4D5663"
          },
          "text": ""
         },
         "zerolinecolor": "#E1E5ED"
        },
        "xaxis14": {
         "anchor": "y14",
         "domain": [
          0.2625,
          0.475
         ],
         "gridcolor": "#E1E5ED",
         "showgrid": false,
         "tickfont": {
          "color": "#4D5663"
         },
         "title": {
          "font": {
           "color": "#4D5663"
          },
          "text": ""
         },
         "zerolinecolor": "#E1E5ED"
        },
        "xaxis15": {
         "anchor": "y15",
         "domain": [
          0.525,
          0.7375
         ],
         "gridcolor": "#E1E5ED",
         "showgrid": false,
         "tickfont": {
          "color": "#4D5663"
         },
         "title": {
          "font": {
           "color": "#4D5663"
          },
          "text": ""
         },
         "zerolinecolor": "#E1E5ED"
        },
        "xaxis16": {
         "anchor": "y16",
         "domain": [
          0.7875,
          1
         ],
         "gridcolor": "#E1E5ED",
         "showgrid": false,
         "tickfont": {
          "color": "#4D5663"
         },
         "title": {
          "font": {
           "color": "#4D5663"
          },
          "text": ""
         },
         "zerolinecolor": "#E1E5ED"
        },
        "xaxis2": {
         "anchor": "y2",
         "domain": [
          0.2625,
          0.475
         ],
         "gridcolor": "#E1E5ED",
         "showgrid": false,
         "tickfont": {
          "color": "#4D5663"
         },
         "title": {
          "font": {
           "color": "#4D5663"
          },
          "text": ""
         },
         "zerolinecolor": "#E1E5ED"
        },
        "xaxis3": {
         "anchor": "y3",
         "domain": [
          0.525,
          0.7375
         ],
         "gridcolor": "#E1E5ED",
         "showgrid": false,
         "tickfont": {
          "color": "#4D5663"
         },
         "title": {
          "font": {
           "color": "#4D5663"
          },
          "text": ""
         },
         "zerolinecolor": "#E1E5ED"
        },
        "xaxis4": {
         "anchor": "y4",
         "domain": [
          0.7875,
          1
         ],
         "gridcolor": "#E1E5ED",
         "showgrid": false,
         "tickfont": {
          "color": "#4D5663"
         },
         "title": {
          "font": {
           "color": "#4D5663"
          },
          "text": ""
         },
         "zerolinecolor": "#E1E5ED"
        },
        "xaxis5": {
         "anchor": "y5",
         "domain": [
          0,
          0.2125
         ],
         "gridcolor": "#E1E5ED",
         "showgrid": false,
         "tickfont": {
          "color": "#4D5663"
         },
         "title": {
          "font": {
           "color": "#4D5663"
          },
          "text": ""
         },
         "zerolinecolor": "#E1E5ED"
        },
        "xaxis6": {
         "anchor": "y6",
         "domain": [
          0.2625,
          0.475
         ],
         "gridcolor": "#E1E5ED",
         "showgrid": false,
         "tickfont": {
          "color": "#4D5663"
         },
         "title": {
          "font": {
           "color": "#4D5663"
          },
          "text": ""
         },
         "zerolinecolor": "#E1E5ED"
        },
        "xaxis7": {
         "anchor": "y7",
         "domain": [
          0.525,
          0.7375
         ],
         "gridcolor": "#E1E5ED",
         "showgrid": false,
         "tickfont": {
          "color": "#4D5663"
         },
         "title": {
          "font": {
           "color": "#4D5663"
          },
          "text": ""
         },
         "zerolinecolor": "#E1E5ED"
        },
        "xaxis8": {
         "anchor": "y8",
         "domain": [
          0.7875,
          1
         ],
         "gridcolor": "#E1E5ED",
         "showgrid": false,
         "tickfont": {
          "color": "#4D5663"
         },
         "title": {
          "font": {
           "color": "#4D5663"
          },
          "text": ""
         },
         "zerolinecolor": "#E1E5ED"
        },
        "xaxis9": {
         "anchor": "y9",
         "domain": [
          0,
          0.2125
         ],
         "gridcolor": "#E1E5ED",
         "showgrid": false,
         "tickfont": {
          "color": "#4D5663"
         },
         "title": {
          "font": {
           "color": "#4D5663"
          },
          "text": ""
         },
         "zerolinecolor": "#E1E5ED"
        },
        "yaxis": {
         "anchor": "x",
         "domain": [
          0.8025,
          1
         ],
         "gridcolor": "#E1E5ED",
         "showgrid": false,
         "tickfont": {
          "color": "#4D5663"
         },
         "title": {
          "font": {
           "color": "#4D5663"
          },
          "text": ""
         },
         "zerolinecolor": "#E1E5ED"
        },
        "yaxis10": {
         "anchor": "x10",
         "domain": [
          0.2675,
          0.465
         ],
         "gridcolor": "#E1E5ED",
         "showgrid": false,
         "tickfont": {
          "color": "#4D5663"
         },
         "title": {
          "font": {
           "color": "#4D5663"
          },
          "text": ""
         },
         "zerolinecolor": "#E1E5ED"
        },
        "yaxis11": {
         "anchor": "x11",
         "domain": [
          0.2675,
          0.465
         ],
         "gridcolor": "#E1E5ED",
         "showgrid": false,
         "tickfont": {
          "color": "#4D5663"
         },
         "title": {
          "font": {
           "color": "#4D5663"
          },
          "text": ""
         },
         "zerolinecolor": "#E1E5ED"
        },
        "yaxis12": {
         "anchor": "x12",
         "domain": [
          0.2675,
          0.465
         ],
         "gridcolor": "#E1E5ED",
         "showgrid": false,
         "tickfont": {
          "color": "#4D5663"
         },
         "title": {
          "font": {
           "color": "#4D5663"
          },
          "text": ""
         },
         "zerolinecolor": "#E1E5ED"
        },
        "yaxis13": {
         "anchor": "x13",
         "domain": [
          0,
          0.1975
         ],
         "gridcolor": "#E1E5ED",
         "showgrid": false,
         "tickfont": {
          "color": "#4D5663"
         },
         "title": {
          "font": {
           "color": "#4D5663"
          },
          "text": ""
         },
         "zerolinecolor": "#E1E5ED"
        },
        "yaxis14": {
         "anchor": "x14",
         "domain": [
          0,
          0.1975
         ],
         "gridcolor": "#E1E5ED",
         "showgrid": false,
         "tickfont": {
          "color": "#4D5663"
         },
         "title": {
          "font": {
           "color": "#4D5663"
          },
          "text": ""
         },
         "zerolinecolor": "#E1E5ED"
        },
        "yaxis15": {
         "anchor": "x15",
         "domain": [
          0,
          0.1975
         ],
         "gridcolor": "#E1E5ED",
         "showgrid": false,
         "tickfont": {
          "color": "#4D5663"
         },
         "title": {
          "font": {
           "color": "#4D5663"
          },
          "text": ""
         },
         "zerolinecolor": "#E1E5ED"
        },
        "yaxis16": {
         "anchor": "x16",
         "domain": [
          0,
          0.1975
         ],
         "gridcolor": "#E1E5ED",
         "showgrid": false,
         "tickfont": {
          "color": "#4D5663"
         },
         "title": {
          "font": {
           "color": "#4D5663"
          },
          "text": ""
         },
         "zerolinecolor": "#E1E5ED"
        },
        "yaxis2": {
         "anchor": "x2",
         "domain": [
          0.8025,
          1
         ],
         "gridcolor": "#E1E5ED",
         "showgrid": false,
         "tickfont": {
          "color": "#4D5663"
         },
         "title": {
          "font": {
           "color": "#4D5663"
          },
          "text": ""
         },
         "zerolinecolor": "#E1E5ED"
        },
        "yaxis3": {
         "anchor": "x3",
         "domain": [
          0.8025,
          1
         ],
         "gridcolor": "#E1E5ED",
         "showgrid": false,
         "tickfont": {
          "color": "#4D5663"
         },
         "title": {
          "font": {
           "color": "#4D5663"
          },
          "text": ""
         },
         "zerolinecolor": "#E1E5ED"
        },
        "yaxis4": {
         "anchor": "x4",
         "domain": [
          0.8025,
          1
         ],
         "gridcolor": "#E1E5ED",
         "showgrid": false,
         "tickfont": {
          "color": "#4D5663"
         },
         "title": {
          "font": {
           "color": "#4D5663"
          },
          "text": ""
         },
         "zerolinecolor": "#E1E5ED"
        },
        "yaxis5": {
         "anchor": "x5",
         "domain": [
          0.535,
          0.7325
         ],
         "gridcolor": "#E1E5ED",
         "showgrid": false,
         "tickfont": {
          "color": "#4D5663"
         },
         "title": {
          "font": {
           "color": "#4D5663"
          },
          "text": ""
         },
         "zerolinecolor": "#E1E5ED"
        },
        "yaxis6": {
         "anchor": "x6",
         "domain": [
          0.535,
          0.7325
         ],
         "gridcolor": "#E1E5ED",
         "showgrid": false,
         "tickfont": {
          "color": "#4D5663"
         },
         "title": {
          "font": {
           "color": "#4D5663"
          },
          "text": ""
         },
         "zerolinecolor": "#E1E5ED"
        },
        "yaxis7": {
         "anchor": "x7",
         "domain": [
          0.535,
          0.7325
         ],
         "gridcolor": "#E1E5ED",
         "showgrid": false,
         "tickfont": {
          "color": "#4D5663"
         },
         "title": {
          "font": {
           "color": "#4D5663"
          },
          "text": ""
         },
         "zerolinecolor": "#E1E5ED"
        },
        "yaxis8": {
         "anchor": "x8",
         "domain": [
          0.535,
          0.7325
         ],
         "gridcolor": "#E1E5ED",
         "showgrid": false,
         "tickfont": {
          "color": "#4D5663"
         },
         "title": {
          "font": {
           "color": "#4D5663"
          },
          "text": ""
         },
         "zerolinecolor": "#E1E5ED"
        },
        "yaxis9": {
         "anchor": "x9",
         "domain": [
          0.2675,
          0.465
         ],
         "gridcolor": "#E1E5ED",
         "showgrid": false,
         "tickfont": {
          "color": "#4D5663"
         },
         "title": {
          "font": {
           "color": "#4D5663"
          },
          "text": ""
         },
         "zerolinecolor": "#E1E5ED"
        }
       }
      },
      "text/html": [
       "<div>                            <div id=\"4257246f-ada7-4b33-b4eb-850fdc1bf29c\" class=\"plotly-graph-div\" style=\"height:525px; width:100%;\"></div>            <script type=\"text/javascript\">                require([\"plotly\"], function(Plotly) {                    window.PLOTLYENV=window.PLOTLYENV || {};\n",
       "                    window.PLOTLYENV.BASE_URL='https://plot.ly';                                    if (document.getElementById(\"4257246f-ada7-4b33-b4eb-850fdc1bf29c\")) {                    Plotly.newPlot(                        \"4257246f-ada7-4b33-b4eb-850fdc1bf29c\",                        [{\"histfunc\":\"count\",\"histnorm\":\"\",\"marker\":{\"color\":\"rgba(255, 153, 51, 1.0)\",\"line\":{\"color\":\"#4D5663\",\"width\":1.3}},\"name\":\"A\",\"nbinsx\":10,\"opacity\":0.8,\"orientation\":\"v\",\"x\":[0.9674792495653929,-0.869645948345109,0.3276963940454639,2.212326394176484,1.194564115626372,1.281333312680946,-0.4593625791084765,0.2534398304646211,-1.187047102320885,0.009120945638079877,0.46812971295397005,0.3173603163090243,-0.5949756643716486,0.36612201815595236,1.6823087709179516,0.1223867090465667,1.2858955968180077,-0.355874679445089,-1.5056555405566194,-0.9803269668748792,-0.9821783534228085,-0.052757830218477235,0.8033100178798156,-1.2398031374339302,-0.5813663197398291,0.19886821601177004,0.1294915534324573,-0.13306937600077753,1.3939949997907175,1.1973801278232796,0.584311181386549,0.9814067443843448,0.2061913231991555,1.671664827360644,0.789600735681814,1.2933123482628828,1.4246595860526337,-1.3217494580552764,-0.07724462464406437,0.18930105179933207,-0.8808766976813702,-0.01730765278196536,1.6745130595812752,-0.9444306581128674,-0.1221827946211637,-2.321901756440847,0.7477928499020462,-1.8263033277692504,-1.0618495646062116,-0.09040834612020593,-0.0010349389445514765,-2.735604509568205,-1.6080140908995408,0.46315775491532685,-0.5641038656392511,-0.09215769154545252,1.0002522597706367,0.17587208675758984,-0.5954239279504188,-2.911645903175407,0.060337624495499904,-0.42040253946929246,1.7762469320792973,0.8730115926111546,1.8439878835043193,-0.6085419218754314,-0.9079008941146096,0.2759242313421433,-0.3988133260904946,1.3186512094391587,-0.22711041145047717,-1.1216333739411006,0.8022488902000023,-0.28124431547160195,-0.5851126659274265,0.4306201479387562,-1.0882948662735636,0.027976391155035966,0.5566361343141041,-1.5807367243659294,-0.8082355354469991,0.5644686676080057,-0.5897432726211994,-1.090934333436364,-0.24825567958331607,0.24567974588087993,1.0745837768794317,-0.4793855569130954,1.2390952913307294,-0.1127955717482966,0.5115001071064847,-0.05946749612950342,-0.8113493777941423,-0.049751974798389886,-0.3517813343733759,-0.29145587516066457,0.5787628035960883,-0.1311683960980727,-0.10496940636822302,0.5356439478190795],\"xaxis\":\"x\",\"yaxis\":\"y\",\"type\":\"histogram\"},{\"line\":{\"color\":\"rgba(128, 128, 128, 1.0)\",\"dash\":\"solid\",\"shape\":\"linear\",\"width\":1.3},\"marker\":{\"size\":2,\"symbol\":\"circle\"},\"mode\":\"markers\",\"name\":\"A\",\"text\":\"\",\"x\":[1.2559665150128738,1.623222658930747,-1.6337826450630495,0.9447131134135116,1.1798043405299838,-1.155688742948656,2.4548456650087664,0.1967602313034417,1.273259911357326,0.032098563769232605,-0.9406093982229913,-1.2964368050421562,-1.519902506155913,-0.3761787602834264,-0.010752827153059951,-0.10556004881246867,0.20076895648962265,-1.6850246316573827,-0.053499097961576036,0.026679427972856138,-0.9296474377801646,0.34792155075954995,0.6817847402778288,0.6709660186939352,-0.32023098099219494,0.3547897976235289,-0.13263784373644685,0.2935159364327797,-1.1935028348876886,-0.6154685546770732,0.2711354765320031,-1.2721284909920545,-1.66150782301575,-0.40869372542459653,0.6927214550234417,-0.571354166680342,-2.370721439218031,0.1493964954778568,0.6510556001226679,0.4292580766720687,0.7638851538915261,-0.6330279833466473,0.17323422869432137,0.5571215919463213,-1.7511962250925097,1.0350253485830763,-0.15762194299334684,0.4863083584740155,0.30436807080373923,0.4251551333724484,0.3550019805177964,0.44034349879940204,2.0969774956697025,1.0962646409270569,1.1830133303858525,-1.1344339583329939,-1.5290452405995383,1.8736128340095886,0.39478122772731267,-1.05179307868685,0.6310044541279328,0.42939924866247065,0.5323109177393281,-0.4729320313581209,1.5409072215037973,-1.262119363458304,-0.7039383666072286,-0.8990003348315486,-0.028011387798115833,0.47592024362120794,0.9002351500195176,-0.14605167795031107,-0.7679327720116481,1.5576359927434305,-0.7733583994874416,0.23109138835710186,-1.1494712996178111,0.4967199657809361,0.29515336234764084,0.8557133952349325,-0.309347918115768,-0.9199284431444746,-0.0815317236788813,0.09104793048301475,-0.4112088551283685,0.07420682096557561,0.8944805960648957,1.047378806846963,-0.043918820524732866,-1.0315338064149218,-0.7600061950087242,-0.9280574417632615,-0.7216526703364456,0.7305990509468757,-0.04815858666592761,-0.6922237460237607,-0.4498024098452496,-0.906975856818541,-1.5624154089293907,-0.6482211367486518],\"xaxis\":\"x2\",\"y\":[0.9674792495653929,-0.869645948345109,0.3276963940454639,2.212326394176484,1.194564115626372,1.281333312680946,-0.4593625791084765,0.2534398304646211,-1.187047102320885,0.009120945638079877,0.46812971295397005,0.3173603163090243,-0.5949756643716486,0.36612201815595236,1.6823087709179516,0.1223867090465667,1.2858955968180077,-0.355874679445089,-1.5056555405566194,-0.9803269668748792,-0.9821783534228085,-0.052757830218477235,0.8033100178798156,-1.2398031374339302,-0.5813663197398291,0.19886821601177004,0.1294915534324573,-0.13306937600077753,1.3939949997907175,1.1973801278232796,0.584311181386549,0.9814067443843448,0.2061913231991555,1.671664827360644,0.789600735681814,1.2933123482628828,1.4246595860526337,-1.3217494580552764,-0.07724462464406437,0.18930105179933207,-0.8808766976813702,-0.01730765278196536,1.6745130595812752,-0.9444306581128674,-0.1221827946211637,-2.321901756440847,0.7477928499020462,-1.8263033277692504,-1.0618495646062116,-0.09040834612020593,-0.0010349389445514765,-2.735604509568205,-1.6080140908995408,0.46315775491532685,-0.5641038656392511,-0.09215769154545252,1.0002522597706367,0.17587208675758984,-0.5954239279504188,-2.911645903175407,0.060337624495499904,-0.42040253946929246,1.7762469320792973,0.8730115926111546,1.8439878835043193,-0.6085419218754314,-0.9079008941146096,0.2759242313421433,-0.3988133260904946,1.3186512094391587,-0.22711041145047717,-1.1216333739411006,0.8022488902000023,-0.28124431547160195,-0.5851126659274265,0.4306201479387562,-1.0882948662735636,0.027976391155035966,0.5566361343141041,-1.5807367243659294,-0.8082355354469991,0.5644686676080057,-0.5897432726211994,-1.090934333436364,-0.24825567958331607,0.24567974588087993,1.0745837768794317,-0.4793855569130954,1.2390952913307294,-0.1127955717482966,0.5115001071064847,-0.05946749612950342,-0.8113493777941423,-0.049751974798389886,-0.3517813343733759,-0.29145587516066457,0.5787628035960883,-0.1311683960980727,-0.10496940636822302,0.5356439478190795],\"yaxis\":\"y2\",\"type\":\"scatter\"},{\"line\":{\"color\":\"rgba(128, 128, 128, 1.0)\",\"dash\":\"solid\",\"shape\":\"linear\",\"width\":1.3},\"marker\":{\"size\":2,\"symbol\":\"circle\"},\"mode\":\"markers\",\"name\":\"A\",\"text\":\"\",\"x\":[0.20305496644080695,-0.33039121526200343,0.40855082409175153,1.3274337532753089,0.6803105741718392,0.006881117099928233,0.03165130139628253,0.181838923603268,0.49015845140703557,-1.526960515256338,0.7246631081556754,-0.547753009652827,-2.1534501524454916,-1.5605142632760103,-0.9304612934504152,-0.9293505632842272,0.9401064012357843,-0.25152667299264647,-1.0810539083833393,-0.2569645314207663,-0.9562882768559505,0.3581432251875754,-0.058761279119920434,-0.005837422335257732,1.0973696580147438,0.5131968563218078,1.1893389729121706,0.4130546432360426,-0.9493384426904715,-0.9076095877297566,0.2930118306513728,-0.9419434561021102,0.047934019761024134,-1.1525333553450632,0.5579077902570123,-0.4771985528260809,0.6427791125417261,-0.12642375532549144,0.4582786624587594,0.8441490446943267,-0.08965862722638257,-0.6735546349036959,0.37390057446007036,0.020316886846450333,-0.4077579015482804,-1.9650400693913401,-2.2477196087378615,-0.08016444885580916,0.5689869353540534,-1.6029250151264145,1.0847552376575391,0.8531548350965638,-0.5849907786951324,-3.7174326786829317,-0.614978372572787,-1.2613986013486533,-0.6262121478759936,-0.6399900697017636,0.2893718511932817,0.6299388086845674,1.4028940813934354,1.3839847336594746,0.9319950604517704,1.7157971716334122,0.45498902184171786,-0.5355852741151403,1.593083632942254,-0.6005007743404577,0.63266313047327,-0.6812596561741786,0.32436359906335743,0.244617079161891,1.1261753132323709,0.4374761668552437,0.154484641594899,-0.3119547135474024,0.47924657258169007,1.307750909104364,0.6458414548905935,0.49227870937608564,0.49893512743953133,-1.0924075598242011,-1.4714671173639802,-0.0963085993679753,2.1275418519912845,-0.26131193407714154,-0.6090046936899325,-0.4417302353214457,-1.1473580546824254,-0.5436027939444492,-0.7737127397869321,-0.35479721904411277,-1.6133281126784869,-0.4236190388756427,0.009259765543734427,0.4741677156123742,-0.6874560632796509,-0.19686408370752284,-0.16260661326726622,-0.8220663003071326],\"xaxis\":\"x3\",\"y\":[0.9674792495653929,-0.869645948345109,0.3276963940454639,2.212326394176484,1.194564115626372,1.281333312680946,-0.4593625791084765,0.2534398304646211,-1.187047102320885,0.009120945638079877,0.46812971295397005,0.3173603163090243,-0.5949756643716486,0.36612201815595236,1.6823087709179516,0.1223867090465667,1.2858955968180077,-0.355874679445089,-1.5056555405566194,-0.9803269668748792,-0.9821783534228085,-0.052757830218477235,0.8033100178798156,-1.2398031374339302,-0.5813663197398291,0.19886821601177004,0.1294915534324573,-0.13306937600077753,1.3939949997907175,1.1973801278232796,0.584311181386549,0.9814067443843448,0.2061913231991555,1.671664827360644,0.789600735681814,1.2933123482628828,1.4246595860526337,-1.3217494580552764,-0.07724462464406437,0.18930105179933207,-0.8808766976813702,-0.01730765278196536,1.6745130595812752,-0.9444306581128674,-0.1221827946211637,-2.321901756440847,0.7477928499020462,-1.8263033277692504,-1.0618495646062116,-0.09040834612020593,-0.0010349389445514765,-2.735604509568205,-1.6080140908995408,0.46315775491532685,-0.5641038656392511,-0.09215769154545252,1.0002522597706367,0.17587208675758984,-0.5954239279504188,-2.911645903175407,0.060337624495499904,-0.42040253946929246,1.7762469320792973,0.8730115926111546,1.8439878835043193,-0.6085419218754314,-0.9079008941146096,0.2759242313421433,-0.3988133260904946,1.3186512094391587,-0.22711041145047717,-1.1216333739411006,0.8022488902000023,-0.28124431547160195,-0.5851126659274265,0.4306201479387562,-1.0882948662735636,0.027976391155035966,0.5566361343141041,-1.5807367243659294,-0.8082355354469991,0.5644686676080057,-0.5897432726211994,-1.090934333436364,-0.24825567958331607,0.24567974588087993,1.0745837768794317,-0.4793855569130954,1.2390952913307294,-0.1127955717482966,0.5115001071064847,-0.05946749612950342,-0.8113493777941423,-0.049751974798389886,-0.3517813343733759,-0.29145587516066457,0.5787628035960883,-0.1311683960980727,-0.10496940636822302,0.5356439478190795],\"yaxis\":\"y3\",\"type\":\"scatter\"},{\"line\":{\"color\":\"rgba(128, 128, 128, 1.0)\",\"dash\":\"solid\",\"shape\":\"linear\",\"width\":1.3},\"marker\":{\"size\":2,\"symbol\":\"circle\"},\"mode\":\"markers\",\"name\":\"A\",\"text\":\"\",\"x\":[-0.844675283057274,1.1079253141952627,-1.0549246574985103,0.6248328768284416,0.39372377644644213,0.9872964812692586,-0.6645790999130656,-0.27236586279190184,-1.5346605301244767,0.1692178233932603,1.4184857962790212,0.8808556056254373,-1.1003714271012022,-1.2367186974284194,-0.14564286798088713,1.837797109612688,-0.38971287492709455,0.8317892603171286,0.02665091971910814,-0.8220765905487935,0.48617665310014496,-1.3150490584333274,0.94132724243685,-1.967516472559997,0.06591239341638026,-0.03209809868312439,-0.3400126275281913,1.327535038170273,-0.3631595217521406,2.6889083016183326,0.09233393307287759,1.0828519527090887,0.2062528330930305,0.023644567194252276,-0.8314228107367397,1.1589175766566404,-0.45573983420101594,0.6145840653329442,-1.9016495697230185,0.004154186606662765,0.9385030690712318,-0.038479006347781,0.10155690654794293,0.49684899192493487,0.7840714029526085,0.4180320949104808,0.03023824988513494,0.5951791164420306,0.4759338280966322,0.360584462706018,0.015209593068782494,0.4438774150141562,-0.9253224912272154,0.10977979096170497,0.8953969638865029,0.562374954154987,0.023784976632493186,0.6934321252609429,-0.8755193028679381,-1.2972236604334393,0.6265386009399033,1.3201401348488935,-0.866164398556021,1.978236792582661,-1.6080126826901648,-0.16123823594315662,0.7028473801525825,-0.39184544271452043,-0.43074291245269763,-0.1960334246160809,1.3199654870906479,1.1148035255243096,-0.6689729598785097,-0.9288115559984517,0.3350332511429236,-1.1037989967505708,-0.3719360445443566,-1.0887917107787195,-0.746592820822549,-0.8170057028655553,0.0382537947024953,0.40514624527181287,-0.428506224009542,1.2688938671624623,0.10951858655427282,-1.1453464424572268,-0.18024758992087664,0.3962381935287525,1.2217750927028994,-0.3052640040963152,-0.26565063884929857,0.8795081656156161,0.6591573084102006,1.659280422430173,-0.20388072092017542,-1.3864641621800833,0.8810754847545192,-0.8610036442687828,1.2743028253807158,0.10993575430849935],\"xaxis\":\"x4\",\"y\":[0.9674792495653929,-0.869645948345109,0.3276963940454639,2.212326394176484,1.194564115626372,1.281333312680946,-0.4593625791084765,0.2534398304646211,-1.187047102320885,0.009120945638079877,0.46812971295397005,0.3173603163090243,-0.5949756643716486,0.36612201815595236,1.6823087709179516,0.1223867090465667,1.2858955968180077,-0.355874679445089,-1.5056555405566194,-0.9803269668748792,-0.9821783534228085,-0.052757830218477235,0.8033100178798156,-1.2398031374339302,-0.5813663197398291,0.19886821601177004,0.1294915534324573,-0.13306937600077753,1.3939949997907175,1.1973801278232796,0.584311181386549,0.9814067443843448,0.2061913231991555,1.671664827360644,0.789600735681814,1.2933123482628828,1.4246595860526337,-1.3217494580552764,-0.07724462464406437,0.18930105179933207,-0.8808766976813702,-0.01730765278196536,1.6745130595812752,-0.9444306581128674,-0.1221827946211637,-2.321901756440847,0.7477928499020462,-1.8263033277692504,-1.0618495646062116,-0.09040834612020593,-0.0010349389445514765,-2.735604509568205,-1.6080140908995408,0.46315775491532685,-0.5641038656392511,-0.09215769154545252,1.0002522597706367,0.17587208675758984,-0.5954239279504188,-2.911645903175407,0.060337624495499904,-0.42040253946929246,1.7762469320792973,0.8730115926111546,1.8439878835043193,-0.6085419218754314,-0.9079008941146096,0.2759242313421433,-0.3988133260904946,1.3186512094391587,-0.22711041145047717,-1.1216333739411006,0.8022488902000023,-0.28124431547160195,-0.5851126659274265,0.4306201479387562,-1.0882948662735636,0.027976391155035966,0.5566361343141041,-1.5807367243659294,-0.8082355354469991,0.5644686676080057,-0.5897432726211994,-1.090934333436364,-0.24825567958331607,0.24567974588087993,1.0745837768794317,-0.4793855569130954,1.2390952913307294,-0.1127955717482966,0.5115001071064847,-0.05946749612950342,-0.8113493777941423,-0.049751974798389886,-0.3517813343733759,-0.29145587516066457,0.5787628035960883,-0.1311683960980727,-0.10496940636822302,0.5356439478190795],\"yaxis\":\"y4\",\"type\":\"scatter\"},{\"line\":{\"color\":\"rgba(128, 128, 128, 1.0)\",\"dash\":\"solid\",\"shape\":\"linear\",\"width\":1.3},\"marker\":{\"size\":2,\"symbol\":\"circle\"},\"mode\":\"markers\",\"name\":\"B\",\"text\":\"\",\"x\":[0.9674792495653929,-0.869645948345109,0.3276963940454639,2.212326394176484,1.194564115626372,1.281333312680946,-0.4593625791084765,0.2534398304646211,-1.187047102320885,0.009120945638079877,0.46812971295397005,0.3173603163090243,-0.5949756643716486,0.36612201815595236,1.6823087709179516,0.1223867090465667,1.2858955968180077,-0.355874679445089,-1.5056555405566194,-0.9803269668748792,-0.9821783534228085,-0.052757830218477235,0.8033100178798156,-1.2398031374339302,-0.5813663197398291,0.19886821601177004,0.1294915534324573,-0.13306937600077753,1.3939949997907175,1.1973801278232796,0.584311181386549,0.9814067443843448,0.2061913231991555,1.671664827360644,0.789600735681814,1.2933123482628828,1.4246595860526337,-1.3217494580552764,-0.07724462464406437,0.18930105179933207,-0.8808766976813702,-0.01730765278196536,1.6745130595812752,-0.9444306581128674,-0.1221827946211637,-2.321901756440847,0.7477928499020462,-1.8263033277692504,-1.0618495646062116,-0.09040834612020593,-0.0010349389445514765,-2.735604509568205,-1.6080140908995408,0.46315775491532685,-0.5641038656392511,-0.09215769154545252,1.0002522597706367,0.17587208675758984,-0.5954239279504188,-2.911645903175407,0.060337624495499904,-0.42040253946929246,1.7762469320792973,0.8730115926111546,1.8439878835043193,-0.6085419218754314,-0.9079008941146096,0.2759242313421433,-0.3988133260904946,1.3186512094391587,-0.22711041145047717,-1.1216333739411006,0.8022488902000023,-0.28124431547160195,-0.5851126659274265,0.4306201479387562,-1.0882948662735636,0.027976391155035966,0.5566361343141041,-1.5807367243659294,-0.8082355354469991,0.5644686676080057,-0.5897432726211994,-1.090934333436364,-0.24825567958331607,0.24567974588087993,1.0745837768794317,-0.4793855569130954,1.2390952913307294,-0.1127955717482966,0.5115001071064847,-0.05946749612950342,-0.8113493777941423,-0.049751974798389886,-0.3517813343733759,-0.29145587516066457,0.5787628035960883,-0.1311683960980727,-0.10496940636822302,0.5356439478190795],\"xaxis\":\"x5\",\"y\":[1.2559665150128738,1.623222658930747,-1.6337826450630495,0.9447131134135116,1.1798043405299838,-1.155688742948656,2.4548456650087664,0.1967602313034417,1.273259911357326,0.032098563769232605,-0.9406093982229913,-1.2964368050421562,-1.519902506155913,-0.3761787602834264,-0.010752827153059951,-0.10556004881246867,0.20076895648962265,-1.6850246316573827,-0.053499097961576036,0.026679427972856138,-0.9296474377801646,0.34792155075954995,0.6817847402778288,0.6709660186939352,-0.32023098099219494,0.3547897976235289,-0.13263784373644685,0.2935159364327797,-1.1935028348876886,-0.6154685546770732,0.2711354765320031,-1.2721284909920545,-1.66150782301575,-0.40869372542459653,0.6927214550234417,-0.571354166680342,-2.370721439218031,0.1493964954778568,0.6510556001226679,0.4292580766720687,0.7638851538915261,-0.6330279833466473,0.17323422869432137,0.5571215919463213,-1.7511962250925097,1.0350253485830763,-0.15762194299334684,0.4863083584740155,0.30436807080373923,0.4251551333724484,0.3550019805177964,0.44034349879940204,2.0969774956697025,1.0962646409270569,1.1830133303858525,-1.1344339583329939,-1.5290452405995383,1.8736128340095886,0.39478122772731267,-1.05179307868685,0.6310044541279328,0.42939924866247065,0.5323109177393281,-0.4729320313581209,1.5409072215037973,-1.262119363458304,-0.7039383666072286,-0.8990003348315486,-0.028011387798115833,0.47592024362120794,0.9002351500195176,-0.14605167795031107,-0.7679327720116481,1.5576359927434305,-0.7733583994874416,0.23109138835710186,-1.1494712996178111,0.4967199657809361,0.29515336234764084,0.8557133952349325,-0.309347918115768,-0.9199284431444746,-0.0815317236788813,0.09104793048301475,-0.4112088551283685,0.07420682096557561,0.8944805960648957,1.047378806846963,-0.043918820524732866,-1.0315338064149218,-0.7600061950087242,-0.9280574417632615,-0.7216526703364456,0.7305990509468757,-0.04815858666592761,-0.6922237460237607,-0.4498024098452496,-0.906975856818541,-1.5624154089293907,-0.6482211367486518],\"yaxis\":\"y5\",\"type\":\"scatter\"},{\"histfunc\":\"count\",\"histnorm\":\"\",\"marker\":{\"color\":\"rgba(55, 128, 191, 1.0)\",\"line\":{\"color\":\"#4D5663\",\"width\":1.3}},\"name\":\"B\",\"nbinsx\":10,\"opacity\":0.8,\"orientation\":\"v\",\"x\":[1.2559665150128738,1.623222658930747,-1.6337826450630495,0.9447131134135116,1.1798043405299838,-1.155688742948656,2.4548456650087664,0.1967602313034417,1.273259911357326,0.032098563769232605,-0.9406093982229913,-1.2964368050421562,-1.519902506155913,-0.3761787602834264,-0.010752827153059951,-0.10556004881246867,0.20076895648962265,-1.6850246316573827,-0.053499097961576036,0.026679427972856138,-0.9296474377801646,0.34792155075954995,0.6817847402778288,0.6709660186939352,-0.32023098099219494,0.3547897976235289,-0.13263784373644685,0.2935159364327797,-1.1935028348876886,-0.6154685546770732,0.2711354765320031,-1.2721284909920545,-1.66150782301575,-0.40869372542459653,0.6927214550234417,-0.571354166680342,-2.370721439218031,0.1493964954778568,0.6510556001226679,0.4292580766720687,0.7638851538915261,-0.6330279833466473,0.17323422869432137,0.5571215919463213,-1.7511962250925097,1.0350253485830763,-0.15762194299334684,0.4863083584740155,0.30436807080373923,0.4251551333724484,0.3550019805177964,0.44034349879940204,2.0969774956697025,1.0962646409270569,1.1830133303858525,-1.1344339583329939,-1.5290452405995383,1.8736128340095886,0.39478122772731267,-1.05179307868685,0.6310044541279328,0.42939924866247065,0.5323109177393281,-0.4729320313581209,1.5409072215037973,-1.262119363458304,-0.7039383666072286,-0.8990003348315486,-0.028011387798115833,0.47592024362120794,0.9002351500195176,-0.14605167795031107,-0.7679327720116481,1.5576359927434305,-0.7733583994874416,0.23109138835710186,-1.1494712996178111,0.4967199657809361,0.29515336234764084,0.8557133952349325,-0.309347918115768,-0.9199284431444746,-0.0815317236788813,0.09104793048301475,-0.4112088551283685,0.07420682096557561,0.8944805960648957,1.047378806846963,-0.043918820524732866,-1.0315338064149218,-0.7600061950087242,-0.9280574417632615,-0.7216526703364456,0.7305990509468757,-0.04815858666592761,-0.6922237460237607,-0.4498024098452496,-0.906975856818541,-1.5624154089293907,-0.6482211367486518],\"xaxis\":\"x6\",\"yaxis\":\"y6\",\"type\":\"histogram\"},{\"line\":{\"color\":\"rgba(128, 128, 128, 1.0)\",\"dash\":\"solid\",\"shape\":\"linear\",\"width\":1.3},\"marker\":{\"size\":2,\"symbol\":\"circle\"},\"mode\":\"markers\",\"name\":\"B\",\"text\":\"\",\"x\":[0.20305496644080695,-0.33039121526200343,0.40855082409175153,1.3274337532753089,0.6803105741718392,0.006881117099928233,0.03165130139628253,0.181838923603268,0.49015845140703557,-1.526960515256338,0.7246631081556754,-0.547753009652827,-2.1534501524454916,-1.5605142632760103,-0.9304612934504152,-0.9293505632842272,0.9401064012357843,-0.25152667299264647,-1.0810539083833393,-0.2569645314207663,-0.9562882768559505,0.3581432251875754,-0.058761279119920434,-0.005837422335257732,1.0973696580147438,0.5131968563218078,1.1893389729121706,0.4130546432360426,-0.9493384426904715,-0.9076095877297566,0.2930118306513728,-0.9419434561021102,0.047934019761024134,-1.1525333553450632,0.5579077902570123,-0.4771985528260809,0.6427791125417261,-0.12642375532549144,0.4582786624587594,0.8441490446943267,-0.08965862722638257,-0.6735546349036959,0.37390057446007036,0.020316886846450333,-0.4077579015482804,-1.9650400693913401,-2.2477196087378615,-0.08016444885580916,0.5689869353540534,-1.6029250151264145,1.0847552376575391,0.8531548350965638,-0.5849907786951324,-3.7174326786829317,-0.614978372572787,-1.2613986013486533,-0.6262121478759936,-0.6399900697017636,0.2893718511932817,0.6299388086845674,1.4028940813934354,1.3839847336594746,0.9319950604517704,1.7157971716334122,0.45498902184171786,-0.5355852741151403,1.593083632942254,-0.6005007743404577,0.63266313047327,-0.6812596561741786,0.32436359906335743,0.244617079161891,1.1261753132323709,0.4374761668552437,0.154484641594899,-0.3119547135474024,0.47924657258169007,1.307750909104364,0.6458414548905935,0.49227870937608564,0.49893512743953133,-1.0924075598242011,-1.4714671173639802,-0.0963085993679753,2.1275418519912845,-0.26131193407714154,-0.6090046936899325,-0.4417302353214457,-1.1473580546824254,-0.5436027939444492,-0.7737127397869321,-0.35479721904411277,-1.6133281126784869,-0.4236190388756427,0.009259765543734427,0.4741677156123742,-0.6874560632796509,-0.19686408370752284,-0.16260661326726622,-0.8220663003071326],\"xaxis\":\"x7\",\"y\":[1.2559665150128738,1.623222658930747,-1.6337826450630495,0.9447131134135116,1.1798043405299838,-1.155688742948656,2.4548456650087664,0.1967602313034417,1.273259911357326,0.032098563769232605,-0.9406093982229913,-1.2964368050421562,-1.519902506155913,-0.3761787602834264,-0.010752827153059951,-0.10556004881246867,0.20076895648962265,-1.6850246316573827,-0.053499097961576036,0.026679427972856138,-0.9296474377801646,0.34792155075954995,0.6817847402778288,0.6709660186939352,-0.32023098099219494,0.3547897976235289,-0.13263784373644685,0.2935159364327797,-1.1935028348876886,-0.6154685546770732,0.2711354765320031,-1.2721284909920545,-1.66150782301575,-0.40869372542459653,0.6927214550234417,-0.571354166680342,-2.370721439218031,0.1493964954778568,0.6510556001226679,0.4292580766720687,0.7638851538915261,-0.6330279833466473,0.17323422869432137,0.5571215919463213,-1.7511962250925097,1.0350253485830763,-0.15762194299334684,0.4863083584740155,0.30436807080373923,0.4251551333724484,0.3550019805177964,0.44034349879940204,2.0969774956697025,1.0962646409270569,1.1830133303858525,-1.1344339583329939,-1.5290452405995383,1.8736128340095886,0.39478122772731267,-1.05179307868685,0.6310044541279328,0.42939924866247065,0.5323109177393281,-0.4729320313581209,1.5409072215037973,-1.262119363458304,-0.7039383666072286,-0.8990003348315486,-0.028011387798115833,0.47592024362120794,0.9002351500195176,-0.14605167795031107,-0.7679327720116481,1.5576359927434305,-0.7733583994874416,0.23109138835710186,-1.1494712996178111,0.4967199657809361,0.29515336234764084,0.8557133952349325,-0.309347918115768,-0.9199284431444746,-0.0815317236788813,0.09104793048301475,-0.4112088551283685,0.07420682096557561,0.8944805960648957,1.047378806846963,-0.043918820524732866,-1.0315338064149218,-0.7600061950087242,-0.9280574417632615,-0.7216526703364456,0.7305990509468757,-0.04815858666592761,-0.6922237460237607,-0.4498024098452496,-0.906975856818541,-1.5624154089293907,-0.6482211367486518],\"yaxis\":\"y7\",\"type\":\"scatter\"},{\"line\":{\"color\":\"rgba(128, 128, 128, 1.0)\",\"dash\":\"solid\",\"shape\":\"linear\",\"width\":1.3},\"marker\":{\"size\":2,\"symbol\":\"circle\"},\"mode\":\"markers\",\"name\":\"B\",\"text\":\"\",\"x\":[-0.844675283057274,1.1079253141952627,-1.0549246574985103,0.6248328768284416,0.39372377644644213,0.9872964812692586,-0.6645790999130656,-0.27236586279190184,-1.5346605301244767,0.1692178233932603,1.4184857962790212,0.8808556056254373,-1.1003714271012022,-1.2367186974284194,-0.14564286798088713,1.837797109612688,-0.38971287492709455,0.8317892603171286,0.02665091971910814,-0.8220765905487935,0.48617665310014496,-1.3150490584333274,0.94132724243685,-1.967516472559997,0.06591239341638026,-0.03209809868312439,-0.3400126275281913,1.327535038170273,-0.3631595217521406,2.6889083016183326,0.09233393307287759,1.0828519527090887,0.2062528330930305,0.023644567194252276,-0.8314228107367397,1.1589175766566404,-0.45573983420101594,0.6145840653329442,-1.9016495697230185,0.004154186606662765,0.9385030690712318,-0.038479006347781,0.10155690654794293,0.49684899192493487,0.7840714029526085,0.4180320949104808,0.03023824988513494,0.5951791164420306,0.4759338280966322,0.360584462706018,0.015209593068782494,0.4438774150141562,-0.9253224912272154,0.10977979096170497,0.8953969638865029,0.562374954154987,0.023784976632493186,0.6934321252609429,-0.8755193028679381,-1.2972236604334393,0.6265386009399033,1.3201401348488935,-0.866164398556021,1.978236792582661,-1.6080126826901648,-0.16123823594315662,0.7028473801525825,-0.39184544271452043,-0.43074291245269763,-0.1960334246160809,1.3199654870906479,1.1148035255243096,-0.6689729598785097,-0.9288115559984517,0.3350332511429236,-1.1037989967505708,-0.3719360445443566,-1.0887917107787195,-0.746592820822549,-0.8170057028655553,0.0382537947024953,0.40514624527181287,-0.428506224009542,1.2688938671624623,0.10951858655427282,-1.1453464424572268,-0.18024758992087664,0.3962381935287525,1.2217750927028994,-0.3052640040963152,-0.26565063884929857,0.8795081656156161,0.6591573084102006,1.659280422430173,-0.20388072092017542,-1.3864641621800833,0.8810754847545192,-0.8610036442687828,1.2743028253807158,0.10993575430849935],\"xaxis\":\"x8\",\"y\":[1.2559665150128738,1.623222658930747,-1.6337826450630495,0.9447131134135116,1.1798043405299838,-1.155688742948656,2.4548456650087664,0.1967602313034417,1.273259911357326,0.032098563769232605,-0.9406093982229913,-1.2964368050421562,-1.519902506155913,-0.3761787602834264,-0.010752827153059951,-0.10556004881246867,0.20076895648962265,-1.6850246316573827,-0.053499097961576036,0.026679427972856138,-0.9296474377801646,0.34792155075954995,0.6817847402778288,0.6709660186939352,-0.32023098099219494,0.3547897976235289,-0.13263784373644685,0.2935159364327797,-1.1935028348876886,-0.6154685546770732,0.2711354765320031,-1.2721284909920545,-1.66150782301575,-0.40869372542459653,0.6927214550234417,-0.571354166680342,-2.370721439218031,0.1493964954778568,0.6510556001226679,0.4292580766720687,0.7638851538915261,-0.6330279833466473,0.17323422869432137,0.5571215919463213,-1.7511962250925097,1.0350253485830763,-0.15762194299334684,0.4863083584740155,0.30436807080373923,0.4251551333724484,0.3550019805177964,0.44034349879940204,2.0969774956697025,1.0962646409270569,1.1830133303858525,-1.1344339583329939,-1.5290452405995383,1.8736128340095886,0.39478122772731267,-1.05179307868685,0.6310044541279328,0.42939924866247065,0.5323109177393281,-0.4729320313581209,1.5409072215037973,-1.262119363458304,-0.7039383666072286,-0.8990003348315486,-0.028011387798115833,0.47592024362120794,0.9002351500195176,-0.14605167795031107,-0.7679327720116481,1.5576359927434305,-0.7733583994874416,0.23109138835710186,-1.1494712996178111,0.4967199657809361,0.29515336234764084,0.8557133952349325,-0.309347918115768,-0.9199284431444746,-0.0815317236788813,0.09104793048301475,-0.4112088551283685,0.07420682096557561,0.8944805960648957,1.047378806846963,-0.043918820524732866,-1.0315338064149218,-0.7600061950087242,-0.9280574417632615,-0.7216526703364456,0.7305990509468757,-0.04815858666592761,-0.6922237460237607,-0.4498024098452496,-0.906975856818541,-1.5624154089293907,-0.6482211367486518],\"yaxis\":\"y8\",\"type\":\"scatter\"},{\"line\":{\"color\":\"rgba(128, 128, 128, 1.0)\",\"dash\":\"solid\",\"shape\":\"linear\",\"width\":1.3},\"marker\":{\"size\":2,\"symbol\":\"circle\"},\"mode\":\"markers\",\"name\":\"C\",\"text\":\"\",\"x\":[0.9674792495653929,-0.869645948345109,0.3276963940454639,2.212326394176484,1.194564115626372,1.281333312680946,-0.4593625791084765,0.2534398304646211,-1.187047102320885,0.009120945638079877,0.46812971295397005,0.3173603163090243,-0.5949756643716486,0.36612201815595236,1.6823087709179516,0.1223867090465667,1.2858955968180077,-0.355874679445089,-1.5056555405566194,-0.9803269668748792,-0.9821783534228085,-0.052757830218477235,0.8033100178798156,-1.2398031374339302,-0.5813663197398291,0.19886821601177004,0.1294915534324573,-0.13306937600077753,1.3939949997907175,1.1973801278232796,0.584311181386549,0.9814067443843448,0.2061913231991555,1.671664827360644,0.789600735681814,1.2933123482628828,1.4246595860526337,-1.3217494580552764,-0.07724462464406437,0.18930105179933207,-0.8808766976813702,-0.01730765278196536,1.6745130595812752,-0.9444306581128674,-0.1221827946211637,-2.321901756440847,0.7477928499020462,-1.8263033277692504,-1.0618495646062116,-0.09040834612020593,-0.0010349389445514765,-2.735604509568205,-1.6080140908995408,0.46315775491532685,-0.5641038656392511,-0.09215769154545252,1.0002522597706367,0.17587208675758984,-0.5954239279504188,-2.911645903175407,0.060337624495499904,-0.42040253946929246,1.7762469320792973,0.8730115926111546,1.8439878835043193,-0.6085419218754314,-0.9079008941146096,0.2759242313421433,-0.3988133260904946,1.3186512094391587,-0.22711041145047717,-1.1216333739411006,0.8022488902000023,-0.28124431547160195,-0.5851126659274265,0.4306201479387562,-1.0882948662735636,0.027976391155035966,0.5566361343141041,-1.5807367243659294,-0.8082355354469991,0.5644686676080057,-0.5897432726211994,-1.090934333436364,-0.24825567958331607,0.24567974588087993,1.0745837768794317,-0.4793855569130954,1.2390952913307294,-0.1127955717482966,0.5115001071064847,-0.05946749612950342,-0.8113493777941423,-0.049751974798389886,-0.3517813343733759,-0.29145587516066457,0.5787628035960883,-0.1311683960980727,-0.10496940636822302,0.5356439478190795],\"xaxis\":\"x9\",\"y\":[0.20305496644080695,-0.33039121526200343,0.40855082409175153,1.3274337532753089,0.6803105741718392,0.006881117099928233,0.03165130139628253,0.181838923603268,0.49015845140703557,-1.526960515256338,0.7246631081556754,-0.547753009652827,-2.1534501524454916,-1.5605142632760103,-0.9304612934504152,-0.9293505632842272,0.9401064012357843,-0.25152667299264647,-1.0810539083833393,-0.2569645314207663,-0.9562882768559505,0.3581432251875754,-0.058761279119920434,-0.005837422335257732,1.0973696580147438,0.5131968563218078,1.1893389729121706,0.4130546432360426,-0.9493384426904715,-0.9076095877297566,0.2930118306513728,-0.9419434561021102,0.047934019761024134,-1.1525333553450632,0.5579077902570123,-0.4771985528260809,0.6427791125417261,-0.12642375532549144,0.4582786624587594,0.8441490446943267,-0.08965862722638257,-0.6735546349036959,0.37390057446007036,0.020316886846450333,-0.4077579015482804,-1.9650400693913401,-2.2477196087378615,-0.08016444885580916,0.5689869353540534,-1.6029250151264145,1.0847552376575391,0.8531548350965638,-0.5849907786951324,-3.7174326786829317,-0.614978372572787,-1.2613986013486533,-0.6262121478759936,-0.6399900697017636,0.2893718511932817,0.6299388086845674,1.4028940813934354,1.3839847336594746,0.9319950604517704,1.7157971716334122,0.45498902184171786,-0.5355852741151403,1.593083632942254,-0.6005007743404577,0.63266313047327,-0.6812596561741786,0.32436359906335743,0.244617079161891,1.1261753132323709,0.4374761668552437,0.154484641594899,-0.3119547135474024,0.47924657258169007,1.307750909104364,0.6458414548905935,0.49227870937608564,0.49893512743953133,-1.0924075598242011,-1.4714671173639802,-0.0963085993679753,2.1275418519912845,-0.26131193407714154,-0.6090046936899325,-0.4417302353214457,-1.1473580546824254,-0.5436027939444492,-0.7737127397869321,-0.35479721904411277,-1.6133281126784869,-0.4236190388756427,0.009259765543734427,0.4741677156123742,-0.6874560632796509,-0.19686408370752284,-0.16260661326726622,-0.8220663003071326],\"yaxis\":\"y9\",\"type\":\"scatter\"},{\"line\":{\"color\":\"rgba(128, 128, 128, 1.0)\",\"dash\":\"solid\",\"shape\":\"linear\",\"width\":1.3},\"marker\":{\"size\":2,\"symbol\":\"circle\"},\"mode\":\"markers\",\"name\":\"C\",\"text\":\"\",\"x\":[1.2559665150128738,1.623222658930747,-1.6337826450630495,0.9447131134135116,1.1798043405299838,-1.155688742948656,2.4548456650087664,0.1967602313034417,1.273259911357326,0.032098563769232605,-0.9406093982229913,-1.2964368050421562,-1.519902506155913,-0.3761787602834264,-0.010752827153059951,-0.10556004881246867,0.20076895648962265,-1.6850246316573827,-0.053499097961576036,0.026679427972856138,-0.9296474377801646,0.34792155075954995,0.6817847402778288,0.6709660186939352,-0.32023098099219494,0.3547897976235289,-0.13263784373644685,0.2935159364327797,-1.1935028348876886,-0.6154685546770732,0.2711354765320031,-1.2721284909920545,-1.66150782301575,-0.40869372542459653,0.6927214550234417,-0.571354166680342,-2.370721439218031,0.1493964954778568,0.6510556001226679,0.4292580766720687,0.7638851538915261,-0.6330279833466473,0.17323422869432137,0.5571215919463213,-1.7511962250925097,1.0350253485830763,-0.15762194299334684,0.4863083584740155,0.30436807080373923,0.4251551333724484,0.3550019805177964,0.44034349879940204,2.0969774956697025,1.0962646409270569,1.1830133303858525,-1.1344339583329939,-1.5290452405995383,1.8736128340095886,0.39478122772731267,-1.05179307868685,0.6310044541279328,0.42939924866247065,0.5323109177393281,-0.4729320313581209,1.5409072215037973,-1.262119363458304,-0.7039383666072286,-0.8990003348315486,-0.028011387798115833,0.47592024362120794,0.9002351500195176,-0.14605167795031107,-0.7679327720116481,1.5576359927434305,-0.7733583994874416,0.23109138835710186,-1.1494712996178111,0.4967199657809361,0.29515336234764084,0.8557133952349325,-0.309347918115768,-0.9199284431444746,-0.0815317236788813,0.09104793048301475,-0.4112088551283685,0.07420682096557561,0.8944805960648957,1.047378806846963,-0.043918820524732866,-1.0315338064149218,-0.7600061950087242,-0.9280574417632615,-0.7216526703364456,0.7305990509468757,-0.04815858666592761,-0.6922237460237607,-0.4498024098452496,-0.906975856818541,-1.5624154089293907,-0.6482211367486518],\"xaxis\":\"x10\",\"y\":[0.20305496644080695,-0.33039121526200343,0.40855082409175153,1.3274337532753089,0.6803105741718392,0.006881117099928233,0.03165130139628253,0.181838923603268,0.49015845140703557,-1.526960515256338,0.7246631081556754,-0.547753009652827,-2.1534501524454916,-1.5605142632760103,-0.9304612934504152,-0.9293505632842272,0.9401064012357843,-0.25152667299264647,-1.0810539083833393,-0.2569645314207663,-0.9562882768559505,0.3581432251875754,-0.058761279119920434,-0.005837422335257732,1.0973696580147438,0.5131968563218078,1.1893389729121706,0.4130546432360426,-0.9493384426904715,-0.9076095877297566,0.2930118306513728,-0.9419434561021102,0.047934019761024134,-1.1525333553450632,0.5579077902570123,-0.4771985528260809,0.6427791125417261,-0.12642375532549144,0.4582786624587594,0.8441490446943267,-0.08965862722638257,-0.6735546349036959,0.37390057446007036,0.020316886846450333,-0.4077579015482804,-1.9650400693913401,-2.2477196087378615,-0.08016444885580916,0.5689869353540534,-1.6029250151264145,1.0847552376575391,0.8531548350965638,-0.5849907786951324,-3.7174326786829317,-0.614978372572787,-1.2613986013486533,-0.6262121478759936,-0.6399900697017636,0.2893718511932817,0.6299388086845674,1.4028940813934354,1.3839847336594746,0.9319950604517704,1.7157971716334122,0.45498902184171786,-0.5355852741151403,1.593083632942254,-0.6005007743404577,0.63266313047327,-0.6812596561741786,0.32436359906335743,0.244617079161891,1.1261753132323709,0.4374761668552437,0.154484641594899,-0.3119547135474024,0.47924657258169007,1.307750909104364,0.6458414548905935,0.49227870937608564,0.49893512743953133,-1.0924075598242011,-1.4714671173639802,-0.0963085993679753,2.1275418519912845,-0.26131193407714154,-0.6090046936899325,-0.4417302353214457,-1.1473580546824254,-0.5436027939444492,-0.7737127397869321,-0.35479721904411277,-1.6133281126784869,-0.4236190388756427,0.009259765543734427,0.4741677156123742,-0.6874560632796509,-0.19686408370752284,-0.16260661326726622,-0.8220663003071326],\"yaxis\":\"y10\",\"type\":\"scatter\"},{\"histfunc\":\"count\",\"histnorm\":\"\",\"marker\":{\"color\":\"rgba(50, 171, 96, 1.0)\",\"line\":{\"color\":\"#4D5663\",\"width\":1.3}},\"name\":\"C\",\"nbinsx\":10,\"opacity\":0.8,\"orientation\":\"v\",\"x\":[0.20305496644080695,-0.33039121526200343,0.40855082409175153,1.3274337532753089,0.6803105741718392,0.006881117099928233,0.03165130139628253,0.181838923603268,0.49015845140703557,-1.526960515256338,0.7246631081556754,-0.547753009652827,-2.1534501524454916,-1.5605142632760103,-0.9304612934504152,-0.9293505632842272,0.9401064012357843,-0.25152667299264647,-1.0810539083833393,-0.2569645314207663,-0.9562882768559505,0.3581432251875754,-0.058761279119920434,-0.005837422335257732,1.0973696580147438,0.5131968563218078,1.1893389729121706,0.4130546432360426,-0.9493384426904715,-0.9076095877297566,0.2930118306513728,-0.9419434561021102,0.047934019761024134,-1.1525333553450632,0.5579077902570123,-0.4771985528260809,0.6427791125417261,-0.12642375532549144,0.4582786624587594,0.8441490446943267,-0.08965862722638257,-0.6735546349036959,0.37390057446007036,0.020316886846450333,-0.4077579015482804,-1.9650400693913401,-2.2477196087378615,-0.08016444885580916,0.5689869353540534,-1.6029250151264145,1.0847552376575391,0.8531548350965638,-0.5849907786951324,-3.7174326786829317,-0.614978372572787,-1.2613986013486533,-0.6262121478759936,-0.6399900697017636,0.2893718511932817,0.6299388086845674,1.4028940813934354,1.3839847336594746,0.9319950604517704,1.7157971716334122,0.45498902184171786,-0.5355852741151403,1.593083632942254,-0.6005007743404577,0.63266313047327,-0.6812596561741786,0.32436359906335743,0.244617079161891,1.1261753132323709,0.4374761668552437,0.154484641594899,-0.3119547135474024,0.47924657258169007,1.307750909104364,0.6458414548905935,0.49227870937608564,0.49893512743953133,-1.0924075598242011,-1.4714671173639802,-0.0963085993679753,2.1275418519912845,-0.26131193407714154,-0.6090046936899325,-0.4417302353214457,-1.1473580546824254,-0.5436027939444492,-0.7737127397869321,-0.35479721904411277,-1.6133281126784869,-0.4236190388756427,0.009259765543734427,0.4741677156123742,-0.6874560632796509,-0.19686408370752284,-0.16260661326726622,-0.8220663003071326],\"xaxis\":\"x11\",\"yaxis\":\"y11\",\"type\":\"histogram\"},{\"line\":{\"color\":\"rgba(128, 128, 128, 1.0)\",\"dash\":\"solid\",\"shape\":\"linear\",\"width\":1.3},\"marker\":{\"size\":2,\"symbol\":\"circle\"},\"mode\":\"markers\",\"name\":\"C\",\"text\":\"\",\"x\":[-0.844675283057274,1.1079253141952627,-1.0549246574985103,0.6248328768284416,0.39372377644644213,0.9872964812692586,-0.6645790999130656,-0.27236586279190184,-1.5346605301244767,0.1692178233932603,1.4184857962790212,0.8808556056254373,-1.1003714271012022,-1.2367186974284194,-0.14564286798088713,1.837797109612688,-0.38971287492709455,0.8317892603171286,0.02665091971910814,-0.8220765905487935,0.48617665310014496,-1.3150490584333274,0.94132724243685,-1.967516472559997,0.06591239341638026,-0.03209809868312439,-0.3400126275281913,1.327535038170273,-0.3631595217521406,2.6889083016183326,0.09233393307287759,1.0828519527090887,0.2062528330930305,0.023644567194252276,-0.8314228107367397,1.1589175766566404,-0.45573983420101594,0.6145840653329442,-1.9016495697230185,0.004154186606662765,0.9385030690712318,-0.038479006347781,0.10155690654794293,0.49684899192493487,0.7840714029526085,0.4180320949104808,0.03023824988513494,0.5951791164420306,0.4759338280966322,0.360584462706018,0.015209593068782494,0.4438774150141562,-0.9253224912272154,0.10977979096170497,0.8953969638865029,0.562374954154987,0.023784976632493186,0.6934321252609429,-0.8755193028679381,-1.2972236604334393,0.6265386009399033,1.3201401348488935,-0.866164398556021,1.978236792582661,-1.6080126826901648,-0.16123823594315662,0.7028473801525825,-0.39184544271452043,-0.43074291245269763,-0.1960334246160809,1.3199654870906479,1.1148035255243096,-0.6689729598785097,-0.9288115559984517,0.3350332511429236,-1.1037989967505708,-0.3719360445443566,-1.0887917107787195,-0.746592820822549,-0.8170057028655553,0.0382537947024953,0.40514624527181287,-0.428506224009542,1.2688938671624623,0.10951858655427282,-1.1453464424572268,-0.18024758992087664,0.3962381935287525,1.2217750927028994,-0.3052640040963152,-0.26565063884929857,0.8795081656156161,0.6591573084102006,1.659280422430173,-0.20388072092017542,-1.3864641621800833,0.8810754847545192,-0.8610036442687828,1.2743028253807158,0.10993575430849935],\"xaxis\":\"x12\",\"y\":[0.20305496644080695,-0.33039121526200343,0.40855082409175153,1.3274337532753089,0.6803105741718392,0.006881117099928233,0.03165130139628253,0.181838923603268,0.49015845140703557,-1.526960515256338,0.7246631081556754,-0.547753009652827,-2.1534501524454916,-1.5605142632760103,-0.9304612934504152,-0.9293505632842272,0.9401064012357843,-0.25152667299264647,-1.0810539083833393,-0.2569645314207663,-0.9562882768559505,0.3581432251875754,-0.058761279119920434,-0.005837422335257732,1.0973696580147438,0.5131968563218078,1.1893389729121706,0.4130546432360426,-0.9493384426904715,-0.9076095877297566,0.2930118306513728,-0.9419434561021102,0.047934019761024134,-1.1525333553450632,0.5579077902570123,-0.4771985528260809,0.6427791125417261,-0.12642375532549144,0.4582786624587594,0.8441490446943267,-0.08965862722638257,-0.6735546349036959,0.37390057446007036,0.020316886846450333,-0.4077579015482804,-1.9650400693913401,-2.2477196087378615,-0.08016444885580916,0.5689869353540534,-1.6029250151264145,1.0847552376575391,0.8531548350965638,-0.5849907786951324,-3.7174326786829317,-0.614978372572787,-1.2613986013486533,-0.6262121478759936,-0.6399900697017636,0.2893718511932817,0.6299388086845674,1.4028940813934354,1.3839847336594746,0.9319950604517704,1.7157971716334122,0.45498902184171786,-0.5355852741151403,1.593083632942254,-0.6005007743404577,0.63266313047327,-0.6812596561741786,0.32436359906335743,0.244617079161891,1.1261753132323709,0.4374761668552437,0.154484641594899,-0.3119547135474024,0.47924657258169007,1.307750909104364,0.6458414548905935,0.49227870937608564,0.49893512743953133,-1.0924075598242011,-1.4714671173639802,-0.0963085993679753,2.1275418519912845,-0.26131193407714154,-0.6090046936899325,-0.4417302353214457,-1.1473580546824254,-0.5436027939444492,-0.7737127397869321,-0.35479721904411277,-1.6133281126784869,-0.4236190388756427,0.009259765543734427,0.4741677156123742,-0.6874560632796509,-0.19686408370752284,-0.16260661326726622,-0.8220663003071326],\"yaxis\":\"y12\",\"type\":\"scatter\"},{\"line\":{\"color\":\"rgba(128, 128, 128, 1.0)\",\"dash\":\"solid\",\"shape\":\"linear\",\"width\":1.3},\"marker\":{\"size\":2,\"symbol\":\"circle\"},\"mode\":\"markers\",\"name\":\"D\",\"text\":\"\",\"x\":[0.9674792495653929,-0.869645948345109,0.3276963940454639,2.212326394176484,1.194564115626372,1.281333312680946,-0.4593625791084765,0.2534398304646211,-1.187047102320885,0.009120945638079877,0.46812971295397005,0.3173603163090243,-0.5949756643716486,0.36612201815595236,1.6823087709179516,0.1223867090465667,1.2858955968180077,-0.355874679445089,-1.5056555405566194,-0.9803269668748792,-0.9821783534228085,-0.052757830218477235,0.8033100178798156,-1.2398031374339302,-0.5813663197398291,0.19886821601177004,0.1294915534324573,-0.13306937600077753,1.3939949997907175,1.1973801278232796,0.584311181386549,0.9814067443843448,0.2061913231991555,1.671664827360644,0.789600735681814,1.2933123482628828,1.4246595860526337,-1.3217494580552764,-0.07724462464406437,0.18930105179933207,-0.8808766976813702,-0.01730765278196536,1.6745130595812752,-0.9444306581128674,-0.1221827946211637,-2.321901756440847,0.7477928499020462,-1.8263033277692504,-1.0618495646062116,-0.09040834612020593,-0.0010349389445514765,-2.735604509568205,-1.6080140908995408,0.46315775491532685,-0.5641038656392511,-0.09215769154545252,1.0002522597706367,0.17587208675758984,-0.5954239279504188,-2.911645903175407,0.060337624495499904,-0.42040253946929246,1.7762469320792973,0.8730115926111546,1.8439878835043193,-0.6085419218754314,-0.9079008941146096,0.2759242313421433,-0.3988133260904946,1.3186512094391587,-0.22711041145047717,-1.1216333739411006,0.8022488902000023,-0.28124431547160195,-0.5851126659274265,0.4306201479387562,-1.0882948662735636,0.027976391155035966,0.5566361343141041,-1.5807367243659294,-0.8082355354469991,0.5644686676080057,-0.5897432726211994,-1.090934333436364,-0.24825567958331607,0.24567974588087993,1.0745837768794317,-0.4793855569130954,1.2390952913307294,-0.1127955717482966,0.5115001071064847,-0.05946749612950342,-0.8113493777941423,-0.049751974798389886,-0.3517813343733759,-0.29145587516066457,0.5787628035960883,-0.1311683960980727,-0.10496940636822302,0.5356439478190795],\"xaxis\":\"x13\",\"y\":[-0.844675283057274,1.1079253141952627,-1.0549246574985103,0.6248328768284416,0.39372377644644213,0.9872964812692586,-0.6645790999130656,-0.27236586279190184,-1.5346605301244767,0.1692178233932603,1.4184857962790212,0.8808556056254373,-1.1003714271012022,-1.2367186974284194,-0.14564286798088713,1.837797109612688,-0.38971287492709455,0.8317892603171286,0.02665091971910814,-0.8220765905487935,0.48617665310014496,-1.3150490584333274,0.94132724243685,-1.967516472559997,0.06591239341638026,-0.03209809868312439,-0.3400126275281913,1.327535038170273,-0.3631595217521406,2.6889083016183326,0.09233393307287759,1.0828519527090887,0.2062528330930305,0.023644567194252276,-0.8314228107367397,1.1589175766566404,-0.45573983420101594,0.6145840653329442,-1.9016495697230185,0.004154186606662765,0.9385030690712318,-0.038479006347781,0.10155690654794293,0.49684899192493487,0.7840714029526085,0.4180320949104808,0.03023824988513494,0.5951791164420306,0.4759338280966322,0.360584462706018,0.015209593068782494,0.4438774150141562,-0.9253224912272154,0.10977979096170497,0.8953969638865029,0.562374954154987,0.023784976632493186,0.6934321252609429,-0.8755193028679381,-1.2972236604334393,0.6265386009399033,1.3201401348488935,-0.866164398556021,1.978236792582661,-1.6080126826901648,-0.16123823594315662,0.7028473801525825,-0.39184544271452043,-0.43074291245269763,-0.1960334246160809,1.3199654870906479,1.1148035255243096,-0.6689729598785097,-0.9288115559984517,0.3350332511429236,-1.1037989967505708,-0.3719360445443566,-1.0887917107787195,-0.746592820822549,-0.8170057028655553,0.0382537947024953,0.40514624527181287,-0.428506224009542,1.2688938671624623,0.10951858655427282,-1.1453464424572268,-0.18024758992087664,0.3962381935287525,1.2217750927028994,-0.3052640040963152,-0.26565063884929857,0.8795081656156161,0.6591573084102006,1.659280422430173,-0.20388072092017542,-1.3864641621800833,0.8810754847545192,-0.8610036442687828,1.2743028253807158,0.10993575430849935],\"yaxis\":\"y13\",\"type\":\"scatter\"},{\"line\":{\"color\":\"rgba(128, 128, 128, 1.0)\",\"dash\":\"solid\",\"shape\":\"linear\",\"width\":1.3},\"marker\":{\"size\":2,\"symbol\":\"circle\"},\"mode\":\"markers\",\"name\":\"D\",\"text\":\"\",\"x\":[1.2559665150128738,1.623222658930747,-1.6337826450630495,0.9447131134135116,1.1798043405299838,-1.155688742948656,2.4548456650087664,0.1967602313034417,1.273259911357326,0.032098563769232605,-0.9406093982229913,-1.2964368050421562,-1.519902506155913,-0.3761787602834264,-0.010752827153059951,-0.10556004881246867,0.20076895648962265,-1.6850246316573827,-0.053499097961576036,0.026679427972856138,-0.9296474377801646,0.34792155075954995,0.6817847402778288,0.6709660186939352,-0.32023098099219494,0.3547897976235289,-0.13263784373644685,0.2935159364327797,-1.1935028348876886,-0.6154685546770732,0.2711354765320031,-1.2721284909920545,-1.66150782301575,-0.40869372542459653,0.6927214550234417,-0.571354166680342,-2.370721439218031,0.1493964954778568,0.6510556001226679,0.4292580766720687,0.7638851538915261,-0.6330279833466473,0.17323422869432137,0.5571215919463213,-1.7511962250925097,1.0350253485830763,-0.15762194299334684,0.4863083584740155,0.30436807080373923,0.4251551333724484,0.3550019805177964,0.44034349879940204,2.0969774956697025,1.0962646409270569,1.1830133303858525,-1.1344339583329939,-1.5290452405995383,1.8736128340095886,0.39478122772731267,-1.05179307868685,0.6310044541279328,0.42939924866247065,0.5323109177393281,-0.4729320313581209,1.5409072215037973,-1.262119363458304,-0.7039383666072286,-0.8990003348315486,-0.028011387798115833,0.47592024362120794,0.9002351500195176,-0.14605167795031107,-0.7679327720116481,1.5576359927434305,-0.7733583994874416,0.23109138835710186,-1.1494712996178111,0.4967199657809361,0.29515336234764084,0.8557133952349325,-0.309347918115768,-0.9199284431444746,-0.0815317236788813,0.09104793048301475,-0.4112088551283685,0.07420682096557561,0.8944805960648957,1.047378806846963,-0.043918820524732866,-1.0315338064149218,-0.7600061950087242,-0.9280574417632615,-0.7216526703364456,0.7305990509468757,-0.04815858666592761,-0.6922237460237607,-0.4498024098452496,-0.906975856818541,-1.5624154089293907,-0.6482211367486518],\"xaxis\":\"x14\",\"y\":[-0.844675283057274,1.1079253141952627,-1.0549246574985103,0.6248328768284416,0.39372377644644213,0.9872964812692586,-0.6645790999130656,-0.27236586279190184,-1.5346605301244767,0.1692178233932603,1.4184857962790212,0.8808556056254373,-1.1003714271012022,-1.2367186974284194,-0.14564286798088713,1.837797109612688,-0.38971287492709455,0.8317892603171286,0.02665091971910814,-0.8220765905487935,0.48617665310014496,-1.3150490584333274,0.94132724243685,-1.967516472559997,0.06591239341638026,-0.03209809868312439,-0.3400126275281913,1.327535038170273,-0.3631595217521406,2.6889083016183326,0.09233393307287759,1.0828519527090887,0.2062528330930305,0.023644567194252276,-0.8314228107367397,1.1589175766566404,-0.45573983420101594,0.6145840653329442,-1.9016495697230185,0.004154186606662765,0.9385030690712318,-0.038479006347781,0.10155690654794293,0.49684899192493487,0.7840714029526085,0.4180320949104808,0.03023824988513494,0.5951791164420306,0.4759338280966322,0.360584462706018,0.015209593068782494,0.4438774150141562,-0.9253224912272154,0.10977979096170497,0.8953969638865029,0.562374954154987,0.023784976632493186,0.6934321252609429,-0.8755193028679381,-1.2972236604334393,0.6265386009399033,1.3201401348488935,-0.866164398556021,1.978236792582661,-1.6080126826901648,-0.16123823594315662,0.7028473801525825,-0.39184544271452043,-0.43074291245269763,-0.1960334246160809,1.3199654870906479,1.1148035255243096,-0.6689729598785097,-0.9288115559984517,0.3350332511429236,-1.1037989967505708,-0.3719360445443566,-1.0887917107787195,-0.746592820822549,-0.8170057028655553,0.0382537947024953,0.40514624527181287,-0.428506224009542,1.2688938671624623,0.10951858655427282,-1.1453464424572268,-0.18024758992087664,0.3962381935287525,1.2217750927028994,-0.3052640040963152,-0.26565063884929857,0.8795081656156161,0.6591573084102006,1.659280422430173,-0.20388072092017542,-1.3864641621800833,0.8810754847545192,-0.8610036442687828,1.2743028253807158,0.10993575430849935],\"yaxis\":\"y14\",\"type\":\"scatter\"},{\"line\":{\"color\":\"rgba(128, 128, 128, 1.0)\",\"dash\":\"solid\",\"shape\":\"linear\",\"width\":1.3},\"marker\":{\"size\":2,\"symbol\":\"circle\"},\"mode\":\"markers\",\"name\":\"D\",\"text\":\"\",\"x\":[0.20305496644080695,-0.33039121526200343,0.40855082409175153,1.3274337532753089,0.6803105741718392,0.006881117099928233,0.03165130139628253,0.181838923603268,0.49015845140703557,-1.526960515256338,0.7246631081556754,-0.547753009652827,-2.1534501524454916,-1.5605142632760103,-0.9304612934504152,-0.9293505632842272,0.9401064012357843,-0.25152667299264647,-1.0810539083833393,-0.2569645314207663,-0.9562882768559505,0.3581432251875754,-0.058761279119920434,-0.005837422335257732,1.0973696580147438,0.5131968563218078,1.1893389729121706,0.4130546432360426,-0.9493384426904715,-0.9076095877297566,0.2930118306513728,-0.9419434561021102,0.047934019761024134,-1.1525333553450632,0.5579077902570123,-0.4771985528260809,0.6427791125417261,-0.12642375532549144,0.4582786624587594,0.8441490446943267,-0.08965862722638257,-0.6735546349036959,0.37390057446007036,0.020316886846450333,-0.4077579015482804,-1.9650400693913401,-2.2477196087378615,-0.08016444885580916,0.5689869353540534,-1.6029250151264145,1.0847552376575391,0.8531548350965638,-0.5849907786951324,-3.7174326786829317,-0.614978372572787,-1.2613986013486533,-0.6262121478759936,-0.6399900697017636,0.2893718511932817,0.6299388086845674,1.4028940813934354,1.3839847336594746,0.9319950604517704,1.7157971716334122,0.45498902184171786,-0.5355852741151403,1.593083632942254,-0.6005007743404577,0.63266313047327,-0.6812596561741786,0.32436359906335743,0.244617079161891,1.1261753132323709,0.4374761668552437,0.154484641594899,-0.3119547135474024,0.47924657258169007,1.307750909104364,0.6458414548905935,0.49227870937608564,0.49893512743953133,-1.0924075598242011,-1.4714671173639802,-0.0963085993679753,2.1275418519912845,-0.26131193407714154,-0.6090046936899325,-0.4417302353214457,-1.1473580546824254,-0.5436027939444492,-0.7737127397869321,-0.35479721904411277,-1.6133281126784869,-0.4236190388756427,0.009259765543734427,0.4741677156123742,-0.6874560632796509,-0.19686408370752284,-0.16260661326726622,-0.8220663003071326],\"xaxis\":\"x15\",\"y\":[-0.844675283057274,1.1079253141952627,-1.0549246574985103,0.6248328768284416,0.39372377644644213,0.9872964812692586,-0.6645790999130656,-0.27236586279190184,-1.5346605301244767,0.1692178233932603,1.4184857962790212,0.8808556056254373,-1.1003714271012022,-1.2367186974284194,-0.14564286798088713,1.837797109612688,-0.38971287492709455,0.8317892603171286,0.02665091971910814,-0.8220765905487935,0.48617665310014496,-1.3150490584333274,0.94132724243685,-1.967516472559997,0.06591239341638026,-0.03209809868312439,-0.3400126275281913,1.327535038170273,-0.3631595217521406,2.6889083016183326,0.09233393307287759,1.0828519527090887,0.2062528330930305,0.023644567194252276,-0.8314228107367397,1.1589175766566404,-0.45573983420101594,0.6145840653329442,-1.9016495697230185,0.004154186606662765,0.9385030690712318,-0.038479006347781,0.10155690654794293,0.49684899192493487,0.7840714029526085,0.4180320949104808,0.03023824988513494,0.5951791164420306,0.4759338280966322,0.360584462706018,0.015209593068782494,0.4438774150141562,-0.9253224912272154,0.10977979096170497,0.8953969638865029,0.562374954154987,0.023784976632493186,0.6934321252609429,-0.8755193028679381,-1.2972236604334393,0.6265386009399033,1.3201401348488935,-0.866164398556021,1.978236792582661,-1.6080126826901648,-0.16123823594315662,0.7028473801525825,-0.39184544271452043,-0.43074291245269763,-0.1960334246160809,1.3199654870906479,1.1148035255243096,-0.6689729598785097,-0.9288115559984517,0.3350332511429236,-1.1037989967505708,-0.3719360445443566,-1.0887917107787195,-0.746592820822549,-0.8170057028655553,0.0382537947024953,0.40514624527181287,-0.428506224009542,1.2688938671624623,0.10951858655427282,-1.1453464424572268,-0.18024758992087664,0.3962381935287525,1.2217750927028994,-0.3052640040963152,-0.26565063884929857,0.8795081656156161,0.6591573084102006,1.659280422430173,-0.20388072092017542,-1.3864641621800833,0.8810754847545192,-0.8610036442687828,1.2743028253807158,0.10993575430849935],\"yaxis\":\"y15\",\"type\":\"scatter\"},{\"histfunc\":\"count\",\"histnorm\":\"\",\"marker\":{\"color\":\"rgba(128, 0, 128, 1.0)\",\"line\":{\"color\":\"#4D5663\",\"width\":1.3}},\"name\":\"D\",\"nbinsx\":10,\"opacity\":0.8,\"orientation\":\"v\",\"x\":[-0.844675283057274,1.1079253141952627,-1.0549246574985103,0.6248328768284416,0.39372377644644213,0.9872964812692586,-0.6645790999130656,-0.27236586279190184,-1.5346605301244767,0.1692178233932603,1.4184857962790212,0.8808556056254373,-1.1003714271012022,-1.2367186974284194,-0.14564286798088713,1.837797109612688,-0.38971287492709455,0.8317892603171286,0.02665091971910814,-0.8220765905487935,0.48617665310014496,-1.3150490584333274,0.94132724243685,-1.967516472559997,0.06591239341638026,-0.03209809868312439,-0.3400126275281913,1.327535038170273,-0.3631595217521406,2.6889083016183326,0.09233393307287759,1.0828519527090887,0.2062528330930305,0.023644567194252276,-0.8314228107367397,1.1589175766566404,-0.45573983420101594,0.6145840653329442,-1.9016495697230185,0.004154186606662765,0.9385030690712318,-0.038479006347781,0.10155690654794293,0.49684899192493487,0.7840714029526085,0.4180320949104808,0.03023824988513494,0.5951791164420306,0.4759338280966322,0.360584462706018,0.015209593068782494,0.4438774150141562,-0.9253224912272154,0.10977979096170497,0.8953969638865029,0.562374954154987,0.023784976632493186,0.6934321252609429,-0.8755193028679381,-1.2972236604334393,0.6265386009399033,1.3201401348488935,-0.866164398556021,1.978236792582661,-1.6080126826901648,-0.16123823594315662,0.7028473801525825,-0.39184544271452043,-0.43074291245269763,-0.1960334246160809,1.3199654870906479,1.1148035255243096,-0.6689729598785097,-0.9288115559984517,0.3350332511429236,-1.1037989967505708,-0.3719360445443566,-1.0887917107787195,-0.746592820822549,-0.8170057028655553,0.0382537947024953,0.40514624527181287,-0.428506224009542,1.2688938671624623,0.10951858655427282,-1.1453464424572268,-0.18024758992087664,0.3962381935287525,1.2217750927028994,-0.3052640040963152,-0.26565063884929857,0.8795081656156161,0.6591573084102006,1.659280422430173,-0.20388072092017542,-1.3864641621800833,0.8810754847545192,-0.8610036442687828,1.2743028253807158,0.10993575430849935],\"xaxis\":\"x16\",\"yaxis\":\"y16\",\"type\":\"histogram\"}],                        {\"bargap\":0.02,\"legend\":{\"bgcolor\":\"#F5F6F9\",\"font\":{\"color\":\"#4D5663\"}},\"paper_bgcolor\":\"#F5F6F9\",\"plot_bgcolor\":\"#F5F6F9\",\"showlegend\":false,\"template\":{\"data\":{\"barpolar\":[{\"marker\":{\"line\":{\"color\":\"#E5ECF6\",\"width\":0.5},\"pattern\":{\"fillmode\":\"overlay\",\"size\":10,\"solidity\":0.2}},\"type\":\"barpolar\"}],\"bar\":[{\"error_x\":{\"color\":\"#2a3f5f\"},\"error_y\":{\"color\":\"#2a3f5f\"},\"marker\":{\"line\":{\"color\":\"#E5ECF6\",\"width\":0.5},\"pattern\":{\"fillmode\":\"overlay\",\"size\":10,\"solidity\":0.2}},\"type\":\"bar\"}],\"carpet\":[{\"aaxis\":{\"endlinecolor\":\"#2a3f5f\",\"gridcolor\":\"white\",\"linecolor\":\"white\",\"minorgridcolor\":\"white\",\"startlinecolor\":\"#2a3f5f\"},\"baxis\":{\"endlinecolor\":\"#2a3f5f\",\"gridcolor\":\"white\",\"linecolor\":\"white\",\"minorgridcolor\":\"white\",\"startlinecolor\":\"#2a3f5f\"},\"type\":\"carpet\"}],\"choropleth\":[{\"colorbar\":{\"outlinewidth\":0,\"ticks\":\"\"},\"type\":\"choropleth\"}],\"contourcarpet\":[{\"colorbar\":{\"outlinewidth\":0,\"ticks\":\"\"},\"type\":\"contourcarpet\"}],\"contour\":[{\"colorbar\":{\"outlinewidth\":0,\"ticks\":\"\"},\"colorscale\":[[0.0,\"#0d0887\"],[0.1111111111111111,\"#46039f\"],[0.2222222222222222,\"#7201a8\"],[0.3333333333333333,\"#9c179e\"],[0.4444444444444444,\"#bd3786\"],[0.5555555555555556,\"#d8576b\"],[0.6666666666666666,\"#ed7953\"],[0.7777777777777778,\"#fb9f3a\"],[0.8888888888888888,\"#fdca26\"],[1.0,\"#f0f921\"]],\"type\":\"contour\"}],\"heatmapgl\":[{\"colorbar\":{\"outlinewidth\":0,\"ticks\":\"\"},\"colorscale\":[[0.0,\"#0d0887\"],[0.1111111111111111,\"#46039f\"],[0.2222222222222222,\"#7201a8\"],[0.3333333333333333,\"#9c179e\"],[0.4444444444444444,\"#bd3786\"],[0.5555555555555556,\"#d8576b\"],[0.6666666666666666,\"#ed7953\"],[0.7777777777777778,\"#fb9f3a\"],[0.8888888888888888,\"#fdca26\"],[1.0,\"#f0f921\"]],\"type\":\"heatmapgl\"}],\"heatmap\":[{\"colorbar\":{\"outlinewidth\":0,\"ticks\":\"\"},\"colorscale\":[[0.0,\"#0d0887\"],[0.1111111111111111,\"#46039f\"],[0.2222222222222222,\"#7201a8\"],[0.3333333333333333,\"#9c179e\"],[0.4444444444444444,\"#bd3786\"],[0.5555555555555556,\"#d8576b\"],[0.6666666666666666,\"#ed7953\"],[0.7777777777777778,\"#fb9f3a\"],[0.8888888888888888,\"#fdca26\"],[1.0,\"#f0f921\"]],\"type\":\"heatmap\"}],\"histogram2dcontour\":[{\"colorbar\":{\"outlinewidth\":0,\"ticks\":\"\"},\"colorscale\":[[0.0,\"#0d0887\"],[0.1111111111111111,\"#46039f\"],[0.2222222222222222,\"#7201a8\"],[0.3333333333333333,\"#9c179e\"],[0.4444444444444444,\"#bd3786\"],[0.5555555555555556,\"#d8576b\"],[0.6666666666666666,\"#ed7953\"],[0.7777777777777778,\"#fb9f3a\"],[0.8888888888888888,\"#fdca26\"],[1.0,\"#f0f921\"]],\"type\":\"histogram2dcontour\"}],\"histogram2d\":[{\"colorbar\":{\"outlinewidth\":0,\"ticks\":\"\"},\"colorscale\":[[0.0,\"#0d0887\"],[0.1111111111111111,\"#46039f\"],[0.2222222222222222,\"#7201a8\"],[0.3333333333333333,\"#9c179e\"],[0.4444444444444444,\"#bd3786\"],[0.5555555555555556,\"#d8576b\"],[0.6666666666666666,\"#ed7953\"],[0.7777777777777778,\"#fb9f3a\"],[0.8888888888888888,\"#fdca26\"],[1.0,\"#f0f921\"]],\"type\":\"histogram2d\"}],\"histogram\":[{\"marker\":{\"pattern\":{\"fillmode\":\"overlay\",\"size\":10,\"solidity\":0.2}},\"type\":\"histogram\"}],\"mesh3d\":[{\"colorbar\":{\"outlinewidth\":0,\"ticks\":\"\"},\"type\":\"mesh3d\"}],\"parcoords\":[{\"line\":{\"colorbar\":{\"outlinewidth\":0,\"ticks\":\"\"}},\"type\":\"parcoords\"}],\"pie\":[{\"automargin\":true,\"type\":\"pie\"}],\"scatter3d\":[{\"line\":{\"colorbar\":{\"outlinewidth\":0,\"ticks\":\"\"}},\"marker\":{\"colorbar\":{\"outlinewidth\":0,\"ticks\":\"\"}},\"type\":\"scatter3d\"}],\"scattercarpet\":[{\"marker\":{\"colorbar\":{\"outlinewidth\":0,\"ticks\":\"\"}},\"type\":\"scattercarpet\"}],\"scattergeo\":[{\"marker\":{\"colorbar\":{\"outlinewidth\":0,\"ticks\":\"\"}},\"type\":\"scattergeo\"}],\"scattergl\":[{\"marker\":{\"colorbar\":{\"outlinewidth\":0,\"ticks\":\"\"}},\"type\":\"scattergl\"}],\"scattermapbox\":[{\"marker\":{\"colorbar\":{\"outlinewidth\":0,\"ticks\":\"\"}},\"type\":\"scattermapbox\"}],\"scatterpolargl\":[{\"marker\":{\"colorbar\":{\"outlinewidth\":0,\"ticks\":\"\"}},\"type\":\"scatterpolargl\"}],\"scatterpolar\":[{\"marker\":{\"colorbar\":{\"outlinewidth\":0,\"ticks\":\"\"}},\"type\":\"scatterpolar\"}],\"scatter\":[{\"fillpattern\":{\"fillmode\":\"overlay\",\"size\":10,\"solidity\":0.2},\"type\":\"scatter\"}],\"scatterternary\":[{\"marker\":{\"colorbar\":{\"outlinewidth\":0,\"ticks\":\"\"}},\"type\":\"scatterternary\"}],\"surface\":[{\"colorbar\":{\"outlinewidth\":0,\"ticks\":\"\"},\"colorscale\":[[0.0,\"#0d0887\"],[0.1111111111111111,\"#46039f\"],[0.2222222222222222,\"#7201a8\"],[0.3333333333333333,\"#9c179e\"],[0.4444444444444444,\"#bd3786\"],[0.5555555555555556,\"#d8576b\"],[0.6666666666666666,\"#ed7953\"],[0.7777777777777778,\"#fb9f3a\"],[0.8888888888888888,\"#fdca26\"],[1.0,\"#f0f921\"]],\"type\":\"surface\"}],\"table\":[{\"cells\":{\"fill\":{\"color\":\"#EBF0F8\"},\"line\":{\"color\":\"white\"}},\"header\":{\"fill\":{\"color\":\"#C8D4E3\"},\"line\":{\"color\":\"white\"}},\"type\":\"table\"}]},\"layout\":{\"annotationdefaults\":{\"arrowcolor\":\"#2a3f5f\",\"arrowhead\":0,\"arrowwidth\":1},\"autotypenumbers\":\"strict\",\"coloraxis\":{\"colorbar\":{\"outlinewidth\":0,\"ticks\":\"\"}},\"colorscale\":{\"diverging\":[[0,\"#8e0152\"],[0.1,\"#c51b7d\"],[0.2,\"#de77ae\"],[0.3,\"#f1b6da\"],[0.4,\"#fde0ef\"],[0.5,\"#f7f7f7\"],[0.6,\"#e6f5d0\"],[0.7,\"#b8e186\"],[0.8,\"#7fbc41\"],[0.9,\"#4d9221\"],[1,\"#276419\"]],\"sequential\":[[0.0,\"#0d0887\"],[0.1111111111111111,\"#46039f\"],[0.2222222222222222,\"#7201a8\"],[0.3333333333333333,\"#9c179e\"],[0.4444444444444444,\"#bd3786\"],[0.5555555555555556,\"#d8576b\"],[0.6666666666666666,\"#ed7953\"],[0.7777777777777778,\"#fb9f3a\"],[0.8888888888888888,\"#fdca26\"],[1.0,\"#f0f921\"]],\"sequentialminus\":[[0.0,\"#0d0887\"],[0.1111111111111111,\"#46039f\"],[0.2222222222222222,\"#7201a8\"],[0.3333333333333333,\"#9c179e\"],[0.4444444444444444,\"#bd3786\"],[0.5555555555555556,\"#d8576b\"],[0.6666666666666666,\"#ed7953\"],[0.7777777777777778,\"#fb9f3a\"],[0.8888888888888888,\"#fdca26\"],[1.0,\"#f0f921\"]]},\"colorway\":[\"#636efa\",\"#EF553B\",\"#00cc96\",\"#ab63fa\",\"#FFA15A\",\"#19d3f3\",\"#FF6692\",\"#B6E880\",\"#FF97FF\",\"#FECB52\"],\"font\":{\"color\":\"#2a3f5f\"},\"geo\":{\"bgcolor\":\"white\",\"lakecolor\":\"white\",\"landcolor\":\"#E5ECF6\",\"showlakes\":true,\"showland\":true,\"subunitcolor\":\"white\"},\"hoverlabel\":{\"align\":\"left\"},\"hovermode\":\"closest\",\"mapbox\":{\"style\":\"light\"},\"paper_bgcolor\":\"white\",\"plot_bgcolor\":\"#E5ECF6\",\"polar\":{\"angularaxis\":{\"gridcolor\":\"white\",\"linecolor\":\"white\",\"ticks\":\"\"},\"bgcolor\":\"#E5ECF6\",\"radialaxis\":{\"gridcolor\":\"white\",\"linecolor\":\"white\",\"ticks\":\"\"}},\"scene\":{\"xaxis\":{\"backgroundcolor\":\"#E5ECF6\",\"gridcolor\":\"white\",\"gridwidth\":2,\"linecolor\":\"white\",\"showbackground\":true,\"ticks\":\"\",\"zerolinecolor\":\"white\"},\"yaxis\":{\"backgroundcolor\":\"#E5ECF6\",\"gridcolor\":\"white\",\"gridwidth\":2,\"linecolor\":\"white\",\"showbackground\":true,\"ticks\":\"\",\"zerolinecolor\":\"white\"},\"zaxis\":{\"backgroundcolor\":\"#E5ECF6\",\"gridcolor\":\"white\",\"gridwidth\":2,\"linecolor\":\"white\",\"showbackground\":true,\"ticks\":\"\",\"zerolinecolor\":\"white\"}},\"shapedefaults\":{\"line\":{\"color\":\"#2a3f5f\"}},\"ternary\":{\"aaxis\":{\"gridcolor\":\"white\",\"linecolor\":\"white\",\"ticks\":\"\"},\"baxis\":{\"gridcolor\":\"white\",\"linecolor\":\"white\",\"ticks\":\"\"},\"bgcolor\":\"#E5ECF6\",\"caxis\":{\"gridcolor\":\"white\",\"linecolor\":\"white\",\"ticks\":\"\"}},\"title\":{\"x\":0.05},\"xaxis\":{\"automargin\":true,\"gridcolor\":\"white\",\"linecolor\":\"white\",\"ticks\":\"\",\"title\":{\"standoff\":15},\"zerolinecolor\":\"white\",\"zerolinewidth\":2},\"yaxis\":{\"automargin\":true,\"gridcolor\":\"white\",\"linecolor\":\"white\",\"ticks\":\"\",\"title\":{\"standoff\":15},\"zerolinecolor\":\"white\",\"zerolinewidth\":2}}},\"title\":{\"font\":{\"color\":\"#4D5663\"}},\"xaxis\":{\"anchor\":\"y\",\"domain\":[0.0,0.2125],\"gridcolor\":\"#E1E5ED\",\"showgrid\":false,\"tickfont\":{\"color\":\"#4D5663\"},\"title\":{\"font\":{\"color\":\"#4D5663\"},\"text\":\"\"},\"zerolinecolor\":\"#E1E5ED\"},\"yaxis\":{\"anchor\":\"x\",\"domain\":[0.8025,1.0],\"gridcolor\":\"#E1E5ED\",\"showgrid\":false,\"tickfont\":{\"color\":\"#4D5663\"},\"title\":{\"font\":{\"color\":\"#4D5663\"},\"text\":\"\"},\"zerolinecolor\":\"#E1E5ED\"},\"xaxis2\":{\"anchor\":\"y2\",\"domain\":[0.2625,0.475],\"gridcolor\":\"#E1E5ED\",\"showgrid\":false,\"tickfont\":{\"color\":\"#4D5663\"},\"title\":{\"font\":{\"color\":\"#4D5663\"},\"text\":\"\"},\"zerolinecolor\":\"#E1E5ED\"},\"yaxis2\":{\"anchor\":\"x2\",\"domain\":[0.8025,1.0],\"gridcolor\":\"#E1E5ED\",\"showgrid\":false,\"tickfont\":{\"color\":\"#4D5663\"},\"title\":{\"font\":{\"color\":\"#4D5663\"},\"text\":\"\"},\"zerolinecolor\":\"#E1E5ED\"},\"xaxis3\":{\"anchor\":\"y3\",\"domain\":[0.525,0.7375],\"gridcolor\":\"#E1E5ED\",\"showgrid\":false,\"tickfont\":{\"color\":\"#4D5663\"},\"title\":{\"font\":{\"color\":\"#4D5663\"},\"text\":\"\"},\"zerolinecolor\":\"#E1E5ED\"},\"yaxis3\":{\"anchor\":\"x3\",\"domain\":[0.8025,1.0],\"gridcolor\":\"#E1E5ED\",\"showgrid\":false,\"tickfont\":{\"color\":\"#4D5663\"},\"title\":{\"font\":{\"color\":\"#4D5663\"},\"text\":\"\"},\"zerolinecolor\":\"#E1E5ED\"},\"xaxis4\":{\"anchor\":\"y4\",\"domain\":[0.7875,1.0],\"gridcolor\":\"#E1E5ED\",\"showgrid\":false,\"tickfont\":{\"color\":\"#4D5663\"},\"title\":{\"font\":{\"color\":\"#4D5663\"},\"text\":\"\"},\"zerolinecolor\":\"#E1E5ED\"},\"yaxis4\":{\"anchor\":\"x4\",\"domain\":[0.8025,1.0],\"gridcolor\":\"#E1E5ED\",\"showgrid\":false,\"tickfont\":{\"color\":\"#4D5663\"},\"title\":{\"font\":{\"color\":\"#4D5663\"},\"text\":\"\"},\"zerolinecolor\":\"#E1E5ED\"},\"xaxis5\":{\"anchor\":\"y5\",\"domain\":[0.0,0.2125],\"gridcolor\":\"#E1E5ED\",\"showgrid\":false,\"tickfont\":{\"color\":\"#4D5663\"},\"title\":{\"font\":{\"color\":\"#4D5663\"},\"text\":\"\"},\"zerolinecolor\":\"#E1E5ED\"},\"yaxis5\":{\"anchor\":\"x5\",\"domain\":[0.535,0.7325],\"gridcolor\":\"#E1E5ED\",\"showgrid\":false,\"tickfont\":{\"color\":\"#4D5663\"},\"title\":{\"font\":{\"color\":\"#4D5663\"},\"text\":\"\"},\"zerolinecolor\":\"#E1E5ED\"},\"xaxis6\":{\"anchor\":\"y6\",\"domain\":[0.2625,0.475],\"gridcolor\":\"#E1E5ED\",\"showgrid\":false,\"tickfont\":{\"color\":\"#4D5663\"},\"title\":{\"font\":{\"color\":\"#4D5663\"},\"text\":\"\"},\"zerolinecolor\":\"#E1E5ED\"},\"yaxis6\":{\"anchor\":\"x6\",\"domain\":[0.535,0.7325],\"gridcolor\":\"#E1E5ED\",\"showgrid\":false,\"tickfont\":{\"color\":\"#4D5663\"},\"title\":{\"font\":{\"color\":\"#4D5663\"},\"text\":\"\"},\"zerolinecolor\":\"#E1E5ED\"},\"xaxis7\":{\"anchor\":\"y7\",\"domain\":[0.525,0.7375],\"gridcolor\":\"#E1E5ED\",\"showgrid\":false,\"tickfont\":{\"color\":\"#4D5663\"},\"title\":{\"font\":{\"color\":\"#4D5663\"},\"text\":\"\"},\"zerolinecolor\":\"#E1E5ED\"},\"yaxis7\":{\"anchor\":\"x7\",\"domain\":[0.535,0.7325],\"gridcolor\":\"#E1E5ED\",\"showgrid\":false,\"tickfont\":{\"color\":\"#4D5663\"},\"title\":{\"font\":{\"color\":\"#4D5663\"},\"text\":\"\"},\"zerolinecolor\":\"#E1E5ED\"},\"xaxis8\":{\"anchor\":\"y8\",\"domain\":[0.7875,1.0],\"gridcolor\":\"#E1E5ED\",\"showgrid\":false,\"tickfont\":{\"color\":\"#4D5663\"},\"title\":{\"font\":{\"color\":\"#4D5663\"},\"text\":\"\"},\"zerolinecolor\":\"#E1E5ED\"},\"yaxis8\":{\"anchor\":\"x8\",\"domain\":[0.535,0.7325],\"gridcolor\":\"#E1E5ED\",\"showgrid\":false,\"tickfont\":{\"color\":\"#4D5663\"},\"title\":{\"font\":{\"color\":\"#4D5663\"},\"text\":\"\"},\"zerolinecolor\":\"#E1E5ED\"},\"xaxis9\":{\"anchor\":\"y9\",\"domain\":[0.0,0.2125],\"gridcolor\":\"#E1E5ED\",\"showgrid\":false,\"tickfont\":{\"color\":\"#4D5663\"},\"title\":{\"font\":{\"color\":\"#4D5663\"},\"text\":\"\"},\"zerolinecolor\":\"#E1E5ED\"},\"yaxis9\":{\"anchor\":\"x9\",\"domain\":[0.2675,0.465],\"gridcolor\":\"#E1E5ED\",\"showgrid\":false,\"tickfont\":{\"color\":\"#4D5663\"},\"title\":{\"font\":{\"color\":\"#4D5663\"},\"text\":\"\"},\"zerolinecolor\":\"#E1E5ED\"},\"xaxis10\":{\"anchor\":\"y10\",\"domain\":[0.2625,0.475],\"gridcolor\":\"#E1E5ED\",\"showgrid\":false,\"tickfont\":{\"color\":\"#4D5663\"},\"title\":{\"font\":{\"color\":\"#4D5663\"},\"text\":\"\"},\"zerolinecolor\":\"#E1E5ED\"},\"yaxis10\":{\"anchor\":\"x10\",\"domain\":[0.2675,0.465],\"gridcolor\":\"#E1E5ED\",\"showgrid\":false,\"tickfont\":{\"color\":\"#4D5663\"},\"title\":{\"font\":{\"color\":\"#4D5663\"},\"text\":\"\"},\"zerolinecolor\":\"#E1E5ED\"},\"xaxis11\":{\"anchor\":\"y11\",\"domain\":[0.525,0.7375],\"gridcolor\":\"#E1E5ED\",\"showgrid\":false,\"tickfont\":{\"color\":\"#4D5663\"},\"title\":{\"font\":{\"color\":\"#4D5663\"},\"text\":\"\"},\"zerolinecolor\":\"#E1E5ED\"},\"yaxis11\":{\"anchor\":\"x11\",\"domain\":[0.2675,0.465],\"gridcolor\":\"#E1E5ED\",\"showgrid\":false,\"tickfont\":{\"color\":\"#4D5663\"},\"title\":{\"font\":{\"color\":\"#4D5663\"},\"text\":\"\"},\"zerolinecolor\":\"#E1E5ED\"},\"xaxis12\":{\"anchor\":\"y12\",\"domain\":[0.7875,1.0],\"gridcolor\":\"#E1E5ED\",\"showgrid\":false,\"tickfont\":{\"color\":\"#4D5663\"},\"title\":{\"font\":{\"color\":\"#4D5663\"},\"text\":\"\"},\"zerolinecolor\":\"#E1E5ED\"},\"yaxis12\":{\"anchor\":\"x12\",\"domain\":[0.2675,0.465],\"gridcolor\":\"#E1E5ED\",\"showgrid\":false,\"tickfont\":{\"color\":\"#4D5663\"},\"title\":{\"font\":{\"color\":\"#4D5663\"},\"text\":\"\"},\"zerolinecolor\":\"#E1E5ED\"},\"xaxis13\":{\"anchor\":\"y13\",\"domain\":[0.0,0.2125],\"gridcolor\":\"#E1E5ED\",\"showgrid\":false,\"tickfont\":{\"color\":\"#4D5663\"},\"title\":{\"font\":{\"color\":\"#4D5663\"},\"text\":\"\"},\"zerolinecolor\":\"#E1E5ED\"},\"yaxis13\":{\"anchor\":\"x13\",\"domain\":[0.0,0.1975],\"gridcolor\":\"#E1E5ED\",\"showgrid\":false,\"tickfont\":{\"color\":\"#4D5663\"},\"title\":{\"font\":{\"color\":\"#4D5663\"},\"text\":\"\"},\"zerolinecolor\":\"#E1E5ED\"},\"xaxis14\":{\"anchor\":\"y14\",\"domain\":[0.2625,0.475],\"gridcolor\":\"#E1E5ED\",\"showgrid\":false,\"tickfont\":{\"color\":\"#4D5663\"},\"title\":{\"font\":{\"color\":\"#4D5663\"},\"text\":\"\"},\"zerolinecolor\":\"#E1E5ED\"},\"yaxis14\":{\"anchor\":\"x14\",\"domain\":[0.0,0.1975],\"gridcolor\":\"#E1E5ED\",\"showgrid\":false,\"tickfont\":{\"color\":\"#4D5663\"},\"title\":{\"font\":{\"color\":\"#4D5663\"},\"text\":\"\"},\"zerolinecolor\":\"#E1E5ED\"},\"xaxis15\":{\"anchor\":\"y15\",\"domain\":[0.525,0.7375],\"gridcolor\":\"#E1E5ED\",\"showgrid\":false,\"tickfont\":{\"color\":\"#4D5663\"},\"title\":{\"font\":{\"color\":\"#4D5663\"},\"text\":\"\"},\"zerolinecolor\":\"#E1E5ED\"},\"yaxis15\":{\"anchor\":\"x15\",\"domain\":[0.0,0.1975],\"gridcolor\":\"#E1E5ED\",\"showgrid\":false,\"tickfont\":{\"color\":\"#4D5663\"},\"title\":{\"font\":{\"color\":\"#4D5663\"},\"text\":\"\"},\"zerolinecolor\":\"#E1E5ED\"},\"xaxis16\":{\"anchor\":\"y16\",\"domain\":[0.7875,1.0],\"gridcolor\":\"#E1E5ED\",\"showgrid\":false,\"tickfont\":{\"color\":\"#4D5663\"},\"title\":{\"font\":{\"color\":\"#4D5663\"},\"text\":\"\"},\"zerolinecolor\":\"#E1E5ED\"},\"yaxis16\":{\"anchor\":\"x16\",\"domain\":[0.0,0.1975],\"gridcolor\":\"#E1E5ED\",\"showgrid\":false,\"tickfont\":{\"color\":\"#4D5663\"},\"title\":{\"font\":{\"color\":\"#4D5663\"},\"text\":\"\"},\"zerolinecolor\":\"#E1E5ED\"}},                        {\"showLink\": true, \"linkText\": \"Export to plot.ly\", \"plotlyServerURL\": \"https://plot.ly\", \"responsive\": true}                    ).then(function(){\n",
       "                            \n",
       "var gd = document.getElementById('4257246f-ada7-4b33-b4eb-850fdc1bf29c');\n",
       "var x = new MutationObserver(function (mutations, observer) {{\n",
       "        var display = window.getComputedStyle(gd).display;\n",
       "        if (!display || display === 'none') {{\n",
       "            console.log([gd, 'removed!']);\n",
       "            Plotly.purge(gd);\n",
       "            observer.disconnect();\n",
       "        }}\n",
       "}});\n",
       "\n",
       "// Listen for the removal of the full notebook cells\n",
       "var notebookContainer = gd.closest('#notebook-container');\n",
       "if (notebookContainer) {{\n",
       "    x.observe(notebookContainer, {childList: true});\n",
       "}}\n",
       "\n",
       "// Listen for the clearing of the current output cell\n",
       "var outputEl = gd.closest('.output');\n",
       "if (outputEl) {{\n",
       "    x.observe(outputEl, {childList: true});\n",
       "}}\n",
       "\n",
       "                        })                };                });            </script>        </div>"
      ]
     },
     "metadata": {},
     "output_type": "display_data"
    }
   ],
   "source": [
    "df.scatter_matrix()"
   ]
  },
  {
   "cell_type": "markdown",
   "metadata": {
    "collapsed": true
   },
   "source": [
    "# Great Job!"
   ]
  }
 ],
 "metadata": {
  "kernelspec": {
   "display_name": "Python 3 (ipykernel)",
   "language": "python",
   "name": "python3"
  },
  "language_info": {
   "codemirror_mode": {
    "name": "ipython",
    "version": 3
   },
   "file_extension": ".py",
   "mimetype": "text/x-python",
   "name": "python",
   "nbconvert_exporter": "python",
   "pygments_lexer": "ipython3",
   "version": "3.11.3"
  }
 },
 "nbformat": 4,
 "nbformat_minor": 1
}
